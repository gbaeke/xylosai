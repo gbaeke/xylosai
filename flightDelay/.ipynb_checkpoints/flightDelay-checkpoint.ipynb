{
 "cells": [
  {
   "cell_type": "markdown",
   "metadata": {},
   "source": [
    "# 0 Imports and helper functions"
   ]
  },
  {
   "cell_type": "markdown",
   "metadata": {},
   "source": [
    "https://gallery.azure.ai/Experiment/837e2095ce784f1ba5ac623a60232027"
   ]
  },
  {
   "cell_type": "code",
   "execution_count": 1,
   "metadata": {
    "collapsed": true
   },
   "outputs": [],
   "source": [
    "import sklearn\n",
    "import pandas as pd\n",
    "from sklearn import tree\n",
    "import numpy as np\n",
    "from sklearn.model_selection import train_test_split\n",
    "import matplotlib.pyplot as plt\n",
    "import time\n",
    "from sklearn.metrics import roc_curve, auc\n",
    "import json\n",
    "\n",
    "%matplotlib inline"
   ]
  },
  {
   "cell_type": "code",
   "execution_count": 2,
   "metadata": {
    "collapsed": true
   },
   "outputs": [],
   "source": [
    "def one_hot(df,features):\n",
    "    all_column_names = []\n",
    "    for feature in features:\n",
    "        names = list(df[feature].unique())\n",
    "        for i, name in enumerate(names):\n",
    "            column_name = str(feature)+'_'+str(i)\n",
    "            df[column_name] = df[feature].apply(lambda x: 1 if x==name else 0)\n",
    "            all_column_names.append(column_name)\n",
    "    df.drop(columns=features,inplace=True)\n",
    "    #return all_column_names"
   ]
  },
  {
   "cell_type": "code",
   "execution_count": 3,
   "metadata": {
    "collapsed": true
   },
   "outputs": [],
   "source": [
    "def explore_cat(df,feature):\n",
    "    print(\"unique values:\")\n",
    "    print(df[feature].unique())\n",
    "    print(\"number of unique values\")\n",
    "    print(df[feature].unique().shape)"
   ]
  },
  {
   "cell_type": "code",
   "execution_count": 4,
   "metadata": {
    "collapsed": true
   },
   "outputs": [],
   "source": [
    "def count_M(df,feature,verbose=True):\n",
    "    r=df[df[feature] == \"M\"][feature].count()\n",
    "    if verbose:\n",
    "        print(r)\n",
    "    return r"
   ]
  },
  {
   "cell_type": "code",
   "execution_count": 5,
   "metadata": {
    "collapsed": true
   },
   "outputs": [],
   "source": [
    "def remove_M(df):\n",
    "    original_length = len(df)\n",
    "    for c in df.columns.tolist():\n",
    "        if df.dtypes[c] == 'object':\n",
    "            m = count_M(df,c,verbose=False)\n",
    "            print(\"Removed {0} in column {1}\".format(m,c))\n",
    "            df = df[df[c] != \"M\"]\n",
    "            try: \n",
    "                df[c] = df[c].astype(np.float64)\n",
    "            except:\n",
    "                pass\n",
    "    n_removed = original_length - len(df)\n",
    "    print(\"\")\n",
    "    print(\"Removed {0} of {1}\".format(n_removed,original_length))\n",
    "    return df"
   ]
  },
  {
   "cell_type": "code",
   "execution_count": 6,
   "metadata": {
    "collapsed": true
   },
   "outputs": [],
   "source": [
    "def hhmm_to_h(hhmm, mode):\n",
    "    #mode = 'up' or 'down'\n",
    "    if not (mode == 'up' or mode == 'down'):\n",
    "        raise Exception(\"mode must be up or down\")\n",
    "    if len(str(hhmm)) <= 2:\n",
    "        if mode == 'up':\n",
    "            h = 1\n",
    "        else:\n",
    "            h = 0\n",
    "    else:\n",
    "        h = int(str(hhmm)[:-2])\n",
    "        if mode == 'up':\n",
    "            h += 1\n",
    "    return h"
   ]
  },
  {
   "cell_type": "markdown",
   "metadata": {},
   "source": [
    "# 1 Loading the data"
   ]
  },
  {
   "cell_type": "code",
   "execution_count": 9,
   "metadata": {},
   "outputs": [
    {
     "name": "stderr",
     "output_type": "stream",
     "text": [
      "C:\\Users\\gbaeke\\AppData\\Local\\Programs\\Python\\Python35\\lib\\site-packages\\IPython\\core\\interactiveshell.py:2785: DtypeWarning: Columns (7,16) have mixed types. Specify dtype option on import or set low_memory=False.\n",
      "  interactivity=interactivity, compiler=compiler, result=result)\n"
     ]
    }
   ],
   "source": [
    "delays = pd.read_csv(\"FlightDelaysData.csv\",header=0)\n",
    "weather = pd.read_csv(\"WeatherDataset.csv\",header=0)"
   ]
  },
  {
   "cell_type": "code",
   "execution_count": 10,
   "metadata": {
    "scrolled": true
   },
   "outputs": [
    {
     "data": {
      "text/html": [
       "<div>\n",
       "<style scoped>\n",
       "    .dataframe tbody tr th:only-of-type {\n",
       "        vertical-align: middle;\n",
       "    }\n",
       "\n",
       "    .dataframe tbody tr th {\n",
       "        vertical-align: top;\n",
       "    }\n",
       "\n",
       "    .dataframe thead th {\n",
       "        text-align: right;\n",
       "    }\n",
       "</style>\n",
       "<table border=\"1\" class=\"dataframe\">\n",
       "  <thead>\n",
       "    <tr style=\"text-align: right;\">\n",
       "      <th></th>\n",
       "      <th>Year</th>\n",
       "      <th>Month</th>\n",
       "      <th>DayofMonth</th>\n",
       "      <th>DayOfWeek</th>\n",
       "      <th>Carrier</th>\n",
       "      <th>OriginAirportID</th>\n",
       "      <th>DestAirportID</th>\n",
       "      <th>CRSDepTime</th>\n",
       "      <th>DepDelay</th>\n",
       "      <th>DepDel15</th>\n",
       "      <th>CRSArrTime</th>\n",
       "      <th>ArrDelay</th>\n",
       "      <th>ArrDel15</th>\n",
       "      <th>Cancelled</th>\n",
       "    </tr>\n",
       "  </thead>\n",
       "  <tbody>\n",
       "    <tr>\n",
       "      <th>0</th>\n",
       "      <td>2013</td>\n",
       "      <td>4</td>\n",
       "      <td>19</td>\n",
       "      <td>5</td>\n",
       "      <td>DL</td>\n",
       "      <td>11433</td>\n",
       "      <td>13303</td>\n",
       "      <td>837</td>\n",
       "      <td>-3.0</td>\n",
       "      <td>0.0</td>\n",
       "      <td>1138</td>\n",
       "      <td>1.0</td>\n",
       "      <td>0.0</td>\n",
       "      <td>0.0</td>\n",
       "    </tr>\n",
       "    <tr>\n",
       "      <th>1</th>\n",
       "      <td>2013</td>\n",
       "      <td>4</td>\n",
       "      <td>19</td>\n",
       "      <td>5</td>\n",
       "      <td>DL</td>\n",
       "      <td>14869</td>\n",
       "      <td>12478</td>\n",
       "      <td>1705</td>\n",
       "      <td>0.0</td>\n",
       "      <td>0.0</td>\n",
       "      <td>2336</td>\n",
       "      <td>-8.0</td>\n",
       "      <td>0.0</td>\n",
       "      <td>0.0</td>\n",
       "    </tr>\n",
       "    <tr>\n",
       "      <th>2</th>\n",
       "      <td>2013</td>\n",
       "      <td>4</td>\n",
       "      <td>19</td>\n",
       "      <td>5</td>\n",
       "      <td>DL</td>\n",
       "      <td>14057</td>\n",
       "      <td>14869</td>\n",
       "      <td>600</td>\n",
       "      <td>-4.0</td>\n",
       "      <td>0.0</td>\n",
       "      <td>851</td>\n",
       "      <td>-15.0</td>\n",
       "      <td>0.0</td>\n",
       "      <td>0.0</td>\n",
       "    </tr>\n",
       "    <tr>\n",
       "      <th>3</th>\n",
       "      <td>2013</td>\n",
       "      <td>4</td>\n",
       "      <td>19</td>\n",
       "      <td>5</td>\n",
       "      <td>DL</td>\n",
       "      <td>15016</td>\n",
       "      <td>11433</td>\n",
       "      <td>1630</td>\n",
       "      <td>28.0</td>\n",
       "      <td>1.0</td>\n",
       "      <td>1903</td>\n",
       "      <td>24.0</td>\n",
       "      <td>1.0</td>\n",
       "      <td>0.0</td>\n",
       "    </tr>\n",
       "    <tr>\n",
       "      <th>4</th>\n",
       "      <td>2013</td>\n",
       "      <td>4</td>\n",
       "      <td>19</td>\n",
       "      <td>5</td>\n",
       "      <td>DL</td>\n",
       "      <td>11193</td>\n",
       "      <td>12892</td>\n",
       "      <td>1615</td>\n",
       "      <td>-6.0</td>\n",
       "      <td>0.0</td>\n",
       "      <td>1805</td>\n",
       "      <td>-11.0</td>\n",
       "      <td>0.0</td>\n",
       "      <td>0.0</td>\n",
       "    </tr>\n",
       "  </tbody>\n",
       "</table>\n",
       "</div>"
      ],
      "text/plain": [
       "   Year  Month  DayofMonth  DayOfWeek Carrier  OriginAirportID  DestAirportID  \\\n",
       "0  2013      4          19          5      DL            11433          13303   \n",
       "1  2013      4          19          5      DL            14869          12478   \n",
       "2  2013      4          19          5      DL            14057          14869   \n",
       "3  2013      4          19          5      DL            15016          11433   \n",
       "4  2013      4          19          5      DL            11193          12892   \n",
       "\n",
       "   CRSDepTime  DepDelay  DepDel15  CRSArrTime  ArrDelay  ArrDel15  Cancelled  \n",
       "0         837      -3.0       0.0        1138       1.0       0.0        0.0  \n",
       "1        1705       0.0       0.0        2336      -8.0       0.0        0.0  \n",
       "2         600      -4.0       0.0         851     -15.0       0.0        0.0  \n",
       "3        1630      28.0       1.0        1903      24.0       1.0        0.0  \n",
       "4        1615      -6.0       0.0        1805     -11.0       0.0        0.0  "
      ]
     },
     "execution_count": 10,
     "metadata": {},
     "output_type": "execute_result"
    }
   ],
   "source": [
    "delays.head()"
   ]
  },
  {
   "cell_type": "code",
   "execution_count": 11,
   "metadata": {
    "scrolled": false
   },
   "outputs": [
    {
     "data": {
      "text/html": [
       "<div>\n",
       "<style scoped>\n",
       "    .dataframe tbody tr th:only-of-type {\n",
       "        vertical-align: middle;\n",
       "    }\n",
       "\n",
       "    .dataframe tbody tr th {\n",
       "        vertical-align: top;\n",
       "    }\n",
       "\n",
       "    .dataframe thead th {\n",
       "        text-align: right;\n",
       "    }\n",
       "</style>\n",
       "<table border=\"1\" class=\"dataframe\">\n",
       "  <thead>\n",
       "    <tr style=\"text-align: right;\">\n",
       "      <th></th>\n",
       "      <th>AirportID</th>\n",
       "      <th>Year</th>\n",
       "      <th>Month</th>\n",
       "      <th>Day</th>\n",
       "      <th>Time</th>\n",
       "      <th>TimeZone</th>\n",
       "      <th>SkyCondition</th>\n",
       "      <th>Visibility</th>\n",
       "      <th>WeatherType</th>\n",
       "      <th>DryBulbFarenheit</th>\n",
       "      <th>...</th>\n",
       "      <th>WindSpeed</th>\n",
       "      <th>WindDirection</th>\n",
       "      <th>ValueForWindCharacter</th>\n",
       "      <th>StationPressure</th>\n",
       "      <th>PressureTendency</th>\n",
       "      <th>PressureChange</th>\n",
       "      <th>SeaLevelPressure</th>\n",
       "      <th>RecordType</th>\n",
       "      <th>HourlyPrecip</th>\n",
       "      <th>Altimeter</th>\n",
       "    </tr>\n",
       "  </thead>\n",
       "  <tbody>\n",
       "    <tr>\n",
       "      <th>0</th>\n",
       "      <td>14843</td>\n",
       "      <td>2013</td>\n",
       "      <td>4</td>\n",
       "      <td>1</td>\n",
       "      <td>56</td>\n",
       "      <td>-4</td>\n",
       "      <td>FEW018 SCT044 BKN070</td>\n",
       "      <td>10.00</td>\n",
       "      <td>-RA</td>\n",
       "      <td>76</td>\n",
       "      <td>...</td>\n",
       "      <td>13</td>\n",
       "      <td>080</td>\n",
       "      <td></td>\n",
       "      <td>30.06</td>\n",
       "      <td></td>\n",
       "      <td></td>\n",
       "      <td>30.06</td>\n",
       "      <td>AA</td>\n",
       "      <td>T</td>\n",
       "      <td>30.07</td>\n",
       "    </tr>\n",
       "    <tr>\n",
       "      <th>1</th>\n",
       "      <td>14843</td>\n",
       "      <td>2013</td>\n",
       "      <td>4</td>\n",
       "      <td>1</td>\n",
       "      <td>156</td>\n",
       "      <td>-4</td>\n",
       "      <td>FEW037 SCT070</td>\n",
       "      <td>10.00</td>\n",
       "      <td></td>\n",
       "      <td>76</td>\n",
       "      <td>...</td>\n",
       "      <td>10</td>\n",
       "      <td>090</td>\n",
       "      <td></td>\n",
       "      <td>30.05</td>\n",
       "      <td>6</td>\n",
       "      <td>017</td>\n",
       "      <td>30.05</td>\n",
       "      <td>AA</td>\n",
       "      <td></td>\n",
       "      <td>30.06</td>\n",
       "    </tr>\n",
       "    <tr>\n",
       "      <th>2</th>\n",
       "      <td>14843</td>\n",
       "      <td>2013</td>\n",
       "      <td>4</td>\n",
       "      <td>1</td>\n",
       "      <td>256</td>\n",
       "      <td>-4</td>\n",
       "      <td>FEW037 SCT070</td>\n",
       "      <td>10.00</td>\n",
       "      <td></td>\n",
       "      <td>76</td>\n",
       "      <td>...</td>\n",
       "      <td>9</td>\n",
       "      <td>100</td>\n",
       "      <td></td>\n",
       "      <td>30.03</td>\n",
       "      <td></td>\n",
       "      <td></td>\n",
       "      <td>30.03</td>\n",
       "      <td>AA</td>\n",
       "      <td></td>\n",
       "      <td>30.04</td>\n",
       "    </tr>\n",
       "    <tr>\n",
       "      <th>3</th>\n",
       "      <td>14843</td>\n",
       "      <td>2013</td>\n",
       "      <td>4</td>\n",
       "      <td>1</td>\n",
       "      <td>356</td>\n",
       "      <td>-4</td>\n",
       "      <td>FEW025 SCT070</td>\n",
       "      <td>10.00</td>\n",
       "      <td></td>\n",
       "      <td>76</td>\n",
       "      <td>...</td>\n",
       "      <td>9</td>\n",
       "      <td>100</td>\n",
       "      <td></td>\n",
       "      <td>30.02</td>\n",
       "      <td></td>\n",
       "      <td></td>\n",
       "      <td>30.03</td>\n",
       "      <td>AA</td>\n",
       "      <td></td>\n",
       "      <td>30.03</td>\n",
       "    </tr>\n",
       "    <tr>\n",
       "      <th>4</th>\n",
       "      <td>14843</td>\n",
       "      <td>2013</td>\n",
       "      <td>4</td>\n",
       "      <td>1</td>\n",
       "      <td>456</td>\n",
       "      <td>-4</td>\n",
       "      <td>FEW025</td>\n",
       "      <td>10.00</td>\n",
       "      <td></td>\n",
       "      <td>76</td>\n",
       "      <td>...</td>\n",
       "      <td>7</td>\n",
       "      <td>110</td>\n",
       "      <td></td>\n",
       "      <td>30.03</td>\n",
       "      <td>5</td>\n",
       "      <td>004</td>\n",
       "      <td>30.04</td>\n",
       "      <td>AA</td>\n",
       "      <td></td>\n",
       "      <td>30.04</td>\n",
       "    </tr>\n",
       "  </tbody>\n",
       "</table>\n",
       "<p>5 rows × 26 columns</p>\n",
       "</div>"
      ],
      "text/plain": [
       "   AirportID  Year  Month  Day  Time  TimeZone          SkyCondition  \\\n",
       "0      14843  2013      4    1    56        -4  FEW018 SCT044 BKN070   \n",
       "1      14843  2013      4    1   156        -4         FEW037 SCT070   \n",
       "2      14843  2013      4    1   256        -4         FEW037 SCT070   \n",
       "3      14843  2013      4    1   356        -4         FEW025 SCT070   \n",
       "4      14843  2013      4    1   456        -4                FEW025   \n",
       "\n",
       "  Visibility WeatherType DryBulbFarenheit    ...    WindSpeed WindDirection  \\\n",
       "0      10.00         -RA               76    ...           13           080   \n",
       "1      10.00                           76    ...           10           090   \n",
       "2      10.00                           76    ...            9           100   \n",
       "3      10.00                           76    ...            9           100   \n",
       "4      10.00                           76    ...            7           110   \n",
       "\n",
       "  ValueForWindCharacter StationPressure PressureTendency PressureChange  \\\n",
       "0                                 30.06                                   \n",
       "1                                 30.05                6            017   \n",
       "2                                 30.03                                   \n",
       "3                                 30.02                                   \n",
       "4                                 30.03                5            004   \n",
       "\n",
       "  SeaLevelPressure RecordType HourlyPrecip Altimeter  \n",
       "0            30.06         AA            T     30.07  \n",
       "1            30.05         AA                  30.06  \n",
       "2            30.03         AA                  30.04  \n",
       "3            30.03         AA                  30.03  \n",
       "4            30.04         AA                  30.04  \n",
       "\n",
       "[5 rows x 26 columns]"
      ]
     },
     "execution_count": 11,
     "metadata": {},
     "output_type": "execute_result"
    }
   ],
   "source": [
    "weather.head()"
   ]
  },
  {
   "cell_type": "code",
   "execution_count": 12,
   "metadata": {},
   "outputs": [
    {
     "data": {
      "text/plain": [
       "2359"
      ]
     },
     "execution_count": 12,
     "metadata": {},
     "output_type": "execute_result"
    }
   ],
   "source": [
    "weather['Time'].max()"
   ]
  },
  {
   "cell_type": "markdown",
   "metadata": {},
   "source": [
    "# 2 Cleaning weather data"
   ]
  },
  {
   "cell_type": "markdown",
   "metadata": {},
   "source": [
    "## 2.1 Dropping columns with lots of empty strings"
   ]
  },
  {
   "cell_type": "code",
   "execution_count": 13,
   "metadata": {},
   "outputs": [
    {
     "data": {
      "text/plain": [
       "array([' ', '21', '23', '24', '25', '26', '28', '18', '22', '20', '32',\n",
       "       '29', '17', '16', '30', '31', '37', '40', '38', '39', '36', '34',\n",
       "       '43', '33', '49', '59', '47', '44', '41', '46', '56', '53', '48',\n",
       "       '45', '54', '51', '55', '52', '70', '71', '68', '14', '61', '60',\n",
       "       '67', '58', '69', '66', '89', '64', '74'], dtype=object)"
      ]
     },
     "execution_count": 13,
     "metadata": {},
     "output_type": "execute_result"
    }
   ],
   "source": [
    "weather[\"ValueForWindCharacter\"].unique()"
   ]
  },
  {
   "cell_type": "code",
   "execution_count": 14,
   "metadata": {},
   "outputs": [
    {
     "name": "stdout",
     "output_type": "stream",
     "text": [
      "0.8781868364344823\n"
     ]
    }
   ],
   "source": [
    "perc = weather[weather[\"ValueForWindCharacter\"] == ' '][\"ValueForWindCharacter\"].count()/len(weather)\n",
    "print(perc)"
   ]
  },
  {
   "cell_type": "code",
   "execution_count": 15,
   "metadata": {},
   "outputs": [
    {
     "data": {
      "text/plain": [
       "array([' ', '6', '5', '3', '1', '8', '0', '2', '7', '4'], dtype=object)"
      ]
     },
     "execution_count": 15,
     "metadata": {},
     "output_type": "execute_result"
    }
   ],
   "source": [
    "weather[\"PressureTendency\"].unique()"
   ]
  },
  {
   "cell_type": "code",
   "execution_count": 16,
   "metadata": {},
   "outputs": [
    {
     "name": "stdout",
     "output_type": "stream",
     "text": [
      "0.9606608349978845\n"
     ]
    }
   ],
   "source": [
    "perc = weather[weather[\"PressureTendency\"] == ' '][\"PressureTendency\"].count()/len(weather)\n",
    "print(perc)"
   ]
  },
  {
   "cell_type": "code",
   "execution_count": 17,
   "metadata": {
    "scrolled": true
   },
   "outputs": [
    {
     "data": {
      "text/plain": [
       "array(['-RA', ' ', '+RA BR', 'RA BR', '-RA BR', 'RA', '+RA', 'TSRA',\n",
       "       '-TSRA BR', '-TSRA', '-DZ BR', 'BCFG', '+TSRA FG', 'BR', 'FG',\n",
       "       'BR BCFG', 'VCFG', 'FU BR', '+TSRA BR', 'TSRA BR', 'MIFG', 'TS',\n",
       "       '+TSRA', '+RA FG', '-TSRA SQ', '+FC -RA', '+FC', 'VCTS RA BR',\n",
       "       'VCTS', 'VCTS -RA', 'HZ', '-DZ', 'MIFG BR', 'DZ BR', '+TS RAGS BR',\n",
       "       '+TS RAGR BR', '+TS GSRA FG', '+TS GSRA BR', 'TS BR', '-PLRA',\n",
       "       '-RAPL', '+TSRA BR SQ', 'BCFG BR', '+DZ FG', '+DZ', 'SQ', '-DZ FG',\n",
       "       '+TSRA SQ', 'FG BR', 'TS RAGS', 'TS RAGR', '-DZ HZ', 'TS FZRA',\n",
       "       'TS -FZRA', '-FZRA', '-FZRA BR', 'FZRA BR', '-SN BR', '-FZRAPL BR',\n",
       "       'TS HZ', '-SN', '-RA FG', '-RASN', 'RA BR FU', '-TSRA BR SQ',\n",
       "       '-RAGS', 'UP BR', 'RAPL BR', '-TSSN', 'SN FZFG', '-PLUP',\n",
       "       '-PL SNRA', '-FZRASN', '-FZRASN BR', 'SN FG', '+SN FG', '-TSSN BR',\n",
       "       '-DZSN BR', '-SNDZ BR', 'FZRASN BR', 'PLRA BR', '-PLRA BR',\n",
       "       '-RASN BR', '-PL BR', 'PL BR', '-SN FG', '-SNPL BR', '-SNRA',\n",
       "       '+TS GRRA BR', 'FU', 'VCBLDU', 'BLDU', '-RA HZ', 'RA BLDU',\n",
       "       '-RA BLDU', '-RA VCBLDU', 'HZ BLDU', '-SN FZFG', '+SN FZFG', 'SN',\n",
       "       '-PL', '+TS RAGS', 'TS GSRA', 'UP', 'TSRA SQ', '-RA SQ',\n",
       "       'VCTS -RA BR', 'DZ', 'TS GRRA', 'TS GSRA BR', '+TS GSRA',\n",
       "       '+TS GRRA', '-FC TSRA', 'TSRA FG SQ', 'TSRA FG', 'TSGS HZ',\n",
       "       '-SNRA BR', '-PLSN', '-PL RASN BR', '-TSRA FG', 'RASN BR',\n",
       "       'TS RAPL BR', 'TS -RAPL BR', '-RAPL BR', 'TS RAGS BR', 'BR -RA',\n",
       "       'BLDU SQ', 'TS -RA', '-RA SNPL BR', '+FC TS', 'FC TS', 'FC',\n",
       "       'VCTS RA', 'VCTS +RA FG', 'VCTS +RA BR', 'RA FG', '+TS RAGR',\n",
       "       'TS RAGS SQ', '-RA BR BCFG', '-TSRA BLDU', 'DU', 'TS HZ SQ',\n",
       "       '+TSRA FG SQ', 'TS SQ', '+TS GRRA FG', '+RA BR SQ', 'FU HZ',\n",
       "       'VCTS +RA', '+RA SQ', 'TS BLDU SQ', 'TS VCBLDU', 'VCBLDU SQ',\n",
       "       'TS BLDU', 'VCTS HZ', 'DZ FG', 'TS HZ BLDU', 'TS RAGR BR',\n",
       "       'TSRA DS', 'TSRA BLDU', 'TSGS', 'HZ FU', 'TS FU', 'HZ SQ',\n",
       "       '-RA FU', 'BR FU', 'PL', 'FZFG', '+RA FG SQ', '-RA BCFG BR'],\n",
       "      dtype=object)"
      ]
     },
     "execution_count": 17,
     "metadata": {},
     "output_type": "execute_result"
    }
   ],
   "source": [
    "weather[\"WeatherType\"].unique()"
   ]
  },
  {
   "cell_type": "code",
   "execution_count": 18,
   "metadata": {},
   "outputs": [
    {
     "name": "stdout",
     "output_type": "stream",
     "text": [
      "0.8648614076690708\n"
     ]
    }
   ],
   "source": [
    "perc = weather[weather[\"WeatherType\"] == ' '][\"WeatherType\"].count()/len(weather)\n",
    "print(perc)"
   ]
  },
  {
   "cell_type": "code",
   "execution_count": 19,
   "metadata": {},
   "outputs": [
    {
     "data": {
      "text/plain": [
       "array([' ', '017', '004', '020', '008', '023', '011', '005', '013', '002',\n",
       "       '018', '000', '022', '010', '016', '014', '003', '009', '026',\n",
       "       '006', '015', '001', '019', '012', '007', '021', '025', '051',\n",
       "       '036', '030', '024', '028', '027', '047', '043', '031', '035',\n",
       "       '056', '032', '054', '038', '029', '046', '039', '033', '044',\n",
       "       '034', '037', '042', '040', '070', '045', '041', '060', '049',\n",
       "       '050', '071', '076', '048', '065', '055', '062', '067', '059',\n",
       "       '063', '058', '080'], dtype=object)"
      ]
     },
     "execution_count": 19,
     "metadata": {},
     "output_type": "execute_result"
    }
   ],
   "source": [
    "weather[\"PressureChange\"].unique()"
   ]
  },
  {
   "cell_type": "code",
   "execution_count": 20,
   "metadata": {},
   "outputs": [
    {
     "name": "stdout",
     "output_type": "stream",
     "text": [
      "0.9606608349978845\n"
     ]
    }
   ],
   "source": [
    "perc = weather[weather[\"PressureChange\"] == ' '][\"PressureChange\"].count()/len(weather)\n",
    "print(perc)"
   ]
  },
  {
   "cell_type": "code",
   "execution_count": 21,
   "metadata": {},
   "outputs": [
    {
     "data": {
      "text/plain": [
       "array(['  T', ' ', '0.01', '0.02', '0.03', '0.04', '0.12', '0.21', '0.05',\n",
       "       '0.10', '0.08', '0.13', '0.06', '1.05', '0.17', '0.09', '0.15',\n",
       "       '0.19', '0.18', '0.32', '0.25', '0.31', '0.74', '0.28', '0.61',\n",
       "       '0.36', '0.11', '0.14', '0.16', '0.07', '0.38', '1.25', '0.52',\n",
       "       '0.40', '0.48', '0.65', '0.81', '0.67', '0.84', '0.20', '0.30',\n",
       "       '0.92', '0.47', '0.77', '0.94', '0.83', '0.26', '0.23', '0.73',\n",
       "       '0.60', '0.93', '0.44', '0.46', '1.22', '0.54', '0.29', '0.33',\n",
       "       '0.43', '0.34', '0.88', '0.39', '0.59', '1.00', '0.53', '0.27',\n",
       "       '3.03', '1.89', '0.24', '1.03', '0.49', '0.22', '0.71', '0.35',\n",
       "       '0.37', '0.69', '0.66', '0.56', '0.58', '0.41', '1.02', '1.50',\n",
       "       '0.57', '0.79', '0.64', '0.80', '0.55', '0.97', '0.75', '1.47',\n",
       "       '0.42', '0.68', '1.23', '0.45', '0.51', '2.70', '1.04', '0.72',\n",
       "       '2.29', '1.68', '1.75', '0.90', '0.63', '2.00', '1.79', '1.20',\n",
       "       '0.85', '1.36', '0.87', '1.83', '1.39', '4.00', '1.24', '1.53',\n",
       "       '0.78', '1.17', '0.62', '1.62', '1.80', '1.34', '1.84', '0.50',\n",
       "       '1.27', '0.98', '1.07', '0.76', '1.06', '1.12', '0.91', '1.90',\n",
       "       '1.10', '1.08', '1.11', '1.63', '0.82', '0.95', '1.64', '1.77',\n",
       "       '0.86', '0.89', '2.17', '0.70', '1.48', '1.26', '0.99', '1.37',\n",
       "       '1.09', '1.41', '2.89', '1.88', '1.01', '2.11', '1.85', '1.67',\n",
       "       '1.16', '1.13', '1.55', '2.49', '1.21', '2.86', '1.73', '1.40',\n",
       "       '0.96', '1.72', '1.42', '2.21', '1.29', '1.54', '1.30', '2.45',\n",
       "       '1.14', '1.18', '1.65', '2.40', '1.78', '2.04', '1.28', '2.36',\n",
       "       '1.99', '1.91', '1.57', '1.38', '1.96'], dtype=object)"
      ]
     },
     "execution_count": 21,
     "metadata": {},
     "output_type": "execute_result"
    }
   ],
   "source": [
    "weather[\"HourlyPrecip\"].unique()"
   ]
  },
  {
   "cell_type": "code",
   "execution_count": 22,
   "metadata": {},
   "outputs": [
    {
     "name": "stdout",
     "output_type": "stream",
     "text": [
      "0.9212503320902499\n"
     ]
    }
   ],
   "source": [
    "perc = weather[weather[\"HourlyPrecip\"] == ' '][\"HourlyPrecip\"].count()/len(weather)\n",
    "print(perc)"
   ]
  },
  {
   "cell_type": "markdown",
   "metadata": {},
   "source": [
    "**Dropping the columns identified above..**"
   ]
  },
  {
   "cell_type": "code",
   "execution_count": 23,
   "metadata": {},
   "outputs": [
    {
     "data": {
      "text/html": [
       "<div>\n",
       "<style scoped>\n",
       "    .dataframe tbody tr th:only-of-type {\n",
       "        vertical-align: middle;\n",
       "    }\n",
       "\n",
       "    .dataframe tbody tr th {\n",
       "        vertical-align: top;\n",
       "    }\n",
       "\n",
       "    .dataframe thead th {\n",
       "        text-align: right;\n",
       "    }\n",
       "</style>\n",
       "<table border=\"1\" class=\"dataframe\">\n",
       "  <thead>\n",
       "    <tr style=\"text-align: right;\">\n",
       "      <th></th>\n",
       "      <th>AirportID</th>\n",
       "      <th>Year</th>\n",
       "      <th>Month</th>\n",
       "      <th>Day</th>\n",
       "      <th>Time</th>\n",
       "      <th>TimeZone</th>\n",
       "      <th>SkyCondition</th>\n",
       "      <th>Visibility</th>\n",
       "      <th>DryBulbFarenheit</th>\n",
       "      <th>DryBulbCelsius</th>\n",
       "      <th>...</th>\n",
       "      <th>WetBulbCelsius</th>\n",
       "      <th>DewPointFarenheit</th>\n",
       "      <th>DewPointCelsius</th>\n",
       "      <th>RelativeHumidity</th>\n",
       "      <th>WindSpeed</th>\n",
       "      <th>WindDirection</th>\n",
       "      <th>StationPressure</th>\n",
       "      <th>SeaLevelPressure</th>\n",
       "      <th>RecordType</th>\n",
       "      <th>Altimeter</th>\n",
       "    </tr>\n",
       "  </thead>\n",
       "  <tbody>\n",
       "    <tr>\n",
       "      <th>0</th>\n",
       "      <td>14843</td>\n",
       "      <td>2013</td>\n",
       "      <td>4</td>\n",
       "      <td>1</td>\n",
       "      <td>56</td>\n",
       "      <td>-4</td>\n",
       "      <td>FEW018 SCT044 BKN070</td>\n",
       "      <td>10.00</td>\n",
       "      <td>76</td>\n",
       "      <td>24.4</td>\n",
       "      <td>...</td>\n",
       "      <td>23.3</td>\n",
       "      <td>73</td>\n",
       "      <td>22.8</td>\n",
       "      <td>90</td>\n",
       "      <td>13</td>\n",
       "      <td>080</td>\n",
       "      <td>30.06</td>\n",
       "      <td>30.06</td>\n",
       "      <td>AA</td>\n",
       "      <td>30.07</td>\n",
       "    </tr>\n",
       "    <tr>\n",
       "      <th>1</th>\n",
       "      <td>14843</td>\n",
       "      <td>2013</td>\n",
       "      <td>4</td>\n",
       "      <td>1</td>\n",
       "      <td>156</td>\n",
       "      <td>-4</td>\n",
       "      <td>FEW037 SCT070</td>\n",
       "      <td>10.00</td>\n",
       "      <td>76</td>\n",
       "      <td>24.4</td>\n",
       "      <td>...</td>\n",
       "      <td>22.5</td>\n",
       "      <td>71</td>\n",
       "      <td>21.7</td>\n",
       "      <td>85</td>\n",
       "      <td>10</td>\n",
       "      <td>090</td>\n",
       "      <td>30.05</td>\n",
       "      <td>30.05</td>\n",
       "      <td>AA</td>\n",
       "      <td>30.06</td>\n",
       "    </tr>\n",
       "    <tr>\n",
       "      <th>2</th>\n",
       "      <td>14843</td>\n",
       "      <td>2013</td>\n",
       "      <td>4</td>\n",
       "      <td>1</td>\n",
       "      <td>256</td>\n",
       "      <td>-4</td>\n",
       "      <td>FEW037 SCT070</td>\n",
       "      <td>10.00</td>\n",
       "      <td>76</td>\n",
       "      <td>24.4</td>\n",
       "      <td>...</td>\n",
       "      <td>22.5</td>\n",
       "      <td>71</td>\n",
       "      <td>21.7</td>\n",
       "      <td>85</td>\n",
       "      <td>9</td>\n",
       "      <td>100</td>\n",
       "      <td>30.03</td>\n",
       "      <td>30.03</td>\n",
       "      <td>AA</td>\n",
       "      <td>30.04</td>\n",
       "    </tr>\n",
       "    <tr>\n",
       "      <th>3</th>\n",
       "      <td>14843</td>\n",
       "      <td>2013</td>\n",
       "      <td>4</td>\n",
       "      <td>1</td>\n",
       "      <td>356</td>\n",
       "      <td>-4</td>\n",
       "      <td>FEW025 SCT070</td>\n",
       "      <td>10.00</td>\n",
       "      <td>76</td>\n",
       "      <td>24.4</td>\n",
       "      <td>...</td>\n",
       "      <td>22.2</td>\n",
       "      <td>70</td>\n",
       "      <td>21.1</td>\n",
       "      <td>82</td>\n",
       "      <td>9</td>\n",
       "      <td>100</td>\n",
       "      <td>30.02</td>\n",
       "      <td>30.03</td>\n",
       "      <td>AA</td>\n",
       "      <td>30.03</td>\n",
       "    </tr>\n",
       "    <tr>\n",
       "      <th>4</th>\n",
       "      <td>14843</td>\n",
       "      <td>2013</td>\n",
       "      <td>4</td>\n",
       "      <td>1</td>\n",
       "      <td>456</td>\n",
       "      <td>-4</td>\n",
       "      <td>FEW025</td>\n",
       "      <td>10.00</td>\n",
       "      <td>76</td>\n",
       "      <td>24.4</td>\n",
       "      <td>...</td>\n",
       "      <td>22.2</td>\n",
       "      <td>70</td>\n",
       "      <td>21.1</td>\n",
       "      <td>82</td>\n",
       "      <td>7</td>\n",
       "      <td>110</td>\n",
       "      <td>30.03</td>\n",
       "      <td>30.04</td>\n",
       "      <td>AA</td>\n",
       "      <td>30.04</td>\n",
       "    </tr>\n",
       "  </tbody>\n",
       "</table>\n",
       "<p>5 rows × 21 columns</p>\n",
       "</div>"
      ],
      "text/plain": [
       "   AirportID  Year  Month  Day  Time  TimeZone          SkyCondition  \\\n",
       "0      14843  2013      4    1    56        -4  FEW018 SCT044 BKN070   \n",
       "1      14843  2013      4    1   156        -4         FEW037 SCT070   \n",
       "2      14843  2013      4    1   256        -4         FEW037 SCT070   \n",
       "3      14843  2013      4    1   356        -4         FEW025 SCT070   \n",
       "4      14843  2013      4    1   456        -4                FEW025   \n",
       "\n",
       "  Visibility DryBulbFarenheit DryBulbCelsius    ...    WetBulbCelsius  \\\n",
       "0      10.00               76           24.4    ...              23.3   \n",
       "1      10.00               76           24.4    ...              22.5   \n",
       "2      10.00               76           24.4    ...              22.5   \n",
       "3      10.00               76           24.4    ...              22.2   \n",
       "4      10.00               76           24.4    ...              22.2   \n",
       "\n",
       "  DewPointFarenheit DewPointCelsius RelativeHumidity WindSpeed WindDirection  \\\n",
       "0                73            22.8               90        13           080   \n",
       "1                71            21.7               85        10           090   \n",
       "2                71            21.7               85         9           100   \n",
       "3                70            21.1               82         9           100   \n",
       "4                70            21.1               82         7           110   \n",
       "\n",
       "  StationPressure SeaLevelPressure RecordType Altimeter  \n",
       "0           30.06            30.06         AA     30.07  \n",
       "1           30.05            30.05         AA     30.06  \n",
       "2           30.03            30.03         AA     30.04  \n",
       "3           30.02            30.03         AA     30.03  \n",
       "4           30.03            30.04         AA     30.04  \n",
       "\n",
       "[5 rows x 21 columns]"
      ]
     },
     "execution_count": 23,
     "metadata": {},
     "output_type": "execute_result"
    }
   ],
   "source": [
    "weather.drop(columns=[\"ValueForWindCharacter\",\"PressureTendency\",\"WeatherType\",\"PressureChange\",\"HourlyPrecip\"],inplace=True)\n",
    "weather.head()"
   ]
  },
  {
   "cell_type": "markdown",
   "metadata": {},
   "source": [
    "## 2.2 Exploring some other columns and converting to one-hot"
   ]
  },
  {
   "cell_type": "markdown",
   "metadata": {},
   "source": [
    "**Don't one-hot-encode airportID yet, we first need to join on this**"
   ]
  },
  {
   "cell_type": "code",
   "execution_count": 24,
   "metadata": {
    "collapsed": true
   },
   "outputs": [],
   "source": [
    "#explore_cat(weather,\"AirportID\")"
   ]
  },
  {
   "cell_type": "code",
   "execution_count": 25,
   "metadata": {},
   "outputs": [
    {
     "name": "stdout",
     "output_type": "stream",
     "text": [
      "unique values:\n",
      "['FEW018 SCT044 BKN070' 'FEW037 SCT070' 'FEW025 SCT070' ...\n",
      " 'SCT008 BKN025 OVC075' 'BKN012 BKN035 OVC090' 'BKN012 BKN045 OVC095']\n",
      "number of unique values\n",
      "(82826,)\n"
     ]
    }
   ],
   "source": [
    "explore_cat(weather,\"SkyCondition\")"
   ]
  },
  {
   "cell_type": "markdown",
   "metadata": {},
   "source": [
    "**Not sure how to deal with this one above... maybe remove it?**"
   ]
  },
  {
   "cell_type": "code",
   "execution_count": 26,
   "metadata": {},
   "outputs": [
    {
     "name": "stdout",
     "output_type": "stream",
     "text": [
      "unique values:\n",
      "['10.00' ' 8.00' ' 9.00' ' 1.00' ' 2.00' ' 4.00' ' 6.00' ' 7.00' ' 3.00'\n",
      " ' 5.00' ' 0.50' ' 0.75' ' 1.50' ' 1.49' ' 2.50' ' 1.75' ' 1.25' ' 0.25'\n",
      " ' 0.12' ' 0.00' 'M' ' 9.94' '30.00' ' 1.74' 10.0 7.0 1.75 3.0 9.0 6.0 5.0\n",
      " 8.0 4.0 2.0 2.5 0.5 1.5 1.25 1.0 0.75 0.25 0.12 0.0 35.0 ' 10.00' 13.0]\n",
      "number of unique values\n",
      "(46,)\n"
     ]
    }
   ],
   "source": [
    "explore_cat(weather,\"Visibility\")"
   ]
  },
  {
   "cell_type": "markdown",
   "metadata": {},
   "source": [
    "**Visibility has some \"M\" values. More on this below...**"
   ]
  },
  {
   "cell_type": "code",
   "execution_count": 27,
   "metadata": {},
   "outputs": [
    {
     "data": {
      "text/plain": [
       "AirportID             int64\n",
       "Year                  int64\n",
       "Month                 int64\n",
       "Day                   int64\n",
       "Time                  int64\n",
       "TimeZone              int64\n",
       "SkyCondition         object\n",
       "Visibility           object\n",
       "DryBulbFarenheit     object\n",
       "DryBulbCelsius       object\n",
       "WetBulbFarenheit     object\n",
       "WetBulbCelsius       object\n",
       "DewPointFarenheit    object\n",
       "DewPointCelsius      object\n",
       "RelativeHumidity     object\n",
       "WindSpeed            object\n",
       "WindDirection        object\n",
       "StationPressure      object\n",
       "SeaLevelPressure     object\n",
       "RecordType           object\n",
       "Altimeter            object\n",
       "dtype: object"
      ]
     },
     "execution_count": 27,
     "metadata": {},
     "output_type": "execute_result"
    }
   ],
   "source": [
    "weather.dtypes"
   ]
  },
  {
   "cell_type": "code",
   "execution_count": 28,
   "metadata": {},
   "outputs": [
    {
     "name": "stdout",
     "output_type": "stream",
     "text": [
      "unique values:\n",
      "['AA' 'SP' 'SY-MT' 'AUTO']\n",
      "number of unique values\n",
      "(4,)\n"
     ]
    }
   ],
   "source": [
    "explore_cat(weather,\"RecordType\")"
   ]
  },
  {
   "cell_type": "markdown",
   "metadata": {},
   "source": [
    "**Converting AirportID to one-hot encoding. Leaving Visibility as float.** The function one_hot does this \"inplace\".  \n",
    "**Dropping the column SkyCondition (for now?). Aslo dropping RecordType, does not seem meaningful.**"
   ]
  },
  {
   "cell_type": "code",
   "execution_count": 29,
   "metadata": {
    "collapsed": true
   },
   "outputs": [],
   "source": [
    "weather.drop(columns=[\"SkyCondition\",\"RecordType\"],inplace=True)\n",
    "#one_hot(weather,[\"AirportID\"])\n"
   ]
  },
  {
   "cell_type": "code",
   "execution_count": 30,
   "metadata": {
    "scrolled": true
   },
   "outputs": [
    {
     "name": "stdout",
     "output_type": "stream",
     "text": [
      "AirportID             int64\n",
      "Year                  int64\n",
      "Month                 int64\n",
      "Day                   int64\n",
      "Time                  int64\n",
      "TimeZone              int64\n",
      "Visibility           object\n",
      "DryBulbFarenheit     object\n",
      "DryBulbCelsius       object\n",
      "WetBulbFarenheit     object\n",
      "WetBulbCelsius       object\n",
      "DewPointFarenheit    object\n",
      "DewPointCelsius      object\n",
      "RelativeHumidity     object\n",
      "WindSpeed            object\n",
      "WindDirection        object\n",
      "StationPressure      object\n",
      "SeaLevelPressure     object\n",
      "Altimeter            object\n",
      "dtype: object\n"
     ]
    },
    {
     "data": {
      "text/html": [
       "<div>\n",
       "<style scoped>\n",
       "    .dataframe tbody tr th:only-of-type {\n",
       "        vertical-align: middle;\n",
       "    }\n",
       "\n",
       "    .dataframe tbody tr th {\n",
       "        vertical-align: top;\n",
       "    }\n",
       "\n",
       "    .dataframe thead th {\n",
       "        text-align: right;\n",
       "    }\n",
       "</style>\n",
       "<table border=\"1\" class=\"dataframe\">\n",
       "  <thead>\n",
       "    <tr style=\"text-align: right;\">\n",
       "      <th></th>\n",
       "      <th>AirportID</th>\n",
       "      <th>Year</th>\n",
       "      <th>Month</th>\n",
       "      <th>Day</th>\n",
       "      <th>Time</th>\n",
       "      <th>TimeZone</th>\n",
       "      <th>Visibility</th>\n",
       "      <th>DryBulbFarenheit</th>\n",
       "      <th>DryBulbCelsius</th>\n",
       "      <th>WetBulbFarenheit</th>\n",
       "      <th>WetBulbCelsius</th>\n",
       "      <th>DewPointFarenheit</th>\n",
       "      <th>DewPointCelsius</th>\n",
       "      <th>RelativeHumidity</th>\n",
       "      <th>WindSpeed</th>\n",
       "      <th>WindDirection</th>\n",
       "      <th>StationPressure</th>\n",
       "      <th>SeaLevelPressure</th>\n",
       "      <th>Altimeter</th>\n",
       "    </tr>\n",
       "  </thead>\n",
       "  <tbody>\n",
       "    <tr>\n",
       "      <th>0</th>\n",
       "      <td>14843</td>\n",
       "      <td>2013</td>\n",
       "      <td>4</td>\n",
       "      <td>1</td>\n",
       "      <td>56</td>\n",
       "      <td>-4</td>\n",
       "      <td>10.00</td>\n",
       "      <td>76</td>\n",
       "      <td>24.4</td>\n",
       "      <td>74</td>\n",
       "      <td>23.3</td>\n",
       "      <td>73</td>\n",
       "      <td>22.8</td>\n",
       "      <td>90</td>\n",
       "      <td>13</td>\n",
       "      <td>080</td>\n",
       "      <td>30.06</td>\n",
       "      <td>30.06</td>\n",
       "      <td>30.07</td>\n",
       "    </tr>\n",
       "    <tr>\n",
       "      <th>1</th>\n",
       "      <td>14843</td>\n",
       "      <td>2013</td>\n",
       "      <td>4</td>\n",
       "      <td>1</td>\n",
       "      <td>156</td>\n",
       "      <td>-4</td>\n",
       "      <td>10.00</td>\n",
       "      <td>76</td>\n",
       "      <td>24.4</td>\n",
       "      <td>73</td>\n",
       "      <td>22.5</td>\n",
       "      <td>71</td>\n",
       "      <td>21.7</td>\n",
       "      <td>85</td>\n",
       "      <td>10</td>\n",
       "      <td>090</td>\n",
       "      <td>30.05</td>\n",
       "      <td>30.05</td>\n",
       "      <td>30.06</td>\n",
       "    </tr>\n",
       "    <tr>\n",
       "      <th>2</th>\n",
       "      <td>14843</td>\n",
       "      <td>2013</td>\n",
       "      <td>4</td>\n",
       "      <td>1</td>\n",
       "      <td>256</td>\n",
       "      <td>-4</td>\n",
       "      <td>10.00</td>\n",
       "      <td>76</td>\n",
       "      <td>24.4</td>\n",
       "      <td>73</td>\n",
       "      <td>22.5</td>\n",
       "      <td>71</td>\n",
       "      <td>21.7</td>\n",
       "      <td>85</td>\n",
       "      <td>9</td>\n",
       "      <td>100</td>\n",
       "      <td>30.03</td>\n",
       "      <td>30.03</td>\n",
       "      <td>30.04</td>\n",
       "    </tr>\n",
       "    <tr>\n",
       "      <th>3</th>\n",
       "      <td>14843</td>\n",
       "      <td>2013</td>\n",
       "      <td>4</td>\n",
       "      <td>1</td>\n",
       "      <td>356</td>\n",
       "      <td>-4</td>\n",
       "      <td>10.00</td>\n",
       "      <td>76</td>\n",
       "      <td>24.4</td>\n",
       "      <td>72</td>\n",
       "      <td>22.2</td>\n",
       "      <td>70</td>\n",
       "      <td>21.1</td>\n",
       "      <td>82</td>\n",
       "      <td>9</td>\n",
       "      <td>100</td>\n",
       "      <td>30.02</td>\n",
       "      <td>30.03</td>\n",
       "      <td>30.03</td>\n",
       "    </tr>\n",
       "    <tr>\n",
       "      <th>4</th>\n",
       "      <td>14843</td>\n",
       "      <td>2013</td>\n",
       "      <td>4</td>\n",
       "      <td>1</td>\n",
       "      <td>456</td>\n",
       "      <td>-4</td>\n",
       "      <td>10.00</td>\n",
       "      <td>76</td>\n",
       "      <td>24.4</td>\n",
       "      <td>72</td>\n",
       "      <td>22.2</td>\n",
       "      <td>70</td>\n",
       "      <td>21.1</td>\n",
       "      <td>82</td>\n",
       "      <td>7</td>\n",
       "      <td>110</td>\n",
       "      <td>30.03</td>\n",
       "      <td>30.04</td>\n",
       "      <td>30.04</td>\n",
       "    </tr>\n",
       "  </tbody>\n",
       "</table>\n",
       "</div>"
      ],
      "text/plain": [
       "   AirportID  Year  Month  Day  Time  TimeZone Visibility DryBulbFarenheit  \\\n",
       "0      14843  2013      4    1    56        -4      10.00               76   \n",
       "1      14843  2013      4    1   156        -4      10.00               76   \n",
       "2      14843  2013      4    1   256        -4      10.00               76   \n",
       "3      14843  2013      4    1   356        -4      10.00               76   \n",
       "4      14843  2013      4    1   456        -4      10.00               76   \n",
       "\n",
       "  DryBulbCelsius WetBulbFarenheit WetBulbCelsius DewPointFarenheit  \\\n",
       "0           24.4               74           23.3                73   \n",
       "1           24.4               73           22.5                71   \n",
       "2           24.4               73           22.5                71   \n",
       "3           24.4               72           22.2                70   \n",
       "4           24.4               72           22.2                70   \n",
       "\n",
       "  DewPointCelsius RelativeHumidity WindSpeed WindDirection StationPressure  \\\n",
       "0            22.8               90        13           080           30.06   \n",
       "1            21.7               85        10           090           30.05   \n",
       "2            21.7               85         9           100           30.03   \n",
       "3            21.1               82         9           100           30.02   \n",
       "4            21.1               82         7           110           30.03   \n",
       "\n",
       "  SeaLevelPressure Altimeter  \n",
       "0            30.06     30.07  \n",
       "1            30.05     30.06  \n",
       "2            30.03     30.04  \n",
       "3            30.03     30.03  \n",
       "4            30.04     30.04  "
      ]
     },
     "execution_count": 30,
     "metadata": {},
     "output_type": "execute_result"
    }
   ],
   "source": [
    "print(weather.dtypes)\n",
    "weather.head()"
   ]
  },
  {
   "cell_type": "markdown",
   "metadata": {},
   "source": [
    "## 2.3 Removing the M's and casting to numerical. Winddirection to categorical one-hot\n",
    "\n",
    "A lot of numerical values are parsed as an object (see dtypes list above) because they contain some weird \"M\" values.\n",
    "Let's count the M in some of these columns"
   ]
  },
  {
   "cell_type": "code",
   "execution_count": 31,
   "metadata": {},
   "outputs": [
    {
     "name": "stdout",
     "output_type": "stream",
     "text": [
      "unique values:\n",
      "['10.00' ' 8.00' ' 9.00' ' 1.00' ' 2.00' ' 4.00' ' 6.00' ' 7.00' ' 3.00'\n",
      " ' 5.00' ' 0.50' ' 0.75' ' 1.50' ' 1.49' ' 2.50' ' 1.75' ' 1.25' ' 0.25'\n",
      " ' 0.12' ' 0.00' 'M' ' 9.94' '30.00' ' 1.74' 10.0 7.0 1.75 3.0 9.0 6.0 5.0\n",
      " 8.0 4.0 2.0 2.5 0.5 1.5 1.25 1.0 0.75 0.25 0.12 0.0 35.0 ' 10.00' 13.0]\n",
      "number of unique values\n",
      "(46,)\n"
     ]
    }
   ],
   "source": [
    "explore_cat(weather,\"Visibility\") #Here, also note inconsistent data type: ints + strings with leading whitespace"
   ]
  },
  {
   "cell_type": "code",
   "execution_count": 32,
   "metadata": {},
   "outputs": [
    {
     "name": "stdout",
     "output_type": "stream",
     "text": [
      "unique values:\n",
      "['76' '77' '79' '82' '83' '84' '86' '85' '81' '80' '78' '75' '88' '89'\n",
      " '87' '90' '74' '72' '73' '65' '64' '62' '63' '67' '70' '69' '66' '68'\n",
      " '60' '71' '61' '58' '57' '55' '56' '59' '91' '92' '54' '53' '52' '51'\n",
      " '50' '49' 'M' '48' '47' '46' '45' '44' '43' '42' ' -26' '40' '39' '37'\n",
      " '41' '38' '36' '35' '33' '32' '31' '34' '30' '29' '28' '27' '26' '25'\n",
      " '24' '23' '22' '21' '20' '19' '93' '94' '95' '96' '98' '97' '99' ' 100'\n",
      " ' 102' ' 101' '18' '17' '15' '14' '13' '12' '11' '16' '8' '10' ' 103'\n",
      " ' 104' ' 105' ' 106' ' 108' ' 107' ' 109' ' 110' ' 112' ' 113' ' 111'\n",
      " ' 114' ' 115' ' 116' ' 118' ' 117']\n",
      "number of unique values\n",
      "(112,)\n"
     ]
    }
   ],
   "source": [
    "explore_cat(weather,\"DryBulbFarenheit\")"
   ]
  },
  {
   "cell_type": "code",
   "execution_count": 33,
   "metadata": {},
   "outputs": [
    {
     "name": "stdout",
     "output_type": "stream",
     "text": [
      "unique values:\n",
      "['30.07' '30.06' '30.04' '30.03' '30.05' '30.08' '30.10' '30.12' '30.13'\n",
      " '30.09' '30.02' '30.01' '30.00' '29.99' '29.97' '29.98' '29.96' '29.95'\n",
      " '29.94' '29.93' '30.11' '29.88' '29.90' '29.89' '29.92' '29.91' '29.86'\n",
      " '29.83' '29.84' '29.87' '29.85' '30.15' '30.16' '30.14' '30.17' '30.18'\n",
      " '30.19' '30.20' '30.21' '30.22' '30.23' '30.25' '30.26' '30.24' '29.78'\n",
      " '29.81' '29.77' '29.76' '29.75' '29.74' '29.73' '29.72' '29.71' '29.67'\n",
      " '29.66' '29.70' '29.69' 'M' '29.68' '29.79' '29.82' '29.80' '30.29'\n",
      " '30.33' '30.32' '30.31' '30.27' '30.30' '30.28' '29.65' '29.62' '29.59'\n",
      " '29.58' '29.57' '29.63' '29.64' '30.35' '30.36' '30.39' '30.43' '30.45'\n",
      " '30.47' '30.49' '30.48' '30.46' '30.44' '30.42' '30.41' '30.38' '30.34'\n",
      " '30.40' '30.37' '29.61' '30.52' '30.54' '30.55' '30.53' '30.56' '30.51'\n",
      " '30.57' '30.59' '30.60' '30.62' '30.63' '30.61' '30.58' '30.50' '29.60'\n",
      " '29.56' '29.55' '29.54' '29.52' '29.51' '29.50' '29.49' '30.64' '30.66'\n",
      " '30.65' '30.68' '30.69' '30.70' '30.71' '30.72' '30.73' '30.76' '30.77'\n",
      " '30.75' '30.67' '29.53' '29.46' '29.47' '29.45' '29.48' '29.43' '29.41'\n",
      " '29.44' '29.38' '29.42' '29.40' '29.39' '29.37' '29.36' '29.34' '29.33'\n",
      " '29.35' '29.32' '29.31' '29.30' '29.28' '29.26' '29.25' '29.24' '29.21'\n",
      " '29.19' '29.16' '29.14' '29.11' '29.10' '29.09' '29.08' '29.12' '29.17'\n",
      " '29.23' '29.27' '29.18' '29.29' '29.22' '29.13' '29.06' '29.03' '29.01'\n",
      " '29.00' '28.99' '28.98' '28.97' '28.96' '28.95' '28.94' '29.05' '29.07'\n",
      " '29.15' '29.04' '29.02' '29.20']\n",
      "number of unique values\n",
      "(184,)\n"
     ]
    }
   ],
   "source": [
    "explore_cat(weather,'Altimeter')"
   ]
  },
  {
   "cell_type": "code",
   "execution_count": 34,
   "metadata": {},
   "outputs": [
    {
     "name": "stdout",
     "output_type": "stream",
     "text": [
      "Removed 108 in column Visibility\n"
     ]
    },
    {
     "name": "stderr",
     "output_type": "stream",
     "text": [
      "C:\\Users\\gbaeke\\AppData\\Local\\Programs\\Python\\Python35\\lib\\site-packages\\ipykernel_launcher.py:9: SettingWithCopyWarning: \n",
      "A value is trying to be set on a copy of a slice from a DataFrame.\n",
      "Try using .loc[row_indexer,col_indexer] = value instead\n",
      "\n",
      "See the caveats in the documentation: http://pandas.pydata.org/pandas-docs/stable/indexing.html#indexing-view-versus-copy\n",
      "  if __name__ == '__main__':\n"
     ]
    },
    {
     "name": "stdout",
     "output_type": "stream",
     "text": [
      "Removed 221 in column DryBulbFarenheit\n",
      "Removed 0 in column DryBulbCelsius\n",
      "Removed 1202 in column WetBulbFarenheit\n",
      "Removed 0 in column WetBulbCelsius\n",
      "Removed 0 in column DewPointFarenheit\n",
      "Removed 0 in column DewPointCelsius\n",
      "Removed 0 in column RelativeHumidity\n",
      "Removed 41 in column WindSpeed\n",
      "Removed 29 in column WindDirection\n",
      "Removed 0 in column StationPressure\n",
      "Removed 72070 in column SeaLevelPressure\n",
      "Removed 2 in column Altimeter\n",
      "\n",
      "Removed 73673 of 406516\n"
     ]
    }
   ],
   "source": [
    "weather2 = remove_M(weather)"
   ]
  },
  {
   "cell_type": "markdown",
   "metadata": {},
   "source": [
    "**Above function did not remove rows inplace. A lot of 'M' present in SeaLevelPressure Let's remove this column, then move on\n",
    "to removing all rows with an M**  "
   ]
  },
  {
   "cell_type": "code",
   "execution_count": 35,
   "metadata": {
    "collapsed": true
   },
   "outputs": [],
   "source": [
    "weather.drop(columns=[\"SeaLevelPressure\"],inplace=True)"
   ]
  },
  {
   "cell_type": "code",
   "execution_count": 36,
   "metadata": {
    "scrolled": true
   },
   "outputs": [
    {
     "name": "stdout",
     "output_type": "stream",
     "text": [
      "Removed 108 in column Visibility\n"
     ]
    },
    {
     "name": "stderr",
     "output_type": "stream",
     "text": [
      "C:\\Users\\gbaeke\\AppData\\Local\\Programs\\Python\\Python35\\lib\\site-packages\\ipykernel_launcher.py:9: SettingWithCopyWarning: \n",
      "A value is trying to be set on a copy of a slice from a DataFrame.\n",
      "Try using .loc[row_indexer,col_indexer] = value instead\n",
      "\n",
      "See the caveats in the documentation: http://pandas.pydata.org/pandas-docs/stable/indexing.html#indexing-view-versus-copy\n",
      "  if __name__ == '__main__':\n"
     ]
    },
    {
     "name": "stdout",
     "output_type": "stream",
     "text": [
      "Removed 221 in column DryBulbFarenheit\n",
      "Removed 0 in column DryBulbCelsius\n",
      "Removed 1202 in column WetBulbFarenheit\n",
      "Removed 0 in column WetBulbCelsius\n",
      "Removed 0 in column DewPointFarenheit\n",
      "Removed 0 in column DewPointCelsius\n",
      "Removed 0 in column RelativeHumidity\n",
      "Removed 41 in column WindSpeed\n",
      "Removed 29 in column WindDirection\n",
      "Removed 0 in column StationPressure\n",
      "Removed 2 in column Altimeter\n",
      "\n",
      "Removed 1603 of 406516\n"
     ]
    },
    {
     "data": {
      "text/plain": [
       "AirportID              int64\n",
       "Year                   int64\n",
       "Month                  int64\n",
       "Day                    int64\n",
       "Time                   int64\n",
       "TimeZone               int64\n",
       "Visibility           float64\n",
       "DryBulbFarenheit     float64\n",
       "DryBulbCelsius       float64\n",
       "WetBulbFarenheit     float64\n",
       "WetBulbCelsius       float64\n",
       "DewPointFarenheit    float64\n",
       "DewPointCelsius      float64\n",
       "RelativeHumidity     float64\n",
       "WindSpeed             object\n",
       "WindDirection         object\n",
       "StationPressure      float64\n",
       "Altimeter            float64\n",
       "dtype: object"
      ]
     },
     "execution_count": 36,
     "metadata": {},
     "output_type": "execute_result"
    }
   ],
   "source": [
    "weather = remove_M(weather)\n",
    "weather.dtypes"
   ]
  },
  {
   "cell_type": "markdown",
   "metadata": {},
   "source": [
    "**apparently, some columns still have weird strings as value. Also, windspeed contains inconsistent data types (int, strings, even strings with leading whitespace...**"
   ]
  },
  {
   "cell_type": "code",
   "execution_count": 37,
   "metadata": {},
   "outputs": [
    {
     "name": "stdout",
     "output_type": "stream",
     "text": [
      "unique values:\n",
      "['13' '10' ' 9' ' 7' '14' '16' '17' '20' '18' '15' '11' ' 5' ' 6' ' 3'\n",
      " ' 8' ' 0' '21' '22' '23' '24' '26' '25' '30' '29' '32' '34' '40' '37'\n",
      " '28' '31' '44' '39' '33' '38' '36' '43' '41' '45' '53' '  ' '46' '51'\n",
      " '47' '62' 0 6 3 5 7 8 10 9 11 13 15 14 16 18 20 17 21 22 23 24 26 25 31\n",
      " 30 33 28 29 36]\n",
      "number of unique values\n",
      "(72,)\n"
     ]
    }
   ],
   "source": [
    "explore_cat(weather,\"WindSpeed\")"
   ]
  },
  {
   "cell_type": "code",
   "execution_count": 38,
   "metadata": {},
   "outputs": [
    {
     "data": {
      "text/plain": [
       "3"
      ]
     },
     "execution_count": 38,
     "metadata": {},
     "output_type": "execute_result"
    }
   ],
   "source": [
    "weather[weather[\"WindSpeed\"] == '  '][\"WindSpeed\"].count()\n"
   ]
  },
  {
   "cell_type": "code",
   "execution_count": 39,
   "metadata": {},
   "outputs": [
    {
     "data": {
      "text/plain": [
       "3233"
      ]
     },
     "execution_count": 39,
     "metadata": {},
     "output_type": "execute_result"
    }
   ],
   "source": [
    "weather[weather[\"WindSpeed\"] == 0][\"WindSpeed\"].count()"
   ]
  },
  {
   "cell_type": "markdown",
   "metadata": {},
   "source": [
    "**Winddirection has some value 'VR' that appears an amount of times that is not negligible. Let's pack this value in a categorical one-hot encoded one where VR remains represented. All can be simply casted to int, even if there is whitespace**"
   ]
  },
  {
   "cell_type": "code",
   "execution_count": 40,
   "metadata": {
    "collapsed": true
   },
   "outputs": [],
   "source": [
    "weather = weather[weather[\"WindSpeed\"] != '  ']\n",
    "weather[\"WindSpeed\"] = weather[\"WindSpeed\"].astype(np.int64)"
   ]
  },
  {
   "cell_type": "code",
   "execution_count": 41,
   "metadata": {},
   "outputs": [
    {
     "name": "stdout",
     "output_type": "stream",
     "text": [
      "unique values:\n",
      "['080' '090' '100' '110' '070' '000' '130' '150' '160' '120' '170' '180'\n",
      " '060' '230' '200' '050' 'VR ' '140' '210' '290' '190' '030' '040' '020'\n",
      " '010' '360' '220' '260' '250' '270' '280' '300' '320' '340' '350' '310'\n",
      " '240' '330' '239']\n",
      "number of unique values\n",
      "(39,)\n"
     ]
    }
   ],
   "source": [
    "explore_cat(weather2,\"WindDirection\")"
   ]
  },
  {
   "cell_type": "code",
   "execution_count": 42,
   "metadata": {},
   "outputs": [
    {
     "data": {
      "text/plain": [
       "11274"
      ]
     },
     "execution_count": 42,
     "metadata": {},
     "output_type": "execute_result"
    }
   ],
   "source": [
    "weather[weather[\"WindDirection\"] == 'VR '][\"WindSpeed\"].count()"
   ]
  },
  {
   "cell_type": "code",
   "execution_count": 43,
   "metadata": {
    "collapsed": true
   },
   "outputs": [],
   "source": [
    "direction_categories = [0,40,80,120,160,200,240,280,320,360]\n",
    "def check_cat(x,cat):\n",
    "    try: #try-catch block because VR cannot be compared to int.\n",
    "        if int(x)>cat-20 and int(x)<=cat+20:\n",
    "            return 1\n",
    "        else:\n",
    "            return 0\n",
    "    except:\n",
    "        return 0\n",
    "    \n",
    "weather[\"dir_VR\"] = weather[\"WindDirection\"].apply(lambda x: 1 if x == 'VR ' else 0)\n",
    "for cat in direction_categories:\n",
    "    weather[\"dir_{0}\".format(cat)] = weather[\"WindDirection\"].apply(lambda x: check_cat(x,cat))\n",
    "weather.drop(columns=[\"WindDirection\"],inplace=True)"
   ]
  },
  {
   "cell_type": "code",
   "execution_count": 44,
   "metadata": {},
   "outputs": [
    {
     "data": {
      "text/html": [
       "<div>\n",
       "<style scoped>\n",
       "    .dataframe tbody tr th:only-of-type {\n",
       "        vertical-align: middle;\n",
       "    }\n",
       "\n",
       "    .dataframe tbody tr th {\n",
       "        vertical-align: top;\n",
       "    }\n",
       "\n",
       "    .dataframe thead th {\n",
       "        text-align: right;\n",
       "    }\n",
       "</style>\n",
       "<table border=\"1\" class=\"dataframe\">\n",
       "  <thead>\n",
       "    <tr style=\"text-align: right;\">\n",
       "      <th></th>\n",
       "      <th>AirportID</th>\n",
       "      <th>Year</th>\n",
       "      <th>Month</th>\n",
       "      <th>Day</th>\n",
       "      <th>Time</th>\n",
       "      <th>TimeZone</th>\n",
       "      <th>Visibility</th>\n",
       "      <th>DryBulbFarenheit</th>\n",
       "      <th>DryBulbCelsius</th>\n",
       "      <th>WetBulbFarenheit</th>\n",
       "      <th>...</th>\n",
       "      <th>dir_0</th>\n",
       "      <th>dir_40</th>\n",
       "      <th>dir_80</th>\n",
       "      <th>dir_120</th>\n",
       "      <th>dir_160</th>\n",
       "      <th>dir_200</th>\n",
       "      <th>dir_240</th>\n",
       "      <th>dir_280</th>\n",
       "      <th>dir_320</th>\n",
       "      <th>dir_360</th>\n",
       "    </tr>\n",
       "  </thead>\n",
       "  <tbody>\n",
       "    <tr>\n",
       "      <th>0</th>\n",
       "      <td>14843</td>\n",
       "      <td>2013</td>\n",
       "      <td>4</td>\n",
       "      <td>1</td>\n",
       "      <td>56</td>\n",
       "      <td>-4</td>\n",
       "      <td>10.0</td>\n",
       "      <td>76.0</td>\n",
       "      <td>24.4</td>\n",
       "      <td>74.0</td>\n",
       "      <td>...</td>\n",
       "      <td>0</td>\n",
       "      <td>0</td>\n",
       "      <td>1</td>\n",
       "      <td>0</td>\n",
       "      <td>0</td>\n",
       "      <td>0</td>\n",
       "      <td>0</td>\n",
       "      <td>0</td>\n",
       "      <td>0</td>\n",
       "      <td>0</td>\n",
       "    </tr>\n",
       "    <tr>\n",
       "      <th>1</th>\n",
       "      <td>14843</td>\n",
       "      <td>2013</td>\n",
       "      <td>4</td>\n",
       "      <td>1</td>\n",
       "      <td>156</td>\n",
       "      <td>-4</td>\n",
       "      <td>10.0</td>\n",
       "      <td>76.0</td>\n",
       "      <td>24.4</td>\n",
       "      <td>73.0</td>\n",
       "      <td>...</td>\n",
       "      <td>0</td>\n",
       "      <td>0</td>\n",
       "      <td>1</td>\n",
       "      <td>0</td>\n",
       "      <td>0</td>\n",
       "      <td>0</td>\n",
       "      <td>0</td>\n",
       "      <td>0</td>\n",
       "      <td>0</td>\n",
       "      <td>0</td>\n",
       "    </tr>\n",
       "    <tr>\n",
       "      <th>2</th>\n",
       "      <td>14843</td>\n",
       "      <td>2013</td>\n",
       "      <td>4</td>\n",
       "      <td>1</td>\n",
       "      <td>256</td>\n",
       "      <td>-4</td>\n",
       "      <td>10.0</td>\n",
       "      <td>76.0</td>\n",
       "      <td>24.4</td>\n",
       "      <td>73.0</td>\n",
       "      <td>...</td>\n",
       "      <td>0</td>\n",
       "      <td>0</td>\n",
       "      <td>1</td>\n",
       "      <td>0</td>\n",
       "      <td>0</td>\n",
       "      <td>0</td>\n",
       "      <td>0</td>\n",
       "      <td>0</td>\n",
       "      <td>0</td>\n",
       "      <td>0</td>\n",
       "    </tr>\n",
       "    <tr>\n",
       "      <th>3</th>\n",
       "      <td>14843</td>\n",
       "      <td>2013</td>\n",
       "      <td>4</td>\n",
       "      <td>1</td>\n",
       "      <td>356</td>\n",
       "      <td>-4</td>\n",
       "      <td>10.0</td>\n",
       "      <td>76.0</td>\n",
       "      <td>24.4</td>\n",
       "      <td>72.0</td>\n",
       "      <td>...</td>\n",
       "      <td>0</td>\n",
       "      <td>0</td>\n",
       "      <td>1</td>\n",
       "      <td>0</td>\n",
       "      <td>0</td>\n",
       "      <td>0</td>\n",
       "      <td>0</td>\n",
       "      <td>0</td>\n",
       "      <td>0</td>\n",
       "      <td>0</td>\n",
       "    </tr>\n",
       "    <tr>\n",
       "      <th>4</th>\n",
       "      <td>14843</td>\n",
       "      <td>2013</td>\n",
       "      <td>4</td>\n",
       "      <td>1</td>\n",
       "      <td>456</td>\n",
       "      <td>-4</td>\n",
       "      <td>10.0</td>\n",
       "      <td>76.0</td>\n",
       "      <td>24.4</td>\n",
       "      <td>72.0</td>\n",
       "      <td>...</td>\n",
       "      <td>0</td>\n",
       "      <td>0</td>\n",
       "      <td>0</td>\n",
       "      <td>1</td>\n",
       "      <td>0</td>\n",
       "      <td>0</td>\n",
       "      <td>0</td>\n",
       "      <td>0</td>\n",
       "      <td>0</td>\n",
       "      <td>0</td>\n",
       "    </tr>\n",
       "  </tbody>\n",
       "</table>\n",
       "<p>5 rows × 28 columns</p>\n",
       "</div>"
      ],
      "text/plain": [
       "   AirportID  Year  Month  Day  Time  TimeZone  Visibility  DryBulbFarenheit  \\\n",
       "0      14843  2013      4    1    56        -4        10.0              76.0   \n",
       "1      14843  2013      4    1   156        -4        10.0              76.0   \n",
       "2      14843  2013      4    1   256        -4        10.0              76.0   \n",
       "3      14843  2013      4    1   356        -4        10.0              76.0   \n",
       "4      14843  2013      4    1   456        -4        10.0              76.0   \n",
       "\n",
       "   DryBulbCelsius  WetBulbFarenheit   ...     dir_0  dir_40  dir_80  dir_120  \\\n",
       "0            24.4              74.0   ...         0       0       1        0   \n",
       "1            24.4              73.0   ...         0       0       1        0   \n",
       "2            24.4              73.0   ...         0       0       1        0   \n",
       "3            24.4              72.0   ...         0       0       1        0   \n",
       "4            24.4              72.0   ...         0       0       0        1   \n",
       "\n",
       "   dir_160  dir_200  dir_240  dir_280  dir_320  dir_360  \n",
       "0        0        0        0        0        0        0  \n",
       "1        0        0        0        0        0        0  \n",
       "2        0        0        0        0        0        0  \n",
       "3        0        0        0        0        0        0  \n",
       "4        0        0        0        0        0        0  \n",
       "\n",
       "[5 rows x 28 columns]"
      ]
     },
     "execution_count": 44,
     "metadata": {},
     "output_type": "execute_result"
    }
   ],
   "source": [
    "weather.head()"
   ]
  },
  {
   "cell_type": "code",
   "execution_count": 45,
   "metadata": {
    "scrolled": true
   },
   "outputs": [
    {
     "data": {
      "text/plain": [
       "AirportID              int64\n",
       "Year                   int64\n",
       "Month                  int64\n",
       "Day                    int64\n",
       "Time                   int64\n",
       "TimeZone               int64\n",
       "Visibility           float64\n",
       "DryBulbFarenheit     float64\n",
       "DryBulbCelsius       float64\n",
       "WetBulbFarenheit     float64\n",
       "WetBulbCelsius       float64\n",
       "DewPointFarenheit    float64\n",
       "DewPointCelsius      float64\n",
       "RelativeHumidity     float64\n",
       "WindSpeed              int64\n",
       "StationPressure      float64\n",
       "Altimeter            float64\n",
       "dir_VR                 int64\n",
       "dir_0                  int64\n",
       "dir_40                 int64\n",
       "dir_80                 int64\n",
       "dir_120                int64\n",
       "dir_160                int64\n",
       "dir_200                int64\n",
       "dir_240                int64\n",
       "dir_280                int64\n",
       "dir_320                int64\n",
       "dir_360                int64\n",
       "dtype: object"
      ]
     },
     "execution_count": 45,
     "metadata": {},
     "output_type": "execute_result"
    }
   ],
   "source": [
    "weather.dtypes"
   ]
  },
  {
   "cell_type": "markdown",
   "metadata": {},
   "source": [
    "## 2.4 Handling time\n",
    "\n",
    "We round time to nearest hour. Time of weather data is rounded UP and time of flight data is rounded DOWN, to make sure that weather conditions after the flight departure/arrival are not a deciding factor. We create a datetime string \"YYYY-M-D-H\". \n",
    "\n",
    "**timezone?** According to docs: \"the weather data is reported in local time\". We will leave this in local time and use this to join it to the delay data, where arrival and departure times are also in local times."
   ]
  },
  {
   "cell_type": "code",
   "execution_count": 46,
   "metadata": {},
   "outputs": [
    {
     "name": "stdout",
     "output_type": "stream",
     "text": [
      "unique values:\n",
      "[2013]\n",
      "number of unique values\n",
      "(1,)\n"
     ]
    }
   ],
   "source": [
    "explore_cat(weather,'Year')"
   ]
  },
  {
   "cell_type": "code",
   "execution_count": 47,
   "metadata": {},
   "outputs": [
    {
     "name": "stdout",
     "output_type": "stream",
     "text": [
      "unique values:\n",
      "[ 4  5  6  7  8  9 10]\n",
      "number of unique values\n",
      "(7,)\n"
     ]
    }
   ],
   "source": [
    "explore_cat(weather,'Month')"
   ]
  },
  {
   "cell_type": "code",
   "execution_count": 48,
   "metadata": {},
   "outputs": [
    {
     "name": "stdout",
     "output_type": "stream",
     "text": [
      "unique values:\n",
      "[ 1  2  3  4  5  6  7  8  9 10 11 12 13 14 15 16 17 18 19 20 21 22 23 24\n",
      " 25 26 27 28 29 30 31]\n",
      "number of unique values\n",
      "(31,)\n"
     ]
    }
   ],
   "source": [
    "explore_cat(weather,'Day')"
   ]
  },
  {
   "cell_type": "code",
   "execution_count": 49,
   "metadata": {
    "scrolled": true
   },
   "outputs": [
    {
     "data": {
      "text/plain": [
       "AirportID              int64\n",
       "Year                   int64\n",
       "Month                  int64\n",
       "Day                    int64\n",
       "Time                   int64\n",
       "TimeZone               int64\n",
       "Visibility           float64\n",
       "DryBulbFarenheit     float64\n",
       "DryBulbCelsius       float64\n",
       "WetBulbFarenheit     float64\n",
       "WetBulbCelsius       float64\n",
       "DewPointFarenheit    float64\n",
       "DewPointCelsius      float64\n",
       "RelativeHumidity     float64\n",
       "WindSpeed              int64\n",
       "StationPressure      float64\n",
       "Altimeter            float64\n",
       "dir_VR                 int64\n",
       "dir_0                  int64\n",
       "dir_40                 int64\n",
       "dir_80                 int64\n",
       "dir_120                int64\n",
       "dir_160                int64\n",
       "dir_200                int64\n",
       "dir_240                int64\n",
       "dir_280                int64\n",
       "dir_320                int64\n",
       "dir_360                int64\n",
       "dtype: object"
      ]
     },
     "execution_count": 49,
     "metadata": {},
     "output_type": "execute_result"
    }
   ],
   "source": [
    "weather.dtypes"
   ]
  },
  {
   "cell_type": "code",
   "execution_count": 50,
   "metadata": {},
   "outputs": [
    {
     "name": "stdout",
     "output_type": "stream",
     "text": [
      "unique values:\n",
      "[  56  156  256 ... 2118 1601 2257]\n",
      "number of unique values\n",
      "(1440,)\n"
     ]
    }
   ],
   "source": [
    "explore_cat(weather,'Time')"
   ]
  },
  {
   "cell_type": "code",
   "execution_count": 51,
   "metadata": {
    "collapsed": true
   },
   "outputs": [],
   "source": [
    "weather[\"hour\"] = weather[\"Time\"].apply(lambda x: hhmm_to_h(x,mode='up'))"
   ]
  },
  {
   "cell_type": "code",
   "execution_count": 52,
   "metadata": {
    "collapsed": true
   },
   "outputs": [],
   "source": [
    "weather[\"datetime\"] = weather[\"Year\"].astype(str)+'-'+weather[\"Month\"].astype(str)+'-'+weather[\"Day\"].astype(str)+'-'+weather[\"hour\"].astype(str)"
   ]
  },
  {
   "cell_type": "code",
   "execution_count": 53,
   "metadata": {
    "scrolled": true
   },
   "outputs": [
    {
     "data": {
      "text/plain": [
       "AirportID              int64\n",
       "Year                   int64\n",
       "Month                  int64\n",
       "Day                    int64\n",
       "Time                   int64\n",
       "TimeZone               int64\n",
       "Visibility           float64\n",
       "DryBulbFarenheit     float64\n",
       "DryBulbCelsius       float64\n",
       "WetBulbFarenheit     float64\n",
       "WetBulbCelsius       float64\n",
       "DewPointFarenheit    float64\n",
       "DewPointCelsius      float64\n",
       "RelativeHumidity     float64\n",
       "WindSpeed              int64\n",
       "StationPressure      float64\n",
       "Altimeter            float64\n",
       "dir_VR                 int64\n",
       "dir_0                  int64\n",
       "dir_40                 int64\n",
       "dir_80                 int64\n",
       "dir_120                int64\n",
       "dir_160                int64\n",
       "dir_200                int64\n",
       "dir_240                int64\n",
       "dir_280                int64\n",
       "dir_320                int64\n",
       "dir_360                int64\n",
       "hour                   int64\n",
       "datetime              object\n",
       "dtype: object"
      ]
     },
     "execution_count": 53,
     "metadata": {},
     "output_type": "execute_result"
    }
   ],
   "source": [
    "weather.dtypes"
   ]
  },
  {
   "cell_type": "code",
   "execution_count": 54,
   "metadata": {},
   "outputs": [
    {
     "data": {
      "text/html": [
       "<div>\n",
       "<style scoped>\n",
       "    .dataframe tbody tr th:only-of-type {\n",
       "        vertical-align: middle;\n",
       "    }\n",
       "\n",
       "    .dataframe tbody tr th {\n",
       "        vertical-align: top;\n",
       "    }\n",
       "\n",
       "    .dataframe thead th {\n",
       "        text-align: right;\n",
       "    }\n",
       "</style>\n",
       "<table border=\"1\" class=\"dataframe\">\n",
       "  <thead>\n",
       "    <tr style=\"text-align: right;\">\n",
       "      <th></th>\n",
       "      <th>AirportID</th>\n",
       "      <th>Year</th>\n",
       "      <th>Month</th>\n",
       "      <th>Day</th>\n",
       "      <th>Time</th>\n",
       "      <th>TimeZone</th>\n",
       "      <th>Visibility</th>\n",
       "      <th>DryBulbFarenheit</th>\n",
       "      <th>DryBulbCelsius</th>\n",
       "      <th>WetBulbFarenheit</th>\n",
       "      <th>...</th>\n",
       "      <th>dir_80</th>\n",
       "      <th>dir_120</th>\n",
       "      <th>dir_160</th>\n",
       "      <th>dir_200</th>\n",
       "      <th>dir_240</th>\n",
       "      <th>dir_280</th>\n",
       "      <th>dir_320</th>\n",
       "      <th>dir_360</th>\n",
       "      <th>hour</th>\n",
       "      <th>datetime</th>\n",
       "    </tr>\n",
       "  </thead>\n",
       "  <tbody>\n",
       "    <tr>\n",
       "      <th>0</th>\n",
       "      <td>14843</td>\n",
       "      <td>2013</td>\n",
       "      <td>4</td>\n",
       "      <td>1</td>\n",
       "      <td>56</td>\n",
       "      <td>-4</td>\n",
       "      <td>10.0</td>\n",
       "      <td>76.0</td>\n",
       "      <td>24.4</td>\n",
       "      <td>74.0</td>\n",
       "      <td>...</td>\n",
       "      <td>1</td>\n",
       "      <td>0</td>\n",
       "      <td>0</td>\n",
       "      <td>0</td>\n",
       "      <td>0</td>\n",
       "      <td>0</td>\n",
       "      <td>0</td>\n",
       "      <td>0</td>\n",
       "      <td>1</td>\n",
       "      <td>2013-4-1-1</td>\n",
       "    </tr>\n",
       "    <tr>\n",
       "      <th>1</th>\n",
       "      <td>14843</td>\n",
       "      <td>2013</td>\n",
       "      <td>4</td>\n",
       "      <td>1</td>\n",
       "      <td>156</td>\n",
       "      <td>-4</td>\n",
       "      <td>10.0</td>\n",
       "      <td>76.0</td>\n",
       "      <td>24.4</td>\n",
       "      <td>73.0</td>\n",
       "      <td>...</td>\n",
       "      <td>1</td>\n",
       "      <td>0</td>\n",
       "      <td>0</td>\n",
       "      <td>0</td>\n",
       "      <td>0</td>\n",
       "      <td>0</td>\n",
       "      <td>0</td>\n",
       "      <td>0</td>\n",
       "      <td>2</td>\n",
       "      <td>2013-4-1-2</td>\n",
       "    </tr>\n",
       "    <tr>\n",
       "      <th>2</th>\n",
       "      <td>14843</td>\n",
       "      <td>2013</td>\n",
       "      <td>4</td>\n",
       "      <td>1</td>\n",
       "      <td>256</td>\n",
       "      <td>-4</td>\n",
       "      <td>10.0</td>\n",
       "      <td>76.0</td>\n",
       "      <td>24.4</td>\n",
       "      <td>73.0</td>\n",
       "      <td>...</td>\n",
       "      <td>1</td>\n",
       "      <td>0</td>\n",
       "      <td>0</td>\n",
       "      <td>0</td>\n",
       "      <td>0</td>\n",
       "      <td>0</td>\n",
       "      <td>0</td>\n",
       "      <td>0</td>\n",
       "      <td>3</td>\n",
       "      <td>2013-4-1-3</td>\n",
       "    </tr>\n",
       "    <tr>\n",
       "      <th>3</th>\n",
       "      <td>14843</td>\n",
       "      <td>2013</td>\n",
       "      <td>4</td>\n",
       "      <td>1</td>\n",
       "      <td>356</td>\n",
       "      <td>-4</td>\n",
       "      <td>10.0</td>\n",
       "      <td>76.0</td>\n",
       "      <td>24.4</td>\n",
       "      <td>72.0</td>\n",
       "      <td>...</td>\n",
       "      <td>1</td>\n",
       "      <td>0</td>\n",
       "      <td>0</td>\n",
       "      <td>0</td>\n",
       "      <td>0</td>\n",
       "      <td>0</td>\n",
       "      <td>0</td>\n",
       "      <td>0</td>\n",
       "      <td>4</td>\n",
       "      <td>2013-4-1-4</td>\n",
       "    </tr>\n",
       "    <tr>\n",
       "      <th>4</th>\n",
       "      <td>14843</td>\n",
       "      <td>2013</td>\n",
       "      <td>4</td>\n",
       "      <td>1</td>\n",
       "      <td>456</td>\n",
       "      <td>-4</td>\n",
       "      <td>10.0</td>\n",
       "      <td>76.0</td>\n",
       "      <td>24.4</td>\n",
       "      <td>72.0</td>\n",
       "      <td>...</td>\n",
       "      <td>0</td>\n",
       "      <td>1</td>\n",
       "      <td>0</td>\n",
       "      <td>0</td>\n",
       "      <td>0</td>\n",
       "      <td>0</td>\n",
       "      <td>0</td>\n",
       "      <td>0</td>\n",
       "      <td>5</td>\n",
       "      <td>2013-4-1-5</td>\n",
       "    </tr>\n",
       "  </tbody>\n",
       "</table>\n",
       "<p>5 rows × 30 columns</p>\n",
       "</div>"
      ],
      "text/plain": [
       "   AirportID  Year  Month  Day  Time  TimeZone  Visibility  DryBulbFarenheit  \\\n",
       "0      14843  2013      4    1    56        -4        10.0              76.0   \n",
       "1      14843  2013      4    1   156        -4        10.0              76.0   \n",
       "2      14843  2013      4    1   256        -4        10.0              76.0   \n",
       "3      14843  2013      4    1   356        -4        10.0              76.0   \n",
       "4      14843  2013      4    1   456        -4        10.0              76.0   \n",
       "\n",
       "   DryBulbCelsius  WetBulbFarenheit     ...      dir_80  dir_120  dir_160  \\\n",
       "0            24.4              74.0     ...           1        0        0   \n",
       "1            24.4              73.0     ...           1        0        0   \n",
       "2            24.4              73.0     ...           1        0        0   \n",
       "3            24.4              72.0     ...           1        0        0   \n",
       "4            24.4              72.0     ...           0        1        0   \n",
       "\n",
       "   dir_200  dir_240  dir_280  dir_320  dir_360  hour    datetime  \n",
       "0        0        0        0        0        0     1  2013-4-1-1  \n",
       "1        0        0        0        0        0     2  2013-4-1-2  \n",
       "2        0        0        0        0        0     3  2013-4-1-3  \n",
       "3        0        0        0        0        0     4  2013-4-1-4  \n",
       "4        0        0        0        0        0     5  2013-4-1-5  \n",
       "\n",
       "[5 rows x 30 columns]"
      ]
     },
     "execution_count": 54,
     "metadata": {},
     "output_type": "execute_result"
    }
   ],
   "source": [
    "weather.head()"
   ]
  },
  {
   "cell_type": "markdown",
   "metadata": {
    "collapsed": true
   },
   "source": [
    "# 3 Cleaning delay data"
   ]
  },
  {
   "cell_type": "markdown",
   "metadata": {},
   "source": [
    "## 3.1 One-hot encode Carrier, drop a column, handle time"
   ]
  },
  {
   "cell_type": "code",
   "execution_count": 55,
   "metadata": {},
   "outputs": [
    {
     "data": {
      "text/html": [
       "<div>\n",
       "<style scoped>\n",
       "    .dataframe tbody tr th:only-of-type {\n",
       "        vertical-align: middle;\n",
       "    }\n",
       "\n",
       "    .dataframe tbody tr th {\n",
       "        vertical-align: top;\n",
       "    }\n",
       "\n",
       "    .dataframe thead th {\n",
       "        text-align: right;\n",
       "    }\n",
       "</style>\n",
       "<table border=\"1\" class=\"dataframe\">\n",
       "  <thead>\n",
       "    <tr style=\"text-align: right;\">\n",
       "      <th></th>\n",
       "      <th>Year</th>\n",
       "      <th>Month</th>\n",
       "      <th>DayofMonth</th>\n",
       "      <th>DayOfWeek</th>\n",
       "      <th>Carrier</th>\n",
       "      <th>OriginAirportID</th>\n",
       "      <th>DestAirportID</th>\n",
       "      <th>CRSDepTime</th>\n",
       "      <th>DepDelay</th>\n",
       "      <th>DepDel15</th>\n",
       "      <th>CRSArrTime</th>\n",
       "      <th>ArrDelay</th>\n",
       "      <th>ArrDel15</th>\n",
       "      <th>Cancelled</th>\n",
       "    </tr>\n",
       "  </thead>\n",
       "  <tbody>\n",
       "    <tr>\n",
       "      <th>0</th>\n",
       "      <td>2013</td>\n",
       "      <td>4</td>\n",
       "      <td>19</td>\n",
       "      <td>5</td>\n",
       "      <td>DL</td>\n",
       "      <td>11433</td>\n",
       "      <td>13303</td>\n",
       "      <td>837</td>\n",
       "      <td>-3.0</td>\n",
       "      <td>0.0</td>\n",
       "      <td>1138</td>\n",
       "      <td>1.0</td>\n",
       "      <td>0.0</td>\n",
       "      <td>0.0</td>\n",
       "    </tr>\n",
       "    <tr>\n",
       "      <th>1</th>\n",
       "      <td>2013</td>\n",
       "      <td>4</td>\n",
       "      <td>19</td>\n",
       "      <td>5</td>\n",
       "      <td>DL</td>\n",
       "      <td>14869</td>\n",
       "      <td>12478</td>\n",
       "      <td>1705</td>\n",
       "      <td>0.0</td>\n",
       "      <td>0.0</td>\n",
       "      <td>2336</td>\n",
       "      <td>-8.0</td>\n",
       "      <td>0.0</td>\n",
       "      <td>0.0</td>\n",
       "    </tr>\n",
       "    <tr>\n",
       "      <th>2</th>\n",
       "      <td>2013</td>\n",
       "      <td>4</td>\n",
       "      <td>19</td>\n",
       "      <td>5</td>\n",
       "      <td>DL</td>\n",
       "      <td>14057</td>\n",
       "      <td>14869</td>\n",
       "      <td>600</td>\n",
       "      <td>-4.0</td>\n",
       "      <td>0.0</td>\n",
       "      <td>851</td>\n",
       "      <td>-15.0</td>\n",
       "      <td>0.0</td>\n",
       "      <td>0.0</td>\n",
       "    </tr>\n",
       "    <tr>\n",
       "      <th>3</th>\n",
       "      <td>2013</td>\n",
       "      <td>4</td>\n",
       "      <td>19</td>\n",
       "      <td>5</td>\n",
       "      <td>DL</td>\n",
       "      <td>15016</td>\n",
       "      <td>11433</td>\n",
       "      <td>1630</td>\n",
       "      <td>28.0</td>\n",
       "      <td>1.0</td>\n",
       "      <td>1903</td>\n",
       "      <td>24.0</td>\n",
       "      <td>1.0</td>\n",
       "      <td>0.0</td>\n",
       "    </tr>\n",
       "    <tr>\n",
       "      <th>4</th>\n",
       "      <td>2013</td>\n",
       "      <td>4</td>\n",
       "      <td>19</td>\n",
       "      <td>5</td>\n",
       "      <td>DL</td>\n",
       "      <td>11193</td>\n",
       "      <td>12892</td>\n",
       "      <td>1615</td>\n",
       "      <td>-6.0</td>\n",
       "      <td>0.0</td>\n",
       "      <td>1805</td>\n",
       "      <td>-11.0</td>\n",
       "      <td>0.0</td>\n",
       "      <td>0.0</td>\n",
       "    </tr>\n",
       "  </tbody>\n",
       "</table>\n",
       "</div>"
      ],
      "text/plain": [
       "   Year  Month  DayofMonth  DayOfWeek Carrier  OriginAirportID  DestAirportID  \\\n",
       "0  2013      4          19          5      DL            11433          13303   \n",
       "1  2013      4          19          5      DL            14869          12478   \n",
       "2  2013      4          19          5      DL            14057          14869   \n",
       "3  2013      4          19          5      DL            15016          11433   \n",
       "4  2013      4          19          5      DL            11193          12892   \n",
       "\n",
       "   CRSDepTime  DepDelay  DepDel15  CRSArrTime  ArrDelay  ArrDel15  Cancelled  \n",
       "0         837      -3.0       0.0        1138       1.0       0.0        0.0  \n",
       "1        1705       0.0       0.0        2336      -8.0       0.0        0.0  \n",
       "2         600      -4.0       0.0         851     -15.0       0.0        0.0  \n",
       "3        1630      28.0       1.0        1903      24.0       1.0        0.0  \n",
       "4        1615      -6.0       0.0        1805     -11.0       0.0        0.0  "
      ]
     },
     "execution_count": 55,
     "metadata": {},
     "output_type": "execute_result"
    }
   ],
   "source": [
    "delays.head()"
   ]
  },
  {
   "cell_type": "code",
   "execution_count": 56,
   "metadata": {},
   "outputs": [
    {
     "name": "stdout",
     "output_type": "stream",
     "text": [
      "unique values:\n",
      "['DL' 'AA' 'EV' 'B6' 'F9' 'FL' 'HA' 'MQ' '9E' 'AS' 'US' 'UA' 'VX' 'WN'\n",
      " 'YV' 'OO']\n",
      "number of unique values\n",
      "(16,)\n"
     ]
    }
   ],
   "source": [
    "explore_cat(delays,\"Carrier\")"
   ]
  },
  {
   "cell_type": "code",
   "execution_count": 57,
   "metadata": {
    "collapsed": true
   },
   "outputs": [],
   "source": [
    "delays.drop(columns = \"DayOfWeek\",inplace=True)"
   ]
  },
  {
   "cell_type": "code",
   "execution_count": 58,
   "metadata": {
    "collapsed": true
   },
   "outputs": [],
   "source": [
    "delays[\"Dep_hour\"] = delays[\"CRSDepTime\"].apply(lambda x: hhmm_to_h(x,mode=\"down\"))\n",
    "delays[\"Arr_hour\"] = delays[\"CRSArrTime\"].apply(lambda x: hhmm_to_h(x,mode=\"down\"))"
   ]
  },
  {
   "cell_type": "code",
   "execution_count": 59,
   "metadata": {
    "collapsed": true
   },
   "outputs": [],
   "source": [
    "one_hot(delays,[\"Carrier\"])"
   ]
  },
  {
   "cell_type": "code",
   "execution_count": 60,
   "metadata": {},
   "outputs": [
    {
     "data": {
      "text/html": [
       "<div>\n",
       "<style scoped>\n",
       "    .dataframe tbody tr th:only-of-type {\n",
       "        vertical-align: middle;\n",
       "    }\n",
       "\n",
       "    .dataframe tbody tr th {\n",
       "        vertical-align: top;\n",
       "    }\n",
       "\n",
       "    .dataframe thead th {\n",
       "        text-align: right;\n",
       "    }\n",
       "</style>\n",
       "<table border=\"1\" class=\"dataframe\">\n",
       "  <thead>\n",
       "    <tr style=\"text-align: right;\">\n",
       "      <th></th>\n",
       "      <th>Year</th>\n",
       "      <th>Month</th>\n",
       "      <th>DayofMonth</th>\n",
       "      <th>OriginAirportID</th>\n",
       "      <th>DestAirportID</th>\n",
       "      <th>CRSDepTime</th>\n",
       "      <th>DepDelay</th>\n",
       "      <th>DepDel15</th>\n",
       "      <th>CRSArrTime</th>\n",
       "      <th>ArrDelay</th>\n",
       "      <th>...</th>\n",
       "      <th>Carrier_6</th>\n",
       "      <th>Carrier_7</th>\n",
       "      <th>Carrier_8</th>\n",
       "      <th>Carrier_9</th>\n",
       "      <th>Carrier_10</th>\n",
       "      <th>Carrier_11</th>\n",
       "      <th>Carrier_12</th>\n",
       "      <th>Carrier_13</th>\n",
       "      <th>Carrier_14</th>\n",
       "      <th>Carrier_15</th>\n",
       "    </tr>\n",
       "  </thead>\n",
       "  <tbody>\n",
       "    <tr>\n",
       "      <th>0</th>\n",
       "      <td>2013</td>\n",
       "      <td>4</td>\n",
       "      <td>19</td>\n",
       "      <td>11433</td>\n",
       "      <td>13303</td>\n",
       "      <td>837</td>\n",
       "      <td>-3.0</td>\n",
       "      <td>0.0</td>\n",
       "      <td>1138</td>\n",
       "      <td>1.0</td>\n",
       "      <td>...</td>\n",
       "      <td>0</td>\n",
       "      <td>0</td>\n",
       "      <td>0</td>\n",
       "      <td>0</td>\n",
       "      <td>0</td>\n",
       "      <td>0</td>\n",
       "      <td>0</td>\n",
       "      <td>0</td>\n",
       "      <td>0</td>\n",
       "      <td>0</td>\n",
       "    </tr>\n",
       "    <tr>\n",
       "      <th>1</th>\n",
       "      <td>2013</td>\n",
       "      <td>4</td>\n",
       "      <td>19</td>\n",
       "      <td>14869</td>\n",
       "      <td>12478</td>\n",
       "      <td>1705</td>\n",
       "      <td>0.0</td>\n",
       "      <td>0.0</td>\n",
       "      <td>2336</td>\n",
       "      <td>-8.0</td>\n",
       "      <td>...</td>\n",
       "      <td>0</td>\n",
       "      <td>0</td>\n",
       "      <td>0</td>\n",
       "      <td>0</td>\n",
       "      <td>0</td>\n",
       "      <td>0</td>\n",
       "      <td>0</td>\n",
       "      <td>0</td>\n",
       "      <td>0</td>\n",
       "      <td>0</td>\n",
       "    </tr>\n",
       "    <tr>\n",
       "      <th>2</th>\n",
       "      <td>2013</td>\n",
       "      <td>4</td>\n",
       "      <td>19</td>\n",
       "      <td>14057</td>\n",
       "      <td>14869</td>\n",
       "      <td>600</td>\n",
       "      <td>-4.0</td>\n",
       "      <td>0.0</td>\n",
       "      <td>851</td>\n",
       "      <td>-15.0</td>\n",
       "      <td>...</td>\n",
       "      <td>0</td>\n",
       "      <td>0</td>\n",
       "      <td>0</td>\n",
       "      <td>0</td>\n",
       "      <td>0</td>\n",
       "      <td>0</td>\n",
       "      <td>0</td>\n",
       "      <td>0</td>\n",
       "      <td>0</td>\n",
       "      <td>0</td>\n",
       "    </tr>\n",
       "    <tr>\n",
       "      <th>3</th>\n",
       "      <td>2013</td>\n",
       "      <td>4</td>\n",
       "      <td>19</td>\n",
       "      <td>15016</td>\n",
       "      <td>11433</td>\n",
       "      <td>1630</td>\n",
       "      <td>28.0</td>\n",
       "      <td>1.0</td>\n",
       "      <td>1903</td>\n",
       "      <td>24.0</td>\n",
       "      <td>...</td>\n",
       "      <td>0</td>\n",
       "      <td>0</td>\n",
       "      <td>0</td>\n",
       "      <td>0</td>\n",
       "      <td>0</td>\n",
       "      <td>0</td>\n",
       "      <td>0</td>\n",
       "      <td>0</td>\n",
       "      <td>0</td>\n",
       "      <td>0</td>\n",
       "    </tr>\n",
       "    <tr>\n",
       "      <th>4</th>\n",
       "      <td>2013</td>\n",
       "      <td>4</td>\n",
       "      <td>19</td>\n",
       "      <td>11193</td>\n",
       "      <td>12892</td>\n",
       "      <td>1615</td>\n",
       "      <td>-6.0</td>\n",
       "      <td>0.0</td>\n",
       "      <td>1805</td>\n",
       "      <td>-11.0</td>\n",
       "      <td>...</td>\n",
       "      <td>0</td>\n",
       "      <td>0</td>\n",
       "      <td>0</td>\n",
       "      <td>0</td>\n",
       "      <td>0</td>\n",
       "      <td>0</td>\n",
       "      <td>0</td>\n",
       "      <td>0</td>\n",
       "      <td>0</td>\n",
       "      <td>0</td>\n",
       "    </tr>\n",
       "  </tbody>\n",
       "</table>\n",
       "<p>5 rows × 30 columns</p>\n",
       "</div>"
      ],
      "text/plain": [
       "   Year  Month  DayofMonth  OriginAirportID  DestAirportID  CRSDepTime  \\\n",
       "0  2013      4          19            11433          13303         837   \n",
       "1  2013      4          19            14869          12478        1705   \n",
       "2  2013      4          19            14057          14869         600   \n",
       "3  2013      4          19            15016          11433        1630   \n",
       "4  2013      4          19            11193          12892        1615   \n",
       "\n",
       "   DepDelay  DepDel15  CRSArrTime  ArrDelay     ...      Carrier_6  Carrier_7  \\\n",
       "0      -3.0       0.0        1138       1.0     ...              0          0   \n",
       "1       0.0       0.0        2336      -8.0     ...              0          0   \n",
       "2      -4.0       0.0         851     -15.0     ...              0          0   \n",
       "3      28.0       1.0        1903      24.0     ...              0          0   \n",
       "4      -6.0       0.0        1805     -11.0     ...              0          0   \n",
       "\n",
       "   Carrier_8  Carrier_9  Carrier_10  Carrier_11  Carrier_12  Carrier_13  \\\n",
       "0          0          0           0           0           0           0   \n",
       "1          0          0           0           0           0           0   \n",
       "2          0          0           0           0           0           0   \n",
       "3          0          0           0           0           0           0   \n",
       "4          0          0           0           0           0           0   \n",
       "\n",
       "   Carrier_14  Carrier_15  \n",
       "0           0           0  \n",
       "1           0           0  \n",
       "2           0           0  \n",
       "3           0           0  \n",
       "4           0           0  \n",
       "\n",
       "[5 rows x 30 columns]"
      ]
     },
     "execution_count": 60,
     "metadata": {},
     "output_type": "execute_result"
    }
   ],
   "source": [
    "delays.head()"
   ]
  },
  {
   "cell_type": "code",
   "execution_count": 61,
   "metadata": {},
   "outputs": [
    {
     "data": {
      "text/plain": [
       "Index(['Year', 'Month', 'DayofMonth', 'OriginAirportID', 'DestAirportID',\n",
       "       'CRSDepTime', 'DepDelay', 'DepDel15', 'CRSArrTime', 'ArrDelay',\n",
       "       'ArrDel15', 'Cancelled', 'Dep_hour', 'Arr_hour', 'Carrier_0',\n",
       "       'Carrier_1', 'Carrier_2', 'Carrier_3', 'Carrier_4', 'Carrier_5',\n",
       "       'Carrier_6', 'Carrier_7', 'Carrier_8', 'Carrier_9', 'Carrier_10',\n",
       "       'Carrier_11', 'Carrier_12', 'Carrier_13', 'Carrier_14', 'Carrier_15'],\n",
       "      dtype='object')"
      ]
     },
     "execution_count": 61,
     "metadata": {},
     "output_type": "execute_result"
    }
   ],
   "source": [
    "delays.columns"
   ]
  },
  {
   "cell_type": "code",
   "execution_count": 62,
   "metadata": {},
   "outputs": [
    {
     "data": {
      "text/plain": [
       "Year                 int64\n",
       "Month                int64\n",
       "DayofMonth           int64\n",
       "OriginAirportID      int64\n",
       "DestAirportID        int64\n",
       "CRSDepTime           int64\n",
       "DepDelay           float64\n",
       "DepDel15           float64\n",
       "CRSArrTime           int64\n",
       "ArrDelay           float64\n",
       "ArrDel15           float64\n",
       "Cancelled          float64\n",
       "Dep_hour             int64\n",
       "Arr_hour             int64\n",
       "Carrier_0            int64\n",
       "Carrier_1            int64\n",
       "Carrier_2            int64\n",
       "Carrier_3            int64\n",
       "Carrier_4            int64\n",
       "Carrier_5            int64\n",
       "Carrier_6            int64\n",
       "Carrier_7            int64\n",
       "Carrier_8            int64\n",
       "Carrier_9            int64\n",
       "Carrier_10           int64\n",
       "Carrier_11           int64\n",
       "Carrier_12           int64\n",
       "Carrier_13           int64\n",
       "Carrier_14           int64\n",
       "Carrier_15           int64\n",
       "dtype: object"
      ]
     },
     "execution_count": 62,
     "metadata": {},
     "output_type": "execute_result"
    }
   ],
   "source": [
    "delays.dtypes"
   ]
  },
  {
   "cell_type": "markdown",
   "metadata": {},
   "source": [
    "**Let's assume date information is date of the arrival in local time of origin airport. Also assume arrival and departure time are in local time zone of respective airport. If departure time is later than arrival time, then the arrival is on the next day, so this must be taken into account when constructing Arr_datetime and Dep_datetime (add one day to Dep_datetime). Introducting the helper column \"dep_after_arr\" (1 or 0). The code below may set Arrival day on non-existing day (e.g. august \n",
    "32), but let's ignore these cases and let them disappear in the join.**"
   ]
  },
  {
   "cell_type": "code",
   "execution_count": 63,
   "metadata": {},
   "outputs": [
    {
     "data": {
      "text/plain": [
       "pandas.core.series.Series"
      ]
     },
     "execution_count": 63,
     "metadata": {},
     "output_type": "execute_result"
    }
   ],
   "source": [
    "type(delays[\"CRSArrTime\"]<delays[\"CRSDepTime\"])"
   ]
  },
  {
   "cell_type": "code",
   "execution_count": 64,
   "metadata": {
    "collapsed": true
   },
   "outputs": [],
   "source": [
    "delays[\"dep_after_arr\"] = (delays[\"CRSArrTime\"]<delays[\"CRSDepTime\"])"
   ]
  },
  {
   "cell_type": "code",
   "execution_count": 65,
   "metadata": {
    "collapsed": true
   },
   "outputs": [],
   "source": [
    "delays[\"Dep_datetime\"] = delays[\"Year\"].astype(str)+'-'+delays[\"Month\"].astype(str)+'-'+delays[\"DayofMonth\"].astype(str)+'-'+delays[\"Dep_hour\"].astype(str)"
   ]
  },
  {
   "cell_type": "code",
   "execution_count": 66,
   "metadata": {
    "collapsed": true
   },
   "outputs": [],
   "source": [
    "delays[\"DayofMonth_arr\"] = delays[\"DayofMonth\"]+delays[\"dep_after_arr\"]"
   ]
  },
  {
   "cell_type": "code",
   "execution_count": 67,
   "metadata": {},
   "outputs": [
    {
     "data": {
      "text/plain": [
       "array([2013], dtype=int64)"
      ]
     },
     "execution_count": 67,
     "metadata": {},
     "output_type": "execute_result"
    }
   ],
   "source": [
    "weather[\"Year\"].unique()"
   ]
  },
  {
   "cell_type": "code",
   "execution_count": 68,
   "metadata": {
    "collapsed": true
   },
   "outputs": [],
   "source": [
    "delays[\"Arr_datetime\"] = delays[\"Year\"].astype(str)+'-'+delays[\"Month\"].astype(str)+'-'+delays[\"DayofMonth_arr\"].astype(str)+'-'+delays[\"Arr_hour\"].astype(str)"
   ]
  },
  {
   "cell_type": "code",
   "execution_count": 69,
   "metadata": {},
   "outputs": [
    {
     "data": {
      "text/plain": [
       "Index(['AirportID', 'Year', 'Month', 'Day', 'Time', 'TimeZone', 'Visibility',\n",
       "       'DryBulbFarenheit', 'DryBulbCelsius', 'WetBulbFarenheit',\n",
       "       'WetBulbCelsius', 'DewPointFarenheit', 'DewPointCelsius',\n",
       "       'RelativeHumidity', 'WindSpeed', 'StationPressure', 'Altimeter',\n",
       "       'dir_VR', 'dir_0', 'dir_40', 'dir_80', 'dir_120', 'dir_160', 'dir_200',\n",
       "       'dir_240', 'dir_280', 'dir_320', 'dir_360', 'hour', 'datetime'],\n",
       "      dtype='object')"
      ]
     },
     "execution_count": 69,
     "metadata": {},
     "output_type": "execute_result"
    }
   ],
   "source": [
    "weather.columns"
   ]
  },
  {
   "cell_type": "code",
   "execution_count": 70,
   "metadata": {},
   "outputs": [
    {
     "data": {
      "text/plain": [
       "5333"
      ]
     },
     "execution_count": 70,
     "metadata": {},
     "output_type": "execute_result"
    }
   ],
   "source": [
    "len(weather[weather[\"AirportID\"]==14843])"
   ]
  },
  {
   "cell_type": "code",
   "execution_count": 71,
   "metadata": {},
   "outputs": [
    {
     "name": "stdout",
     "output_type": "stream",
     "text": [
      "unique values:\n",
      "['2013-4-1-1' '2013-4-1-2' '2013-4-1-3' ... '2013-10-31-22'\n",
      " '2013-10-31-23' '2013-10-31-24']\n",
      "number of unique values\n",
      "(5089,)\n"
     ]
    }
   ],
   "source": [
    "explore_cat(weather[weather[\"AirportID\"]==14843],\"datetime\")"
   ]
  },
  {
   "cell_type": "markdown",
   "metadata": {},
   "source": [
    "## 3.2 Join with OriginAirport weather"
   ]
  },
  {
   "cell_type": "markdown",
   "metadata": {},
   "source": [
    "**Apparently, in the weather data sometimes for the same airport two measurements are available in the same hour (i.e. same datetime). We need to drop these duplicates (let's not care which one we keep exactly) so that we have unique airport-datetime combinations. Then, we can index on these columns (double index). Then we can join the dataframes. **"
   ]
  },
  {
   "cell_type": "code",
   "execution_count": 72,
   "metadata": {
    "collapsed": true
   },
   "outputs": [],
   "source": [
    "weather.drop_duplicates(subset=[\"AirportID\",\"datetime\"],keep=\"last\",inplace=True)"
   ]
  },
  {
   "cell_type": "code",
   "execution_count": 73,
   "metadata": {},
   "outputs": [
    {
     "data": {
      "text/plain": [
       "338035"
      ]
     },
     "execution_count": 73,
     "metadata": {},
     "output_type": "execute_result"
    }
   ],
   "source": [
    "len(weather)"
   ]
  },
  {
   "cell_type": "code",
   "execution_count": 74,
   "metadata": {
    "collapsed": true,
    "scrolled": true
   },
   "outputs": [],
   "source": [
    "weather.set_index(keys=[\"AirportID\",\"datetime\"],inplace=True)"
   ]
  },
  {
   "cell_type": "code",
   "execution_count": 75,
   "metadata": {
    "scrolled": true
   },
   "outputs": [
    {
     "data": {
      "text/plain": [
       "Index(['Year', 'Month', 'DayofMonth', 'OriginAirportID', 'DestAirportID',\n",
       "       'CRSDepTime', 'DepDelay', 'DepDel15', 'CRSArrTime', 'ArrDelay',\n",
       "       'ArrDel15', 'Cancelled', 'Dep_hour', 'Arr_hour', 'Carrier_0',\n",
       "       'Carrier_1', 'Carrier_2', 'Carrier_3', 'Carrier_4', 'Carrier_5',\n",
       "       'Carrier_6', 'Carrier_7', 'Carrier_8', 'Carrier_9', 'Carrier_10',\n",
       "       'Carrier_11', 'Carrier_12', 'Carrier_13', 'Carrier_14', 'Carrier_15',\n",
       "       'dep_after_arr', 'Dep_datetime', 'DayofMonth_arr', 'Arr_datetime'],\n",
       "      dtype='object')"
      ]
     },
     "execution_count": 75,
     "metadata": {},
     "output_type": "execute_result"
    }
   ],
   "source": [
    "delays.columns"
   ]
  },
  {
   "cell_type": "code",
   "execution_count": 76,
   "metadata": {
    "collapsed": true,
    "scrolled": true
   },
   "outputs": [],
   "source": [
    "delays.rename(columns={\"OriginAirportID\":\"AirportID\"},inplace=True)"
   ]
  },
  {
   "cell_type": "code",
   "execution_count": 77,
   "metadata": {
    "collapsed": true
   },
   "outputs": [],
   "source": [
    "delays.rename(columns={\"Dep_datetime\":\"datetime\"},inplace=True)"
   ]
  },
  {
   "cell_type": "code",
   "execution_count": 78,
   "metadata": {
    "collapsed": true
   },
   "outputs": [],
   "source": [
    "delays=delays.join(weather,on=[\"AirportID\",\"datetime\"],rsuffix=\"_depweather\")"
   ]
  },
  {
   "cell_type": "code",
   "execution_count": 79,
   "metadata": {
    "collapsed": true
   },
   "outputs": [],
   "source": [
    "delays.drop(columns=[\"Year_depweather\",\"Month_depweather\",\"Day\"],inplace=True)"
   ]
  },
  {
   "cell_type": "code",
   "execution_count": 80,
   "metadata": {},
   "outputs": [
    {
     "data": {
      "text/plain": [
       "Index(['Year', 'Month', 'DayofMonth', 'AirportID', 'DestAirportID',\n",
       "       'CRSDepTime', 'DepDelay', 'DepDel15', 'CRSArrTime', 'ArrDelay',\n",
       "       'ArrDel15', 'Cancelled', 'Dep_hour', 'Arr_hour', 'Carrier_0',\n",
       "       'Carrier_1', 'Carrier_2', 'Carrier_3', 'Carrier_4', 'Carrier_5',\n",
       "       'Carrier_6', 'Carrier_7', 'Carrier_8', 'Carrier_9', 'Carrier_10',\n",
       "       'Carrier_11', 'Carrier_12', 'Carrier_13', 'Carrier_14', 'Carrier_15',\n",
       "       'dep_after_arr', 'datetime', 'DayofMonth_arr', 'Arr_datetime', 'Time',\n",
       "       'TimeZone', 'Visibility', 'DryBulbFarenheit', 'DryBulbCelsius',\n",
       "       'WetBulbFarenheit', 'WetBulbCelsius', 'DewPointFarenheit',\n",
       "       'DewPointCelsius', 'RelativeHumidity', 'WindSpeed', 'StationPressure',\n",
       "       'Altimeter', 'dir_VR', 'dir_0', 'dir_40', 'dir_80', 'dir_120',\n",
       "       'dir_160', 'dir_200', 'dir_240', 'dir_280', 'dir_320', 'dir_360',\n",
       "       'hour'],\n",
       "      dtype='object')"
      ]
     },
     "execution_count": 80,
     "metadata": {},
     "output_type": "execute_result"
    }
   ],
   "source": [
    "delays.columns"
   ]
  },
  {
   "cell_type": "code",
   "execution_count": 81,
   "metadata": {},
   "outputs": [
    {
     "data": {
      "text/plain": [
       "Index(['Visibility', 'DryBulbFarenheit', 'DryBulbCelsius', 'WetBulbFarenheit',\n",
       "       'WetBulbCelsius', 'DewPointFarenheit', 'DewPointCelsius',\n",
       "       'RelativeHumidity', 'WindSpeed', 'StationPressure', 'Altimeter',\n",
       "       'dir_VR', 'dir_0', 'dir_40', 'dir_80', 'dir_120', 'dir_160', 'dir_200',\n",
       "       'dir_240', 'dir_280', 'dir_320', 'dir_360', 'hour'],\n",
       "      dtype='object')"
      ]
     },
     "execution_count": 81,
     "metadata": {},
     "output_type": "execute_result"
    }
   ],
   "source": [
    "weather_columns = weather.columns[5:] #excluding year,month,day,time,timezone\n",
    "weather_columns"
   ]
  },
  {
   "cell_type": "code",
   "execution_count": 82,
   "metadata": {
    "collapsed": true
   },
   "outputs": [],
   "source": [
    "delays_columns_old = delays.columns"
   ]
  },
  {
   "cell_type": "code",
   "execution_count": 83,
   "metadata": {},
   "outputs": [
    {
     "data": {
      "text/plain": [
       "Index(['Year', 'Month', 'DayofMonth', 'AirportID', 'DestAirportID',\n",
       "       'CRSDepTime', 'DepDelay', 'DepDel15', 'CRSArrTime', 'ArrDelay',\n",
       "       'ArrDel15', 'Cancelled', 'Dep_hour', 'Arr_hour', 'Carrier_0',\n",
       "       'Carrier_1', 'Carrier_2', 'Carrier_3', 'Carrier_4', 'Carrier_5',\n",
       "       'Carrier_6', 'Carrier_7', 'Carrier_8', 'Carrier_9', 'Carrier_10',\n",
       "       'Carrier_11', 'Carrier_12', 'Carrier_13', 'Carrier_14', 'Carrier_15',\n",
       "       'dep_after_arr', 'datetime', 'DayofMonth_arr', 'Arr_datetime', 'Time',\n",
       "       'TimeZone', 'Visibility_originAirport',\n",
       "       'DryBulbFarenheit_originAirport', 'DryBulbCelsius_originAirport',\n",
       "       'WetBulbFarenheit_originAirport', 'WetBulbCelsius_originAirport',\n",
       "       'DewPointFarenheit_originAirport', 'DewPointCelsius_originAirport',\n",
       "       'RelativeHumidity_originAirport', 'WindSpeed_originAirport',\n",
       "       'StationPressure_originAirport', 'Altimeter_originAirport',\n",
       "       'dir_VR_originAirport', 'dir_0_originAirport', 'dir_40_originAirport',\n",
       "       'dir_80_originAirport', 'dir_120_originAirport',\n",
       "       'dir_160_originAirport', 'dir_200_originAirport',\n",
       "       'dir_240_originAirport', 'dir_280_originAirport',\n",
       "       'dir_320_originAirport', 'dir_360_originAirport', 'hour_originAirport'],\n",
       "      dtype='object')"
      ]
     },
     "execution_count": 83,
     "metadata": {},
     "output_type": "execute_result"
    }
   ],
   "source": [
    "delays_columns_new = []\n",
    "for column in delays_columns_old:\n",
    "    if column in weather_columns:\n",
    "        delays_columns_new.append(column+\"_originAirport\")\n",
    "    else:\n",
    "        delays_columns_new.append(column)\n",
    "        \n",
    "delays.columns = delays_columns_new\n",
    "delays.rename(columns={\"AirportID\":\"OriginAirportID\"})\n",
    "delays.columns"
   ]
  },
  {
   "cell_type": "markdown",
   "metadata": {},
   "source": [
    "## 3.3 Join with DestinationAirport weather"
   ]
  },
  {
   "cell_type": "code",
   "execution_count": 84,
   "metadata": {
    "collapsed": true,
    "scrolled": true
   },
   "outputs": [],
   "source": [
    "delays.drop(columns=[\"dep_after_arr\"],inplace=True)"
   ]
  },
  {
   "cell_type": "code",
   "execution_count": 85,
   "metadata": {
    "collapsed": true
   },
   "outputs": [],
   "source": [
    "delays.rename(columns={\"AirportID\":\"OriginAirportID\",\"DestAirportID\":\"AirportID\"},inplace=True)"
   ]
  },
  {
   "cell_type": "code",
   "execution_count": 86,
   "metadata": {
    "collapsed": true
   },
   "outputs": [],
   "source": [
    "delays.rename(columns={\"datetime\":\"Dep_datetime\",\"Arr_datetime\":\"datetime\"},inplace=True)"
   ]
  },
  {
   "cell_type": "code",
   "execution_count": 87,
   "metadata": {
    "collapsed": true
   },
   "outputs": [],
   "source": [
    "delays=delays.join(weather,on=[\"AirportID\",\"datetime\"],rsuffix=\"_arrweather\")"
   ]
  },
  {
   "cell_type": "code",
   "execution_count": 88,
   "metadata": {},
   "outputs": [
    {
     "data": {
      "text/plain": [
       "Index(['Year', 'Month', 'DayofMonth', 'OriginAirportID', 'AirportID',\n",
       "       'CRSDepTime', 'DepDelay', 'DepDel15', 'CRSArrTime', 'ArrDelay',\n",
       "       'ArrDel15', 'Cancelled', 'Dep_hour', 'Arr_hour', 'Carrier_0',\n",
       "       'Carrier_1', 'Carrier_2', 'Carrier_3', 'Carrier_4', 'Carrier_5',\n",
       "       'Carrier_6', 'Carrier_7', 'Carrier_8', 'Carrier_9', 'Carrier_10',\n",
       "       'Carrier_11', 'Carrier_12', 'Carrier_13', 'Carrier_14', 'Carrier_15',\n",
       "       'Dep_datetime', 'DayofMonth_arr', 'datetime', 'Time', 'TimeZone',\n",
       "       'Visibility_originAirport', 'DryBulbFarenheit_originAirport',\n",
       "       'DryBulbCelsius_originAirport', 'WetBulbFarenheit_originAirport',\n",
       "       'WetBulbCelsius_originAirport', 'DewPointFarenheit_originAirport',\n",
       "       'DewPointCelsius_originAirport', 'RelativeHumidity_originAirport',\n",
       "       'WindSpeed_originAirport', 'StationPressure_originAirport',\n",
       "       'Altimeter_originAirport', 'dir_VR_originAirport',\n",
       "       'dir_0_originAirport', 'dir_40_originAirport', 'dir_80_originAirport',\n",
       "       'dir_120_originAirport', 'dir_160_originAirport',\n",
       "       'dir_200_originAirport', 'dir_240_originAirport',\n",
       "       'dir_280_originAirport', 'dir_320_originAirport',\n",
       "       'dir_360_originAirport', 'hour_originAirport', 'Year_arrweather',\n",
       "       'Month_arrweather', 'Day', 'Time_arrweather', 'TimeZone_arrweather',\n",
       "       'Visibility', 'DryBulbFarenheit', 'DryBulbCelsius', 'WetBulbFarenheit',\n",
       "       'WetBulbCelsius', 'DewPointFarenheit', 'DewPointCelsius',\n",
       "       'RelativeHumidity', 'WindSpeed', 'StationPressure', 'Altimeter',\n",
       "       'dir_VR', 'dir_0', 'dir_40', 'dir_80', 'dir_120', 'dir_160', 'dir_200',\n",
       "       'dir_240', 'dir_280', 'dir_320', 'dir_360', 'hour'],\n",
       "      dtype='object')"
      ]
     },
     "execution_count": 88,
     "metadata": {},
     "output_type": "execute_result"
    }
   ],
   "source": [
    "delays.columns"
   ]
  },
  {
   "cell_type": "code",
   "execution_count": 89,
   "metadata": {
    "collapsed": true
   },
   "outputs": [],
   "source": [
    "delays.drop(columns=[\"Year_arrweather\",\"Month_arrweather\",\"Day\"],inplace=True)"
   ]
  },
  {
   "cell_type": "code",
   "execution_count": 90,
   "metadata": {},
   "outputs": [
    {
     "data": {
      "text/plain": [
       "Index(['Year', 'Month', 'DayofMonth', 'OriginAirportID', 'AirportID',\n",
       "       'CRSDepTime', 'DepDelay', 'DepDel15', 'CRSArrTime', 'ArrDelay',\n",
       "       'ArrDel15', 'Cancelled', 'Dep_hour', 'Arr_hour', 'Carrier_0',\n",
       "       'Carrier_1', 'Carrier_2', 'Carrier_3', 'Carrier_4', 'Carrier_5',\n",
       "       'Carrier_6', 'Carrier_7', 'Carrier_8', 'Carrier_9', 'Carrier_10',\n",
       "       'Carrier_11', 'Carrier_12', 'Carrier_13', 'Carrier_14', 'Carrier_15',\n",
       "       'Dep_datetime', 'DayofMonth_arr', 'datetime', 'Time', 'TimeZone',\n",
       "       'Visibility_originAirport', 'DryBulbFarenheit_originAirport',\n",
       "       'DryBulbCelsius_originAirport', 'WetBulbFarenheit_originAirport',\n",
       "       'WetBulbCelsius_originAirport', 'DewPointFarenheit_originAirport',\n",
       "       'DewPointCelsius_originAirport', 'RelativeHumidity_originAirport',\n",
       "       'WindSpeed_originAirport', 'StationPressure_originAirport',\n",
       "       'Altimeter_originAirport', 'dir_VR_originAirport',\n",
       "       'dir_0_originAirport', 'dir_40_originAirport', 'dir_80_originAirport',\n",
       "       'dir_120_originAirport', 'dir_160_originAirport',\n",
       "       'dir_200_originAirport', 'dir_240_originAirport',\n",
       "       'dir_280_originAirport', 'dir_320_originAirport',\n",
       "       'dir_360_originAirport', 'hour_originAirport', 'Time_arrweather',\n",
       "       'TimeZone_arrweather', 'Visibility', 'DryBulbFarenheit',\n",
       "       'DryBulbCelsius', 'WetBulbFarenheit', 'WetBulbCelsius',\n",
       "       'DewPointFarenheit', 'DewPointCelsius', 'RelativeHumidity', 'WindSpeed',\n",
       "       'StationPressure', 'Altimeter', 'dir_VR', 'dir_0', 'dir_40', 'dir_80',\n",
       "       'dir_120', 'dir_160', 'dir_200', 'dir_240', 'dir_280', 'dir_320',\n",
       "       'dir_360', 'hour'],\n",
       "      dtype='object')"
      ]
     },
     "execution_count": 90,
     "metadata": {},
     "output_type": "execute_result"
    }
   ],
   "source": [
    "delays.columns"
   ]
  },
  {
   "cell_type": "code",
   "execution_count": 91,
   "metadata": {},
   "outputs": [
    {
     "data": {
      "text/plain": [
       "Index(['Visibility', 'DryBulbFarenheit', 'DryBulbCelsius', 'WetBulbFarenheit',\n",
       "       'WetBulbCelsius', 'DewPointFarenheit', 'DewPointCelsius',\n",
       "       'RelativeHumidity', 'WindSpeed', 'StationPressure', 'Altimeter',\n",
       "       'dir_VR', 'dir_0', 'dir_40', 'dir_80', 'dir_120', 'dir_160', 'dir_200',\n",
       "       'dir_240', 'dir_280', 'dir_320', 'dir_360', 'hour'],\n",
       "      dtype='object')"
      ]
     },
     "execution_count": 91,
     "metadata": {},
     "output_type": "execute_result"
    }
   ],
   "source": [
    "weather_columns = weather.columns[5:] #excluding year,month,day,time,timezone\n",
    "weather_columns"
   ]
  },
  {
   "cell_type": "code",
   "execution_count": 92,
   "metadata": {
    "collapsed": true
   },
   "outputs": [],
   "source": [
    "delays_columns_old = delays.columns"
   ]
  },
  {
   "cell_type": "code",
   "execution_count": 93,
   "metadata": {},
   "outputs": [
    {
     "data": {
      "text/plain": [
       "Index(['Year', 'Month', 'DayofMonth', 'OriginAirportID', 'DestAirportID',\n",
       "       'CRSDepTime', 'DepDelay', 'DepDel15', 'CRSArrTime', 'ArrDelay',\n",
       "       'ArrDel15', 'Cancelled', 'Dep_hour', 'Arr_hour', 'Carrier_0',\n",
       "       'Carrier_1', 'Carrier_2', 'Carrier_3', 'Carrier_4', 'Carrier_5',\n",
       "       'Carrier_6', 'Carrier_7', 'Carrier_8', 'Carrier_9', 'Carrier_10',\n",
       "       'Carrier_11', 'Carrier_12', 'Carrier_13', 'Carrier_14', 'Carrier_15',\n",
       "       'Dep_datetime', 'DayofMonth_arr', 'datetime', 'Time', 'TimeZone',\n",
       "       'Visibility_originAirport', 'DryBulbFarenheit_originAirport',\n",
       "       'DryBulbCelsius_originAirport', 'WetBulbFarenheit_originAirport',\n",
       "       'WetBulbCelsius_originAirport', 'DewPointFarenheit_originAirport',\n",
       "       'DewPointCelsius_originAirport', 'RelativeHumidity_originAirport',\n",
       "       'WindSpeed_originAirport', 'StationPressure_originAirport',\n",
       "       'Altimeter_originAirport', 'dir_VR_originAirport',\n",
       "       'dir_0_originAirport', 'dir_40_originAirport', 'dir_80_originAirport',\n",
       "       'dir_120_originAirport', 'dir_160_originAirport',\n",
       "       'dir_200_originAirport', 'dir_240_originAirport',\n",
       "       'dir_280_originAirport', 'dir_320_originAirport',\n",
       "       'dir_360_originAirport', 'hour_originAirport', 'Time_arrweather',\n",
       "       'TimeZone_arrweather', 'Visibility_destAirport',\n",
       "       'DryBulbFarenheit_destAirport', 'DryBulbCelsius_destAirport',\n",
       "       'WetBulbFarenheit_destAirport', 'WetBulbCelsius_destAirport',\n",
       "       'DewPointFarenheit_destAirport', 'DewPointCelsius_destAirport',\n",
       "       'RelativeHumidity_destAirport', 'WindSpeed_destAirport',\n",
       "       'StationPressure_destAirport', 'Altimeter_destAirport',\n",
       "       'dir_VR_destAirport', 'dir_0_destAirport', 'dir_40_destAirport',\n",
       "       'dir_80_destAirport', 'dir_120_destAirport', 'dir_160_destAirport',\n",
       "       'dir_200_destAirport', 'dir_240_destAirport', 'dir_280_destAirport',\n",
       "       'dir_320_destAirport', 'dir_360_destAirport', 'hour_destAirport'],\n",
       "      dtype='object')"
      ]
     },
     "execution_count": 93,
     "metadata": {},
     "output_type": "execute_result"
    }
   ],
   "source": [
    "delays_columns_new = []\n",
    "for column in delays_columns_old:\n",
    "    if column in weather_columns:\n",
    "        delays_columns_new.append(column+\"_destAirport\")\n",
    "    else:\n",
    "        delays_columns_new.append(column)\n",
    "        \n",
    "delays.columns = delays_columns_new\n",
    "delays.rename(columns={\"AirportID\":\"DestAirportID\"},inplace=True)\n",
    "delays.columns"
   ]
  },
  {
   "cell_type": "code",
   "execution_count": 94,
   "metadata": {},
   "outputs": [
    {
     "data": {
      "text/html": [
       "<div>\n",
       "<style scoped>\n",
       "    .dataframe tbody tr th:only-of-type {\n",
       "        vertical-align: middle;\n",
       "    }\n",
       "\n",
       "    .dataframe tbody tr th {\n",
       "        vertical-align: top;\n",
       "    }\n",
       "\n",
       "    .dataframe thead th {\n",
       "        text-align: right;\n",
       "    }\n",
       "</style>\n",
       "<table border=\"1\" class=\"dataframe\">\n",
       "  <thead>\n",
       "    <tr style=\"text-align: right;\">\n",
       "      <th></th>\n",
       "      <th>Year</th>\n",
       "      <th>Month</th>\n",
       "      <th>DayofMonth</th>\n",
       "      <th>OriginAirportID</th>\n",
       "      <th>DestAirportID</th>\n",
       "      <th>CRSDepTime</th>\n",
       "      <th>DepDelay</th>\n",
       "      <th>DepDel15</th>\n",
       "      <th>CRSArrTime</th>\n",
       "      <th>ArrDelay</th>\n",
       "      <th>...</th>\n",
       "      <th>dir_40_destAirport</th>\n",
       "      <th>dir_80_destAirport</th>\n",
       "      <th>dir_120_destAirport</th>\n",
       "      <th>dir_160_destAirport</th>\n",
       "      <th>dir_200_destAirport</th>\n",
       "      <th>dir_240_destAirport</th>\n",
       "      <th>dir_280_destAirport</th>\n",
       "      <th>dir_320_destAirport</th>\n",
       "      <th>dir_360_destAirport</th>\n",
       "      <th>hour_destAirport</th>\n",
       "    </tr>\n",
       "  </thead>\n",
       "  <tbody>\n",
       "    <tr>\n",
       "      <th>0</th>\n",
       "      <td>2013</td>\n",
       "      <td>4</td>\n",
       "      <td>19</td>\n",
       "      <td>11433</td>\n",
       "      <td>13303</td>\n",
       "      <td>837</td>\n",
       "      <td>-3.0</td>\n",
       "      <td>0.0</td>\n",
       "      <td>1138</td>\n",
       "      <td>1.0</td>\n",
       "      <td>...</td>\n",
       "      <td>0.0</td>\n",
       "      <td>0.0</td>\n",
       "      <td>1.0</td>\n",
       "      <td>0.0</td>\n",
       "      <td>0.0</td>\n",
       "      <td>0.0</td>\n",
       "      <td>0.0</td>\n",
       "      <td>0.0</td>\n",
       "      <td>0.0</td>\n",
       "      <td>11.0</td>\n",
       "    </tr>\n",
       "    <tr>\n",
       "      <th>1</th>\n",
       "      <td>2013</td>\n",
       "      <td>4</td>\n",
       "      <td>19</td>\n",
       "      <td>14869</td>\n",
       "      <td>12478</td>\n",
       "      <td>1705</td>\n",
       "      <td>0.0</td>\n",
       "      <td>0.0</td>\n",
       "      <td>2336</td>\n",
       "      <td>-8.0</td>\n",
       "      <td>...</td>\n",
       "      <td>0.0</td>\n",
       "      <td>0.0</td>\n",
       "      <td>0.0</td>\n",
       "      <td>1.0</td>\n",
       "      <td>0.0</td>\n",
       "      <td>0.0</td>\n",
       "      <td>0.0</td>\n",
       "      <td>0.0</td>\n",
       "      <td>0.0</td>\n",
       "      <td>23.0</td>\n",
       "    </tr>\n",
       "    <tr>\n",
       "      <th>2</th>\n",
       "      <td>2013</td>\n",
       "      <td>4</td>\n",
       "      <td>19</td>\n",
       "      <td>14057</td>\n",
       "      <td>14869</td>\n",
       "      <td>600</td>\n",
       "      <td>-4.0</td>\n",
       "      <td>0.0</td>\n",
       "      <td>851</td>\n",
       "      <td>-15.0</td>\n",
       "      <td>...</td>\n",
       "      <td>0.0</td>\n",
       "      <td>0.0</td>\n",
       "      <td>1.0</td>\n",
       "      <td>0.0</td>\n",
       "      <td>0.0</td>\n",
       "      <td>0.0</td>\n",
       "      <td>0.0</td>\n",
       "      <td>0.0</td>\n",
       "      <td>0.0</td>\n",
       "      <td>8.0</td>\n",
       "    </tr>\n",
       "    <tr>\n",
       "      <th>3</th>\n",
       "      <td>2013</td>\n",
       "      <td>4</td>\n",
       "      <td>19</td>\n",
       "      <td>15016</td>\n",
       "      <td>11433</td>\n",
       "      <td>1630</td>\n",
       "      <td>28.0</td>\n",
       "      <td>1.0</td>\n",
       "      <td>1903</td>\n",
       "      <td>24.0</td>\n",
       "      <td>...</td>\n",
       "      <td>0.0</td>\n",
       "      <td>0.0</td>\n",
       "      <td>0.0</td>\n",
       "      <td>0.0</td>\n",
       "      <td>1.0</td>\n",
       "      <td>0.0</td>\n",
       "      <td>0.0</td>\n",
       "      <td>0.0</td>\n",
       "      <td>0.0</td>\n",
       "      <td>19.0</td>\n",
       "    </tr>\n",
       "    <tr>\n",
       "      <th>4</th>\n",
       "      <td>2013</td>\n",
       "      <td>4</td>\n",
       "      <td>19</td>\n",
       "      <td>11193</td>\n",
       "      <td>12892</td>\n",
       "      <td>1615</td>\n",
       "      <td>-6.0</td>\n",
       "      <td>0.0</td>\n",
       "      <td>1805</td>\n",
       "      <td>-11.0</td>\n",
       "      <td>...</td>\n",
       "      <td>0.0</td>\n",
       "      <td>0.0</td>\n",
       "      <td>0.0</td>\n",
       "      <td>0.0</td>\n",
       "      <td>0.0</td>\n",
       "      <td>1.0</td>\n",
       "      <td>0.0</td>\n",
       "      <td>0.0</td>\n",
       "      <td>0.0</td>\n",
       "      <td>18.0</td>\n",
       "    </tr>\n",
       "  </tbody>\n",
       "</table>\n",
       "<p>5 rows × 83 columns</p>\n",
       "</div>"
      ],
      "text/plain": [
       "   Year  Month  DayofMonth  OriginAirportID  DestAirportID  CRSDepTime  \\\n",
       "0  2013      4          19            11433          13303         837   \n",
       "1  2013      4          19            14869          12478        1705   \n",
       "2  2013      4          19            14057          14869         600   \n",
       "3  2013      4          19            15016          11433        1630   \n",
       "4  2013      4          19            11193          12892        1615   \n",
       "\n",
       "   DepDelay  DepDel15  CRSArrTime  ArrDelay        ...         \\\n",
       "0      -3.0       0.0        1138       1.0        ...          \n",
       "1       0.0       0.0        2336      -8.0        ...          \n",
       "2      -4.0       0.0         851     -15.0        ...          \n",
       "3      28.0       1.0        1903      24.0        ...          \n",
       "4      -6.0       0.0        1805     -11.0        ...          \n",
       "\n",
       "   dir_40_destAirport  dir_80_destAirport  dir_120_destAirport  \\\n",
       "0                 0.0                 0.0                  1.0   \n",
       "1                 0.0                 0.0                  0.0   \n",
       "2                 0.0                 0.0                  1.0   \n",
       "3                 0.0                 0.0                  0.0   \n",
       "4                 0.0                 0.0                  0.0   \n",
       "\n",
       "   dir_160_destAirport  dir_200_destAirport  dir_240_destAirport  \\\n",
       "0                  0.0                  0.0                  0.0   \n",
       "1                  1.0                  0.0                  0.0   \n",
       "2                  0.0                  0.0                  0.0   \n",
       "3                  0.0                  1.0                  0.0   \n",
       "4                  0.0                  0.0                  1.0   \n",
       "\n",
       "   dir_280_destAirport  dir_320_destAirport  dir_360_destAirport  \\\n",
       "0                  0.0                  0.0                  0.0   \n",
       "1                  0.0                  0.0                  0.0   \n",
       "2                  0.0                  0.0                  0.0   \n",
       "3                  0.0                  0.0                  0.0   \n",
       "4                  0.0                  0.0                  0.0   \n",
       "\n",
       "   hour_destAirport  \n",
       "0              11.0  \n",
       "1              23.0  \n",
       "2               8.0  \n",
       "3              19.0  \n",
       "4              18.0  \n",
       "\n",
       "[5 rows x 83 columns]"
      ]
     },
     "execution_count": 94,
     "metadata": {},
     "output_type": "execute_result"
    }
   ],
   "source": [
    "delays.head()"
   ]
  },
  {
   "cell_type": "markdown",
   "metadata": {},
   "source": [
    "**Some columns were only needed for joining the data but will not be used as features. Let's assume that the exact flight times don't matter, only the weather conditions at those times. For now the only target variable is ArrDelay, we exclude other related columns**"
   ]
  },
  {
   "cell_type": "code",
   "execution_count": 95,
   "metadata": {},
   "outputs": [
    {
     "name": "stdout",
     "output_type": "stream",
     "text": [
      "[dtype('int64') dtype('float64')]\n"
     ]
    }
   ],
   "source": [
    "delays_clean=delays.drop(columns=[\"Year\",\"Month\",\"DayofMonth\",\"CRSDepTime\",\"CRSArrTime\",\"Dep_hour\",\"Arr_hour\",\"Dep_datetime\",\n",
    "                                 \"DayofMonth_arr\",\"datetime\",\"Time\",\"TimeZone\",\"hour_originAirport\",\"Time_arrweather\",\n",
    "                                 \"TimeZone_arrweather\",\"hour_destAirport\",\"DepDelay\",\"DepDel15\",\"ArrDelay\",\"Cancelled\"])\n",
    "print(delays_clean.dtypes.unique())\n",
    "delays_clean.columns\n",
    "one_hot(delays_clean,[\"OriginAirportID\",\"DestAirportID\"])"
   ]
  },
  {
   "cell_type": "code",
   "execution_count": 96,
   "metadata": {
    "collapsed": true
   },
   "outputs": [],
   "source": [
    "delays_clean.dropna(inplace=True)"
   ]
  },
  {
   "cell_type": "code",
   "execution_count": 97,
   "metadata": {
    "collapsed": true
   },
   "outputs": [],
   "source": [
    "Y = delays_clean[\"ArrDel15\"].astype(np.float64).values\n",
    "X = delays_clean.drop(columns=[\"ArrDel15\"]).astype(np.float64).values"
   ]
  },
  {
   "cell_type": "code",
   "execution_count": 98,
   "metadata": {
    "collapsed": true
   },
   "outputs": [],
   "source": [
    "np.save(\"X.npy\",X)\n",
    "np.save(\"Y.npy\",Y)"
   ]
  },
  {
   "cell_type": "code",
   "execution_count": 14,
   "metadata": {
    "collapsed": true
   },
   "outputs": [],
   "source": [
    "X = np.load(\"X.npy\")\n",
    "Y = np.load(\"Y.npy\")"
   ]
  },
  {
   "cell_type": "code",
   "execution_count": 15,
   "metadata": {
    "collapsed": true
   },
   "outputs": [],
   "source": [
    "X_train, X_devtest, Y_train, Y_devtest = train_test_split(X,Y,random_state=0,test_size = 0.10)\n",
    "X_dev, X_test, Y_dev, Y_test = train_test_split(X_devtest,Y_devtest,random_state=0,test_size = 0.50)"
   ]
  },
  {
   "cell_type": "markdown",
   "metadata": {},
   "source": [
    "# 4 Decision tree classifier"
   ]
  },
  {
   "cell_type": "markdown",
   "metadata": {},
   "source": [
    "## 4.1 Building the model"
   ]
  },
  {
   "cell_type": "code",
   "execution_count": 104,
   "metadata": {
    "collapsed": true
   },
   "outputs": [],
   "source": [
    "def evaluate_clf(clf,X,Y,plot=True):\n",
    "    Y_pred = clf.predict_proba(X)[:,1]\n",
    "    fpr,tpr,thresholds = roc_curve(Y,Y_pred)\n",
    "    if plot:\n",
    "        plt.plot(fpr,tpr)\n",
    "    AUC = auc(fpr,tpr)\n",
    "    return AUC"
   ]
  },
  {
   "cell_type": "code",
   "execution_count": 101,
   "metadata": {},
   "outputs": [
    {
     "name": "stdout",
     "output_type": "stream",
     "text": [
      "(1924238, 200)\n",
      "(106903, 200)\n",
      "(1924238,)\n",
      "(106903,)\n",
      "(106902,)\n",
      "(106902,)\n"
     ]
    }
   ],
   "source": [
    "print(X_train.shape)\n",
    "print(X_test.shape)\n",
    "print(Y_train.shape)\n",
    "print(Y_test.shape)\n",
    "print(Y_dev.shape)\n",
    "print(Y_dev.shape)"
   ]
  },
  {
   "cell_type": "code",
   "execution_count": 150,
   "metadata": {
    "collapsed": true
   },
   "outputs": [],
   "source": [
    "clf = tree.DecisionTreeClassifier(random_state=0, min_samples_split = 1000,max_depth = 20)"
   ]
  },
  {
   "cell_type": "code",
   "execution_count": 134,
   "metadata": {},
   "outputs": [
    {
     "name": "stdout",
     "output_type": "stream",
     "text": [
      "Fitting took 224.89454913139343 seconds\n"
     ]
    }
   ],
   "source": [
    "start = time.time()\n",
    "clf.fit(X_train, Y_train)\n",
    "end = time.time()\n",
    "\n",
    "seconds = end-start\n",
    "print(\"Fitting took {0} seconds\".format(seconds))"
   ]
  },
  {
   "cell_type": "code",
   "execution_count": 135,
   "metadata": {},
   "outputs": [
    {
     "data": {
      "text/plain": [
       "(1924238, 200)"
      ]
     },
     "execution_count": 135,
     "metadata": {},
     "output_type": "execute_result"
    }
   ],
   "source": [
    "X_train.shape"
   ]
  },
  {
   "cell_type": "code",
   "execution_count": 136,
   "metadata": {},
   "outputs": [
    {
     "data": {
      "text/plain": [
       "array([[0.91938376, 0.08061624],\n",
       "       [0.82355954, 0.17644046],\n",
       "       [0.81050677, 0.18949323],\n",
       "       ...,\n",
       "       [0.84695215, 0.15304785],\n",
       "       [0.84695215, 0.15304785],\n",
       "       [0.66781361, 0.33218639]])"
      ]
     },
     "execution_count": 136,
     "metadata": {},
     "output_type": "execute_result"
    }
   ],
   "source": [
    "p = clf.predict_proba(X_test)\n",
    "p"
   ]
  },
  {
   "cell_type": "code",
   "execution_count": 137,
   "metadata": {},
   "outputs": [
    {
     "name": "stdout",
     "output_type": "stream",
     "text": [
      "213805\n",
      "0\n",
      "\n"
     ]
    }
   ],
   "source": [
    "print(len(p))\n",
    "print(np.sum(p==0)+np.sum(p==1))\n",
    "print()"
   ]
  },
  {
   "cell_type": "code",
   "execution_count": 112,
   "metadata": {},
   "outputs": [
    {
     "data": {
      "text/plain": [
       "200"
      ]
     },
     "execution_count": 112,
     "metadata": {},
     "output_type": "execute_result"
    }
   ],
   "source": [
    "len(clf.feature_importances_)"
   ]
  },
  {
   "cell_type": "code",
   "execution_count": 117,
   "metadata": {},
   "outputs": [
    {
     "name": "stdout",
     "output_type": "stream",
     "text": [
      "Help on Tree object:\n",
      "\n",
      "class Tree(builtins.object)\n",
      " |  Array-based representation of a binary decision tree.\n",
      " |  \n",
      " |  The binary tree is represented as a number of parallel arrays. The i-th\n",
      " |  element of each array holds information about the node `i`. Node 0 is the\n",
      " |  tree's root. You can find a detailed description of all arrays in\n",
      " |  `_tree.pxd`. NOTE: Some of the arrays only apply to either leaves or split\n",
      " |  nodes, resp. In this case the values of nodes of the other type are\n",
      " |  arbitrary!\n",
      " |  \n",
      " |  Attributes\n",
      " |  ----------\n",
      " |  node_count : int\n",
      " |      The number of nodes (internal nodes + leaves) in the tree.\n",
      " |  \n",
      " |  capacity : int\n",
      " |      The current capacity (i.e., size) of the arrays, which is at least as\n",
      " |      great as `node_count`.\n",
      " |  \n",
      " |  max_depth : int\n",
      " |      The maximal depth of the tree.\n",
      " |  \n",
      " |  children_left : array of int, shape [node_count]\n",
      " |      children_left[i] holds the node id of the left child of node i.\n",
      " |      For leaves, children_left[i] == TREE_LEAF. Otherwise,\n",
      " |      children_left[i] > i. This child handles the case where\n",
      " |      X[:, feature[i]] <= threshold[i].\n",
      " |  \n",
      " |  children_right : array of int, shape [node_count]\n",
      " |      children_right[i] holds the node id of the right child of node i.\n",
      " |      For leaves, children_right[i] == TREE_LEAF. Otherwise,\n",
      " |      children_right[i] > i. This child handles the case where\n",
      " |      X[:, feature[i]] > threshold[i].\n",
      " |  \n",
      " |  feature : array of int, shape [node_count]\n",
      " |      feature[i] holds the feature to split on, for the internal node i.\n",
      " |  \n",
      " |  threshold : array of double, shape [node_count]\n",
      " |      threshold[i] holds the threshold for the internal node i.\n",
      " |  \n",
      " |  value : array of double, shape [node_count, n_outputs, max_n_classes]\n",
      " |      Contains the constant prediction value of each node.\n",
      " |  \n",
      " |  impurity : array of double, shape [node_count]\n",
      " |      impurity[i] holds the impurity (i.e., the value of the splitting\n",
      " |      criterion) at node i.\n",
      " |  \n",
      " |  n_node_samples : array of int, shape [node_count]\n",
      " |      n_node_samples[i] holds the number of training samples reaching node i.\n",
      " |  \n",
      " |  weighted_n_node_samples : array of int, shape [node_count]\n",
      " |      weighted_n_node_samples[i] holds the weighted number of training samples\n",
      " |      reaching node i.\n",
      " |  \n",
      " |  Methods defined here:\n",
      " |  \n",
      " |  __getstate__(...)\n",
      " |      Getstate re-implementation, for pickling.\n",
      " |  \n",
      " |  __new__(*args, **kwargs) from builtins.type\n",
      " |      Create and return a new object.  See help(type) for accurate signature.\n",
      " |  \n",
      " |  __reduce__(...)\n",
      " |      Reduce re-implementation, for pickling.\n",
      " |  \n",
      " |  __setstate__(...)\n",
      " |      Setstate re-implementation, for unpickling.\n",
      " |  \n",
      " |  apply(...)\n",
      " |      Finds the terminal region (=leaf node) for each sample in X.\n",
      " |  \n",
      " |  compute_feature_importances(...)\n",
      " |      Computes the importance of each feature (aka variable).\n",
      " |  \n",
      " |  decision_path(...)\n",
      " |      Finds the decision path (=node) for each sample in X.\n",
      " |  \n",
      " |  predict(...)\n",
      " |      Predict target for X.\n",
      " |  \n",
      " |  ----------------------------------------------------------------------\n",
      " |  Data descriptors defined here:\n",
      " |  \n",
      " |  capacity\n",
      " |  \n",
      " |  children_left\n",
      " |  \n",
      " |  children_right\n",
      " |  \n",
      " |  feature\n",
      " |  \n",
      " |  impurity\n",
      " |  \n",
      " |  max_depth\n",
      " |  \n",
      " |  max_n_classes\n",
      " |  \n",
      " |  n_classes\n",
      " |  \n",
      " |  n_features\n",
      " |  \n",
      " |  n_node_samples\n",
      " |  \n",
      " |  n_outputs\n",
      " |  \n",
      " |  node_count\n",
      " |  \n",
      " |  threshold\n",
      " |  \n",
      " |  value\n",
      " |  \n",
      " |  weighted_n_node_samples\n",
      " |  \n",
      " |  ----------------------------------------------------------------------\n",
      " |  Data and other attributes defined here:\n",
      " |  \n",
      " |  __pyx_vtable__ = <capsule object NULL>\n",
      "\n"
     ]
    }
   ],
   "source": [
    "help(clf.tree_)"
   ]
  },
  {
   "cell_type": "code",
   "execution_count": 127,
   "metadata": {},
   "outputs": [
    {
     "data": {
      "text/plain": [
       "20"
      ]
     },
     "execution_count": 127,
     "metadata": {},
     "output_type": "execute_result"
    }
   ],
   "source": [
    "clf.tree_.max_depth"
   ]
  },
  {
   "cell_type": "code",
   "execution_count": 141,
   "metadata": {},
   "outputs": [
    {
     "data": {
      "text/plain": [
       "(213805, 2)"
      ]
     },
     "execution_count": 141,
     "metadata": {},
     "output_type": "execute_result"
    }
   ],
   "source": [
    "p.shape"
   ]
  },
  {
   "cell_type": "code",
   "execution_count": 128,
   "metadata": {},
   "outputs": [
    {
     "data": {
      "text/plain": [
       "17735"
      ]
     },
     "execution_count": 128,
     "metadata": {},
     "output_type": "execute_result"
    }
   ],
   "source": [
    "clf.tree_.node_count"
   ]
  },
  {
   "cell_type": "code",
   "execution_count": 147,
   "metadata": {},
   "outputs": [
    {
     "data": {
      "text/plain": [
       "0.6448286481318811"
      ]
     },
     "execution_count": 147,
     "metadata": {},
     "output_type": "execute_result"
    },
    {
     "data": {
      "image/png": "[encoded data removed]",
      "text/plain": [
       "<Figure size 432x288 with 1 Axes>"
      ]
     },
     "metadata": {},
     "output_type": "display_data"
    }
   ],
   "source": [
    "evaluate_clf(clf,X_train,Y_train)"
   ]
  },
  {
   "cell_type": "code",
   "execution_count": 152,
   "metadata": {
    "scrolled": true
   },
   "outputs": [
    {
     "ename": "NotFittedError",
     "evalue": "This DecisionTreeClassifier instance is not fitted yet. Call 'fit' with appropriate arguments before using this method.",
     "output_type": "error",
     "traceback": [
      "\u001b[1;31m---------------------------------------------------------------------------\u001b[0m",
      "\u001b[1;31mNotFittedError\u001b[0m                            Traceback (most recent call last)",
      "\u001b[1;32m<ipython-input-152-96f516497f3e>\u001b[0m in \u001b[0;36m<module>\u001b[1;34m()\u001b[0m\n\u001b[1;32m----> 1\u001b[1;33m \u001b[0ma\u001b[0m\u001b[1;33m=\u001b[0m\u001b[0mevaluate_clf\u001b[0m\u001b[1;33m(\u001b[0m\u001b[0mclf\u001b[0m\u001b[1;33m,\u001b[0m\u001b[0mX_test\u001b[0m\u001b[1;33m,\u001b[0m\u001b[0mY_test\u001b[0m\u001b[1;33m)\u001b[0m\u001b[1;33m\u001b[0m\u001b[0m\n\u001b[0m",
      "\u001b[1;32m<ipython-input-145-b8f3218fb63a>\u001b[0m in \u001b[0;36mevaluate_clf\u001b[1;34m(clf, X, Y, plot)\u001b[0m\n\u001b[0;32m      1\u001b[0m \u001b[1;32mdef\u001b[0m \u001b[0mevaluate_clf\u001b[0m\u001b[1;33m(\u001b[0m\u001b[0mclf\u001b[0m\u001b[1;33m,\u001b[0m\u001b[0mX\u001b[0m\u001b[1;33m,\u001b[0m\u001b[0mY\u001b[0m\u001b[1;33m,\u001b[0m\u001b[0mplot\u001b[0m\u001b[1;33m=\u001b[0m\u001b[1;32mTrue\u001b[0m\u001b[1;33m)\u001b[0m\u001b[1;33m:\u001b[0m\u001b[1;33m\u001b[0m\u001b[0m\n\u001b[1;32m----> 2\u001b[1;33m     \u001b[0mY_pred\u001b[0m \u001b[1;33m=\u001b[0m \u001b[0mclf\u001b[0m\u001b[1;33m.\u001b[0m\u001b[0mpredict_proba\u001b[0m\u001b[1;33m(\u001b[0m\u001b[0mX\u001b[0m\u001b[1;33m)\u001b[0m\u001b[1;33m[\u001b[0m\u001b[1;33m:\u001b[0m\u001b[1;33m,\u001b[0m\u001b[1;36m1\u001b[0m\u001b[1;33m]\u001b[0m\u001b[1;33m\u001b[0m\u001b[0m\n\u001b[0m\u001b[0;32m      3\u001b[0m     \u001b[0mfpr\u001b[0m\u001b[1;33m,\u001b[0m\u001b[0mtpr\u001b[0m\u001b[1;33m,\u001b[0m\u001b[0mthresholds\u001b[0m \u001b[1;33m=\u001b[0m \u001b[0mroc_curve\u001b[0m\u001b[1;33m(\u001b[0m\u001b[0mY\u001b[0m\u001b[1;33m,\u001b[0m\u001b[0mY_pred\u001b[0m\u001b[1;33m)\u001b[0m\u001b[1;33m\u001b[0m\u001b[0m\n\u001b[0;32m      4\u001b[0m     \u001b[0mplt\u001b[0m\u001b[1;33m.\u001b[0m\u001b[0mplot\u001b[0m\u001b[1;33m(\u001b[0m\u001b[0mfpr\u001b[0m\u001b[1;33m,\u001b[0m\u001b[0mtpr\u001b[0m\u001b[1;33m)\u001b[0m\u001b[1;33m\u001b[0m\u001b[0m\n\u001b[0;32m      5\u001b[0m     \u001b[0mAUC\u001b[0m \u001b[1;33m=\u001b[0m \u001b[0mauc\u001b[0m\u001b[1;33m(\u001b[0m\u001b[0mfpr\u001b[0m\u001b[1;33m,\u001b[0m\u001b[0mtpr\u001b[0m\u001b[1;33m)\u001b[0m\u001b[1;33m\u001b[0m\u001b[0m\n",
      "\u001b[1;32m~\\AppData\\Local\\Programs\\Python\\Python35\\lib\\site-packages\\sklearn\\tree\\tree.py\u001b[0m in \u001b[0;36mpredict_proba\u001b[1;34m(self, X, check_input)\u001b[0m\n\u001b[0;32m    818\u001b[0m             \u001b[0mclasses\u001b[0m \u001b[0mcorresponds\u001b[0m \u001b[0mto\u001b[0m \u001b[0mthat\u001b[0m \u001b[1;32min\u001b[0m \u001b[0mthe\u001b[0m \u001b[0mattribute\u001b[0m\u001b[0;31m \u001b[0m\u001b[0;31m`\u001b[0m\u001b[0mclasses_\u001b[0m\u001b[0;31m`\u001b[0m\u001b[1;33m.\u001b[0m\u001b[1;33m\u001b[0m\u001b[0m\n\u001b[0;32m    819\u001b[0m         \"\"\"\n\u001b[1;32m--> 820\u001b[1;33m         \u001b[0mcheck_is_fitted\u001b[0m\u001b[1;33m(\u001b[0m\u001b[0mself\u001b[0m\u001b[1;33m,\u001b[0m \u001b[1;34m'tree_'\u001b[0m\u001b[1;33m)\u001b[0m\u001b[1;33m\u001b[0m\u001b[0m\n\u001b[0m\u001b[0;32m    821\u001b[0m         \u001b[0mX\u001b[0m \u001b[1;33m=\u001b[0m \u001b[0mself\u001b[0m\u001b[1;33m.\u001b[0m\u001b[0m_validate_X_predict\u001b[0m\u001b[1;33m(\u001b[0m\u001b[0mX\u001b[0m\u001b[1;33m,\u001b[0m \u001b[0mcheck_input\u001b[0m\u001b[1;33m)\u001b[0m\u001b[1;33m\u001b[0m\u001b[0m\n\u001b[0;32m    822\u001b[0m         \u001b[0mproba\u001b[0m \u001b[1;33m=\u001b[0m \u001b[0mself\u001b[0m\u001b[1;33m.\u001b[0m\u001b[0mtree_\u001b[0m\u001b[1;33m.\u001b[0m\u001b[0mpredict\u001b[0m\u001b[1;33m(\u001b[0m\u001b[0mX\u001b[0m\u001b[1;33m)\u001b[0m\u001b[1;33m\u001b[0m\u001b[0m\n",
      "\u001b[1;32m~\\AppData\\Local\\Programs\\Python\\Python35\\lib\\site-packages\\sklearn\\utils\\validation.py\u001b[0m in \u001b[0;36mcheck_is_fitted\u001b[1;34m(estimator, attributes, msg, all_or_any)\u001b[0m\n\u001b[0;32m    766\u001b[0m \u001b[1;33m\u001b[0m\u001b[0m\n\u001b[0;32m    767\u001b[0m     \u001b[1;32mif\u001b[0m \u001b[1;32mnot\u001b[0m \u001b[0mall_or_any\u001b[0m\u001b[1;33m(\u001b[0m\u001b[1;33m[\u001b[0m\u001b[0mhasattr\u001b[0m\u001b[1;33m(\u001b[0m\u001b[0mestimator\u001b[0m\u001b[1;33m,\u001b[0m \u001b[0mattr\u001b[0m\u001b[1;33m)\u001b[0m \u001b[1;32mfor\u001b[0m \u001b[0mattr\u001b[0m \u001b[1;32min\u001b[0m \u001b[0mattributes\u001b[0m\u001b[1;33m]\u001b[0m\u001b[1;33m)\u001b[0m\u001b[1;33m:\u001b[0m\u001b[1;33m\u001b[0m\u001b[0m\n\u001b[1;32m--> 768\u001b[1;33m         \u001b[1;32mraise\u001b[0m \u001b[0mNotFittedError\u001b[0m\u001b[1;33m(\u001b[0m\u001b[0mmsg\u001b[0m \u001b[1;33m%\u001b[0m \u001b[1;33m{\u001b[0m\u001b[1;34m'name'\u001b[0m\u001b[1;33m:\u001b[0m \u001b[0mtype\u001b[0m\u001b[1;33m(\u001b[0m\u001b[0mestimator\u001b[0m\u001b[1;33m)\u001b[0m\u001b[1;33m.\u001b[0m\u001b[0m__name__\u001b[0m\u001b[1;33m}\u001b[0m\u001b[1;33m)\u001b[0m\u001b[1;33m\u001b[0m\u001b[0m\n\u001b[0m\u001b[0;32m    769\u001b[0m \u001b[1;33m\u001b[0m\u001b[0m\n\u001b[0;32m    770\u001b[0m \u001b[1;33m\u001b[0m\u001b[0m\n",
      "\u001b[1;31mNotFittedError\u001b[0m: This DecisionTreeClassifier instance is not fitted yet. Call 'fit' with appropriate arguments before using this method."
     ]
    }
   ],
   "source": [
    "a=evaluate_clf(clf,X_test,Y_test)"
   ]
  },
  {
   "cell_type": "markdown",
   "metadata": {},
   "source": [
    "## 4.2 Hyperparameter search"
   ]
  },
  {
   "cell_type": "code",
   "execution_count": 102,
   "metadata": {
    "collapsed": true
   },
   "outputs": [],
   "source": [
    "split_list = [2,500,1000,2000]\n",
    "depth_list = [10,20,30,40]"
   ]
  },
  {
   "cell_type": "code",
   "execution_count": 109,
   "metadata": {},
   "outputs": [
    {
     "name": "stdout",
     "output_type": "stream",
     "text": [
      "2 / 10\n",
      "2 / 20\n",
      "2 / 30\n",
      "2 / 40\n",
      "500 / 10\n",
      "500 / 20\n",
      "500 / 30\n",
      "500 / 40\n",
      "1000 / 10\n",
      "1000 / 20\n",
      "1000 / 30\n",
      "1000 / 40\n",
      "2000 / 10\n",
      "2000 / 20\n",
      "2000 / 30\n",
      "2000 / 40\n",
      "{'run_6': {'auc_train': 0.7303856667732778, 'split': 500, 'depth': 30, 'auc_dev': 0.6748519463265837}, 'run_0': {'auc_train': 0.6527034329248941, 'split': 2, 'depth': 10, 'auc_dev': 0.6465847349996299}, 'run_3': {'auc_train': 0.9901079484713191, 'split': 2, 'depth': 40, 'auc_dev': 0.5793248062261067}, 'run_4': {'auc_train': 0.6514636524788621, 'split': 500, 'depth': 10, 'auc_dev': 0.646608779731869}, 'run_7': {'auc_train': 0.7391849252866118, 'split': 500, 'depth': 40, 'auc_dev': 0.6735938002712927}, 'run_12': {'auc_train': 0.6493058581458026, 'split': 2000, 'depth': 10, 'auc_dev': 0.6454488154198862}, 'run_11': {'auc_train': 0.712907419989401, 'split': 1000, 'depth': 40, 'auc_dev': 0.6739786028844735}, 'run_9': {'auc_train': 0.6937047403903195, 'split': 1000, 'depth': 20, 'auc_dev': 0.6719229531165309}, 'run_15': {'auc_train': 0.6927839753399151, 'split': 2000, 'depth': 40, 'auc_dev': 0.6709187033798576}, 'run_5': {'auc_train': 0.7044169092046878, 'split': 500, 'depth': 20, 'auc_dev': 0.6735091306748376}, 'run_10': {'auc_train': 0.7089002169989773, 'split': 1000, 'depth': 30, 'auc_dev': 0.673894917602772}, 'run_2': {'auc_train': 0.9326556358179625, 'split': 2, 'depth': 30, 'auc_dev': 0.5934008310422285}, 'run_1': {'auc_train': 0.7780570003711904, 'split': 2, 'depth': 20, 'auc_dev': 0.6441538353253401}, 'run_14': {'auc_train': 0.6912688846559654, 'split': 2000, 'depth': 30, 'auc_dev': 0.6704017340690755}, 'run_13': {'auc_train': 0.6832517693696111, 'split': 2000, 'depth': 20, 'auc_dev': 0.6681300058146176}, 'run_8': {'auc_train': 0.6506017696711069, 'split': 1000, 'depth': 10, 'auc_dev': 0.6464214642689652}}\n"
     ]
    },
    {
     "data": {
      "image/png": "[encoded data removed]",
      "text/plain": [
       "<Figure size 432x288 with 1 Axes>"
      ]
     },
     "metadata": {},
     "output_type": "display_data"
    }
   ],
   "source": [
    "result_dict = {}\n",
    "i = 0\n",
    "optimal_results = {\"split\":split_list[0],\"depth\":depth_list[0],\"auc_dev\":0}\n",
    "clf_best = None\n",
    "for s in split_list:\n",
    "    for d in depth_list:\n",
    "        print(str(s)+\" / \"+str(d))\n",
    "        clf = tree.DecisionTreeClassifier(random_state=0, min_samples_split = s,max_depth = d)\n",
    "        clf.fit(X_train, Y_train)\n",
    "        auc_dev = evaluate_clf(clf,X_dev,Y_dev,plot=False)\n",
    "        if auc_dev > optimal_results[\"auc_dev\"]:\n",
    "            optimal_results[\"split\"] = s\n",
    "            optimal_results[\"depth\"] = d\n",
    "            optimal_results[\"auc_dev\"] = auc_dev\n",
    "            clf_best = clf\n",
    "        auc_train = evaluate_clf(clf,X_train,Y_train,plot=False)\n",
    "        result_dict[\"run_\"+str(i)] = {\"split\":s,\"depth\":d,\"auc_train\":auc_train,\"auc_dev\":auc_dev}\n",
    "        i += 1\n",
    "        \n",
    "print(result_dict)\n",
    "\n",
    "optimal_results[\"auc_test\"] = evaluate_clf(clf_best,X_test,Y_test,plot=False)\n",
    "\n",
    "\n",
    "\n",
    "with open('result_decisiontreeCLF.txt','a') as f:\n",
    "    f.write(json.dumps(result_dict,sort_keys=True,indent=4))\n",
    "    f.write(\"Best results:\")\n",
    "    f.write(json.dumps(optimal_results,sort_keys=True,indent=4))\n",
    "    "
   ]
  },
  {
   "cell_type": "markdown",
   "metadata": {},
   "source": [
    "# 5 Dense neural network"
   ]
  },
  {
   "cell_type": "code",
   "execution_count": 13,
   "metadata": {},
   "outputs": [
    {
     "name": "stderr",
     "output_type": "stream",
     "text": [
      "Using TensorFlow backend.\n"
     ]
    }
   ],
   "source": [
    "from keras import layers\n",
    "from keras.layers import Input, Add, Dense, Activation, Dropout, ZeroPadding2D, BatchNormalization, Flatten, Conv2D, AveragePooling2D, MaxPooling2D, GlobalMaxPooling2D\n",
    "from keras.models import Model, load_model\n",
    "from keras.initializers import glorot_uniform\n",
    "import tensorflow as tf"
   ]
  },
  {
   "cell_type": "code",
   "execution_count": 11,
   "metadata": {
    "collapsed": true
   },
   "outputs": [],
   "source": [
    "def delayNNmodel(input_shape,hidden_units = [100,100],dropout_rate = 0.1):\n",
    "    \n",
    "    #input layer\n",
    "    X_input = Input(input_shape)\n",
    "    \n",
    "    #first hidden layer\n",
    "    X = Dense(hidden_units[0])(X_input)\n",
    "    X = Activation('relu')(X)\n",
    "    X = Dropout(dropout_rate,seed=0)(X)\n",
    "    \n",
    "    #next hidden layer(s)\n",
    "    if len(hidden_units)>2:\n",
    "        for n in hidden_units[1:]:\n",
    "            X = Dense(n)(X)\n",
    "            X = Activation('relu')(X)\n",
    "            X = Dropout(dropout_rate,seed=0)(X)\n",
    "    elif len(hidden_units) == 2:\n",
    "        X = Dense(hidden_units[1])(X)\n",
    "        X = Activation('relu')(X)\n",
    "        X = Dropout(dropout_rate,seed=0)(X)\n",
    "        \n",
    "    #output layer\n",
    "    X = Dense(1)(X)\n",
    "    X = Activation('sigmoid')(X)\n",
    "    \n",
    "    model = Model(inputs = X_input, outputs = X, name = 'delayBinaryClassifierNN')\n",
    "    model.compile(optimizer='adam', loss='binary_crossentropy', metrics=['accuracy'])\n",
    "    return model"
   ]
  },
  {
   "cell_type": "code",
   "execution_count": 10,
   "metadata": {
    "collapsed": true
   },
   "outputs": [],
   "source": [
    "def evaluate_NN(model,X,Y,plot=False):\n",
    "    Y_pred = model.predict(X)\n",
    "    fpr,tpr,thresholds = roc_curve(Y,Y_pred)\n",
    "    if plot:\n",
    "        plt.plot(fpr,tpr)\n",
    "    AUC = auc(fpr,tpr)\n",
    "    return AUC"
   ]
  },
  {
   "cell_type": "code",
   "execution_count": 8,
   "metadata": {
    "collapsed": true
   },
   "outputs": [],
   "source": [
    "def fit_and_plot(model,X_train,Y_train,X_test,Y_test,epochs = 10,verbose=False,evaluate_offset = 0):\n",
    "    auc_test = []\n",
    "    auc_train = []\n",
    "    for i in range(epochs):\n",
    "        print(i)\n",
    "        model.fit(X_train,Y_train,epochs=1,batch_size=128,verbose=0)\n",
    "        if i >= evaluate_offset:\n",
    "            auc_test_ = evaluate_NN(model,X_test,Y_test,plot=False)\n",
    "            auc_test.append(auc_test_)\n",
    "            auc_train_ = evaluate_NN(model,X_train,Y_train,plot=False)\n",
    "            auc_train.append(auc_train_)\n",
    "            if verbose:\n",
    "                print(\"Epoch {2}. Test auc: {0}, Train auc: {1}\".format(auc_test_,auc_train_,i))\n",
    "    plt.figure()\n",
    "    plt.plot(np.arange(len(auc_test)),auc_test,'r',np.arange(len(auc_train)),auc_train,'b')\n",
    "    plt.show()\n",
    "    return model"
   ]
  },
  {
   "cell_type": "markdown",
   "metadata": {},
   "source": [
    "**never name the output of this function 'auc' since it collides with the name of the function auc, imported above**"
   ]
  },
  {
   "cell_type": "markdown",
   "metadata": {},
   "source": [
    "auc_ = evaluate_NN(model,X_test,Y_test,plot=False)\n",
    "print(auc_)"
   ]
  },
  {
   "cell_type": "markdown",
   "metadata": {},
   "source": [
    "**Output is always 0, see cell below. Let's try to balance to dataset first, since it is skewed towards output 0**"
   ]
  },
  {
   "cell_type": "code",
   "execution_count": 139,
   "metadata": {},
   "outputs": [
    {
     "data": {
      "text/plain": [
       "0"
      ]
     },
     "execution_count": 139,
     "metadata": {},
     "output_type": "execute_result"
    }
   ],
   "source": [
    "pred=model.predict(X_train)\n",
    "np.sum(pred>0.00001)"
   ]
  },
  {
   "cell_type": "code",
   "execution_count": 141,
   "metadata": {},
   "outputs": [
    {
     "data": {
      "text/plain": [
       "0.21225804708149407"
      ]
     },
     "execution_count": 141,
     "metadata": {},
     "output_type": "execute_result"
    }
   ],
   "source": [
    "np.sum(Y_train==1)/Y_train.shape[0]"
   ]
  },
  {
   "cell_type": "code",
   "execution_count": 142,
   "metadata": {},
   "outputs": [
    {
     "data": {
      "text/plain": [
       "0.7877419529185059"
      ]
     },
     "execution_count": 142,
     "metadata": {},
     "output_type": "execute_result"
    }
   ],
   "source": [
    "np.sum(Y_train==0)/Y_train.shape[0]"
   ]
  },
  {
   "cell_type": "code",
   "execution_count": 16,
   "metadata": {},
   "outputs": [
    {
     "name": "stdout",
     "output_type": "stream",
     "text": [
      "1515803\n",
      "408435\n",
      "(816870, 200)\n",
      "(816870, 1)\n",
      "(816870, 200)\n",
      "(816870,)\n"
     ]
    }
   ],
   "source": [
    "#turn this into a robust reusable function!\n",
    "\n",
    "index_0 = (Y_train==0)\n",
    "index_1 = (Y_train==1)\n",
    "print(np.sum(index_0))\n",
    "print(np.sum(index_1))\n",
    "amt_1 = np.sum(index_1)\n",
    "Y_train_0 = Y_train[index_0]\n",
    "Y_train_1 = Y_train[index_1]\n",
    "X_train_0 = X_train[index_0]\n",
    "X_train_1= X_train[index_1]\n",
    "\n",
    "np.random.seed(0)\n",
    "selection_0 = np.random.randint(0,Y_train_0.shape[0],amt_1)\n",
    "\n",
    "Y_train_0_selected = Y_train_0[selection_0]\n",
    "X_train_0_selected = X_train_0[selection_0]\n",
    "\n",
    "X_train_balanced = np.append(X_train_0_selected,X_train_1,axis=0)\n",
    "Y_train_balanced = np.append(Y_train_0_selected,Y_train_1,axis=0)\n",
    "\n",
    "print(X_train_balanced.shape)\n",
    "print(np.expand_dims(Y_train_balanced,axis=1).shape)\n",
    "\n",
    "XY = np.append(X_train_balanced,np.expand_dims(Y_train_balanced,axis=1),axis=1)\n",
    "np.random.shuffle(XY)\n",
    "X_train_balanced = XY[:,0:-1]\n",
    "Y_train_balanced = XY[:,-1]\n",
    "\n",
    "print(X_train_balanced.shape)\n",
    "print(Y_train_balanced.shape)"
   ]
  },
  {
   "cell_type": "code",
   "execution_count": 31,
   "metadata": {},
   "outputs": [
    {
     "name": "stdout",
     "output_type": "stream",
     "text": [
      "Epoch 1/1\n",
      "816870/816870 [==============================] - 11s 14us/step - loss: 0.7072 - acc: 0.5774\n",
      "Epoch 0. Test auc: 0.6502808914769697, Train auc: 0.6470881794865477\n",
      "Epoch 1/1\n",
      "816870/816870 [==============================] - 11s 13us/step - loss: 0.6635 - acc: 0.5989\n",
      "Epoch 1. Test auc: 0.6546190910458762, Train auc: 0.6532343825949037\n",
      "Epoch 1/1\n",
      "816870/816870 [==============================] - 11s 13us/step - loss: 0.6590 - acc: 0.6052\n",
      "Epoch 2. Test auc: 0.6574285401007209, Train auc: 0.655030532673549\n"
     ]
    },
    {
     "data": {
      "image/png": "[encoded data removed]",
      "text/plain": [
       "<Figure size 432x288 with 1 Axes>"
      ]
     },
     "metadata": {},
     "output_type": "display_data"
    }
   ],
   "source": [
    "input_shape = [X_train.shape[1]]\n",
    "model = delayNNmodel(input_shape,dropout_rate=0)\n",
    "fit_and_plot(model,X_train_balanced,Y_train_balanced,X_test,Y_test,verbose=True,epochs=3)"
   ]
  },
  {
   "cell_type": "code",
   "execution_count": 164,
   "metadata": {},
   "outputs": [
    {
     "name": "stdout",
     "output_type": "stream",
     "text": [
      "0.6561154672356233\n"
     ]
    }
   ],
   "source": [
    "auc_ = evaluate_NN(model,X_test,Y_test,plot=False)\n",
    "print(auc_)"
   ]
  },
  {
   "cell_type": "code",
   "execution_count": 43,
   "metadata": {},
   "outputs": [
    {
     "name": "stdout",
     "output_type": "stream",
     "text": [
      "units: [128, 128], dropout: 0\n",
      "0\n",
      "1\n",
      "2\n",
      "3\n",
      "4\n",
      "5\n"
     ]
    },
    {
     "data": {
      "image/png": "[encoded data removed]",
      "text/plain": [
       "<Figure size 432x288 with 1 Axes>"
      ]
     },
     "metadata": {},
     "output_type": "display_data"
    },
    {
     "name": "stdout",
     "output_type": "stream",
     "text": [
      "units: [128, 128], dropout: 0.05\n",
      "0\n",
      "1\n",
      "2\n",
      "3\n",
      "4\n",
      "5\n"
     ]
    },
    {
     "data": {
      "image/png": "[encoded data removed]",
      "text/plain": [
       "<Figure size 432x288 with 1 Axes>"
      ]
     },
     "metadata": {},
     "output_type": "display_data"
    },
    {
     "name": "stdout",
     "output_type": "stream",
     "text": [
      "units: [128, 128], dropout: 0.1\n",
      "0\n",
      "1\n",
      "2\n",
      "3\n",
      "4\n",
      "5\n"
     ]
    },
    {
     "data": {
      "image/png": "[encoded data removed]",
      "text/plain": [
       "<Figure size 432x288 with 1 Axes>"
      ]
     },
     "metadata": {},
     "output_type": "display_data"
    },
    {
     "name": "stdout",
     "output_type": "stream",
     "text": [
      "units: [128, 128], dropout: 0.2\n",
      "0\n",
      "1\n",
      "2\n",
      "3\n",
      "4\n",
      "5\n"
     ]
    },
    {
     "data": {
      "image/png": "[encoded data removed]",
      "text/plain": [
       "<Figure size 432x288 with 1 Axes>"
      ]
     },
     "metadata": {},
     "output_type": "display_data"
    },
    {
     "name": "stdout",
     "output_type": "stream",
     "text": [
      "units: [128, 128, 128], dropout: 0\n",
      "0\n",
      "1\n",
      "2\n",
      "3\n",
      "4\n",
      "5\n"
     ]
    },
    {
     "data": {
      "image/png": "[encoded data removed]",
      "text/plain": [
       "<Figure size 432x288 with 1 Axes>"
      ]
     },
     "metadata": {},
     "output_type": "display_data"
    },
    {
     "name": "stdout",
     "output_type": "stream",
     "text": [
      "units: [128, 128, 128], dropout: 0.05\n",
      "0\n",
      "1\n",
      "2\n",
      "3\n",
      "4\n",
      "5\n"
     ]
    },
    {
     "data": {
      "image/png": "[encoded data removed]",
      "text/plain": [
       "<Figure size 432x288 with 1 Axes>"
      ]
     },
     "metadata": {},
     "output_type": "display_data"
    },
    {
     "name": "stdout",
     "output_type": "stream",
     "text": [
      "units: [128, 128, 128], dropout: 0.1\n",
      "0\n",
      "1\n",
      "2\n",
      "3\n",
      "4\n",
      "5\n"
     ]
    },
    {
     "data": {
      "image/png": "[encoded data removed]",
      "text/plain": [
       "<Figure size 432x288 with 1 Axes>"
      ]
     },
     "metadata": {},
     "output_type": "display_data"
    },
    {
     "name": "stdout",
     "output_type": "stream",
     "text": [
      "units: [128, 128, 128], dropout: 0.2\n",
      "0\n",
      "1\n",
      "2\n",
      "3\n",
      "4\n",
      "5\n"
     ]
    },
    {
     "data": {
      "image/png": "[encoded data removed]",
      "text/plain": [
       "<Figure size 432x288 with 1 Axes>"
      ]
     },
     "metadata": {},
     "output_type": "display_data"
    },
    {
     "name": "stdout",
     "output_type": "stream",
     "text": [
      "units: [256, 256, 128], dropout: 0\n",
      "0\n",
      "1\n",
      "2\n",
      "3\n",
      "4\n",
      "5\n"
     ]
    },
    {
     "data": {
      "image/png": "[encoded data removed]",
      "text/plain": [
       "<Figure size 432x288 with 1 Axes>"
      ]
     },
     "metadata": {},
     "output_type": "display_data"
    },
    {
     "name": "stdout",
     "output_type": "stream",
     "text": [
      "units: [256, 256, 128], dropout: 0.05\n",
      "0\n",
      "1\n",
      "2\n",
      "3\n",
      "4\n",
      "5\n"
     ]
    },
    {
     "data": {
      "image/png": "[encoded data removed]",
      "text/plain": [
       "<Figure size 432x288 with 1 Axes>"
      ]
     },
     "metadata": {},
     "output_type": "display_data"
    },
    {
     "name": "stdout",
     "output_type": "stream",
     "text": [
      "units: [256, 256, 128], dropout: 0.1\n",
      "0\n",
      "1\n",
      "2\n",
      "3\n",
      "4\n",
      "5\n"
     ]
    },
    {
     "data": {
      "image/png": "[encoded data removed]",
      "text/plain": [
       "<Figure size 432x288 with 1 Axes>"
      ]
     },
     "metadata": {},
     "output_type": "display_data"
    },
    {
     "name": "stdout",
     "output_type": "stream",
     "text": [
      "units: [256, 256, 128], dropout: 0.2\n",
      "0\n",
      "1\n",
      "2\n",
      "3\n",
      "4\n",
      "5\n"
     ]
    },
    {
     "data": {
      "image/png": "[encoded data removed]",
      "text/plain": [
       "<Figure size 432x288 with 1 Axes>"
      ]
     },
     "metadata": {},
     "output_type": "display_data"
    }
   ],
   "source": [
    "units = [[128,128],[128,128,128],[256,256,128]]\n",
    "dropout_rates = [0,0.05,0.1,0.2]\n",
    "for u in units:\n",
    "    for dropout_rate in dropout_rates:\n",
    "        model = delayNNmodel(input_shape, hidden_units = u, dropout_rate = dropout_rate)\n",
    "        print(\"units: {0}, dropout: {1}\".format(u,dropout_rate))\n",
    "        fit_and_plot(model,X_train_balanced,Y_train_balanced,X_test,Y_test,verbose=False,epochs=6)"
   ]
  },
  {
   "cell_type": "markdown",
   "metadata": {},
   "source": [
    "**doing extra epochs for those who seem promising**"
   ]
  },
  {
   "cell_type": "code",
   "execution_count": 44,
   "metadata": {},
   "outputs": [
    {
     "name": "stdout",
     "output_type": "stream",
     "text": [
      "units: [128, 128], dropout: 0\n",
      "0\n",
      "1\n",
      "2\n",
      "3\n",
      "4\n",
      "5\n",
      "6\n",
      "7\n",
      "8\n",
      "9\n"
     ]
    },
    {
     "data": {
      "image/png": "[encoded data removed]",
      "text/plain": [
       "<Figure size 432x288 with 1 Axes>"
      ]
     },
     "metadata": {},
     "output_type": "display_data"
    },
    {
     "name": "stdout",
     "output_type": "stream",
     "text": [
      "units: [128, 128, 128], dropout: 0\n",
      "0\n",
      "1\n",
      "2\n",
      "3\n",
      "4\n",
      "5\n",
      "6\n",
      "7\n",
      "8\n",
      "9\n"
     ]
    },
    {
     "data": {
      "image/png": "[encoded data removed]",
      "text/plain": [
       "<Figure size 432x288 with 1 Axes>"
      ]
     },
     "metadata": {},
     "output_type": "display_data"
    },
    {
     "name": "stdout",
     "output_type": "stream",
     "text": [
      "units: [128, 128, 128], dropout: 0.05\n",
      "0\n",
      "1\n",
      "2\n",
      "3\n",
      "4\n",
      "5\n",
      "6\n",
      "7\n",
      "8\n",
      "9\n"
     ]
    },
    {
     "data": {
      "image/png": "[encoded data removed]",
      "text/plain": [
       "<Figure size 432x288 with 1 Axes>"
      ]
     },
     "metadata": {},
     "output_type": "display_data"
    },
    {
     "name": "stdout",
     "output_type": "stream",
     "text": [
      "units: [256, 256, 128], dropout: 0.05\n",
      "0\n",
      "1\n",
      "2\n",
      "3\n",
      "4\n",
      "5\n",
      "6\n",
      "7\n",
      "8\n",
      "9\n"
     ]
    },
    {
     "data": {
      "image/png": "[encoded data removed]",
      "text/plain": [
       "<Figure size 432x288 with 1 Axes>"
      ]
     },
     "metadata": {},
     "output_type": "display_data"
    }
   ],
   "source": [
    "units = [[128,128],[128,128,128],[128,128,128],[256,256,128]]\n",
    "dropout_rates = [0,0,0.05,0.05]\n",
    "for u,dropout_rate in zip(units,dropout_rates):\n",
    "        model = delayNNmodel(input_shape, hidden_units = u, dropout_rate = dropout_rate)\n",
    "        print(\"units: {0}, dropout: {1}\".format(u,dropout_rate))\n",
    "        fit_and_plot(model,X_train_balanced,Y_train_balanced,X_test,Y_test,verbose=False,epochs=10)"
   ]
  },
  {
   "cell_type": "code",
   "execution_count": 45,
   "metadata": {},
   "outputs": [
    {
     "name": "stdout",
     "output_type": "stream",
     "text": [
      "units: [128, 128, 128], dropout: 0\n",
      "0\n",
      "1\n",
      "2\n",
      "3\n",
      "4\n",
      "5\n",
      "6\n",
      "7\n",
      "8\n",
      "9\n",
      "10\n",
      "11\n",
      "12\n",
      "13\n",
      "14\n",
      "15\n",
      "16\n",
      "17\n",
      "18\n",
      "19\n"
     ]
    },
    {
     "data": {
      "image/png": "[encoded data removed]",
      "text/plain": [
       "<Figure size 432x288 with 1 Axes>"
      ]
     },
     "metadata": {},
     "output_type": "display_data"
    },
    {
     "name": "stdout",
     "output_type": "stream",
     "text": [
      "units: [256, 256, 128], dropout: 0.05\n",
      "0\n",
      "1\n",
      "2\n",
      "3\n",
      "4\n",
      "5\n",
      "6\n",
      "7\n",
      "8\n",
      "9\n",
      "10\n",
      "11\n",
      "12\n",
      "13\n",
      "14\n",
      "15\n",
      "16\n",
      "17\n",
      "18\n",
      "19\n"
     ]
    },
    {
     "data": {
      "image/png": "[encoded data removed]",
      "text/plain": [
       "<Figure size 432x288 with 1 Axes>"
      ]
     },
     "metadata": {},
     "output_type": "display_data"
    }
   ],
   "source": [
    "units = [[128,128,128],[256,256,128]]\n",
    "dropout_rates = [0,0.05]\n",
    "for u,dropout_rate in zip(units,dropout_rates):\n",
    "        model = delayNNmodel(input_shape, hidden_units = u, dropout_rate = dropout_rate)\n",
    "        print(\"units: {0}, dropout: {1}\".format(u,dropout_rate))\n",
    "        fit_and_plot(model,X_train_balanced,Y_train_balanced,X_test,Y_test,verbose=False,epochs=20)"
   ]
  },
  {
   "cell_type": "code",
   "execution_count": 47,
   "metadata": {},
   "outputs": [
    {
     "name": "stdout",
     "output_type": "stream",
     "text": [
      "units: [256, 256, 128], dropout: 0.05\n",
      "0\n",
      "1\n",
      "2\n",
      "3\n",
      "4\n",
      "5\n",
      "6\n",
      "7\n",
      "8\n",
      "9\n",
      "10\n",
      "11\n",
      "12\n",
      "13\n",
      "14\n",
      "15\n",
      "16\n",
      "17\n",
      "18\n",
      "19\n",
      "20\n",
      "21\n",
      "22\n",
      "23\n",
      "24\n",
      "25\n",
      "26\n",
      "27\n",
      "28\n",
      "29\n",
      "30\n",
      "31\n",
      "32\n",
      "33\n",
      "34\n",
      "35\n",
      "36\n",
      "37\n",
      "38\n",
      "39\n"
     ]
    },
    {
     "data": {
      "image/png": "[encoded data removed]",
      "text/plain": [
       "<Figure size 432x288 with 1 Axes>"
      ]
     },
     "metadata": {},
     "output_type": "display_data"
    }
   ],
   "source": [
    "units = [[256,256,128]]\n",
    "dropout_rates = [0.05]\n",
    "for u,dropout_rate in zip(units,dropout_rates):\n",
    "        model = delayNNmodel(input_shape, hidden_units = u, dropout_rate = dropout_rate)\n",
    "        print(\"units: {0}, dropout: {1}\".format(u,dropout_rate))\n",
    "        fit_and_plot(model,X_train_balanced,Y_train_balanced,X_test,Y_test,verbose=False,epochs=40)"
   ]
  },
  {
   "cell_type": "code",
   "execution_count": 17,
   "metadata": {},
   "outputs": [
    {
     "name": "stdout",
     "output_type": "stream",
     "text": [
      "units: [256, 256, 128], dropout: 0.05\n",
      "0\n",
      "1\n",
      "2\n",
      "3\n",
      "4\n",
      "5\n",
      "6\n",
      "7\n",
      "8\n",
      "9\n",
      "10\n",
      "11\n",
      "12\n",
      "13\n",
      "14\n",
      "15\n",
      "16\n",
      "17\n",
      "18\n",
      "19\n",
      "20\n",
      "21\n",
      "22\n",
      "23\n",
      "24\n",
      "25\n",
      "26\n",
      "27\n",
      "28\n",
      "29\n",
      "30\n",
      "31\n",
      "32\n",
      "33\n",
      "34\n",
      "35\n",
      "36\n",
      "37\n",
      "38\n",
      "39\n",
      "40\n",
      "41\n",
      "42\n",
      "43\n",
      "44\n",
      "45\n",
      "46\n",
      "47\n",
      "48\n",
      "49\n",
      "50\n",
      "51\n",
      "52\n",
      "53\n",
      "54\n",
      "55\n",
      "56\n",
      "57\n",
      "58\n",
      "59\n",
      "60\n",
      "61\n",
      "62\n",
      "63\n",
      "64\n",
      "65\n",
      "66\n",
      "67\n",
      "68\n",
      "69\n",
      "70\n",
      "71\n",
      "72\n",
      "73\n",
      "74\n",
      "75\n",
      "76\n",
      "77\n",
      "78\n",
      "79\n"
     ]
    },
    {
     "data": {
      "image/png": "[encoded data removed]",
      "text/plain": [
       "<Figure size 432x288 with 1 Axes>"
      ]
     },
     "metadata": {},
     "output_type": "display_data"
    }
   ],
   "source": [
    "units = [[256,256,128]]\n",
    "input_shape = [X_train.shape[1]]\n",
    "dropout_rates = [0.05]\n",
    "for u,dropout_rate in zip(units,dropout_rates):\n",
    "        model = delayNNmodel(input_shape, hidden_units = u, dropout_rate = dropout_rate)\n",
    "        print(\"units: {0}, dropout: {1}\".format(u,dropout_rate))\n",
    "        fitted_model = fit_and_plot(model,X_train_balanced,Y_train_balanced,X_test,Y_test,verbose=False,epochs=80,\n",
    "                                    evaluate_offset=30)"
   ]
  },
  {
   "cell_type": "code",
   "execution_count": null,
   "metadata": {
    "collapsed": true
   },
   "outputs": [],
   "source": []
  }
 ],
 "metadata": {
  "kernelspec": {
   "display_name": "python352",
   "language": "python",
   "name": "python352"
  },
  "language_info": {
   "codemirror_mode": {
    "name": "ipython",
    "version": 3
   },
   "file_extension": ".py",
   "mimetype": "text/x-python",
   "name": "python",
   "nbconvert_exporter": "python",
   "pygments_lexer": "ipython3",
   "version": "3.5.2"
  }
 },
 "nbformat": 4,
 "nbformat_minor": 2
}
