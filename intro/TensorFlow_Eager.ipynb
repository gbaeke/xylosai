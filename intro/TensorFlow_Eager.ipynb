{
  "nbformat": 4,
  "nbformat_minor": 0,
  "metadata": {
    "colab": {
      "name": "TensorFlow Eager.ipynb",
      "version": "0.3.2",
      "provenance": [],
      "collapsed_sections": [],
      "include_colab_link": true
    },
    "kernelspec": {
      "name": "python3",
      "display_name": "Python 3"
    }
  },
  "cells": [
    {
      "cell_type": "markdown",
      "metadata": {
        "id": "view-in-github",
        "colab_type": "text"
      },
      "source": [
        "[View in Colaboratory](https://colab.research.google.com/github/gbaeke/xylosai/blob/master/intro/TensorFlow_Eager.ipynb)"
      ]
    },
    {
      "metadata": {
        "id": "L0zxG9QWV93k",
        "colab_type": "text"
      },
      "cell_type": "markdown",
      "source": [
        "Eager execution is an imperative programming environment. There is no need to build a graph and then execute it. Operations return concrete values.\n",
        "\n",
        "For more details also check [this](https://towardsdatascience.com/eager-execution-tensorflow-8042128ca7be)"
      ]
    },
    {
      "metadata": {
        "id": "EjgfHmcHVwng",
        "colab_type": "code",
        "colab": {}
      },
      "cell_type": "code",
      "source": [
        "import tensorflow as tf\n",
        "tf.enable_eager_execution()"
      ],
      "execution_count": 0,
      "outputs": []
    },
    {
      "metadata": {
        "id": "ZvNrGb6mWmRj",
        "colab_type": "code",
        "colab": {
          "base_uri": "https://localhost:8080/",
          "height": 33
        },
        "outputId": "9848c274-71ab-464e-9554-f41eafdb1566"
      },
      "cell_type": "code",
      "source": [
        "tf.executing_eagerly() # should return true"
      ],
      "execution_count": 2,
      "outputs": [
        {
          "output_type": "execute_result",
          "data": {
            "text/plain": [
              "True"
            ]
          },
          "metadata": {
            "tags": []
          },
          "execution_count": 2
        }
      ]
    },
    {
      "metadata": {
        "id": "FLDARGAxWq9x",
        "colab_type": "code",
        "colab": {}
      },
      "cell_type": "code",
      "source": [
        "vector_a = tf.constant([3,4])\n",
        "vector_b = tf.constant([1,2])"
      ],
      "execution_count": 0,
      "outputs": []
    },
    {
      "metadata": {
        "id": "VJhRcqOTXLMb",
        "colab_type": "code",
        "colab": {
          "base_uri": "https://localhost:8080/",
          "height": 33
        },
        "outputId": "49c4ff81-0cc4-48e1-a62f-7797d2332279"
      },
      "cell_type": "code",
      "source": [
        "total = vector_a + vector_b\n",
        "print(total) # the output operation is the actual value and not the tensor"
      ],
      "execution_count": 10,
      "outputs": [
        {
          "output_type": "stream",
          "text": [
            "tf.Tensor([4 6], shape=(2,), dtype=int32)\n"
          ],
          "name": "stdout"
        }
      ]
    },
    {
      "metadata": {
        "id": "LHoKFp-jXN-u",
        "colab_type": "code",
        "colab": {}
      },
      "cell_type": "code",
      "source": [
        "# tensors of different ranks\n",
        "# rank 0 (just a scalar)\n",
        "my_scalar = tf.constant(\"Elephant\", tf.string)\n",
        "\n",
        "# rank 1 (vector)\n",
        "my_vector = tf.constant([1,2,3,4])\n",
        "\n",
        "# rank 2 (matrix)\n",
        "my_matrix = tf.constant([[1,2], [3,4]])\n",
        "\n",
        "\n",
        "# rank 3 (cube, e.g. x and y coordinates for pixels + RGB values)\n",
        "my_cube = tf.constant([ [[1,2],[3,4]], [[5,6], [7,8]] ])"
      ],
      "execution_count": 0,
      "outputs": []
    },
    {
      "metadata": {
        "id": "kWNApqqzaSR5",
        "colab_type": "code",
        "colab": {
          "base_uri": "https://localhost:8080/",
          "height": 53
        },
        "outputId": "ada25308-8ca9-4593-c25e-a047a9cdc22f"
      },
      "cell_type": "code",
      "source": [
        "# print the ranks\n",
        "print(tf.rank(my_scalar), tf.rank(my_vector), tf.rank(my_matrix), tf.rank(my_cube))"
      ],
      "execution_count": 15,
      "outputs": [
        {
          "output_type": "stream",
          "text": [
            "tf.Tensor(0, shape=(), dtype=int32) tf.Tensor(1, shape=(), dtype=int32) tf.Tensor(2, shape=(), dtype=int32) tf.Tensor(3, shape=(), dtype=int32)\n"
          ],
          "name": "stdout"
        }
      ]
    },
    {
      "metadata": {
        "id": "MSaFuPl3bzNK",
        "colab_type": "code",
        "colab": {}
      },
      "cell_type": "code",
      "source": [
        ""
      ],
      "execution_count": 0,
      "outputs": []
    }
  ]
}