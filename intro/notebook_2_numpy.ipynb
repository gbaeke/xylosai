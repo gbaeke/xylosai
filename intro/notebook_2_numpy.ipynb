{
 "cells": [
  {
   "cell_type": "markdown",
   "metadata": {},
   "source": [
    "# 1 Install and import Numpy\n",
    "\n",
    "Numpy is a powerful third-party library to manipulate numerical data. Many of its methods perform calculates in a parallellized way, so that it can handle large arrays of data very efficiently. Moreover, it contains convenient built-in functions for all kinds of scientific, numerical and statistical calculations.\n",
    "\n",
    "First, we need to install it with the following command:\n",
    "\n",
    "- pip install numpy\n",
    "\n",
    "The pip package manager comes installed with Python. \n",
    "\n",
    "Instead of opening a command window, we can also run commands directly from this notebook:"
   ]
  },
  {
   "cell_type": "code",
   "execution_count": 6,
   "metadata": {
    "collapsed": false
   },
   "outputs": [
    {
     "name": "stdout",
     "output_type": "stream",
     "text": [
      "Requirement already satisfied: numpy in c:\\users\\pisa\\appdata\\roaming\\python\\python35\\site-packages (1.15.0)\n"
     ]
    }
   ],
   "source": [
    "! pip install numpy"
   ]
  },
  {
   "cell_type": "markdown",
   "metadata": {},
   "source": [
    "In most cases, but not always, the library can be imported in the code with the same name as the name of the package in the command above."
   ]
  },
  {
   "cell_type": "code",
   "execution_count": 2,
   "metadata": {
    "collapsed": false
   },
   "outputs": [],
   "source": [
    "import numpy as np # by convention, we import numpy as np."
   ]
  },
  {
   "cell_type": "markdown",
   "metadata": {},
   "source": [
    "# 2 Numpy Arrays\n",
    "\n",
    "## 2.1 Basics"
   ]
  },
  {
   "cell_type": "markdown",
   "metadata": {},
   "source": [
    "The basic object class in Numpy is an array. An array can have one or more dimensions of various sizes. "
   ]
  },
  {
   "cell_type": "code",
   "execution_count": 15,
   "metadata": {
    "collapsed": false
   },
   "outputs": [
    {
     "data": {
      "text/plain": [
       "array([1, 4, 5, 8])"
      ]
     },
     "execution_count": 15,
     "metadata": {},
     "output_type": "execute_result"
    }
   ],
   "source": [
    "#one-dimensional array\n",
    "\n",
    "array1 = np.array([1,4,5,8])\n",
    "array1 "
   ]
  },
  {
   "cell_type": "markdown",
   "metadata": {},
   "source": [
    "The input to the constructor is an \"array-like\" object (list, tuple, ...). Conversely, an array can be turned into a list as follows:"
   ]
  },
  {
   "cell_type": "code",
   "execution_count": 26,
   "metadata": {
    "collapsed": false
   },
   "outputs": [
    {
     "data": {
      "text/plain": [
       "[1, 4, 5, 8]"
      ]
     },
     "execution_count": 26,
     "metadata": {},
     "output_type": "execute_result"
    }
   ],
   "source": [
    "list1 = list(array1)\n",
    "list1"
   ]
  },
  {
   "cell_type": "code",
   "execution_count": 16,
   "metadata": {
    "collapsed": false
   },
   "outputs": [
    {
     "name": "stdout",
     "output_type": "stream",
     "text": [
      "<class 'numpy.ndarray'>\n"
     ]
    }
   ],
   "source": [
    "print(type(array1))"
   ]
  },
  {
   "cell_type": "code",
   "execution_count": 24,
   "metadata": {
    "collapsed": false
   },
   "outputs": [
    {
     "data": {
      "text/plain": [
       "array([[4, 5, 6],\n",
       "       [4, 8, 7]])"
      ]
     },
     "execution_count": 24,
     "metadata": {},
     "output_type": "execute_result"
    }
   ],
   "source": [
    "#two-dimensional array\n",
    "\n",
    "array2 = np.array([[4,5,6],[4,8,7]])\n",
    "array2\n"
   ]
  },
  {
   "cell_type": "code",
   "execution_count": 85,
   "metadata": {
    "collapsed": false
   },
   "outputs": [
    {
     "data": {
      "text/plain": [
       "array([[[[ 1,  2],\n",
       "         [ 3,  4]],\n",
       "\n",
       "        [[ 5,  6],\n",
       "         [ 7,  8]]],\n",
       "\n",
       "\n",
       "       [[[ 9, 10],\n",
       "         [11, 12]],\n",
       "\n",
       "        [[13, 14],\n",
       "         [15, 16]]]])"
      ]
     },
     "execution_count": 85,
     "metadata": {},
     "output_type": "execute_result"
    }
   ],
   "source": [
    "#four-dimensional array\n",
    "\n",
    "array4 = np.array([[[[1,2],[3,4]],[[5,6],[7,8]]],[[[9,10],[11,12]],[[13,14],[15,16]]]])\n",
    "array4"
   ]
  },
  {
   "cell_type": "markdown",
   "metadata": {},
   "source": [
    "The **dimensions** of the array can be found with the **shape attribute**."
   ]
  },
  {
   "cell_type": "code",
   "execution_count": 38,
   "metadata": {
    "collapsed": false
   },
   "outputs": [
    {
     "data": {
      "text/plain": [
       "array([[4, 5, 6],\n",
       "       [4, 8, 7]])"
      ]
     },
     "execution_count": 38,
     "metadata": {},
     "output_type": "execute_result"
    }
   ],
   "source": [
    "array2"
   ]
  },
  {
   "cell_type": "code",
   "execution_count": 39,
   "metadata": {
    "collapsed": false
   },
   "outputs": [
    {
     "data": {
      "text/plain": [
       "(2, 3)"
      ]
     },
     "execution_count": 39,
     "metadata": {},
     "output_type": "execute_result"
    }
   ],
   "source": [
    "array2.shape"
   ]
  },
  {
   "cell_type": "code",
   "execution_count": 86,
   "metadata": {
    "collapsed": false
   },
   "outputs": [
    {
     "data": {
      "text/plain": [
       "(2, 2, 2, 2)"
      ]
     },
     "execution_count": 86,
     "metadata": {},
     "output_type": "execute_result"
    }
   ],
   "source": [
    "array4.shape"
   ]
  },
  {
   "cell_type": "markdown",
   "metadata": {},
   "source": [
    "Creating an ordered array is done with np.arange() "
   ]
  },
  {
   "cell_type": "code",
   "execution_count": 151,
   "metadata": {
    "collapsed": false
   },
   "outputs": [
    {
     "data": {
      "text/plain": [
       "array([0, 1, 2, 3, 4, 5, 6, 7, 8, 9])"
      ]
     },
     "execution_count": 151,
     "metadata": {},
     "output_type": "execute_result"
    }
   ],
   "source": [
    "ordered_array = np.arange(10)\n",
    "ordered_array"
   ]
  },
  {
   "cell_type": "markdown",
   "metadata": {},
   "source": [
    "## 2.2 Numpy datatypes"
   ]
  },
  {
   "cell_type": "markdown",
   "metadata": {},
   "source": [
    "Unlike Python lists, a numpy array has a **fixed datatype**. Numpy defines a number of **built-in data types**."
   ]
  },
  {
   "cell_type": "code",
   "execution_count": 44,
   "metadata": {
    "collapsed": false
   },
   "outputs": [
    {
     "data": {
      "text/plain": [
       "dtype('int32')"
      ]
     },
     "execution_count": 44,
     "metadata": {},
     "output_type": "execute_result"
    }
   ],
   "source": [
    "array_int = np.array([[1,2],[3,4]])\n",
    "array_int.dtype"
   ]
  },
  {
   "cell_type": "code",
   "execution_count": 57,
   "metadata": {
    "collapsed": false
   },
   "outputs": [
    {
     "data": {
      "text/plain": [
       "array([[1, 2],\n",
       "       [3, 4]])"
      ]
     },
     "execution_count": 57,
     "metadata": {},
     "output_type": "execute_result"
    }
   ],
   "source": [
    "array_int"
   ]
  },
  {
   "cell_type": "code",
   "execution_count": 58,
   "metadata": {
    "collapsed": false
   },
   "outputs": [
    {
     "data": {
      "text/plain": [
       "4"
      ]
     },
     "execution_count": 58,
     "metadata": {},
     "output_type": "execute_result"
    }
   ],
   "source": [
    "array_int[1,1]"
   ]
  },
  {
   "cell_type": "code",
   "execution_count": 45,
   "metadata": {
    "collapsed": false
   },
   "outputs": [
    {
     "data": {
      "text/plain": [
       "dtype('float64')"
      ]
     },
     "execution_count": 45,
     "metadata": {},
     "output_type": "execute_result"
    }
   ],
   "source": [
    "array_float = np.array([[1.0,2.0],[3.0,4.0]])\n",
    "array_float.dtype"
   ]
  },
  {
   "cell_type": "code",
   "execution_count": 65,
   "metadata": {
    "collapsed": false
   },
   "outputs": [
    {
     "name": "stdout",
     "output_type": "stream",
     "text": [
      "1.0\n",
      "4.0\n",
      "<class 'numpy.float64'>\n",
      "<class 'numpy.float64'>\n"
     ]
    }
   ],
   "source": [
    "print(array_float[0,0])\n",
    "print(array_float[1,1])\n",
    "print(type(array_float[0,0]))\n",
    "print(type(array_float[1,1]))"
   ]
  },
  {
   "cell_type": "code",
   "execution_count": 52,
   "metadata": {
    "collapsed": false
   },
   "outputs": [
    {
     "data": {
      "text/plain": [
       "dtype('<U5')"
      ]
     },
     "execution_count": 52,
     "metadata": {},
     "output_type": "execute_result"
    }
   ],
   "source": [
    "array_string = np.array(['hello','world'])\n",
    "array_string.dtype"
   ]
  },
  {
   "cell_type": "code",
   "execution_count": 63,
   "metadata": {
    "collapsed": false
   },
   "outputs": [
    {
     "name": "stdout",
     "output_type": "stream",
     "text": [
      "hello\n",
      "world\n",
      "<class 'numpy.str_'>\n",
      "<class 'numpy.str_'>\n"
     ]
    }
   ],
   "source": [
    "print(array_string[0])\n",
    "print(array_string[1])\n",
    "print(type(array_string[0]))\n",
    "print(type(array_string[1]))"
   ]
  },
  {
   "cell_type": "markdown",
   "metadata": {},
   "source": [
    "A numpy array has **only one type**"
   ]
  },
  {
   "cell_type": "code",
   "execution_count": 68,
   "metadata": {
    "collapsed": false
   },
   "outputs": [
    {
     "data": {
      "text/plain": [
       "dtype('<U32')"
      ]
     },
     "execution_count": 68,
     "metadata": {},
     "output_type": "execute_result"
    }
   ],
   "source": [
    "array_mixed = np.array([5.0,\"hello\"]) #ERROR\n",
    "array_mixed.dtype"
   ]
  },
  {
   "cell_type": "code",
   "execution_count": 67,
   "metadata": {
    "collapsed": false
   },
   "outputs": [
    {
     "name": "stdout",
     "output_type": "stream",
     "text": [
      "5.0\n",
      "hello\n",
      "<class 'numpy.str_'>\n",
      "<class 'numpy.str_'>\n"
     ]
    }
   ],
   "source": [
    "print(array_mixed[0])\n",
    "print(array_mixed[1])\n",
    "print(type(array_mixed[0]))\n",
    "print(type(array_mixed[1]))"
   ]
  },
  {
   "cell_type": "markdown",
   "metadata": {},
   "source": [
    "## 2.3 Slicing and indexing arrays"
   ]
  },
  {
   "cell_type": "markdown",
   "metadata": {},
   "source": [
    "Select a specific element from the array by specifying the coordinates in square brackets. Remember that indices start at 0. "
   ]
  },
  {
   "cell_type": "code",
   "execution_count": 156,
   "metadata": {
    "collapsed": false
   },
   "outputs": [
    {
     "data": {
      "text/plain": [
       "array([[5, 6],\n",
       "       [7, 8]])"
      ]
     },
     "execution_count": 156,
     "metadata": {},
     "output_type": "execute_result"
    }
   ],
   "source": [
    "array2"
   ]
  },
  {
   "cell_type": "code",
   "execution_count": 158,
   "metadata": {
    "collapsed": false
   },
   "outputs": [
    {
     "data": {
      "text/plain": [
       "6"
      ]
     },
     "execution_count": 158,
     "metadata": {},
     "output_type": "execute_result"
    }
   ],
   "source": [
    "array2[0,1] #first row, second column"
   ]
  },
  {
   "cell_type": "markdown",
   "metadata": {},
   "source": [
    "Select an entire row or column with a colon."
   ]
  },
  {
   "cell_type": "code",
   "execution_count": 40,
   "metadata": {
    "collapsed": false
   },
   "outputs": [
    {
     "data": {
      "text/plain": [
       "array([4, 4])"
      ]
     },
     "execution_count": 40,
     "metadata": {},
     "output_type": "execute_result"
    }
   ],
   "source": [
    "array2[:,0]"
   ]
  },
  {
   "cell_type": "code",
   "execution_count": 42,
   "metadata": {
    "collapsed": false
   },
   "outputs": [
    {
     "data": {
      "text/plain": [
       "array([4, 8, 7])"
      ]
     },
     "execution_count": 42,
     "metadata": {},
     "output_type": "execute_result"
    }
   ],
   "source": [
    "array2[1,:]"
   ]
  },
  {
   "cell_type": "code",
   "execution_count": 41,
   "metadata": {
    "collapsed": false
   },
   "outputs": [
    {
     "data": {
      "text/plain": [
       "array([1, 2])"
      ]
     },
     "execution_count": 41,
     "metadata": {},
     "output_type": "execute_result"
    }
   ],
   "source": [
    "array4[0,0,0,:]"
   ]
  },
  {
   "cell_type": "code",
   "execution_count": 152,
   "metadata": {
    "collapsed": false
   },
   "outputs": [
    {
     "data": {
      "text/plain": [
       "array([0, 1, 2, 3, 4, 5, 6, 7, 8, 9])"
      ]
     },
     "execution_count": 152,
     "metadata": {},
     "output_type": "execute_result"
    }
   ],
   "source": [
    "ordered_array"
   ]
  },
  {
   "cell_type": "markdown",
   "metadata": {},
   "source": [
    "Make a stepwise selection with [start:stop:step]. The index 'start' will be included, index 'stop' is not included."
   ]
  },
  {
   "cell_type": "code",
   "execution_count": 159,
   "metadata": {
    "collapsed": false
   },
   "outputs": [
    {
     "data": {
      "text/plain": [
       "array([0, 1, 2, 3, 4, 5, 6, 7, 8])"
      ]
     },
     "execution_count": 159,
     "metadata": {},
     "output_type": "execute_result"
    }
   ],
   "source": [
    "ordered_array[0:9:1]"
   ]
  },
  {
   "cell_type": "code",
   "execution_count": 160,
   "metadata": {
    "collapsed": false
   },
   "outputs": [
    {
     "data": {
      "text/plain": [
       "array([0, 2, 4, 6, 8])"
      ]
     },
     "execution_count": 160,
     "metadata": {},
     "output_type": "execute_result"
    }
   ],
   "source": [
    "ordered_array[0:9:2]"
   ]
  },
  {
   "cell_type": "markdown",
   "metadata": {},
   "source": [
    "## 2.4 Exercise\n",
    "\n",
    "First, we create a random 4x4 2D array."
   ]
  },
  {
   "cell_type": "code",
   "execution_count": 12,
   "metadata": {
    "collapsed": false
   },
   "outputs": [
    {
     "data": {
      "text/plain": [
       "array([[44, 47, 64, 67, 67,  9, 83, 21, 36, 87, 70, 88],\n",
       "       [88, 12, 58, 65, 39, 87, 46, 88, 81, 37, 25, 77],\n",
       "       [72,  9, 20, 80, 69, 79, 47, 64, 82, 99, 88, 49],\n",
       "       [29, 19, 19, 14, 39, 32, 65,  9, 57, 32, 31, 74]])"
      ]
     },
     "execution_count": 12,
     "metadata": {},
     "output_type": "execute_result"
    }
   ],
   "source": [
    "np.random.seed(0)\n",
    "my_array = np.random.randint(0,100,(4,12))\n",
    "my_array"
   ]
  },
  {
   "cell_type": "markdown",
   "metadata": {},
   "source": [
    "Remove every second column from the array"
   ]
  },
  {
   "cell_type": "code",
   "execution_count": 14,
   "metadata": {
    "collapsed": false
   },
   "outputs": [
    {
     "data": {
      "text/plain": [
       "array([[44, 67, 36],\n",
       "       [88, 39, 81],\n",
       "       [72, 69, 82],\n",
       "       [29, 39, 57]])"
      ]
     },
     "execution_count": 14,
     "metadata": {},
     "output_type": "execute_result"
    }
   ],
   "source": [
    "#CODE HERE\n",
    "\n",
    "#SOLUTION\n",
    "my_array = my_array[:,0:12:2]\n",
    "my_array"
   ]
  },
  {
   "cell_type": "markdown",
   "metadata": {},
   "source": [
    "# 3 Calculations with arrays"
   ]
  },
  {
   "cell_type": "markdown",
   "metadata": {},
   "source": [
    "## 3.1 element-wise operations"
   ]
  },
  {
   "cell_type": "code",
   "execution_count": 15,
   "metadata": {
    "collapsed": false
   },
   "outputs": [
    {
     "name": "stdout",
     "output_type": "stream",
     "text": [
      "[[1 2]\n",
      " [3 4]]\n",
      "\n",
      "\n",
      "[[5 6]\n",
      " [7 8]]\n"
     ]
    }
   ],
   "source": [
    "array1 = np.array([[1,2],[3,4]])\n",
    "array2 = np.array([[5,6],[7,8]])\n",
    "print(array1)\n",
    "print(\"\\n\")\n",
    "print(array2)"
   ]
  },
  {
   "cell_type": "code",
   "execution_count": 16,
   "metadata": {
    "collapsed": false
   },
   "outputs": [
    {
     "data": {
      "text/plain": [
       "array([[ 5, 12],\n",
       "       [21, 32]])"
      ]
     },
     "execution_count": 16,
     "metadata": {},
     "output_type": "execute_result"
    }
   ],
   "source": [
    "array1*array2"
   ]
  },
  {
   "cell_type": "code",
   "execution_count": 18,
   "metadata": {
    "collapsed": false
   },
   "outputs": [
    {
     "data": {
      "text/plain": [
       "array([[False, False],\n",
       "       [False, False]])"
      ]
     },
     "execution_count": 18,
     "metadata": {},
     "output_type": "execute_result"
    }
   ],
   "source": [
    "array1>array2"
   ]
  },
  {
   "cell_type": "code",
   "execution_count": 72,
   "metadata": {
    "collapsed": false
   },
   "outputs": [
    {
     "data": {
      "text/plain": [
       "array([[-4, -4],\n",
       "       [-4, -4]])"
      ]
     },
     "execution_count": 72,
     "metadata": {},
     "output_type": "execute_result"
    }
   ],
   "source": [
    "array1 - array2"
   ]
  },
  {
   "cell_type": "code",
   "execution_count": 73,
   "metadata": {
    "collapsed": false
   },
   "outputs": [
    {
     "data": {
      "text/plain": [
       "array([[ 1,  4],\n",
       "       [ 9, 16]], dtype=int32)"
      ]
     },
     "execution_count": 73,
     "metadata": {},
     "output_type": "execute_result"
    }
   ],
   "source": [
    "array1 ** 2"
   ]
  },
  {
   "cell_type": "markdown",
   "metadata": {},
   "source": [
    "## 3.2 Matrix operations\n",
    "\n",
    "**matrix multiplication**"
   ]
  },
  {
   "cell_type": "code",
   "execution_count": 74,
   "metadata": {
    "collapsed": false
   },
   "outputs": [
    {
     "data": {
      "text/plain": [
       "array([[19, 22],\n",
       "       [43, 50]])"
      ]
     },
     "execution_count": 74,
     "metadata": {},
     "output_type": "execute_result"
    }
   ],
   "source": [
    "np.matmul(array1,array2)"
   ]
  },
  {
   "cell_type": "markdown",
   "metadata": {},
   "source": [
    "**transpose**\n",
    "\n",
    "Transposing a 2D array can be done with '.T'"
   ]
  },
  {
   "cell_type": "code",
   "execution_count": 76,
   "metadata": {
    "collapsed": false
   },
   "outputs": [
    {
     "name": "stdout",
     "output_type": "stream",
     "text": [
      "[[1 2]\n",
      " [3 4]]\n",
      "\n",
      "\n",
      "[[1 3]\n",
      " [2 4]]\n"
     ]
    }
   ],
   "source": [
    "print(array1)\n",
    "print(\"\\n\")\n",
    "print(array1.T)"
   ]
  },
  {
   "cell_type": "markdown",
   "metadata": {},
   "source": [
    "For moredimensional arrays, use **np.transpose()**. By default, it inverses the axes. You can also specify the exact permutation of the axes. See the [documentation for np.transpose()](https://docs.scipy.org/doc/numpy/reference/generated/numpy.transpose.html)"
   ]
  },
  {
   "cell_type": "code",
   "execution_count": 91,
   "metadata": {
    "collapsed": false
   },
   "outputs": [
    {
     "data": {
      "text/plain": [
       "(4, 2, 3)"
      ]
     },
     "execution_count": 91,
     "metadata": {},
     "output_type": "execute_result"
    }
   ],
   "source": [
    "array3 = np.array([[[1,2,0],[3,4,0]],[[5,6,0],[7,8,0]],[[11,22,0],[33,44,0]],[[55,66,0],[77,88,0]]])\n",
    "array3.shape"
   ]
  },
  {
   "cell_type": "code",
   "execution_count": 92,
   "metadata": {
    "collapsed": false
   },
   "outputs": [
    {
     "data": {
      "text/plain": [
       "(3, 2, 4)"
      ]
     },
     "execution_count": 92,
     "metadata": {},
     "output_type": "execute_result"
    }
   ],
   "source": [
    "array3_transposed = np.transpose(array3)\n",
    "array3_transposed.shape"
   ]
  },
  {
   "cell_type": "code",
   "execution_count": 94,
   "metadata": {
    "collapsed": false
   },
   "outputs": [
    {
     "data": {
      "text/plain": [
       "(2, 3, 4)"
      ]
     },
     "execution_count": 94,
     "metadata": {},
     "output_type": "execute_result"
    }
   ],
   "source": [
    "array3_transposed = np.transpose(array3,axes=(1,2,0))\n",
    "array3_transposed.shape"
   ]
  },
  {
   "cell_type": "markdown",
   "metadata": {},
   "source": [
    "# 3.3 Broadcasting\n",
    "\n",
    "Broadcasting describes how operations are done on arrays of different shapes. Remember, when using the **asteriks\\*-operator**, the arrays are multiplied elementwise. "
   ]
  },
  {
   "cell_type": "code",
   "execution_count": 109,
   "metadata": {
    "collapsed": false
   },
   "outputs": [
    {
     "name": "stdout",
     "output_type": "stream",
     "text": [
      "[[1 2]\n",
      " [3 4]]\n",
      "\n",
      "\n",
      "[[5 6]\n",
      " [7 8]]\n"
     ]
    }
   ],
   "source": [
    "array1 = np.array([[1,2],[3,4]])\n",
    "array2 = np.array([[5,6],[7,8]])\n",
    "print(array1)\n",
    "print(\"\\n\")\n",
    "print(array2)"
   ]
  },
  {
   "cell_type": "code",
   "execution_count": 110,
   "metadata": {
    "collapsed": false
   },
   "outputs": [
    {
     "data": {
      "text/plain": [
       "array([[ 5, 12],\n",
       "       [21, 32]])"
      ]
     },
     "execution_count": 110,
     "metadata": {},
     "output_type": "execute_result"
    }
   ],
   "source": [
    "array1*array2"
   ]
  },
  {
   "cell_type": "markdown",
   "metadata": {},
   "source": [
    "Thanks to broadcasting, we can do more. For example, we can multiply a multidimensional array with a single scalar."
   ]
  },
  {
   "cell_type": "code",
   "execution_count": 111,
   "metadata": {
    "collapsed": false
   },
   "outputs": [
    {
     "data": {
      "text/plain": [
       "array([[ 5, 10],\n",
       "       [15, 20]])"
      ]
     },
     "execution_count": 111,
     "metadata": {},
     "output_type": "execute_result"
    }
   ],
   "source": [
    "array1 * 5"
   ]
  },
  {
   "cell_type": "markdown",
   "metadata": {},
   "source": [
    "The value \"5\" above is **\"broadcast\" accross the larger array so that the shapes become compatible**. The statement above is thus\n",
    "equivalent to the one below."
   ]
  },
  {
   "cell_type": "code",
   "execution_count": 112,
   "metadata": {
    "collapsed": false
   },
   "outputs": [
    {
     "data": {
      "text/plain": [
       "array([[ 5, 10],\n",
       "       [15, 20]])"
      ]
     },
     "execution_count": 112,
     "metadata": {},
     "output_type": "execute_result"
    }
   ],
   "source": [
    "array1 * np.array([[5,5],[5,5]])"
   ]
  },
  {
   "cell_type": "markdown",
   "metadata": {},
   "source": [
    "We can also do the following."
   ]
  },
  {
   "cell_type": "code",
   "execution_count": 119,
   "metadata": {
    "collapsed": false
   },
   "outputs": [
    {
     "name": "stdout",
     "output_type": "stream",
     "text": [
      "[[1 2]\n",
      " [3 4]]\n",
      "\n",
      "\n",
      "[5 6]\n",
      "\n",
      "shape of array1:  (2, 2)\n",
      "shape of array3:  (2,)\n"
     ]
    }
   ],
   "source": [
    "array3 = np.array([5,6])\n",
    "\n",
    "print(array1)\n",
    "print(\"\\n\")\n",
    "print(array3)\n",
    "\n",
    "print(\"\\nshape of array1: \",array1.shape)\n",
    "print(\"shape of array3: \",array3.shape)\n"
   ]
  },
  {
   "cell_type": "code",
   "execution_count": 114,
   "metadata": {
    "collapsed": false
   },
   "outputs": [
    {
     "data": {
      "text/plain": [
       "array([[ 5, 12],\n",
       "       [15, 24]])"
      ]
     },
     "execution_count": 114,
     "metadata": {},
     "output_type": "execute_result"
    }
   ],
   "source": [
    "array3 * array1"
   ]
  },
  {
   "cell_type": "code",
   "execution_count": 117,
   "metadata": {
    "collapsed": false
   },
   "outputs": [
    {
     "data": {
      "text/plain": [
       "array([[ 5, 12],\n",
       "       [15, 24]])"
      ]
     },
     "execution_count": 117,
     "metadata": {},
     "output_type": "execute_result"
    }
   ],
   "source": [
    "array1 * array3"
   ]
  },
  {
   "cell_type": "markdown",
   "metadata": {},
   "source": [
    "again, array3 was broadcast over the larger array1. The above is equivalent to the following:"
   ]
  },
  {
   "cell_type": "code",
   "execution_count": 118,
   "metadata": {
    "collapsed": false
   },
   "outputs": [
    {
     "data": {
      "text/plain": [
       "array([[ 5, 12],\n",
       "       [15, 24]])"
      ]
     },
     "execution_count": 118,
     "metadata": {},
     "output_type": "execute_result"
    }
   ],
   "source": [
    "array1 * np.array([[5,6],[5,6]])"
   ]
  },
  {
   "cell_type": "markdown",
   "metadata": {},
   "source": [
    "Of course, broadcasting will never work if the shapes don't allow it. The **dimensions must be compatible**. Dimensions are compatible when\n",
    "\n",
    "1. dimensions of both arrays are equal (obviously)\n",
    "2. one of the dimensions (of either array) is 1"
   ]
  },
  {
   "cell_type": "code",
   "execution_count": 121,
   "metadata": {
    "collapsed": false
   },
   "outputs": [
    {
     "name": "stdout",
     "output_type": "stream",
     "text": [
      "[[1 2]\n",
      " [3 4]]\n",
      "\n",
      "\n",
      "[[1 2]\n",
      " [3 4]\n",
      " [5 6]\n",
      " [7 8]]\n",
      "\n",
      "shape of array1:  (2, 2)\n",
      "shape of array4:  (4, 2)\n"
     ]
    }
   ],
   "source": [
    "array4 = np.array([[1,2],[3,4],[5,6],[7,8]])\n",
    "\n",
    "print(array1)\n",
    "print(\"\\n\")\n",
    "print(array4)\n",
    "\n",
    "print(\"\\nshape of array1: \",array1.shape)\n",
    "print(\"shape of array4: \",array4.shape)"
   ]
  },
  {
   "cell_type": "code",
   "execution_count": 122,
   "metadata": {
    "collapsed": false
   },
   "outputs": [
    {
     "ename": "ValueError",
     "evalue": "operands could not be broadcast together with shapes (2,2) (4,2) ",
     "output_type": "error",
     "traceback": [
      "\u001b[1;31m---------------------------------------------------------------------------\u001b[0m",
      "\u001b[1;31mValueError\u001b[0m                                Traceback (most recent call last)",
      "\u001b[1;32m<ipython-input-122-c8fc1765e3d8>\u001b[0m in \u001b[0;36m<module>\u001b[1;34m()\u001b[0m\n\u001b[1;32m----> 1\u001b[1;33m \u001b[0marray1\u001b[0m \u001b[1;33m*\u001b[0m \u001b[0marray4\u001b[0m\u001b[1;33m\u001b[0m\u001b[0m\n\u001b[0m",
      "\u001b[1;31mValueError\u001b[0m: operands could not be broadcast together with shapes (2,2) (4,2) "
     ]
    }
   ],
   "source": [
    "array1 * array4"
   ]
  },
  {
   "cell_type": "markdown",
   "metadata": {},
   "source": [
    "## 3.4 Vectorization (advanced)\n",
    "\n",
    "With vectorization, you can create vectorized functions to perform **custom operations** on arrays. Below is a short example, read more in the [documentation!](https://docs.scipy.org/doc/numpy/reference/generated/numpy.vectorize.html)"
   ]
  },
  {
   "cell_type": "code",
   "execution_count": 98,
   "metadata": {
    "collapsed": true
   },
   "outputs": [],
   "source": [
    "def myfunc(a, b):\n",
    "    \"Return a-b if a>b, otherwise return a+b\"\n",
    "    if a > b:\n",
    "        return a - b\n",
    "    else:\n",
    "        return a + b"
   ]
  },
  {
   "cell_type": "code",
   "execution_count": 99,
   "metadata": {
    "collapsed": false
   },
   "outputs": [
    {
     "data": {
      "text/plain": [
       "9"
      ]
     },
     "execution_count": 99,
     "metadata": {},
     "output_type": "execute_result"
    }
   ],
   "source": [
    "myfunc(4,5)"
   ]
  },
  {
   "cell_type": "code",
   "execution_count": 97,
   "metadata": {
    "collapsed": true
   },
   "outputs": [],
   "source": [
    "vfunc = np.vectorize(myfunc)"
   ]
  },
  {
   "cell_type": "code",
   "execution_count": 103,
   "metadata": {
    "collapsed": false
   },
   "outputs": [
    {
     "name": "stdout",
     "output_type": "stream",
     "text": [
      "[[1 2]\n",
      " [7 8]]\n",
      "\n",
      "\n",
      "[[7 8]\n",
      " [6 5]]\n"
     ]
    }
   ],
   "source": [
    "array1 = np.array([[1,2],[7,8]])\n",
    "array2 = np.array([[7,8],[6,5]])\n",
    "\n",
    "print(array1)\n",
    "print(\"\\n\")\n",
    "print(array2)"
   ]
  },
  {
   "cell_type": "code",
   "execution_count": 104,
   "metadata": {
    "collapsed": false
   },
   "outputs": [
    {
     "data": {
      "text/plain": [
       "array([[ 8, 10],\n",
       "       [ 1,  3]])"
      ]
     },
     "execution_count": 104,
     "metadata": {},
     "output_type": "execute_result"
    }
   ],
   "source": [
    "vfunc(array1,array2)"
   ]
  },
  {
   "cell_type": "markdown",
   "metadata": {},
   "source": [
    "The **broadcasting rule applies** here too."
   ]
  },
  {
   "cell_type": "code",
   "execution_count": 108,
   "metadata": {
    "collapsed": false
   },
   "outputs": [
    {
     "data": {
      "text/plain": [
       "array([[1, 2],\n",
       "       [7, 8]])"
      ]
     },
     "execution_count": 108,
     "metadata": {},
     "output_type": "execute_result"
    }
   ],
   "source": [
    "array1"
   ]
  },
  {
   "cell_type": "code",
   "execution_count": 107,
   "metadata": {
    "collapsed": false
   },
   "outputs": [
    {
     "data": {
      "text/plain": [
       "array([5, 6])"
      ]
     },
     "execution_count": 107,
     "metadata": {},
     "output_type": "execute_result"
    }
   ],
   "source": [
    "array3 = np.array([5,6])\n",
    "array3"
   ]
  },
  {
   "cell_type": "code",
   "execution_count": 106,
   "metadata": {
    "collapsed": false
   },
   "outputs": [
    {
     "data": {
      "text/plain": [
       "array([[6, 8],\n",
       "       [2, 2]])"
      ]
     },
     "execution_count": 106,
     "metadata": {},
     "output_type": "execute_result"
    }
   ],
   "source": [
    "vfunc(array1,array3)"
   ]
  },
  {
   "cell_type": "markdown",
   "metadata": {},
   "source": [
    "Does this result make sense?"
   ]
  },
  {
   "cell_type": "markdown",
   "metadata": {},
   "source": [
    "## 3.5 Exercise\n",
    "\n",
    "**hints:** With the *np.ndarray.max()* function, we can find the mean of an array along a given axis. For example, the code below finds a vector *max_vector* that represents that mean of every row in *my_array*."
   ]
  },
  {
   "cell_type": "code",
   "execution_count": 37,
   "metadata": {
    "collapsed": false
   },
   "outputs": [
    {
     "name": "stdout",
     "output_type": "stream",
     "text": [
      "(4, 6)\n",
      "\n",
      "[[88 24 67 82  3 76]\n",
      " [35 86 61 69 87 43]\n",
      " [32 11 84 10 54 37]\n",
      " [28  2 27 83 89 23]]\n"
     ]
    }
   ],
   "source": [
    "my_array = np.random.randint(0,100,(4,6))\n",
    "print(my_array.shape)\n",
    "print(\"\")\n",
    "print(my_array)"
   ]
  },
  {
   "cell_type": "code",
   "execution_count": 52,
   "metadata": {
    "collapsed": false
   },
   "outputs": [
    {
     "name": "stdout",
     "output_type": "stream",
     "text": [
      "(4,)\n",
      "the means of the rows are...\n",
      "[56.66666667 63.5        38.         42.        ]\n"
     ]
    }
   ],
   "source": [
    "mean_vector = my_array.mean(axis=1) #axis indexing starts at 0, so axis=1 means the second axis.\n",
    "print(mean_vector.shape)\n",
    "print(\"the means of the rows are...\")\n",
    "print(mean_vector)"
   ]
  },
  {
   "cell_type": "markdown",
   "metadata": {},
   "source": [
    "The resulting array is 1-dimensional. In order to support broadcasting with the (4,6) array, the row must be of shape (4,1). Use np.expand_dims():"
   ]
  },
  {
   "cell_type": "code",
   "execution_count": 54,
   "metadata": {
    "collapsed": false
   },
   "outputs": [
    {
     "name": "stdout",
     "output_type": "stream",
     "text": [
      "(4, 1, 1)\n",
      "\n",
      "[[[56.66666667]]\n",
      "\n",
      " [[63.5       ]]\n",
      "\n",
      " [[38.        ]]\n",
      "\n",
      " [[42.        ]]]\n"
     ]
    }
   ],
   "source": [
    "mean_vector = np.expand_dims(mean_vector,1)\n",
    "print(mean_vector.shape)\n",
    "print(\"\")\n",
    "print(mean_vector)\n"
   ]
  },
  {
   "cell_type": "markdown",
   "metadata": {},
   "source": [
    "**Exercise:** From my_array, create an array where some elements are replaced by zero:\n",
    "1. If the value is higher than the mean value of its row, keep the original value\n",
    "2. If the value is lower than the mean value of its row, set the value to zero.\n"
   ]
  },
  {
   "cell_type": "code",
   "execution_count": 56,
   "metadata": {
    "collapsed": false
   },
   "outputs": [
    {
     "name": "stdout",
     "output_type": "stream",
     "text": [
      "(4, 6)\n",
      "\n",
      "[[53 51 46 20 53 29]\n",
      " [67 35 39  9 73 41]\n",
      " [23  3 46 90 50  3]\n",
      " [31  9 10 27 45 71]]\n"
     ]
    }
   ],
   "source": [
    "my_array = np.random.randint(0,100,(4,6))\n",
    "print(my_array.shape)\n",
    "print(\"\")\n",
    "print(my_array)"
   ]
  },
  {
   "cell_type": "code",
   "execution_count": 57,
   "metadata": {
    "collapsed": false
   },
   "outputs": [
    {
     "name": "stdout",
     "output_type": "stream",
     "text": [
      "[[53 51 46  0 53  0]\n",
      " [67  0  0  0 73  0]\n",
      " [ 0  0 46 90 50  0]\n",
      " [ 0  0  0  0 45 71]]\n"
     ]
    }
   ],
   "source": [
    "#CODE HERE\n",
    "\n",
    "#SOLUTION\n",
    "#also emphasize importance of documentation. Explain how array1 is of type numpy.ndarray, and the linked page refers to a function\n",
    "#that can be used on this object. This is different from functions like np.expand_dims(arr,...) where the array is an argument. However, \n",
    "#np.mean(arr, axis..) also exists!!\n",
    "\n",
    "#step 1: find the maximums of all rows\n",
    "mean_vector = my_array.mean(axis = 1)\n",
    "\n",
    "#step 2. The resulting array is 1 dimensional, it has a shape \"(of 4,)\". Transform it into a (4,1) array. Why not a (1,4) array?\n",
    "mean_vector = np.expand_dims(mean_vector,1)\n",
    "\n",
    "#step 2. Create an array of boolean values by comparing each element with the mean of its row. Take advantage of broadcasting.\n",
    "boolean_mask = (my_array > mean_vector)\n",
    "\n",
    "#step 3: simply multiply the original array with the boolean mask to set all values corresponding to \"False\" to zero.\n",
    "my_array = my_array * boolean_mask\n",
    "\n",
    "print(my_array)\n",
    "\n"
   ]
  },
  {
   "cell_type": "markdown",
   "metadata": {},
   "source": [
    "# 4 Numpy and images\n",
    "\n",
    "## 4.1 OpenCV\n",
    "\n",
    "Images can be represented as arrays of numbers. A **coloured RGB image is a threedimensional array**, where the first two dimensions represent the horizontal and vertical axes. The third dimension contains the pixel values for the three base colours Red, Green and Blue.\n",
    "\n",
    "Images can be read and manipulated with the third-party open-source library **openCV**. We also use matplotlib here to visualize an image."
   ]
  },
  {
   "cell_type": "code",
   "execution_count": 136,
   "metadata": {
    "collapsed": false
   },
   "outputs": [
    {
     "name": "stdout",
     "output_type": "stream",
     "text": [
      "Requirement already satisfied: opencv-python in c:\\users\\pisa\\appdata\\local\\programs\\python\\python35\\lib\\site-packages (3.4.1.15)\n",
      "Requirement already satisfied: numpy>=1.11.1 in c:\\users\\pisa\\appdata\\roaming\\python\\python35\\site-packages (from opencv-python) (1.15.0)\n",
      "Requirement already satisfied: matplotlib in c:\\users\\pisa\\appdata\\local\\programs\\python\\python35\\lib\\site-packages (2.2.2)\n",
      "Requirement already satisfied: pytz in c:\\users\\pisa\\appdata\\local\\programs\\python\\python35\\lib\\site-packages (from matplotlib) (2018.4)\n",
      "Requirement already satisfied: numpy>=1.7.1 in c:\\users\\pisa\\appdata\\roaming\\python\\python35\\site-packages (from matplotlib) (1.15.0)\n",
      "Requirement already satisfied: pyparsing!=2.0.4,!=2.1.2,!=2.1.6,>=2.0.1 in c:\\users\\pisa\\appdata\\local\\programs\\python\\python35\\lib\\site-packages (from matplotlib) (2.2.0)\n",
      "Requirement already satisfied: six>=1.10 in c:\\users\\pisa\\appdata\\roaming\\python\\python35\\site-packages (from matplotlib) (1.11.0)\n",
      "Requirement already satisfied: python-dateutil>=2.1 in c:\\users\\pisa\\appdata\\local\\programs\\python\\python35\\lib\\site-packages (from matplotlib) (2.7.3)\n",
      "Requirement already satisfied: kiwisolver>=1.0.1 in c:\\users\\pisa\\appdata\\local\\programs\\python\\python35\\lib\\site-packages (from matplotlib) (1.0.1)\n",
      "Requirement already satisfied: cycler>=0.10 in c:\\users\\pisa\\appdata\\local\\programs\\python\\python35\\lib\\site-packages (from matplotlib) (0.10.0)\n",
      "Requirement already satisfied: setuptools in c:\\users\\pisa\\appdata\\roaming\\python\\python35\\site-packages (from kiwisolver>=1.0.1->matplotlib) (39.1.0)\n"
     ]
    }
   ],
   "source": [
    "! pip install opencv-python\n",
    "! pip install matplotlib"
   ]
  },
  {
   "cell_type": "code",
   "execution_count": 137,
   "metadata": {
    "collapsed": true
   },
   "outputs": [],
   "source": [
    "import cv2\n",
    "import matplotlib.pyplot as plt # matlotlib is an often-used library. Matplotlib.pyplot is typically imported as plt."
   ]
  },
  {
   "cell_type": "code",
   "execution_count": 134,
   "metadata": {
    "collapsed": true
   },
   "outputs": [],
   "source": [
    "image = cv2.imread(\"images/bird.jpg\")"
   ]
  },
  {
   "cell_type": "code",
   "execution_count": 135,
   "metadata": {
    "collapsed": false
   },
   "outputs": [
    {
     "name": "stdout",
     "output_type": "stream",
     "text": [
      "<class 'numpy.ndarray'>\n",
      "(600, 697, 3)\n"
     ]
    }
   ],
   "source": [
    "print(type(image))\n",
    "print(image.shape)"
   ]
  },
  {
   "cell_type": "markdown",
   "metadata": {},
   "source": [
    "OpenCV works perfectly with Numpy. The returned image is a numpy array of 600x697 pixels and 3 colour channels.\n",
    "\n",
    "Let's **visualize** the image with matplotlib."
   ]
  },
  {
   "cell_type": "code",
   "execution_count": 139,
   "metadata": {
    "collapsed": false
   },
   "outputs": [
    {
     "data": {
      "text/plain": [
       "<matplotlib.image.AxesImage at 0x1413f7c5cc0>"
      ]
     },
     "execution_count": 139,
     "metadata": {},
     "output_type": "execute_result"
    },
    {
     "data": {
      "image/png": "[encoded data removed]",
      "text/plain": [
       "<Figure size 432x288 with 1 Axes>"
      ]
     },
     "metadata": {},
     "output_type": "display_data"
    }
   ],
   "source": [
    "plt.imshow(image)"
   ]
  },
  {
   "cell_type": "markdown",
   "metadata": {},
   "source": [
    "Looks great? Not really... In the original image, the bird was blue. Watch out for the following caveat.\n",
    "\n",
    "**An image read by openCV is in BGR (blue-green-red) mode, while matplotlib displays in RGB (red-green-blue)**. We will fix this in the exercises."
   ]
  },
  {
   "cell_type": "markdown",
   "metadata": {},
   "source": [
    "## 4.2 Exercise 2: fix the bird (advanced)\n",
    "\n",
    "In the previous section, matplotlib displayed the image in RGB, while it was read in BGR mode. Use a workaround to display the image correctly.\n",
    "\n",
    "hint: The image is read in BGR mode. It must be swapped to RGB. Using indexing, grab the slices of the BGR array corresponding to each colour, and then use np.concatenate() to create a RGB image.\n",
    "\n",
    "You will use  [np.concatenate](https://docs.scipy.org/doc/numpy/reference/generated/numpy.concatenate.html) and [np.expand_dims()](https://docs.scipy.org/doc/numpy/reference/generated/numpy.expand_dims.html)"
   ]
  },
  {
   "cell_type": "code",
   "execution_count": 175,
   "metadata": {
    "collapsed": false
   },
   "outputs": [
    {
     "data": {
      "text/plain": [
       "(600, 697, 3)"
      ]
     },
     "execution_count": 175,
     "metadata": {},
     "output_type": "execute_result"
    }
   ],
   "source": [
    "image_BGR = cv2.imread(\"images/bird.jpg\")\n",
    "image_BGR.shape"
   ]
  },
  {
   "cell_type": "code",
   "execution_count": 179,
   "metadata": {
    "collapsed": false
   },
   "outputs": [],
   "source": [
    "#CODE HERE\n",
    "\n",
    "#SOLUTION\n",
    "\n",
    "#slice the image, seperating the three colours\n",
    "image_B = image_BGR[:,:,0]\n",
    "image_G = image_BGR[:,:,1]\n",
    "image_R = image_BGR[:,:,2]\n",
    "\n",
    "#the resulting slices are only two-dimensional. Use np.expand_dims() to transform these slices back to three-dimensional arrays,\n",
    "#where the third dimension has size 1. Pick the right axis!\n",
    "image_B = np.expand_dims(image_B,axis=2)\n",
    "image_G = np.expand_dims(image_G,axis=2)\n",
    "image_R = np.expand_dims(image_R,axis=2)\n",
    "\n",
    "#concanate the slices with np.concatenate(). Pick the right axis!\n",
    "image_RGB = np.concatenate((image_R,image_G,image_B),axis = 2) #concanate along third axis (axis = 2)\n",
    "\n"
   ]
  },
  {
   "cell_type": "markdown",
   "metadata": {},
   "source": [
    "If everything is correct, the image below should display the bird in it's original blue colour."
   ]
  },
  {
   "cell_type": "code",
   "execution_count": 180,
   "metadata": {
    "collapsed": false
   },
   "outputs": [
    {
     "data": {
      "text/plain": [
       "<matplotlib.image.AxesImage at 0x1414097c0b8>"
      ]
     },
     "execution_count": 180,
     "metadata": {},
     "output_type": "execute_result"
    },
    {
     "data": {
      "image/png": "[encoded data removed]",
      "text/plain": [
       "<Figure size 432x288 with 1 Axes>"
      ]
     },
     "metadata": {},
     "output_type": "display_data"
    }
   ],
   "source": [
    "plt.imshow(image_RGB)"
   ]
  },
  {
   "cell_type": "code",
   "execution_count": null,
   "metadata": {
    "collapsed": true
   },
   "outputs": [],
   "source": []
  }
 ],
 "metadata": {
  "kernelspec": {
   "display_name": "python352",
   "language": "python",
   "name": "python352"
  },
  "language_info": {
   "codemirror_mode": {
    "name": "ipython",
    "version": 3
   },
   "file_extension": ".py",
   "mimetype": "text/x-python",
   "name": "python",
   "nbconvert_exporter": "python",
   "pygments_lexer": "ipython3",
   "version": "3.5.2"
  }
 },
 "nbformat": 4,
 "nbformat_minor": 0
}
