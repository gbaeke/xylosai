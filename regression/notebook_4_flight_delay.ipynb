{
 "cells": [
  {
   "cell_type": "markdown",
   "metadata": {
    "colab_type": "text",
    "id": "MwngwnyQLxb4"
   },
   "source": [
    "# 0 Imports and helper functions"
   ]
  },
  {
   "cell_type": "markdown",
   "metadata": {
    "colab_type": "text",
    "id": "SrzCM8CTLxb5"
   },
   "source": [
    "https://gallery.azure.ai/Experiment/837e2095ce784f1ba5ac623a60232027"
   ]
  },
  {
   "cell_type": "code",
   "execution_count": 0,
   "metadata": {
    "colab": {},
    "colab_type": "code",
    "collapsed": true,
    "id": "GjJbEpzrLxb6"
   },
   "outputs": [],
   "source": [
    "import sklearn\n",
    "import pandas as pd\n",
    "from sklearn import tree\n",
    "import numpy as np\n",
    "from sklearn.model_selection import train_test_split\n",
    "import matplotlib.pyplot as plt\n",
    "import time\n",
    "from sklearn.metrics import roc_curve, auc\n",
    "import json\n",
    "\n",
    "%matplotlib inline"
   ]
  },
  {
   "cell_type": "markdown",
   "metadata": {
    "colab_type": "text",
    "id": "Y-pD4GKSLxcF"
   },
   "source": [
    "# 1 Loading the data"
   ]
  },
  {
   "cell_type": "code",
   "execution_count": 0,
   "metadata": {
    "colab": {},
    "colab_type": "code",
    "collapsed": true,
    "id": "BjTEPQQxL681"
   },
   "outputs": [],
   "source": [
    "# from google.colab import drive\n",
    "# drive.mount('/content/drive')\n"
   ]
  },
  {
   "cell_type": "code",
   "execution_count": 0,
   "metadata": {
    "colab": {},
    "colab_type": "code",
    "collapsed": true,
    "id": "t7yj-Z4L2Elp"
   },
   "outputs": [],
   "source": [
    "# delays = pd.read_csv(\"/content/drive/My Drive/xylosai/regression/FlightDelaysData.csv\",header=0)"
   ]
  },
  {
   "cell_type": "code",
   "execution_count": 0,
   "metadata": {
    "colab": {},
    "colab_type": "code",
    "collapsed": true,
    "id": "f16oMvvV2Efw"
   },
   "outputs": [],
   "source": [
    "# weather = pd.read_csv(\"/content/drive/My Drive/xylosai/regression/WeatherDataset.csv\",header=0)"
   ]
  },
  {
   "cell_type": "code",
   "execution_count": 8,
   "metadata": {
    "colab": {
     "base_uri": "https://localhost:8080/",
     "height": 51
    },
    "colab_type": "code",
    "collapsed": false,
    "executionInfo": {
     "elapsed": 10864,
     "status": "ok",
     "timestamp": 1538999555413,
     "user": {
      "displayName": "Pieter Sap",
      "photoUrl": "",
      "userId": "15749761891409076289"
     },
     "user_tz": -120
    },
    "id": "-AK9qFjagwdk",
    "outputId": "f5903e05-bba1-4c18-ab01-4045483d228a"
   },
   "outputs": [
    {
     "name": "stderr",
     "output_type": "stream",
     "text": [
      "/usr/local/lib/python2.7/dist-packages/IPython/core/interactiveshell.py:2718: DtypeWarning: Columns (7,16) have mixed types. Specify dtype option on import or set low_memory=False.\n",
      "  interactivity=interactivity, compiler=compiler, result=result)\n"
     ]
    }
   ],
   "source": [
    "\n",
    "delays = pd.read_csv(\"/content/drive/My Drive/xylosai/regression/FlightDelaysData.csv\",header=0)\n",
    "weather = pd.read_csv(\"/content/drive/My Drive/xylosai/regression/WeatherDataset.csv\",header=0)"
   ]
  },
  {
   "cell_type": "code",
   "execution_count": 0,
   "metadata": {
    "colab": {},
    "colab_type": "code",
    "collapsed": true,
    "id": "30E86OuVLxcG"
   },
   "outputs": [],
   "source": [
    "# delays = pd.read_csv(\"FlightDelaysData.csv\",header=0)\n",
    "# weather = pd.read_csv(\"WeatherDataset.csv\",header=0)"
   ]
  },
  {
   "cell_type": "code",
   "execution_count": 10,
   "metadata": {
    "colab": {
     "base_uri": "https://localhost:8080/",
     "height": 204
    },
    "colab_type": "code",
    "collapsed": false,
    "executionInfo": {
     "elapsed": 498,
     "status": "ok",
     "timestamp": 1538999563270,
     "user": {
      "displayName": "Pieter Sap",
      "photoUrl": "",
      "userId": "15749761891409076289"
     },
     "user_tz": -120
    },
    "id": "Ya2o1j3OLxcJ",
    "outputId": "75d9bb5d-b858-4d63-97c5-b3a7f9f4760c"
   },
   "outputs": [
    {
     "data": {
      "text/html": [
       "<div>\n",
       "<style scoped>\n",
       "    .dataframe tbody tr th:only-of-type {\n",
       "        vertical-align: middle;\n",
       "    }\n",
       "\n",
       "    .dataframe tbody tr th {\n",
       "        vertical-align: top;\n",
       "    }\n",
       "\n",
       "    .dataframe thead th {\n",
       "        text-align: right;\n",
       "    }\n",
       "</style>\n",
       "<table border=\"1\" class=\"dataframe\">\n",
       "  <thead>\n",
       "    <tr style=\"text-align: right;\">\n",
       "      <th></th>\n",
       "      <th>Year</th>\n",
       "      <th>Month</th>\n",
       "      <th>DayofMonth</th>\n",
       "      <th>DayOfWeek</th>\n",
       "      <th>Carrier</th>\n",
       "      <th>OriginAirportID</th>\n",
       "      <th>DestAirportID</th>\n",
       "      <th>CRSDepTime</th>\n",
       "      <th>DepDelay</th>\n",
       "      <th>DepDel15</th>\n",
       "      <th>CRSArrTime</th>\n",
       "      <th>ArrDelay</th>\n",
       "      <th>ArrDel15</th>\n",
       "      <th>Cancelled</th>\n",
       "    </tr>\n",
       "  </thead>\n",
       "  <tbody>\n",
       "    <tr>\n",
       "      <th>0</th>\n",
       "      <td>2013</td>\n",
       "      <td>4</td>\n",
       "      <td>19</td>\n",
       "      <td>5</td>\n",
       "      <td>DL</td>\n",
       "      <td>11433</td>\n",
       "      <td>13303</td>\n",
       "      <td>837</td>\n",
       "      <td>-3.0</td>\n",
       "      <td>0.0</td>\n",
       "      <td>1138</td>\n",
       "      <td>1.0</td>\n",
       "      <td>0.0</td>\n",
       "      <td>0.0</td>\n",
       "    </tr>\n",
       "    <tr>\n",
       "      <th>1</th>\n",
       "      <td>2013</td>\n",
       "      <td>4</td>\n",
       "      <td>19</td>\n",
       "      <td>5</td>\n",
       "      <td>DL</td>\n",
       "      <td>14869</td>\n",
       "      <td>12478</td>\n",
       "      <td>1705</td>\n",
       "      <td>0.0</td>\n",
       "      <td>0.0</td>\n",
       "      <td>2336</td>\n",
       "      <td>-8.0</td>\n",
       "      <td>0.0</td>\n",
       "      <td>0.0</td>\n",
       "    </tr>\n",
       "    <tr>\n",
       "      <th>2</th>\n",
       "      <td>2013</td>\n",
       "      <td>4</td>\n",
       "      <td>19</td>\n",
       "      <td>5</td>\n",
       "      <td>DL</td>\n",
       "      <td>14057</td>\n",
       "      <td>14869</td>\n",
       "      <td>600</td>\n",
       "      <td>-4.0</td>\n",
       "      <td>0.0</td>\n",
       "      <td>851</td>\n",
       "      <td>-15.0</td>\n",
       "      <td>0.0</td>\n",
       "      <td>0.0</td>\n",
       "    </tr>\n",
       "    <tr>\n",
       "      <th>3</th>\n",
       "      <td>2013</td>\n",
       "      <td>4</td>\n",
       "      <td>19</td>\n",
       "      <td>5</td>\n",
       "      <td>DL</td>\n",
       "      <td>15016</td>\n",
       "      <td>11433</td>\n",
       "      <td>1630</td>\n",
       "      <td>28.0</td>\n",
       "      <td>1.0</td>\n",
       "      <td>1903</td>\n",
       "      <td>24.0</td>\n",
       "      <td>1.0</td>\n",
       "      <td>0.0</td>\n",
       "    </tr>\n",
       "    <tr>\n",
       "      <th>4</th>\n",
       "      <td>2013</td>\n",
       "      <td>4</td>\n",
       "      <td>19</td>\n",
       "      <td>5</td>\n",
       "      <td>DL</td>\n",
       "      <td>11193</td>\n",
       "      <td>12892</td>\n",
       "      <td>1615</td>\n",
       "      <td>-6.0</td>\n",
       "      <td>0.0</td>\n",
       "      <td>1805</td>\n",
       "      <td>-11.0</td>\n",
       "      <td>0.0</td>\n",
       "      <td>0.0</td>\n",
       "    </tr>\n",
       "  </tbody>\n",
       "</table>\n",
       "</div>"
      ],
      "text/plain": [
       "   Year  Month  DayofMonth  DayOfWeek Carrier  OriginAirportID  DestAirportID  \\\n",
       "0  2013      4          19          5      DL            11433          13303   \n",
       "1  2013      4          19          5      DL            14869          12478   \n",
       "2  2013      4          19          5      DL            14057          14869   \n",
       "3  2013      4          19          5      DL            15016          11433   \n",
       "4  2013      4          19          5      DL            11193          12892   \n",
       "\n",
       "   CRSDepTime  DepDelay  DepDel15  CRSArrTime  ArrDelay  ArrDel15  Cancelled  \n",
       "0         837      -3.0       0.0        1138       1.0       0.0        0.0  \n",
       "1        1705       0.0       0.0        2336      -8.0       0.0        0.0  \n",
       "2         600      -4.0       0.0         851     -15.0       0.0        0.0  \n",
       "3        1630      28.0       1.0        1903      24.0       1.0        0.0  \n",
       "4        1615      -6.0       0.0        1805     -11.0       0.0        0.0  "
      ]
     },
     "execution_count": 10,
     "metadata": {
      "tags": []
     },
     "output_type": "execute_result"
    }
   ],
   "source": [
    "delays.head()"
   ]
  },
  {
   "cell_type": "code",
   "execution_count": 11,
   "metadata": {
    "colab": {
     "base_uri": "https://localhost:8080/",
     "height": 272
    },
    "colab_type": "code",
    "collapsed": false,
    "executionInfo": {
     "elapsed": 736,
     "status": "ok",
     "timestamp": 1538999564903,
     "user": {
      "displayName": "Pieter Sap",
      "photoUrl": "",
      "userId": "15749761891409076289"
     },
     "user_tz": -120
    },
    "id": "NvDw_dPQCGUk",
    "outputId": "1d63ae4c-45c3-4e08-81c4-6b2ab7cc604a"
   },
   "outputs": [
    {
     "data": {
      "text/plain": [
       "Year                 int64\n",
       "Month                int64\n",
       "DayofMonth           int64\n",
       "DayOfWeek            int64\n",
       "Carrier             object\n",
       "OriginAirportID      int64\n",
       "DestAirportID        int64\n",
       "CRSDepTime           int64\n",
       "DepDelay           float64\n",
       "DepDel15           float64\n",
       "CRSArrTime           int64\n",
       "ArrDelay           float64\n",
       "ArrDel15           float64\n",
       "Cancelled          float64\n",
       "dtype: object"
      ]
     },
     "execution_count": 11,
     "metadata": {
      "tags": []
     },
     "output_type": "execute_result"
    }
   ],
   "source": [
    "delays.dtypes"
   ]
  },
  {
   "cell_type": "markdown",
   "metadata": {
    "colab_type": "text",
    "id": "smDDb9NPLxcQ"
   },
   "source": [
    "# 2 Cleaning weather data\n",
    "\n",
    "## 2.1 Exploring the weather data\n",
    "\n",
    "Pandas provides some native exploration methods that can be called on a dataframe. we will use describe() and plot(). \n",
    "\n",
    " 1. [describe()](https://pandas.pydata.org/pandas-docs/stable/generated/pandas.DataFrame.describe.html) provides basic statistics for every column. The output is another dataframe.\n",
    " 2. [plot()](https://pandas.pydata.org/pandas-docs/stable/generated/pandas.DataFrame.plot.html) is used to plot column data. By default it creates a line plot, but different plots are possible (see docs). It only plots numerical data. For visualizing categorical data, we will use value_counts() on a column first (see below)."
   ]
  },
  {
   "cell_type": "code",
   "execution_count": 12,
   "metadata": {
    "colab": {
     "base_uri": "https://localhost:8080/",
     "height": 338
    },
    "colab_type": "code",
    "collapsed": false,
    "executionInfo": {
     "elapsed": 478,
     "status": "ok",
     "timestamp": 1538999574510,
     "user": {
      "displayName": "Pieter Sap",
      "photoUrl": "",
      "userId": "15749761891409076289"
     },
     "user_tz": -120
    },
    "id": "VkSs9nBaLxcM",
    "outputId": "2c826174-d301-4d49-928a-628ed3c7f1f1"
   },
   "outputs": [
    {
     "data": {
      "text/html": [
       "<div>\n",
       "<style scoped>\n",
       "    .dataframe tbody tr th:only-of-type {\n",
       "        vertical-align: middle;\n",
       "    }\n",
       "\n",
       "    .dataframe tbody tr th {\n",
       "        vertical-align: top;\n",
       "    }\n",
       "\n",
       "    .dataframe thead th {\n",
       "        text-align: right;\n",
       "    }\n",
       "</style>\n",
       "<table border=\"1\" class=\"dataframe\">\n",
       "  <thead>\n",
       "    <tr style=\"text-align: right;\">\n",
       "      <th></th>\n",
       "      <th>AirportID</th>\n",
       "      <th>Year</th>\n",
       "      <th>Month</th>\n",
       "      <th>Day</th>\n",
       "      <th>Time</th>\n",
       "      <th>TimeZone</th>\n",
       "      <th>SkyCondition</th>\n",
       "      <th>Visibility</th>\n",
       "      <th>WeatherType</th>\n",
       "      <th>DryBulbFarenheit</th>\n",
       "      <th>...</th>\n",
       "      <th>WindSpeed</th>\n",
       "      <th>WindDirection</th>\n",
       "      <th>ValueForWindCharacter</th>\n",
       "      <th>StationPressure</th>\n",
       "      <th>PressureTendency</th>\n",
       "      <th>PressureChange</th>\n",
       "      <th>SeaLevelPressure</th>\n",
       "      <th>RecordType</th>\n",
       "      <th>HourlyPrecip</th>\n",
       "      <th>Altimeter</th>\n",
       "    </tr>\n",
       "  </thead>\n",
       "  <tbody>\n",
       "    <tr>\n",
       "      <th>0</th>\n",
       "      <td>14843</td>\n",
       "      <td>2013</td>\n",
       "      <td>4</td>\n",
       "      <td>1</td>\n",
       "      <td>56</td>\n",
       "      <td>-4</td>\n",
       "      <td>FEW018 SCT044 BKN070</td>\n",
       "      <td>10.00</td>\n",
       "      <td>-RA</td>\n",
       "      <td>76</td>\n",
       "      <td>...</td>\n",
       "      <td>13</td>\n",
       "      <td>080</td>\n",
       "      <td></td>\n",
       "      <td>30.06</td>\n",
       "      <td></td>\n",
       "      <td></td>\n",
       "      <td>30.06</td>\n",
       "      <td>AA</td>\n",
       "      <td>T</td>\n",
       "      <td>30.07</td>\n",
       "    </tr>\n",
       "    <tr>\n",
       "      <th>1</th>\n",
       "      <td>14843</td>\n",
       "      <td>2013</td>\n",
       "      <td>4</td>\n",
       "      <td>1</td>\n",
       "      <td>156</td>\n",
       "      <td>-4</td>\n",
       "      <td>FEW037 SCT070</td>\n",
       "      <td>10.00</td>\n",
       "      <td></td>\n",
       "      <td>76</td>\n",
       "      <td>...</td>\n",
       "      <td>10</td>\n",
       "      <td>090</td>\n",
       "      <td></td>\n",
       "      <td>30.05</td>\n",
       "      <td>6</td>\n",
       "      <td>017</td>\n",
       "      <td>30.05</td>\n",
       "      <td>AA</td>\n",
       "      <td></td>\n",
       "      <td>30.06</td>\n",
       "    </tr>\n",
       "    <tr>\n",
       "      <th>2</th>\n",
       "      <td>14843</td>\n",
       "      <td>2013</td>\n",
       "      <td>4</td>\n",
       "      <td>1</td>\n",
       "      <td>256</td>\n",
       "      <td>-4</td>\n",
       "      <td>FEW037 SCT070</td>\n",
       "      <td>10.00</td>\n",
       "      <td></td>\n",
       "      <td>76</td>\n",
       "      <td>...</td>\n",
       "      <td>9</td>\n",
       "      <td>100</td>\n",
       "      <td></td>\n",
       "      <td>30.03</td>\n",
       "      <td></td>\n",
       "      <td></td>\n",
       "      <td>30.03</td>\n",
       "      <td>AA</td>\n",
       "      <td></td>\n",
       "      <td>30.04</td>\n",
       "    </tr>\n",
       "    <tr>\n",
       "      <th>3</th>\n",
       "      <td>14843</td>\n",
       "      <td>2013</td>\n",
       "      <td>4</td>\n",
       "      <td>1</td>\n",
       "      <td>356</td>\n",
       "      <td>-4</td>\n",
       "      <td>FEW025 SCT070</td>\n",
       "      <td>10.00</td>\n",
       "      <td></td>\n",
       "      <td>76</td>\n",
       "      <td>...</td>\n",
       "      <td>9</td>\n",
       "      <td>100</td>\n",
       "      <td></td>\n",
       "      <td>30.02</td>\n",
       "      <td></td>\n",
       "      <td></td>\n",
       "      <td>30.03</td>\n",
       "      <td>AA</td>\n",
       "      <td></td>\n",
       "      <td>30.03</td>\n",
       "    </tr>\n",
       "    <tr>\n",
       "      <th>4</th>\n",
       "      <td>14843</td>\n",
       "      <td>2013</td>\n",
       "      <td>4</td>\n",
       "      <td>1</td>\n",
       "      <td>456</td>\n",
       "      <td>-4</td>\n",
       "      <td>FEW025</td>\n",
       "      <td>10.00</td>\n",
       "      <td></td>\n",
       "      <td>76</td>\n",
       "      <td>...</td>\n",
       "      <td>7</td>\n",
       "      <td>110</td>\n",
       "      <td></td>\n",
       "      <td>30.03</td>\n",
       "      <td>5</td>\n",
       "      <td>004</td>\n",
       "      <td>30.04</td>\n",
       "      <td>AA</td>\n",
       "      <td></td>\n",
       "      <td>30.04</td>\n",
       "    </tr>\n",
       "  </tbody>\n",
       "</table>\n",
       "<p>5 rows × 26 columns</p>\n",
       "</div>"
      ],
      "text/plain": [
       "   AirportID  Year  Month  Day  Time  TimeZone          SkyCondition  \\\n",
       "0      14843  2013      4    1    56        -4  FEW018 SCT044 BKN070   \n",
       "1      14843  2013      4    1   156        -4         FEW037 SCT070   \n",
       "2      14843  2013      4    1   256        -4         FEW037 SCT070   \n",
       "3      14843  2013      4    1   356        -4         FEW025 SCT070   \n",
       "4      14843  2013      4    1   456        -4                FEW025   \n",
       "\n",
       "  Visibility WeatherType DryBulbFarenheit    ...    WindSpeed WindDirection  \\\n",
       "0      10.00         -RA               76    ...           13           080   \n",
       "1      10.00                           76    ...           10           090   \n",
       "2      10.00                           76    ...            9           100   \n",
       "3      10.00                           76    ...            9           100   \n",
       "4      10.00                           76    ...            7           110   \n",
       "\n",
       "  ValueForWindCharacter StationPressure PressureTendency PressureChange  \\\n",
       "0                                 30.06                                   \n",
       "1                                 30.05                6            017   \n",
       "2                                 30.03                                   \n",
       "3                                 30.02                                   \n",
       "4                                 30.03                5            004   \n",
       "\n",
       "  SeaLevelPressure RecordType HourlyPrecip Altimeter  \n",
       "0            30.06         AA            T     30.07  \n",
       "1            30.05         AA                  30.06  \n",
       "2            30.03         AA                  30.04  \n",
       "3            30.03         AA                  30.03  \n",
       "4            30.04         AA                  30.04  \n",
       "\n",
       "[5 rows x 26 columns]"
      ]
     },
     "execution_count": 12,
     "metadata": {
      "tags": []
     },
     "output_type": "execute_result"
    }
   ],
   "source": [
    "weather.head()"
   ]
  },
  {
   "cell_type": "markdown",
   "metadata": {
    "colab_type": "text",
    "id": "o5B8HULXWJM_"
   },
   "source": [
    "Display a list of all columns with their dtypes."
   ]
  },
  {
   "cell_type": "code",
   "execution_count": 13,
   "metadata": {
    "colab": {
     "base_uri": "https://localhost:8080/",
     "height": 470
    },
    "colab_type": "code",
    "collapsed": false,
    "executionInfo": {
     "elapsed": 554,
     "status": "ok",
     "timestamp": 1538999575855,
     "user": {
      "displayName": "Pieter Sap",
      "photoUrl": "",
      "userId": "15749761891409076289"
     },
     "user_tz": -120
    },
    "id": "00_whJitWEHM",
    "outputId": "d62bde84-27d3-46f9-a7e8-c11b12f8db8e"
   },
   "outputs": [
    {
     "data": {
      "text/plain": [
       "AirportID                 int64\n",
       "Year                      int64\n",
       "Month                     int64\n",
       "Day                       int64\n",
       "Time                      int64\n",
       "TimeZone                  int64\n",
       "SkyCondition             object\n",
       "Visibility               object\n",
       "WeatherType              object\n",
       "DryBulbFarenheit         object\n",
       "DryBulbCelsius           object\n",
       "WetBulbFarenheit         object\n",
       "WetBulbCelsius           object\n",
       "DewPointFarenheit        object\n",
       "DewPointCelsius          object\n",
       "RelativeHumidity         object\n",
       "WindSpeed                object\n",
       "WindDirection            object\n",
       "ValueForWindCharacter    object\n",
       "StationPressure          object\n",
       "PressureTendency         object\n",
       "PressureChange           object\n",
       "SeaLevelPressure         object\n",
       "RecordType               object\n",
       "HourlyPrecip             object\n",
       "Altimeter                object\n",
       "dtype: object"
      ]
     },
     "execution_count": 13,
     "metadata": {
      "tags": []
     },
     "output_type": "execute_result"
    }
   ],
   "source": [
    "weather.dtypes"
   ]
  },
  {
   "cell_type": "code",
   "execution_count": 14,
   "metadata": {
    "colab": {
     "base_uri": "https://localhost:8080/",
     "height": 297
    },
    "colab_type": "code",
    "collapsed": false,
    "executionInfo": {
     "elapsed": 980,
     "status": "ok",
     "timestamp": 1538999577634,
     "user": {
      "displayName": "Pieter Sap",
      "photoUrl": "",
      "userId": "15749761891409076289"
     },
     "user_tz": -120
    },
    "id": "5YX3-Mi-OmQW",
    "outputId": "ac6c9843-7fc5-4a6c-9b4b-e801c7ed8342"
   },
   "outputs": [
    {
     "data": {
      "text/html": [
       "<div>\n",
       "<style scoped>\n",
       "    .dataframe tbody tr th:only-of-type {\n",
       "        vertical-align: middle;\n",
       "    }\n",
       "\n",
       "    .dataframe tbody tr th {\n",
       "        vertical-align: top;\n",
       "    }\n",
       "\n",
       "    .dataframe thead th {\n",
       "        text-align: right;\n",
       "    }\n",
       "</style>\n",
       "<table border=\"1\" class=\"dataframe\">\n",
       "  <thead>\n",
       "    <tr style=\"text-align: right;\">\n",
       "      <th></th>\n",
       "      <th>AirportID</th>\n",
       "      <th>Year</th>\n",
       "      <th>Month</th>\n",
       "      <th>Day</th>\n",
       "      <th>Time</th>\n",
       "      <th>TimeZone</th>\n",
       "    </tr>\n",
       "  </thead>\n",
       "  <tbody>\n",
       "    <tr>\n",
       "      <th>count</th>\n",
       "      <td>406516.000000</td>\n",
       "      <td>406516.0</td>\n",
       "      <td>406516.000000</td>\n",
       "      <td>406516.000000</td>\n",
       "      <td>406516.000000</td>\n",
       "      <td>406516.000000</td>\n",
       "    </tr>\n",
       "    <tr>\n",
       "      <th>mean</th>\n",
       "      <td>13046.619513</td>\n",
       "      <td>2013.0</td>\n",
       "      <td>6.978857</td>\n",
       "      <td>15.730847</td>\n",
       "      <td>1183.907057</td>\n",
       "      <td>-6.096933</td>\n",
       "    </tr>\n",
       "    <tr>\n",
       "      <th>std</th>\n",
       "      <td>1528.710954</td>\n",
       "      <td>0.0</td>\n",
       "      <td>2.001600</td>\n",
       "      <td>8.848019</td>\n",
       "      <td>688.247431</td>\n",
       "      <td>1.368397</td>\n",
       "    </tr>\n",
       "    <tr>\n",
       "      <th>min</th>\n",
       "      <td>10140.000000</td>\n",
       "      <td>2013.0</td>\n",
       "      <td>4.000000</td>\n",
       "      <td>1.000000</td>\n",
       "      <td>0.000000</td>\n",
       "      <td>-10.000000</td>\n",
       "    </tr>\n",
       "    <tr>\n",
       "      <th>25%</th>\n",
       "      <td>11618.000000</td>\n",
       "      <td>2013.0</td>\n",
       "      <td>5.000000</td>\n",
       "      <td>8.000000</td>\n",
       "      <td>556.000000</td>\n",
       "      <td>-7.000000</td>\n",
       "    </tr>\n",
       "    <tr>\n",
       "      <th>50%</th>\n",
       "      <td>13342.000000</td>\n",
       "      <td>2013.0</td>\n",
       "      <td>7.000000</td>\n",
       "      <td>16.000000</td>\n",
       "      <td>1153.000000</td>\n",
       "      <td>-6.000000</td>\n",
       "    </tr>\n",
       "    <tr>\n",
       "      <th>75%</th>\n",
       "      <td>14307.000000</td>\n",
       "      <td>2013.0</td>\n",
       "      <td>9.000000</td>\n",
       "      <td>23.000000</td>\n",
       "      <td>1753.000000</td>\n",
       "      <td>-5.000000</td>\n",
       "    </tr>\n",
       "    <tr>\n",
       "      <th>max</th>\n",
       "      <td>15376.000000</td>\n",
       "      <td>2013.0</td>\n",
       "      <td>10.000000</td>\n",
       "      <td>31.000000</td>\n",
       "      <td>2359.000000</td>\n",
       "      <td>-4.000000</td>\n",
       "    </tr>\n",
       "  </tbody>\n",
       "</table>\n",
       "</div>"
      ],
      "text/plain": [
       "           AirportID      Year          Month            Day           Time  \\\n",
       "count  406516.000000  406516.0  406516.000000  406516.000000  406516.000000   \n",
       "mean    13046.619513    2013.0       6.978857      15.730847    1183.907057   \n",
       "std      1528.710954       0.0       2.001600       8.848019     688.247431   \n",
       "min     10140.000000    2013.0       4.000000       1.000000       0.000000   \n",
       "25%     11618.000000    2013.0       5.000000       8.000000     556.000000   \n",
       "50%     13342.000000    2013.0       7.000000      16.000000    1153.000000   \n",
       "75%     14307.000000    2013.0       9.000000      23.000000    1753.000000   \n",
       "max     15376.000000    2013.0      10.000000      31.000000    2359.000000   \n",
       "\n",
       "            TimeZone  \n",
       "count  406516.000000  \n",
       "mean       -6.096933  \n",
       "std         1.368397  \n",
       "min       -10.000000  \n",
       "25%        -7.000000  \n",
       "50%        -6.000000  \n",
       "75%        -5.000000  \n",
       "max        -4.000000  "
      ]
     },
     "execution_count": 14,
     "metadata": {
      "tags": []
     },
     "output_type": "execute_result"
    }
   ],
   "source": [
    "weather.describe()"
   ]
  },
  {
   "cell_type": "markdown",
   "metadata": {
    "colab_type": "text",
    "id": "81vDNaShkZzj"
   },
   "source": [
    "From the table above, we conclude that all the data is from the **Year** 2013. There are **406 516 records** in total. (you can also check this with *len(weather)*)"
   ]
  },
  {
   "cell_type": "markdown",
   "metadata": {
    "colab_type": "text",
    "id": "3cu5uQuyLxcR"
   },
   "source": [
    "## 2.1 Dropping columns with lots of empty strings"
   ]
  },
  {
   "cell_type": "markdown",
   "metadata": {
    "colab_type": "text",
    "id": "TfHd-fF5gaiP"
   },
   "source": [
    "Print the unique values of  **ValueForWindCharacter**. Notice the empty string."
   ]
  },
  {
   "cell_type": "code",
   "execution_count": 15,
   "metadata": {
    "colab": {
     "base_uri": "https://localhost:8080/",
     "height": 102
    },
    "colab_type": "code",
    "collapsed": false,
    "executionInfo": {
     "elapsed": 538,
     "status": "ok",
     "timestamp": 1538999578772,
     "user": {
      "displayName": "Pieter Sap",
      "photoUrl": "",
      "userId": "15749761891409076289"
     },
     "user_tz": -120
    },
    "id": "nD9KsI0cLxcR",
    "outputId": "3ada048c-e6c5-4ed4-d093-1afbf6e76237"
   },
   "outputs": [
    {
     "data": {
      "text/plain": [
       "array([' ', '21', '23', '24', '25', '26', '28', '18', '22', '20', '32',\n",
       "       '29', '17', '16', '30', '31', '37', '40', '38', '39', '36', '34',\n",
       "       '43', '33', '49', '59', '47', '44', '41', '46', '56', '53', '48',\n",
       "       '45', '54', '51', '55', '52', '70', '71', '68', '14', '61', '60',\n",
       "       '67', '58', '69', '66', '89', '64', '74'], dtype=object)"
      ]
     },
     "execution_count": 15,
     "metadata": {
      "tags": []
     },
     "output_type": "execute_result"
    }
   ],
   "source": [
    "weather[\"ValueForWindCharacter\"].unique()"
   ]
  },
  {
   "cell_type": "markdown",
   "metadata": {
    "colab_type": "text",
    "id": "n8-W0Ubzhd_9"
   },
   "source": [
    "How many (as a percentage) of the ValueForWindCharacter values are empty strings?"
   ]
  },
  {
   "cell_type": "code",
   "execution_count": 16,
   "metadata": {
    "colab": {
     "base_uri": "https://localhost:8080/",
     "height": 34
    },
    "colab_type": "code",
    "collapsed": false,
    "executionInfo": {
     "elapsed": 806,
     "status": "ok",
     "timestamp": 1538999580516,
     "user": {
      "displayName": "Pieter Sap",
      "photoUrl": "",
      "userId": "15749761891409076289"
     },
     "user_tz": -120
    },
    "id": "_syaH9OkLxcV",
    "outputId": "8206f0d8-91c0-48c1-a65c-96a7a31e3955"
   },
   "outputs": [
    {
     "name": "stdout",
     "output_type": "stream",
     "text": [
      "0.878186836434\n"
     ]
    }
   ],
   "source": [
    "perc = float(weather[weather[\"ValueForWindCharacter\"] == ' '][\"ValueForWindCharacter\"].count())/len(weather)\n",
    "print(perc)"
   ]
  },
  {
   "cell_type": "markdown",
   "metadata": {
    "colab_type": "text",
    "id": "NVaQG9Gbhlp1"
   },
   "source": [
    "Let's do the same for **PressureTendency, WeatherType, PressureChange** and **HourlyPrecip**"
   ]
  },
  {
   "cell_type": "code",
   "execution_count": 17,
   "metadata": {
    "colab": {
     "base_uri": "https://localhost:8080/",
     "height": 34
    },
    "colab_type": "code",
    "collapsed": false,
    "executionInfo": {
     "elapsed": 736,
     "status": "ok",
     "timestamp": 1538999583755,
     "user": {
      "displayName": "Pieter Sap",
      "photoUrl": "",
      "userId": "15749761891409076289"
     },
     "user_tz": -120
    },
    "id": "-7zHVoGGLxcY",
    "outputId": "ef345124-f460-410b-bc32-ab4b5adfb811"
   },
   "outputs": [
    {
     "data": {
      "text/plain": [
       "array([' ', '6', '5', '3', '1', '8', '0', '2', '7', '4'], dtype=object)"
      ]
     },
     "execution_count": 17,
     "metadata": {
      "tags": []
     },
     "output_type": "execute_result"
    }
   ],
   "source": [
    "weather[\"PressureTendency\"].unique()"
   ]
  },
  {
   "cell_type": "code",
   "execution_count": 18,
   "metadata": {
    "colab": {
     "base_uri": "https://localhost:8080/",
     "height": 34
    },
    "colab_type": "code",
    "collapsed": false,
    "executionInfo": {
     "elapsed": 947,
     "status": "ok",
     "timestamp": 1538999585563,
     "user": {
      "displayName": "Pieter Sap",
      "photoUrl": "",
      "userId": "15749761891409076289"
     },
     "user_tz": -120
    },
    "id": "lHIRW4zYLxca",
    "outputId": "b26c0e6b-defa-4f72-ed85-10317314391c"
   },
   "outputs": [
    {
     "name": "stdout",
     "output_type": "stream",
     "text": [
      "0.960660834998\n"
     ]
    }
   ],
   "source": [
    "perc = float(weather[weather[\"PressureTendency\"] == ' '][\"PressureTendency\"].count())/len(weather)\n",
    "print(perc)"
   ]
  },
  {
   "cell_type": "code",
   "execution_count": 19,
   "metadata": {
    "colab": {
     "base_uri": "https://localhost:8080/",
     "height": 527
    },
    "colab_type": "code",
    "collapsed": false,
    "executionInfo": {
     "elapsed": 538,
     "status": "ok",
     "timestamp": 1538999586697,
     "user": {
      "displayName": "Pieter Sap",
      "photoUrl": "",
      "userId": "15749761891409076289"
     },
     "user_tz": -120
    },
    "id": "2ESGdEoiLxce",
    "outputId": "00f47d60-2828-4bd7-8609-7813d69a9f34"
   },
   "outputs": [
    {
     "data": {
      "text/plain": [
       "array(['-RA', ' ', '+RA BR', 'RA BR', '-RA BR', 'RA', '+RA', 'TSRA',\n",
       "       '-TSRA BR', '-TSRA', '-DZ BR', 'BCFG', '+TSRA FG', 'BR', 'FG',\n",
       "       'BR BCFG', 'VCFG', 'FU BR', '+TSRA BR', 'TSRA BR', 'MIFG', 'TS',\n",
       "       '+TSRA', '+RA FG', '-TSRA SQ', '+FC -RA', '+FC', 'VCTS RA BR',\n",
       "       'VCTS', 'VCTS -RA', 'HZ', '-DZ', 'MIFG BR', 'DZ BR', '+TS RAGS BR',\n",
       "       '+TS RAGR BR', '+TS GSRA FG', '+TS GSRA BR', 'TS BR', '-PLRA',\n",
       "       '-RAPL', '+TSRA BR SQ', 'BCFG BR', '+DZ FG', '+DZ', 'SQ', '-DZ FG',\n",
       "       '+TSRA SQ', 'FG BR', 'TS RAGS', 'TS RAGR', '-DZ HZ', 'TS FZRA',\n",
       "       'TS -FZRA', '-FZRA', '-FZRA BR', 'FZRA BR', '-SN BR', '-FZRAPL BR',\n",
       "       'TS HZ', '-SN', '-RA FG', '-RASN', 'RA BR FU', '-TSRA BR SQ',\n",
       "       '-RAGS', 'UP BR', 'RAPL BR', '-TSSN', 'SN FZFG', '-PLUP',\n",
       "       '-PL SNRA', '-FZRASN', '-FZRASN BR', 'SN FG', '+SN FG', '-TSSN BR',\n",
       "       '-DZSN BR', '-SNDZ BR', 'FZRASN BR', 'PLRA BR', '-PLRA BR',\n",
       "       '-RASN BR', '-PL BR', 'PL BR', '-SN FG', '-SNPL BR', '-SNRA',\n",
       "       '+TS GRRA BR', 'FU', 'VCBLDU', 'BLDU', '-RA HZ', 'RA BLDU',\n",
       "       '-RA BLDU', '-RA VCBLDU', 'HZ BLDU', '-SN FZFG', '+SN FZFG', 'SN',\n",
       "       '-PL', '+TS RAGS', 'TS GSRA', 'UP', 'TSRA SQ', '-RA SQ',\n",
       "       'VCTS -RA BR', 'DZ', 'TS GRRA', 'TS GSRA BR', '+TS GSRA',\n",
       "       '+TS GRRA', '-FC TSRA', 'TSRA FG SQ', 'TSRA FG', 'TSGS HZ',\n",
       "       '-SNRA BR', '-PLSN', '-PL RASN BR', '-TSRA FG', 'RASN BR',\n",
       "       'TS RAPL BR', 'TS -RAPL BR', '-RAPL BR', 'TS RAGS BR', 'BR -RA',\n",
       "       'BLDU SQ', 'TS -RA', '-RA SNPL BR', '+FC TS', 'FC TS', 'FC',\n",
       "       'VCTS RA', 'VCTS +RA FG', 'VCTS +RA BR', 'RA FG', '+TS RAGR',\n",
       "       'TS RAGS SQ', '-RA BR BCFG', '-TSRA BLDU', 'DU', 'TS HZ SQ',\n",
       "       '+TSRA FG SQ', 'TS SQ', '+TS GRRA FG', '+RA BR SQ', 'FU HZ',\n",
       "       'VCTS +RA', '+RA SQ', 'TS BLDU SQ', 'TS VCBLDU', 'VCBLDU SQ',\n",
       "       'TS BLDU', 'VCTS HZ', 'DZ FG', 'TS HZ BLDU', 'TS RAGR BR',\n",
       "       'TSRA DS', 'TSRA BLDU', 'TSGS', 'HZ FU', 'TS FU', 'HZ SQ',\n",
       "       '-RA FU', 'BR FU', 'PL', 'FZFG', '+RA FG SQ', '-RA BCFG BR'],\n",
       "      dtype=object)"
      ]
     },
     "execution_count": 19,
     "metadata": {
      "tags": []
     },
     "output_type": "execute_result"
    }
   ],
   "source": [
    "weather[\"WeatherType\"].unique()"
   ]
  },
  {
   "cell_type": "code",
   "execution_count": 20,
   "metadata": {
    "colab": {
     "base_uri": "https://localhost:8080/",
     "height": 34
    },
    "colab_type": "code",
    "collapsed": false,
    "executionInfo": {
     "elapsed": 592,
     "status": "ok",
     "timestamp": 1538999588028,
     "user": {
      "displayName": "Pieter Sap",
      "photoUrl": "",
      "userId": "15749761891409076289"
     },
     "user_tz": -120
    },
    "id": "mY8qPxJpLxcg",
    "outputId": "8b93dc0b-c778-4885-b42d-07bf01e1d41a"
   },
   "outputs": [
    {
     "name": "stdout",
     "output_type": "stream",
     "text": [
      "0.864861407669\n"
     ]
    }
   ],
   "source": [
    "perc = float(weather[weather[\"WeatherType\"] == ' '][\"WeatherType\"].count())/len(weather)\n",
    "print(perc)"
   ]
  },
  {
   "cell_type": "code",
   "execution_count": 21,
   "metadata": {
    "colab": {
     "base_uri": "https://localhost:8080/",
     "height": 153
    },
    "colab_type": "code",
    "collapsed": false,
    "executionInfo": {
     "elapsed": 790,
     "status": "ok",
     "timestamp": 1538999589401,
     "user": {
      "displayName": "Pieter Sap",
      "photoUrl": "",
      "userId": "15749761891409076289"
     },
     "user_tz": -120
    },
    "id": "j01iXwNjLxci",
    "outputId": "988119bb-86e6-44eb-f31e-a96ff7810d94"
   },
   "outputs": [
    {
     "data": {
      "text/plain": [
       "array([' ', '017', '004', '020', '008', '023', '011', '005', '013', '002',\n",
       "       '018', '000', '022', '010', '016', '014', '003', '009', '026',\n",
       "       '006', '015', '001', '019', '012', '007', '021', '025', '051',\n",
       "       '036', '030', '024', '028', '027', '047', '043', '031', '035',\n",
       "       '056', '032', '054', '038', '029', '046', '039', '033', '044',\n",
       "       '034', '037', '042', '040', '070', '045', '041', '060', '049',\n",
       "       '050', '071', '076', '048', '065', '055', '062', '067', '059',\n",
       "       '063', '058', '080'], dtype=object)"
      ]
     },
     "execution_count": 21,
     "metadata": {
      "tags": []
     },
     "output_type": "execute_result"
    }
   ],
   "source": [
    "weather[\"PressureChange\"].unique()"
   ]
  },
  {
   "cell_type": "code",
   "execution_count": 22,
   "metadata": {
    "colab": {
     "base_uri": "https://localhost:8080/",
     "height": 34
    },
    "colab_type": "code",
    "collapsed": false,
    "executionInfo": {
     "elapsed": 834,
     "status": "ok",
     "timestamp": 1538999597953,
     "user": {
      "displayName": "Pieter Sap",
      "photoUrl": "",
      "userId": "15749761891409076289"
     },
     "user_tz": -120
    },
    "id": "6oKMXxTKLxcm",
    "outputId": "8d2eafad-8b4b-4203-910a-1a615bb629c6"
   },
   "outputs": [
    {
     "name": "stdout",
     "output_type": "stream",
     "text": [
      "0.960660834998\n"
     ]
    }
   ],
   "source": [
    "perc = float(weather[weather[\"PressureChange\"] == ' '][\"PressureChange\"].count())/len(weather)\n",
    "print(perc)"
   ]
  },
  {
   "cell_type": "code",
   "execution_count": 23,
   "metadata": {
    "colab": {
     "base_uri": "https://localhost:8080/",
     "height": 408
    },
    "colab_type": "code",
    "collapsed": false,
    "executionInfo": {
     "elapsed": 614,
     "status": "ok",
     "timestamp": 1538999599057,
     "user": {
      "displayName": "Pieter Sap",
      "photoUrl": "",
      "userId": "15749761891409076289"
     },
     "user_tz": -120
    },
    "id": "t291nK8PLxcq",
    "outputId": "d7a2bbad-f915-41a3-8134-25ff19786ea9"
   },
   "outputs": [
    {
     "data": {
      "text/plain": [
       "array(['  T', ' ', '0.01', '0.02', '0.03', '0.04', '0.12', '0.21', '0.05',\n",
       "       '0.10', '0.08', '0.13', '0.06', '1.05', '0.17', '0.09', '0.15',\n",
       "       '0.19', '0.18', '0.32', '0.25', '0.31', '0.74', '0.28', '0.61',\n",
       "       '0.36', '0.11', '0.14', '0.16', '0.07', '0.38', '1.25', '0.52',\n",
       "       '0.40', '0.48', '0.65', '0.81', '0.67', '0.84', '0.20', '0.30',\n",
       "       '0.92', '0.47', '0.77', '0.94', '0.83', '0.26', '0.23', '0.73',\n",
       "       '0.60', '0.93', '0.44', '0.46', '1.22', '0.54', '0.29', '0.33',\n",
       "       '0.43', '0.34', '0.88', '0.39', '0.59', '1.00', '0.53', '0.27',\n",
       "       '3.03', '1.89', '0.24', '1.03', '0.49', '0.22', '0.71', '0.35',\n",
       "       '0.37', '0.69', '0.66', '0.56', '0.58', '0.41', '1.02', '1.50',\n",
       "       '0.57', '0.79', '0.64', '0.80', '0.55', '0.97', '0.75', '1.47',\n",
       "       '0.42', '0.68', '1.23', '0.45', '0.51', '2.70', '1.04', '0.72',\n",
       "       '2.29', '1.68', '1.75', '0.90', '0.63', '2.00', '1.79', '1.20',\n",
       "       '0.85', '1.36', '0.87', '1.83', '1.39', '4.00', '1.24', '1.53',\n",
       "       '0.78', '1.17', '0.62', '1.62', '1.80', '1.34', '1.84', '0.50',\n",
       "       '1.27', '0.98', '1.07', '0.76', '1.06', '1.12', '0.91', '1.90',\n",
       "       '1.10', '1.08', '1.11', '1.63', '0.82', '0.95', '1.64', '1.77',\n",
       "       '0.86', '0.89', '2.17', '0.70', '1.48', '1.26', '0.99', '1.37',\n",
       "       '1.09', '1.41', '2.89', '1.88', '1.01', '2.11', '1.85', '1.67',\n",
       "       '1.16', '1.13', '1.55', '2.49', '1.21', '2.86', '1.73', '1.40',\n",
       "       '0.96', '1.72', '1.42', '2.21', '1.29', '1.54', '1.30', '2.45',\n",
       "       '1.14', '1.18', '1.65', '2.40', '1.78', '2.04', '1.28', '2.36',\n",
       "       '1.99', '1.91', '1.57', '1.38', '1.96'], dtype=object)"
      ]
     },
     "execution_count": 23,
     "metadata": {
      "tags": []
     },
     "output_type": "execute_result"
    }
   ],
   "source": [
    "weather[\"HourlyPrecip\"].unique()"
   ]
  },
  {
   "cell_type": "code",
   "execution_count": 24,
   "metadata": {
    "colab": {
     "base_uri": "https://localhost:8080/",
     "height": 34
    },
    "colab_type": "code",
    "collapsed": false,
    "executionInfo": {
     "elapsed": 783,
     "status": "ok",
     "timestamp": 1538999600735,
     "user": {
      "displayName": "Pieter Sap",
      "photoUrl": "",
      "userId": "15749761891409076289"
     },
     "user_tz": -120
    },
    "id": "VE797_40Lxct",
    "outputId": "8c60ab31-e0b9-4444-e497-b3713e3662f2"
   },
   "outputs": [
    {
     "name": "stdout",
     "output_type": "stream",
     "text": [
      "0.92125033209\n"
     ]
    }
   ],
   "source": [
    "perc = float(weather[weather[\"HourlyPrecip\"] == ' '][\"HourlyPrecip\"].count())/len(weather)\n",
    "print(perc)"
   ]
  },
  {
   "cell_type": "markdown",
   "metadata": {
    "colab_type": "text",
    "id": "RrcW8sOVLxcv"
   },
   "source": [
    "All the columns identified above, contain mostly empty strings. We will drop these columns."
   ]
  },
  {
   "cell_type": "code",
   "execution_count": 25,
   "metadata": {
    "colab": {
     "base_uri": "https://localhost:8080/",
     "height": 328
    },
    "colab_type": "code",
    "collapsed": false,
    "executionInfo": {
     "elapsed": 591,
     "status": "ok",
     "timestamp": 1538999602329,
     "user": {
      "displayName": "Pieter Sap",
      "photoUrl": "",
      "userId": "15749761891409076289"
     },
     "user_tz": -120
    },
    "id": "EUK2MXHhLxcv",
    "outputId": "b606ced2-e2b5-4af5-9c88-4f9d3217dbc1"
   },
   "outputs": [
    {
     "data": {
      "text/html": [
       "<div>\n",
       "<style scoped>\n",
       "    .dataframe tbody tr th:only-of-type {\n",
       "        vertical-align: middle;\n",
       "    }\n",
       "\n",
       "    .dataframe tbody tr th {\n",
       "        vertical-align: top;\n",
       "    }\n",
       "\n",
       "    .dataframe thead th {\n",
       "        text-align: right;\n",
       "    }\n",
       "</style>\n",
       "<table border=\"1\" class=\"dataframe\">\n",
       "  <thead>\n",
       "    <tr style=\"text-align: right;\">\n",
       "      <th></th>\n",
       "      <th>AirportID</th>\n",
       "      <th>Year</th>\n",
       "      <th>Month</th>\n",
       "      <th>Day</th>\n",
       "      <th>Time</th>\n",
       "      <th>TimeZone</th>\n",
       "      <th>SkyCondition</th>\n",
       "      <th>Visibility</th>\n",
       "      <th>DryBulbFarenheit</th>\n",
       "      <th>DryBulbCelsius</th>\n",
       "      <th>...</th>\n",
       "      <th>WetBulbCelsius</th>\n",
       "      <th>DewPointFarenheit</th>\n",
       "      <th>DewPointCelsius</th>\n",
       "      <th>RelativeHumidity</th>\n",
       "      <th>WindSpeed</th>\n",
       "      <th>WindDirection</th>\n",
       "      <th>StationPressure</th>\n",
       "      <th>SeaLevelPressure</th>\n",
       "      <th>RecordType</th>\n",
       "      <th>Altimeter</th>\n",
       "    </tr>\n",
       "  </thead>\n",
       "  <tbody>\n",
       "    <tr>\n",
       "      <th>0</th>\n",
       "      <td>14843</td>\n",
       "      <td>2013</td>\n",
       "      <td>4</td>\n",
       "      <td>1</td>\n",
       "      <td>56</td>\n",
       "      <td>-4</td>\n",
       "      <td>FEW018 SCT044 BKN070</td>\n",
       "      <td>10.00</td>\n",
       "      <td>76</td>\n",
       "      <td>24.4</td>\n",
       "      <td>...</td>\n",
       "      <td>23.3</td>\n",
       "      <td>73</td>\n",
       "      <td>22.8</td>\n",
       "      <td>90</td>\n",
       "      <td>13</td>\n",
       "      <td>080</td>\n",
       "      <td>30.06</td>\n",
       "      <td>30.06</td>\n",
       "      <td>AA</td>\n",
       "      <td>30.07</td>\n",
       "    </tr>\n",
       "    <tr>\n",
       "      <th>1</th>\n",
       "      <td>14843</td>\n",
       "      <td>2013</td>\n",
       "      <td>4</td>\n",
       "      <td>1</td>\n",
       "      <td>156</td>\n",
       "      <td>-4</td>\n",
       "      <td>FEW037 SCT070</td>\n",
       "      <td>10.00</td>\n",
       "      <td>76</td>\n",
       "      <td>24.4</td>\n",
       "      <td>...</td>\n",
       "      <td>22.5</td>\n",
       "      <td>71</td>\n",
       "      <td>21.7</td>\n",
       "      <td>85</td>\n",
       "      <td>10</td>\n",
       "      <td>090</td>\n",
       "      <td>30.05</td>\n",
       "      <td>30.05</td>\n",
       "      <td>AA</td>\n",
       "      <td>30.06</td>\n",
       "    </tr>\n",
       "    <tr>\n",
       "      <th>2</th>\n",
       "      <td>14843</td>\n",
       "      <td>2013</td>\n",
       "      <td>4</td>\n",
       "      <td>1</td>\n",
       "      <td>256</td>\n",
       "      <td>-4</td>\n",
       "      <td>FEW037 SCT070</td>\n",
       "      <td>10.00</td>\n",
       "      <td>76</td>\n",
       "      <td>24.4</td>\n",
       "      <td>...</td>\n",
       "      <td>22.5</td>\n",
       "      <td>71</td>\n",
       "      <td>21.7</td>\n",
       "      <td>85</td>\n",
       "      <td>9</td>\n",
       "      <td>100</td>\n",
       "      <td>30.03</td>\n",
       "      <td>30.03</td>\n",
       "      <td>AA</td>\n",
       "      <td>30.04</td>\n",
       "    </tr>\n",
       "    <tr>\n",
       "      <th>3</th>\n",
       "      <td>14843</td>\n",
       "      <td>2013</td>\n",
       "      <td>4</td>\n",
       "      <td>1</td>\n",
       "      <td>356</td>\n",
       "      <td>-4</td>\n",
       "      <td>FEW025 SCT070</td>\n",
       "      <td>10.00</td>\n",
       "      <td>76</td>\n",
       "      <td>24.4</td>\n",
       "      <td>...</td>\n",
       "      <td>22.2</td>\n",
       "      <td>70</td>\n",
       "      <td>21.1</td>\n",
       "      <td>82</td>\n",
       "      <td>9</td>\n",
       "      <td>100</td>\n",
       "      <td>30.02</td>\n",
       "      <td>30.03</td>\n",
       "      <td>AA</td>\n",
       "      <td>30.03</td>\n",
       "    </tr>\n",
       "    <tr>\n",
       "      <th>4</th>\n",
       "      <td>14843</td>\n",
       "      <td>2013</td>\n",
       "      <td>4</td>\n",
       "      <td>1</td>\n",
       "      <td>456</td>\n",
       "      <td>-4</td>\n",
       "      <td>FEW025</td>\n",
       "      <td>10.00</td>\n",
       "      <td>76</td>\n",
       "      <td>24.4</td>\n",
       "      <td>...</td>\n",
       "      <td>22.2</td>\n",
       "      <td>70</td>\n",
       "      <td>21.1</td>\n",
       "      <td>82</td>\n",
       "      <td>7</td>\n",
       "      <td>110</td>\n",
       "      <td>30.03</td>\n",
       "      <td>30.04</td>\n",
       "      <td>AA</td>\n",
       "      <td>30.04</td>\n",
       "    </tr>\n",
       "  </tbody>\n",
       "</table>\n",
       "<p>5 rows × 21 columns</p>\n",
       "</div>"
      ],
      "text/plain": [
       "   AirportID  Year  Month  Day  Time  TimeZone          SkyCondition  \\\n",
       "0      14843  2013      4    1    56        -4  FEW018 SCT044 BKN070   \n",
       "1      14843  2013      4    1   156        -4         FEW037 SCT070   \n",
       "2      14843  2013      4    1   256        -4         FEW037 SCT070   \n",
       "3      14843  2013      4    1   356        -4         FEW025 SCT070   \n",
       "4      14843  2013      4    1   456        -4                FEW025   \n",
       "\n",
       "  Visibility DryBulbFarenheit DryBulbCelsius    ...    WetBulbCelsius  \\\n",
       "0      10.00               76           24.4    ...              23.3   \n",
       "1      10.00               76           24.4    ...              22.5   \n",
       "2      10.00               76           24.4    ...              22.5   \n",
       "3      10.00               76           24.4    ...              22.2   \n",
       "4      10.00               76           24.4    ...              22.2   \n",
       "\n",
       "  DewPointFarenheit DewPointCelsius RelativeHumidity WindSpeed WindDirection  \\\n",
       "0                73            22.8               90        13           080   \n",
       "1                71            21.7               85        10           090   \n",
       "2                71            21.7               85         9           100   \n",
       "3                70            21.1               82         9           100   \n",
       "4                70            21.1               82         7           110   \n",
       "\n",
       "  StationPressure SeaLevelPressure RecordType Altimeter  \n",
       "0           30.06            30.06         AA     30.07  \n",
       "1           30.05            30.05         AA     30.06  \n",
       "2           30.03            30.03         AA     30.04  \n",
       "3           30.02            30.03         AA     30.03  \n",
       "4           30.03            30.04         AA     30.04  \n",
       "\n",
       "[5 rows x 21 columns]"
      ]
     },
     "execution_count": 25,
     "metadata": {
      "tags": []
     },
     "output_type": "execute_result"
    }
   ],
   "source": [
    "weather.drop(columns=[\"ValueForWindCharacter\",\"PressureTendency\",\"WeatherType\",\"PressureChange\",\"HourlyPrecip\"],inplace=True)\n",
    "weather.head()"
   ]
  },
  {
   "cell_type": "markdown",
   "metadata": {
    "colab_type": "text",
    "id": "PoBbAJDOLxcx"
   },
   "source": [
    "## 2.2 Exploring some other columns and converting to one-hot"
   ]
  },
  {
   "cell_type": "markdown",
   "metadata": {
    "colab_type": "text",
    "id": "KnH_toobW-Ur"
   },
   "source": [
    "\n",
    "\n",
    "**Airport ID** is a categorical value. How many different Airports are in the dataset? How will we deal with categorical values later?"
   ]
  },
  {
   "cell_type": "code",
   "execution_count": 26,
   "metadata": {
    "colab": {
     "base_uri": "https://localhost:8080/",
     "height": 168
    },
    "colab_type": "code",
    "collapsed": false,
    "executionInfo": {
     "elapsed": 614,
     "status": "ok",
     "timestamp": 1538999603718,
     "user": {
      "displayName": "Pieter Sap",
      "photoUrl": "",
      "userId": "15749761891409076289"
     },
     "user_tz": -120
    },
    "id": "kMApDJsPXJVR",
    "outputId": "04d05624-bf8f-4e2b-8280-0387dcdd89e4"
   },
   "outputs": [
    {
     "name": "stdout",
     "output_type": "stream",
     "text": [
      "('unique airports: ', 66)\n"
     ]
    },
    {
     "data": {
      "text/plain": [
       "array([14843, 13204, 13303, 15304, 14027, 11697, 14635, 13495, 12191,\n",
       "       14683, 12266, 14492, 13931, 14100, 14524, 11278, 10397, 11057,\n",
       "       12451, 13244, 10693, 10423, 11259, 13851, 15016, 12953, 11618,\n",
       "       10721, 10529, 14307, 13232, 11042, 11066, 13342, 13487, 13871,\n",
       "       13830, 12173, 10140, 12954, 10800, 15376, 12889, 12892, 14107,\n",
       "       14570, 14679, 13796, 14771, 14831, 14869, 10713, 14057, 14747,\n",
       "       10299, 14908, 14893, 10821, 12264, 13795, 12339, 14730, 12478,\n",
       "       14122, 13930, 11433])"
      ]
     },
     "execution_count": 26,
     "metadata": {
      "tags": []
     },
     "output_type": "execute_result"
    }
   ],
   "source": [
    "print(\"unique airports: \",weather[\"AirportID\"].unique().shape[0])\n",
    "weather[\"AirportID\"].unique()"
   ]
  },
  {
   "cell_type": "markdown",
   "metadata": {
    "colab_type": "text",
    "id": "CwOYzij2Lxcy"
   },
   "source": [
    "We will not one-hot-encode airportID yet, we will first need it later to join the weather data with the flight data."
   ]
  },
  {
   "cell_type": "markdown",
   "metadata": {
    "colab_type": "text",
    "id": "8FfNcfxJX4FT"
   },
   "source": [
    "How many unique values does the **Skycondition** column have? Is it categorical or numerical?\n",
    "\n"
   ]
  },
  {
   "cell_type": "code",
   "execution_count": 27,
   "metadata": {
    "colab": {
     "base_uri": "https://localhost:8080/",
     "height": 84
    },
    "colab_type": "code",
    "collapsed": false,
    "executionInfo": {
     "elapsed": 589,
     "status": "ok",
     "timestamp": 1538999605230,
     "user": {
      "displayName": "Pieter Sap",
      "photoUrl": "",
      "userId": "15749761891409076289"
     },
     "user_tz": -120
    },
    "id": "oKbUOAGsLxc1",
    "outputId": "b872758e-80f7-49d5-fc77-b5bd27009945"
   },
   "outputs": [
    {
     "name": "stdout",
     "output_type": "stream",
     "text": [
      "('unique SkyCondition: ', 82826)\n"
     ]
    },
    {
     "data": {
      "text/plain": [
       "array(['FEW018 SCT044 BKN070', 'FEW037 SCT070', 'FEW025 SCT070', ...,\n",
       "       'SCT008 BKN025 OVC075', 'BKN012 BKN035 OVC090',\n",
       "       'BKN012 BKN045 OVC095'], dtype=object)"
      ]
     },
     "execution_count": 27,
     "metadata": {
      "tags": []
     },
     "output_type": "execute_result"
    }
   ],
   "source": [
    "print(\"unique SkyCondition: \",weather[\"SkyCondition\"].unique().shape[0])\n",
    "weather[\"SkyCondition\"].unique()"
   ]
  },
  {
   "cell_type": "markdown",
   "metadata": {
    "colab_type": "text",
    "id": "W_GKSGUjmM1G"
   },
   "source": [
    "It contains condition codes that we don't understand.  Since there are so many different values, one-hot-encoding would be impractical. We will drop this column."
   ]
  },
  {
   "cell_type": "code",
   "execution_count": 0,
   "metadata": {
    "colab": {},
    "colab_type": "code",
    "collapsed": true,
    "id": "Nf0-zKXpmIyv"
   },
   "outputs": [],
   "source": [
    "weather.drop(columns=[\"SkyCondition\"],inplace=True)"
   ]
  },
  {
   "cell_type": "markdown",
   "metadata": {
    "colab_type": "text",
    "id": "P5h2Cex0m0n2"
   },
   "source": [
    "**RecordType** has only four unique values, but their meaning is unknown. We will assume they are not very meaningful and we will drop this column."
   ]
  },
  {
   "cell_type": "code",
   "execution_count": 29,
   "metadata": {
    "colab": {
     "base_uri": "https://localhost:8080/",
     "height": 34
    },
    "colab_type": "code",
    "collapsed": false,
    "executionInfo": {
     "elapsed": 734,
     "status": "ok",
     "timestamp": 1538999608377,
     "user": {
      "displayName": "Pieter Sap",
      "photoUrl": "",
      "userId": "15749761891409076289"
     },
     "user_tz": -120
    },
    "id": "QJis8nF7msLT",
    "outputId": "1c74025e-af4e-4064-bb0a-ba5c4e63261a"
   },
   "outputs": [
    {
     "data": {
      "text/plain": [
       "array(['AA', 'SP', 'SY-MT', 'AUTO'], dtype=object)"
      ]
     },
     "execution_count": 29,
     "metadata": {
      "tags": []
     },
     "output_type": "execute_result"
    }
   ],
   "source": [
    "weather[\"RecordType\"].unique()"
   ]
  },
  {
   "cell_type": "code",
   "execution_count": 0,
   "metadata": {
    "colab": {},
    "colab_type": "code",
    "collapsed": true,
    "id": "579Y8oaMmt6o"
   },
   "outputs": [],
   "source": [
    "weather.drop(columns=[\"RecordType\"],inplace=True)"
   ]
  },
  {
   "cell_type": "markdown",
   "metadata": {
    "colab_type": "text",
    "id": "UOEmKk8HnWqa"
   },
   "source": [
    " **Intermediate result**"
   ]
  },
  {
   "cell_type": "code",
   "execution_count": 31,
   "metadata": {
    "colab": {
     "base_uri": "https://localhost:8080/",
     "height": 215
    },
    "colab_type": "code",
    "collapsed": false,
    "executionInfo": {
     "elapsed": 520,
     "status": "ok",
     "timestamp": 1538999618970,
     "user": {
      "displayName": "Pieter Sap",
      "photoUrl": "",
      "userId": "15749761891409076289"
     },
     "user_tz": -120
    },
    "id": "CkIr2G_WnVdo",
    "outputId": "ae7fdaf7-9f61-4610-a202-cda844e2b6e1"
   },
   "outputs": [
    {
     "data": {
      "text/html": [
       "<div>\n",
       "<style scoped>\n",
       "    .dataframe tbody tr th:only-of-type {\n",
       "        vertical-align: middle;\n",
       "    }\n",
       "\n",
       "    .dataframe tbody tr th {\n",
       "        vertical-align: top;\n",
       "    }\n",
       "\n",
       "    .dataframe thead th {\n",
       "        text-align: right;\n",
       "    }\n",
       "</style>\n",
       "<table border=\"1\" class=\"dataframe\">\n",
       "  <thead>\n",
       "    <tr style=\"text-align: right;\">\n",
       "      <th></th>\n",
       "      <th>AirportID</th>\n",
       "      <th>Year</th>\n",
       "      <th>Month</th>\n",
       "      <th>Day</th>\n",
       "      <th>Time</th>\n",
       "      <th>TimeZone</th>\n",
       "      <th>Visibility</th>\n",
       "      <th>DryBulbFarenheit</th>\n",
       "      <th>DryBulbCelsius</th>\n",
       "      <th>WetBulbFarenheit</th>\n",
       "      <th>WetBulbCelsius</th>\n",
       "      <th>DewPointFarenheit</th>\n",
       "      <th>DewPointCelsius</th>\n",
       "      <th>RelativeHumidity</th>\n",
       "      <th>WindSpeed</th>\n",
       "      <th>WindDirection</th>\n",
       "      <th>StationPressure</th>\n",
       "      <th>SeaLevelPressure</th>\n",
       "      <th>Altimeter</th>\n",
       "    </tr>\n",
       "  </thead>\n",
       "  <tbody>\n",
       "    <tr>\n",
       "      <th>0</th>\n",
       "      <td>14843</td>\n",
       "      <td>2013</td>\n",
       "      <td>4</td>\n",
       "      <td>1</td>\n",
       "      <td>56</td>\n",
       "      <td>-4</td>\n",
       "      <td>10.00</td>\n",
       "      <td>76</td>\n",
       "      <td>24.4</td>\n",
       "      <td>74</td>\n",
       "      <td>23.3</td>\n",
       "      <td>73</td>\n",
       "      <td>22.8</td>\n",
       "      <td>90</td>\n",
       "      <td>13</td>\n",
       "      <td>080</td>\n",
       "      <td>30.06</td>\n",
       "      <td>30.06</td>\n",
       "      <td>30.07</td>\n",
       "    </tr>\n",
       "    <tr>\n",
       "      <th>1</th>\n",
       "      <td>14843</td>\n",
       "      <td>2013</td>\n",
       "      <td>4</td>\n",
       "      <td>1</td>\n",
       "      <td>156</td>\n",
       "      <td>-4</td>\n",
       "      <td>10.00</td>\n",
       "      <td>76</td>\n",
       "      <td>24.4</td>\n",
       "      <td>73</td>\n",
       "      <td>22.5</td>\n",
       "      <td>71</td>\n",
       "      <td>21.7</td>\n",
       "      <td>85</td>\n",
       "      <td>10</td>\n",
       "      <td>090</td>\n",
       "      <td>30.05</td>\n",
       "      <td>30.05</td>\n",
       "      <td>30.06</td>\n",
       "    </tr>\n",
       "    <tr>\n",
       "      <th>2</th>\n",
       "      <td>14843</td>\n",
       "      <td>2013</td>\n",
       "      <td>4</td>\n",
       "      <td>1</td>\n",
       "      <td>256</td>\n",
       "      <td>-4</td>\n",
       "      <td>10.00</td>\n",
       "      <td>76</td>\n",
       "      <td>24.4</td>\n",
       "      <td>73</td>\n",
       "      <td>22.5</td>\n",
       "      <td>71</td>\n",
       "      <td>21.7</td>\n",
       "      <td>85</td>\n",
       "      <td>9</td>\n",
       "      <td>100</td>\n",
       "      <td>30.03</td>\n",
       "      <td>30.03</td>\n",
       "      <td>30.04</td>\n",
       "    </tr>\n",
       "    <tr>\n",
       "      <th>3</th>\n",
       "      <td>14843</td>\n",
       "      <td>2013</td>\n",
       "      <td>4</td>\n",
       "      <td>1</td>\n",
       "      <td>356</td>\n",
       "      <td>-4</td>\n",
       "      <td>10.00</td>\n",
       "      <td>76</td>\n",
       "      <td>24.4</td>\n",
       "      <td>72</td>\n",
       "      <td>22.2</td>\n",
       "      <td>70</td>\n",
       "      <td>21.1</td>\n",
       "      <td>82</td>\n",
       "      <td>9</td>\n",
       "      <td>100</td>\n",
       "      <td>30.02</td>\n",
       "      <td>30.03</td>\n",
       "      <td>30.03</td>\n",
       "    </tr>\n",
       "    <tr>\n",
       "      <th>4</th>\n",
       "      <td>14843</td>\n",
       "      <td>2013</td>\n",
       "      <td>4</td>\n",
       "      <td>1</td>\n",
       "      <td>456</td>\n",
       "      <td>-4</td>\n",
       "      <td>10.00</td>\n",
       "      <td>76</td>\n",
       "      <td>24.4</td>\n",
       "      <td>72</td>\n",
       "      <td>22.2</td>\n",
       "      <td>70</td>\n",
       "      <td>21.1</td>\n",
       "      <td>82</td>\n",
       "      <td>7</td>\n",
       "      <td>110</td>\n",
       "      <td>30.03</td>\n",
       "      <td>30.04</td>\n",
       "      <td>30.04</td>\n",
       "    </tr>\n",
       "  </tbody>\n",
       "</table>\n",
       "</div>"
      ],
      "text/plain": [
       "   AirportID  Year  Month  Day  Time  TimeZone Visibility DryBulbFarenheit  \\\n",
       "0      14843  2013      4    1    56        -4      10.00               76   \n",
       "1      14843  2013      4    1   156        -4      10.00               76   \n",
       "2      14843  2013      4    1   256        -4      10.00               76   \n",
       "3      14843  2013      4    1   356        -4      10.00               76   \n",
       "4      14843  2013      4    1   456        -4      10.00               76   \n",
       "\n",
       "  DryBulbCelsius WetBulbFarenheit WetBulbCelsius DewPointFarenheit  \\\n",
       "0           24.4               74           23.3                73   \n",
       "1           24.4               73           22.5                71   \n",
       "2           24.4               73           22.5                71   \n",
       "3           24.4               72           22.2                70   \n",
       "4           24.4               72           22.2                70   \n",
       "\n",
       "  DewPointCelsius RelativeHumidity WindSpeed WindDirection StationPressure  \\\n",
       "0            22.8               90        13           080           30.06   \n",
       "1            21.7               85        10           090           30.05   \n",
       "2            21.7               85         9           100           30.03   \n",
       "3            21.1               82         9           100           30.02   \n",
       "4            21.1               82         7           110           30.03   \n",
       "\n",
       "  SeaLevelPressure Altimeter  \n",
       "0            30.06     30.07  \n",
       "1            30.05     30.06  \n",
       "2            30.03     30.04  \n",
       "3            30.03     30.03  \n",
       "4            30.04     30.04  "
      ]
     },
     "execution_count": 31,
     "metadata": {
      "tags": []
     },
     "output_type": "execute_result"
    }
   ],
   "source": [
    "weather.head()"
   ]
  },
  {
   "cell_type": "code",
   "execution_count": 32,
   "metadata": {
    "colab": {
     "base_uri": "https://localhost:8080/",
     "height": 353
    },
    "colab_type": "code",
    "collapsed": false,
    "executionInfo": {
     "elapsed": 630,
     "status": "ok",
     "timestamp": 1538999620170,
     "user": {
      "displayName": "Pieter Sap",
      "photoUrl": "",
      "userId": "15749761891409076289"
     },
     "user_tz": -120
    },
    "id": "qYyYIshqncbn",
    "outputId": "be0f3ea3-d33f-438b-8a31-64dc0ddeeee6"
   },
   "outputs": [
    {
     "data": {
      "text/plain": [
       "AirportID             int64\n",
       "Year                  int64\n",
       "Month                 int64\n",
       "Day                   int64\n",
       "Time                  int64\n",
       "TimeZone              int64\n",
       "Visibility           object\n",
       "DryBulbFarenheit     object\n",
       "DryBulbCelsius       object\n",
       "WetBulbFarenheit     object\n",
       "WetBulbCelsius       object\n",
       "DewPointFarenheit    object\n",
       "DewPointCelsius      object\n",
       "RelativeHumidity     object\n",
       "WindSpeed            object\n",
       "WindDirection        object\n",
       "StationPressure      object\n",
       "SeaLevelPressure     object\n",
       "Altimeter            object\n",
       "dtype: object"
      ]
     },
     "execution_count": 32,
     "metadata": {
      "tags": []
     },
     "output_type": "execute_result"
    }
   ],
   "source": [
    "weather.dtypes"
   ]
  },
  {
   "cell_type": "markdown",
   "metadata": {
    "colab_type": "text",
    "id": "O1SjVvHeLxdH"
   },
   "source": [
    "## 2.3 Removing the M's and casting to numerical. One-hot-encoding WindDirection\n",
    "\n",
    "A lot of numerical values are parsed as an object (see dtypes list above) because they contain some weird \"M\" values.\n",
    "Let's count the M in some of these columns"
   ]
  },
  {
   "cell_type": "markdown",
   "metadata": {
    "colab_type": "text",
    "id": "eG5IAkfaZn6T"
   },
   "source": [
    "From printing the dtypes, **Visibility** is an 'object' type. This suggests that it contains string values. Let's explore this column."
   ]
  },
  {
   "cell_type": "code",
   "execution_count": 33,
   "metadata": {
    "colab": {
     "base_uri": "https://localhost:8080/",
     "height": 118
    },
    "colab_type": "code",
    "collapsed": false,
    "executionInfo": {
     "elapsed": 548,
     "status": "ok",
     "timestamp": 1538999621357,
     "user": {
      "displayName": "Pieter Sap",
      "photoUrl": "",
      "userId": "15749761891409076289"
     },
     "user_tz": -120
    },
    "id": "RWNrZ_Izbuix",
    "outputId": "c68c2f1e-83eb-49e7-f482-20ef707c7ce6"
   },
   "outputs": [
    {
     "data": {
      "text/plain": [
       "array(['10.00', ' 8.00', ' 9.00', ' 1.00', ' 2.00', ' 4.00', ' 6.00',\n",
       "       ' 7.00', ' 3.00', ' 5.00', ' 0.50', ' 0.75', ' 1.50', ' 1.49',\n",
       "       ' 2.50', ' 1.75', ' 1.25', ' 0.25', ' 0.12', ' 0.00', 'M', ' 9.94',\n",
       "       '30.00', ' 1.74', 10.0, 7.0, 1.75, 3.0, 9.0, 6.0, 5.0, 8.0, 4.0,\n",
       "       2.0, 2.5, 0.5, 1.5, 1.25, 1.0, 0.75, 0.25, 0.12, 0.0, 35.0,\n",
       "       ' 10.00', 13.0], dtype=object)"
      ]
     },
     "execution_count": 33,
     "metadata": {
      "tags": []
     },
     "output_type": "execute_result"
    }
   ],
   "source": [
    "weather[\"Visibility\"].unique()"
   ]
  },
  {
   "cell_type": "markdown",
   "metadata": {
    "colab_type": "text",
    "id": "40XUq9fmcgDa"
   },
   "source": [
    "Note the following 'unique' values:\n",
    "\n",
    "-  '10.00' (string)\n",
    "- 10.0 (float)\n",
    "- ' 10.00' (string, but with leading white space)\n",
    "\n",
    "Most values are numerical, but it also contains the 'M' value. Since plot() only takes numerical data, we will make a bar chart of this data by first calling value_counts() on the Series. This returns a Dataframe with the number of matching values for each unique visibility value. Optionally, try calling value_counts() without plot() to see what it does.\n",
    "\n"
   ]
  },
  {
   "cell_type": "code",
   "execution_count": 34,
   "metadata": {
    "colab": {
     "base_uri": "https://localhost:8080/",
     "height": 626
    },
    "colab_type": "code",
    "collapsed": false,
    "executionInfo": {
     "elapsed": 1304,
     "status": "ok",
     "timestamp": 1538999623302,
     "user": {
      "displayName": "Pieter Sap",
      "photoUrl": "",
      "userId": "15749761891409076289"
     },
     "user_tz": -120
    },
    "id": "khT4sN4jT-TU",
    "outputId": "c72f2cb9-fc8c-4784-8f7a-61fd98ccc61c"
   },
   "outputs": [
    {
     "data": {
      "text/plain": [
       "<matplotlib.axes._subplots.AxesSubplot at 0x7f9f04800410>"
      ]
     },
     "execution_count": 34,
     "metadata": {
      "tags": []
     },
     "output_type": "execute_result"
    },
    {
     "data": {
      "image/png": "[encoded data removed]",
      "text/plain": [
       "<matplotlib.figure.Figure at 0x7f9f04c17f50>"
      ]
     },
     "metadata": {
      "tags": []
     },
     "output_type": "display_data"
    }
   ],
   "source": [
    "weather[\"Visibility\"].value_counts().plot(kind='bar',figsize=(10,10))"
   ]
  },
  {
   "cell_type": "markdown",
   "metadata": {
    "colab_type": "text",
    "id": "0V7xlHaKobkj"
   },
   "source": [
    "Most values of visibility are 10.0, the 'M' value rarely appears.\n",
    "\n",
    "We also notice the 'M' value in other columns. Let's zoom in to 3 more columns as an example: **DryBulbFarenheit, Altimeter, SealevelPressure**. Let's calculate the percentage of M's in these columns."
   ]
  },
  {
   "cell_type": "code",
   "execution_count": 35,
   "metadata": {
    "colab": {
     "base_uri": "https://localhost:8080/",
     "height": 84
    },
    "colab_type": "code",
    "collapsed": false,
    "executionInfo": {
     "elapsed": 758,
     "status": "ok",
     "timestamp": 1538999624387,
     "user": {
      "displayName": "Pieter Sap",
      "photoUrl": "",
      "userId": "15749761891409076289"
     },
     "user_tz": -120
    },
    "id": "wytudSAz5QD5",
    "outputId": "399597b6-9f90-45e3-f141-be3426532efe"
   },
   "outputs": [
    {
     "name": "stdout",
     "output_type": "stream",
     "text": [
      "Fraction of M's in column Visibility: 0.000265672199864\n",
      "Fraction of M's in column DryBulbFarenheit: 0.000710919127414\n",
      "Fraction of M's in column Altimeter: 0.000273051983194\n",
      "Fraction of M's in column SeaLevelPressure: 0.179328734908\n"
     ]
    }
   ],
   "source": [
    "for column in [\"Visibility\",\"DryBulbFarenheit\", \"Altimeter\", \"SeaLevelPressure\"]:\n",
    "  perc = float(weather[weather[column] == 'M'][column].count())/len(weather)\n",
    "  print(\"Fraction of M's in column {0}: {1}\".format(column,perc))"
   ]
  },
  {
   "cell_type": "markdown",
   "metadata": {
    "colab_type": "text",
    "id": "3tt55SHV6NLf"
   },
   "source": [
    "We will remove the column SeaLevelPressure since it contains a lot of useless M's. "
   ]
  },
  {
   "cell_type": "code",
   "execution_count": 0,
   "metadata": {
    "colab": {},
    "colab_type": "code",
    "collapsed": true,
    "id": "Wg7mOEzq73Eh"
   },
   "outputs": [],
   "source": [
    "weather.drop(columns=[\"SeaLevelPressure\"],inplace=True)"
   ]
  },
  {
   "cell_type": "markdown",
   "metadata": {
    "colab_type": "text",
    "id": "wgXH4gnV79H7"
   },
   "source": [
    "In the other columns, the M value is rarely seen. We would prefer to keep these columns, since we are not sure a priori that these columns have no influence on the flight delay.\n",
    "\n",
    "We decide to further clean our data by keeping the columns but simply removing all rows from the dataframe that has an M somewhere.\n",
    "\n",
    "The function below removes all rows with an M for a general dataframe, from all columns with dtype *object*. Afterwards it attempts to cast the column to float.\n"
   ]
  },
  {
   "cell_type": "code",
   "execution_count": 0,
   "metadata": {
    "colab": {},
    "colab_type": "code",
    "collapsed": true,
    "id": "h2wyLFtG855B"
   },
   "outputs": [],
   "source": [
    "def remove_M(df):\n",
    "    original_length = len(df)\n",
    "    for c in df.columns.tolist():\n",
    "        if df.dtypes[c] == 'object':\n",
    "            m = df[df[c] == \"M\"][c].count()\n",
    "            print(\"Removed {0} in column {1}\".format(m,c))\n",
    "            df = df[df[c] != \"M\"]\n",
    "            try: \n",
    "                df[c] = df[c].astype(np.float64)\n",
    "            except:\n",
    "                pass\n",
    "    n_removed = original_length - len(df)\n",
    "    print(\"\")\n",
    "    print(\"Removed {0} of {1}\".format(n_removed,original_length))\n",
    "    return df"
   ]
  },
  {
   "cell_type": "code",
   "execution_count": 38,
   "metadata": {
    "colab": {
     "base_uri": "https://localhost:8080/",
     "height": 357
    },
    "colab_type": "code",
    "collapsed": false,
    "executionInfo": {
     "elapsed": 2715,
     "status": "ok",
     "timestamp": 1538999629983,
     "user": {
      "displayName": "Pieter Sap",
      "photoUrl": "",
      "userId": "15749761891409076289"
     },
     "user_tz": -120
    },
    "id": "y_11JxvHLxdQ",
    "outputId": "a615368e-e406-4326-f6b2-a258fb416a15"
   },
   "outputs": [
    {
     "name": "stdout",
     "output_type": "stream",
     "text": [
      "Removed 108 in column Visibility\n"
     ]
    },
    {
     "name": "stderr",
     "output_type": "stream",
     "text": [
      "/usr/local/lib/python2.7/dist-packages/ipykernel_launcher.py:9: SettingWithCopyWarning: \n",
      "A value is trying to be set on a copy of a slice from a DataFrame.\n",
      "Try using .loc[row_indexer,col_indexer] = value instead\n",
      "\n",
      "See the caveats in the documentation: http://pandas.pydata.org/pandas-docs/stable/indexing.html#indexing-view-versus-copy\n",
      "  if __name__ == '__main__':\n"
     ]
    },
    {
     "name": "stdout",
     "output_type": "stream",
     "text": [
      "Removed 221 in column DryBulbFarenheit\n",
      "Removed 0 in column DryBulbCelsius\n",
      "Removed 1202 in column WetBulbFarenheit\n",
      "Removed 0 in column WetBulbCelsius\n",
      "Removed 0 in column DewPointFarenheit\n",
      "Removed 0 in column DewPointCelsius\n",
      "Removed 0 in column RelativeHumidity\n",
      "Removed 41 in column WindSpeed\n",
      "Removed 29 in column WindDirection\n",
      "Removed 0 in column StationPressure\n",
      "Removed 2 in column Altimeter\n",
      "\n",
      "Removed 1603 of 406516\n"
     ]
    }
   ],
   "source": [
    "weather = remove_M(weather)"
   ]
  },
  {
   "cell_type": "code",
   "execution_count": 39,
   "metadata": {
    "colab": {
     "base_uri": "https://localhost:8080/",
     "height": 340
    },
    "colab_type": "code",
    "collapsed": false,
    "executionInfo": {
     "elapsed": 486,
     "status": "ok",
     "timestamp": 1538999630794,
     "user": {
      "displayName": "Pieter Sap",
      "photoUrl": "",
      "userId": "15749761891409076289"
     },
     "user_tz": -120
    },
    "id": "6i03sQpm_BGq",
    "outputId": "a3d58f67-9c9d-40f3-c063-e71e6ff26fee"
   },
   "outputs": [
    {
     "data": {
      "text/plain": [
       "AirportID              int64\n",
       "Year                   int64\n",
       "Month                  int64\n",
       "Day                    int64\n",
       "Time                   int64\n",
       "TimeZone               int64\n",
       "Visibility           float64\n",
       "DryBulbFarenheit     float64\n",
       "DryBulbCelsius       float64\n",
       "WetBulbFarenheit     float64\n",
       "WetBulbCelsius       float64\n",
       "DewPointFarenheit    float64\n",
       "DewPointCelsius      float64\n",
       "RelativeHumidity     float64\n",
       "WindSpeed             object\n",
       "WindDirection         object\n",
       "StationPressure      float64\n",
       "Altimeter            float64\n",
       "dtype: object"
      ]
     },
     "execution_count": 39,
     "metadata": {
      "tags": []
     },
     "output_type": "execute_result"
    }
   ],
   "source": [
    "weather.dtypes"
   ]
  },
  {
   "cell_type": "markdown",
   "metadata": {
    "colab_type": "text",
    "id": "f0wUfB7JLxdW"
   },
   "source": [
    "Apparently,  columns **WindSpeed** and **WindDirection** still have weird strings as value, since we were not able to cast them to floats. "
   ]
  },
  {
   "cell_type": "code",
   "execution_count": 40,
   "metadata": {
    "colab": {
     "base_uri": "https://localhost:8080/",
     "height": 136
    },
    "colab_type": "code",
    "collapsed": false,
    "executionInfo": {
     "elapsed": 513,
     "status": "ok",
     "timestamp": 1538999632476,
     "user": {
      "displayName": "Pieter Sap",
      "photoUrl": "",
      "userId": "15749761891409076289"
     },
     "user_tz": -120
    },
    "id": "m70QdkPvLxdW",
    "outputId": "9bbf5b8e-7183-4e5e-b377-23c52f8a34b1"
   },
   "outputs": [
    {
     "name": "stdout",
     "output_type": "stream",
     "text": [
      "('unique WindSpeed: ', 72)\n"
     ]
    },
    {
     "data": {
      "text/plain": [
       "array(['13', '10', ' 9', ' 7', '14', '16', '17', '20', '18', '15', '11',\n",
       "       ' 5', ' 6', ' 3', ' 8', ' 0', '21', '22', '23', '24', '26', '25',\n",
       "       '30', '29', '32', '34', '40', '37', '28', '31', '44', '39', '33',\n",
       "       '38', '36', '43', '41', '45', '53', '  ', '46', '51', '47', '62',\n",
       "       0, 6, 3, 5, 7, 8, 10, 9, 11, 13, 15, 14, 16, 18, 20, 17, 21, 22,\n",
       "       23, 24, 26, 25, 31, 30, 33, 28, 29, 36], dtype=object)"
      ]
     },
     "execution_count": 40,
     "metadata": {
      "tags": []
     },
     "output_type": "execute_result"
    }
   ],
   "source": [
    "print(\"unique WindSpeed: \",weather[\"WindSpeed\"].unique().shape[0])\n",
    "weather[\"WindSpeed\"].unique()"
   ]
  },
  {
   "cell_type": "markdown",
   "metadata": {
    "colab_type": "text",
    "id": "sVFbdAhkERTQ"
   },
   "source": [
    "Windspeed has empty strings as value, but only very few. We simply remove the rows with an empty WindSpeed from the dataframe, then we can cast the column to numerical."
   ]
  },
  {
   "cell_type": "code",
   "execution_count": 41,
   "metadata": {
    "colab": {
     "base_uri": "https://localhost:8080/",
     "height": 34
    },
    "colab_type": "code",
    "collapsed": false,
    "executionInfo": {
     "elapsed": 552,
     "status": "ok",
     "timestamp": 1538999640232,
     "user": {
      "displayName": "Pieter Sap",
      "photoUrl": "",
      "userId": "15749761891409076289"
     },
     "user_tz": -120
    },
    "id": "QIZIbKGCLxdY",
    "outputId": "b1e81ca6-e606-451e-85c0-ffb3bd5dedfc"
   },
   "outputs": [
    {
     "data": {
      "text/plain": [
       "3"
      ]
     },
     "execution_count": 41,
     "metadata": {
      "tags": []
     },
     "output_type": "execute_result"
    }
   ],
   "source": [
    "weather[weather[\"WindSpeed\"] == '  '][\"WindSpeed\"].count()"
   ]
  },
  {
   "cell_type": "code",
   "execution_count": 0,
   "metadata": {
    "colab": {},
    "colab_type": "code",
    "collapsed": true,
    "id": "VrrZDMsrLxdh"
   },
   "outputs": [],
   "source": [
    "weather = weather[weather[\"WindSpeed\"] != '  ']\n",
    "weather[\"WindSpeed\"] = weather[\"WindSpeed\"].astype(np.int64)"
   ]
  },
  {
   "cell_type": "markdown",
   "metadata": {
    "colab_type": "text",
    "id": "KfRncCziLxdg"
   },
   "source": [
    "**Winddirection** has some value 'VR' that appears an amount of times that is not negligible."
   ]
  },
  {
   "cell_type": "code",
   "execution_count": 43,
   "metadata": {
    "colab": {
     "base_uri": "https://localhost:8080/",
     "height": 118
    },
    "colab_type": "code",
    "collapsed": false,
    "executionInfo": {
     "elapsed": 851,
     "status": "ok",
     "timestamp": 1538999650631,
     "user": {
      "displayName": "Pieter Sap",
      "photoUrl": "",
      "userId": "15749761891409076289"
     },
     "user_tz": -120
    },
    "id": "K0fbxD-BEmht",
    "outputId": "b3a58c9f-edcc-4882-bc2d-7b52ba74a7ba"
   },
   "outputs": [
    {
     "name": "stdout",
     "output_type": "stream",
     "text": [
      "('unique WindDirection: ', 39)\n"
     ]
    },
    {
     "data": {
      "text/plain": [
       "array(['080', '090', '100', '110', '070', '000', '130', '150', '160',\n",
       "       '120', '170', '180', '060', '230', '200', '050', 'VR ', '140',\n",
       "       '210', '290', '270', '190', '030', '040', '020', '010', '360',\n",
       "       '220', '260', '250', '280', '300', '320', '340', '350', '310',\n",
       "       '240', '330', '239'], dtype=object)"
      ]
     },
     "execution_count": 43,
     "metadata": {
      "tags": []
     },
     "output_type": "execute_result"
    }
   ],
   "source": [
    "print(\"unique WindDirection: \",weather[\"WindDirection\"].unique().shape[0])\n",
    "weather[\"WindDirection\"].unique()"
   ]
  },
  {
   "cell_type": "code",
   "execution_count": 44,
   "metadata": {
    "colab": {
     "base_uri": "https://localhost:8080/",
     "height": 34
    },
    "colab_type": "code",
    "collapsed": false,
    "executionInfo": {
     "elapsed": 478,
     "status": "ok",
     "timestamp": 1538999651691,
     "user": {
      "displayName": "Pieter Sap",
      "photoUrl": "",
      "userId": "15749761891409076289"
     },
     "user_tz": -120
    },
    "id": "uVTKBunyLxdp",
    "outputId": "1b1d0528-3e31-4162-94b9-f378b2d8fa14"
   },
   "outputs": [
    {
     "data": {
      "text/plain": [
       "11274"
      ]
     },
     "execution_count": 44,
     "metadata": {
      "tags": []
     },
     "output_type": "execute_result"
    }
   ],
   "source": [
    "weather[weather[\"WindDirection\"] == 'VR '][\"WindSpeed\"].count()"
   ]
  },
  {
   "cell_type": "markdown",
   "metadata": {
    "colab_type": "text",
    "id": "e_WM1qpVFZRt"
   },
   "source": [
    "The Winddirection ranges from 0 to 360 degrees. We will use one-hot-encoding for the WindDirection, by splitting it up into categories. Every category represents a range of 40 degrees. Another category is reserved for the 'VR' case.\n",
    "\n",
    "Review the code in the cell below. This cell performs this one-hot-encoding and splits the column into seperate columns for each one-hot-encoded case. "
   ]
  },
  {
   "cell_type": "code",
   "execution_count": 0,
   "metadata": {
    "colab": {},
    "colab_type": "code",
    "collapsed": true,
    "id": "C47kE7NOLxdr"
   },
   "outputs": [],
   "source": [
    "direction_categories = [0,40,80,120,160,200,240,280,320]\n",
    "def check_cat(x,cat):\n",
    "    try: #try-catch block because VR cannot be compared to int.\n",
    "        if int(x)>cat-20 and int(x)<=cat+20:\n",
    "            return 1\n",
    "        else:\n",
    "            return 0\n",
    "    except:\n",
    "        return 0\n",
    "    \n",
    "weather[\"dir_VR\"] = weather[\"WindDirection\"].apply(lambda x: 1 if x == 'VR ' else 0)\n",
    "for cat in direction_categories:\n",
    "    weather[\"dir_{0}\".format(cat)] = weather[\"WindDirection\"].apply(lambda x: check_cat(x,cat))\n",
    "weather.drop(columns=[\"WindDirection\"],inplace=True)"
   ]
  },
  {
   "cell_type": "markdown",
   "metadata": {
    "colab_type": "text",
    "id": "9wYBUz3UGFvF"
   },
   "source": [
    "The resulting dataframe has columns \"dir_0\" up to \"dir_320\""
   ]
  },
  {
   "cell_type": "code",
   "execution_count": 46,
   "metadata": {
    "colab": {
     "base_uri": "https://localhost:8080/",
     "height": 244
    },
    "colab_type": "code",
    "collapsed": false,
    "executionInfo": {
     "elapsed": 569,
     "status": "ok",
     "timestamp": 1538999657589,
     "user": {
      "displayName": "Pieter Sap",
      "photoUrl": "",
      "userId": "15749761891409076289"
     },
     "user_tz": -120
    },
    "id": "tQpnoOw2Lxdt",
    "outputId": "b80ae0bd-2fd8-41d8-bd44-384e21452b9a"
   },
   "outputs": [
    {
     "data": {
      "text/html": [
       "<div>\n",
       "<style scoped>\n",
       "    .dataframe tbody tr th:only-of-type {\n",
       "        vertical-align: middle;\n",
       "    }\n",
       "\n",
       "    .dataframe tbody tr th {\n",
       "        vertical-align: top;\n",
       "    }\n",
       "\n",
       "    .dataframe thead th {\n",
       "        text-align: right;\n",
       "    }\n",
       "</style>\n",
       "<table border=\"1\" class=\"dataframe\">\n",
       "  <thead>\n",
       "    <tr style=\"text-align: right;\">\n",
       "      <th></th>\n",
       "      <th>AirportID</th>\n",
       "      <th>Year</th>\n",
       "      <th>Month</th>\n",
       "      <th>Day</th>\n",
       "      <th>Time</th>\n",
       "      <th>TimeZone</th>\n",
       "      <th>Visibility</th>\n",
       "      <th>DryBulbFarenheit</th>\n",
       "      <th>DryBulbCelsius</th>\n",
       "      <th>WetBulbFarenheit</th>\n",
       "      <th>...</th>\n",
       "      <th>dir_VR</th>\n",
       "      <th>dir_0</th>\n",
       "      <th>dir_40</th>\n",
       "      <th>dir_80</th>\n",
       "      <th>dir_120</th>\n",
       "      <th>dir_160</th>\n",
       "      <th>dir_200</th>\n",
       "      <th>dir_240</th>\n",
       "      <th>dir_280</th>\n",
       "      <th>dir_320</th>\n",
       "    </tr>\n",
       "  </thead>\n",
       "  <tbody>\n",
       "    <tr>\n",
       "      <th>0</th>\n",
       "      <td>14843</td>\n",
       "      <td>2013</td>\n",
       "      <td>4</td>\n",
       "      <td>1</td>\n",
       "      <td>56</td>\n",
       "      <td>-4</td>\n",
       "      <td>10.0</td>\n",
       "      <td>76.0</td>\n",
       "      <td>24.4</td>\n",
       "      <td>74.0</td>\n",
       "      <td>...</td>\n",
       "      <td>0</td>\n",
       "      <td>0</td>\n",
       "      <td>0</td>\n",
       "      <td>1</td>\n",
       "      <td>0</td>\n",
       "      <td>0</td>\n",
       "      <td>0</td>\n",
       "      <td>0</td>\n",
       "      <td>0</td>\n",
       "      <td>0</td>\n",
       "    </tr>\n",
       "    <tr>\n",
       "      <th>1</th>\n",
       "      <td>14843</td>\n",
       "      <td>2013</td>\n",
       "      <td>4</td>\n",
       "      <td>1</td>\n",
       "      <td>156</td>\n",
       "      <td>-4</td>\n",
       "      <td>10.0</td>\n",
       "      <td>76.0</td>\n",
       "      <td>24.4</td>\n",
       "      <td>73.0</td>\n",
       "      <td>...</td>\n",
       "      <td>0</td>\n",
       "      <td>0</td>\n",
       "      <td>0</td>\n",
       "      <td>1</td>\n",
       "      <td>0</td>\n",
       "      <td>0</td>\n",
       "      <td>0</td>\n",
       "      <td>0</td>\n",
       "      <td>0</td>\n",
       "      <td>0</td>\n",
       "    </tr>\n",
       "    <tr>\n",
       "      <th>2</th>\n",
       "      <td>14843</td>\n",
       "      <td>2013</td>\n",
       "      <td>4</td>\n",
       "      <td>1</td>\n",
       "      <td>256</td>\n",
       "      <td>-4</td>\n",
       "      <td>10.0</td>\n",
       "      <td>76.0</td>\n",
       "      <td>24.4</td>\n",
       "      <td>73.0</td>\n",
       "      <td>...</td>\n",
       "      <td>0</td>\n",
       "      <td>0</td>\n",
       "      <td>0</td>\n",
       "      <td>1</td>\n",
       "      <td>0</td>\n",
       "      <td>0</td>\n",
       "      <td>0</td>\n",
       "      <td>0</td>\n",
       "      <td>0</td>\n",
       "      <td>0</td>\n",
       "    </tr>\n",
       "    <tr>\n",
       "      <th>3</th>\n",
       "      <td>14843</td>\n",
       "      <td>2013</td>\n",
       "      <td>4</td>\n",
       "      <td>1</td>\n",
       "      <td>356</td>\n",
       "      <td>-4</td>\n",
       "      <td>10.0</td>\n",
       "      <td>76.0</td>\n",
       "      <td>24.4</td>\n",
       "      <td>72.0</td>\n",
       "      <td>...</td>\n",
       "      <td>0</td>\n",
       "      <td>0</td>\n",
       "      <td>0</td>\n",
       "      <td>1</td>\n",
       "      <td>0</td>\n",
       "      <td>0</td>\n",
       "      <td>0</td>\n",
       "      <td>0</td>\n",
       "      <td>0</td>\n",
       "      <td>0</td>\n",
       "    </tr>\n",
       "    <tr>\n",
       "      <th>4</th>\n",
       "      <td>14843</td>\n",
       "      <td>2013</td>\n",
       "      <td>4</td>\n",
       "      <td>1</td>\n",
       "      <td>456</td>\n",
       "      <td>-4</td>\n",
       "      <td>10.0</td>\n",
       "      <td>76.0</td>\n",
       "      <td>24.4</td>\n",
       "      <td>72.0</td>\n",
       "      <td>...</td>\n",
       "      <td>0</td>\n",
       "      <td>0</td>\n",
       "      <td>0</td>\n",
       "      <td>0</td>\n",
       "      <td>1</td>\n",
       "      <td>0</td>\n",
       "      <td>0</td>\n",
       "      <td>0</td>\n",
       "      <td>0</td>\n",
       "      <td>0</td>\n",
       "    </tr>\n",
       "  </tbody>\n",
       "</table>\n",
       "<p>5 rows × 27 columns</p>\n",
       "</div>"
      ],
      "text/plain": [
       "   AirportID  Year  Month  Day  Time  TimeZone  Visibility  DryBulbFarenheit  \\\n",
       "0      14843  2013      4    1    56        -4        10.0              76.0   \n",
       "1      14843  2013      4    1   156        -4        10.0              76.0   \n",
       "2      14843  2013      4    1   256        -4        10.0              76.0   \n",
       "3      14843  2013      4    1   356        -4        10.0              76.0   \n",
       "4      14843  2013      4    1   456        -4        10.0              76.0   \n",
       "\n",
       "   DryBulbCelsius  WetBulbFarenheit   ...     dir_VR  dir_0  dir_40  dir_80  \\\n",
       "0            24.4              74.0   ...          0      0       0       1   \n",
       "1            24.4              73.0   ...          0      0       0       1   \n",
       "2            24.4              73.0   ...          0      0       0       1   \n",
       "3            24.4              72.0   ...          0      0       0       1   \n",
       "4            24.4              72.0   ...          0      0       0       0   \n",
       "\n",
       "   dir_120  dir_160  dir_200  dir_240  dir_280  dir_320  \n",
       "0        0        0        0        0        0        0  \n",
       "1        0        0        0        0        0        0  \n",
       "2        0        0        0        0        0        0  \n",
       "3        0        0        0        0        0        0  \n",
       "4        1        0        0        0        0        0  \n",
       "\n",
       "[5 rows x 27 columns]"
      ]
     },
     "execution_count": 46,
     "metadata": {
      "tags": []
     },
     "output_type": "execute_result"
    }
   ],
   "source": [
    "weather.head()"
   ]
  },
  {
   "cell_type": "code",
   "execution_count": 47,
   "metadata": {
    "colab": {
     "base_uri": "https://localhost:8080/",
     "height": 487
    },
    "colab_type": "code",
    "collapsed": false,
    "executionInfo": {
     "elapsed": 489,
     "status": "ok",
     "timestamp": 1538999658748,
     "user": {
      "displayName": "Pieter Sap",
      "photoUrl": "",
      "userId": "15749761891409076289"
     },
     "user_tz": -120
    },
    "id": "WV6XLld9Lxdw",
    "outputId": "f7419894-6858-4e67-8adf-7bfb00148a6b"
   },
   "outputs": [
    {
     "data": {
      "text/plain": [
       "AirportID              int64\n",
       "Year                   int64\n",
       "Month                  int64\n",
       "Day                    int64\n",
       "Time                   int64\n",
       "TimeZone               int64\n",
       "Visibility           float64\n",
       "DryBulbFarenheit     float64\n",
       "DryBulbCelsius       float64\n",
       "WetBulbFarenheit     float64\n",
       "WetBulbCelsius       float64\n",
       "DewPointFarenheit    float64\n",
       "DewPointCelsius      float64\n",
       "RelativeHumidity     float64\n",
       "WindSpeed              int64\n",
       "StationPressure      float64\n",
       "Altimeter            float64\n",
       "dir_VR                 int64\n",
       "dir_0                  int64\n",
       "dir_40                 int64\n",
       "dir_80                 int64\n",
       "dir_120                int64\n",
       "dir_160                int64\n",
       "dir_200                int64\n",
       "dir_240                int64\n",
       "dir_280                int64\n",
       "dir_320                int64\n",
       "dtype: object"
      ]
     },
     "execution_count": 47,
     "metadata": {
      "tags": []
     },
     "output_type": "execute_result"
    }
   ],
   "source": [
    "weather.dtypes"
   ]
  },
  {
   "cell_type": "markdown",
   "metadata": {
    "colab_type": "text",
    "id": "zeE0XWO7Lxd0"
   },
   "source": [
    "## 2.4 Handling time\n",
    "\n",
    "We will use the time information to join the weather dataframe with the delay dataframe. For this, we must format the time information for every row into a fixed format in one column.\n",
    "\n",
    "We round time to the nearest hour. Time of weather data is rounded UP and time of flight data will be rounded DOWN, to make sure that weather conditions after the flight departure/arrival are not a deciding factor. We create a **datetime** column with strings in the format \"YYYY-M-D-H\". \n",
    "\n",
    "What about the timezone? The weather data is reported in local time. We will leave this in local time and use this to join it to the delay data, where arrival and departure times are also in local times.\n",
    "\n",
    "In the original dataframe, time of day is written in the HH-mm format:"
   ]
  },
  {
   "cell_type": "code",
   "execution_count": 48,
   "metadata": {
    "colab": {
     "base_uri": "https://localhost:8080/",
     "height": 118
    },
    "colab_type": "code",
    "collapsed": false,
    "executionInfo": {
     "elapsed": 500,
     "status": "ok",
     "timestamp": 1538999660131,
     "user": {
      "displayName": "Pieter Sap",
      "photoUrl": "",
      "userId": "15749761891409076289"
     },
     "user_tz": -120
    },
    "id": "Lq5DMnr0JiUH",
    "outputId": "e5543a5f-8175-44c4-f714-551fc00d90ce"
   },
   "outputs": [
    {
     "data": {
      "text/plain": [
       "0     56\n",
       "1    156\n",
       "2    256\n",
       "3    356\n",
       "4    456\n",
       "Name: Time, dtype: int64"
      ]
     },
     "execution_count": 48,
     "metadata": {
      "tags": []
     },
     "output_type": "execute_result"
    }
   ],
   "source": [
    "weather['Time'].head(5)"
   ]
  },
  {
   "cell_type": "code",
   "execution_count": 0,
   "metadata": {
    "colab": {},
    "colab_type": "code",
    "collapsed": true,
    "id": "wgAcRo2eJSsD"
   },
   "outputs": [],
   "source": [
    "# function to round the time of day (in HH-mm format) to the nearest hour.\n",
    "def hhmm_to_h(hhmm, mode):\n",
    "    #mode = 'up' or 'down'\n",
    "    if not (mode == 'up' or mode == 'down'):\n",
    "        raise Exception(\"mode must be up or down\")\n",
    "    if len(str(hhmm)) <= 2:\n",
    "        if mode == 'up':\n",
    "            h = 1\n",
    "        else:\n",
    "            h = 0\n",
    "    else:\n",
    "        h = int(str(hhmm)[:-2])\n",
    "        if mode == 'up':\n",
    "            h += 1\n",
    "    return h"
   ]
  },
  {
   "cell_type": "code",
   "execution_count": 0,
   "metadata": {
    "colab": {},
    "colab_type": "code",
    "collapsed": true,
    "id": "E2BynlCBLxeC"
   },
   "outputs": [],
   "source": [
    "#first create a column \"hour\" to round the time to the nearest hour.\n",
    "\n",
    "weather[\"hour\"] = weather[\"Time\"].apply(lambda x: hhmm_to_h(x,mode='up'))"
   ]
  },
  {
   "cell_type": "code",
   "execution_count": 51,
   "metadata": {
    "colab": {
     "base_uri": "https://localhost:8080/",
     "height": 118
    },
    "colab_type": "code",
    "collapsed": false,
    "executionInfo": {
     "elapsed": 706,
     "status": "ok",
     "timestamp": 1538999664270,
     "user": {
      "displayName": "Pieter Sap",
      "photoUrl": "",
      "userId": "15749761891409076289"
     },
     "user_tz": -120
    },
    "id": "1hsb0qFRKHt0",
    "outputId": "deaa50ca-ca83-495b-be68-ce67d65aef9d"
   },
   "outputs": [
    {
     "data": {
      "text/plain": [
       "0    1\n",
       "1    2\n",
       "2    3\n",
       "3    4\n",
       "4    5\n",
       "Name: hour, dtype: int64"
      ]
     },
     "execution_count": 51,
     "metadata": {
      "tags": []
     },
     "output_type": "execute_result"
    }
   ],
   "source": [
    "weather['hour'].head(5)"
   ]
  },
  {
   "cell_type": "code",
   "execution_count": 0,
   "metadata": {
    "colab": {},
    "colab_type": "code",
    "collapsed": true,
    "id": "AefUfxRuLxeF"
   },
   "outputs": [],
   "source": [
    "#then, create a datetime string from the columns Year, Month, Day and hour. Note how operations on series can be easily done thanks to broadcasting.\n",
    "\n",
    "weather[\"datetime\"] = weather[\"Year\"].astype(str)+'-'+weather[\"Month\"].astype(str)+'-'+weather[\"Day\"].astype(str)+'-'+weather[\"hour\"].astype(str)"
   ]
  },
  {
   "cell_type": "code",
   "execution_count": 53,
   "metadata": {
    "colab": {
     "base_uri": "https://localhost:8080/",
     "height": 118
    },
    "colab_type": "code",
    "collapsed": false,
    "executionInfo": {
     "elapsed": 644,
     "status": "ok",
     "timestamp": 1538999675096,
     "user": {
      "displayName": "Pieter Sap",
      "photoUrl": "",
      "userId": "15749761891409076289"
     },
     "user_tz": -120
    },
    "id": "Ay-Y5E0bKQ0d",
    "outputId": "e00cb372-37d6-4e52-b9b4-37b5de8c6c45"
   },
   "outputs": [
    {
     "data": {
      "text/plain": [
       "0    2013-4-1-1\n",
       "1    2013-4-1-2\n",
       "2    2013-4-1-3\n",
       "3    2013-4-1-4\n",
       "4    2013-4-1-5\n",
       "Name: datetime, dtype: object"
      ]
     },
     "execution_count": 53,
     "metadata": {
      "tags": []
     },
     "output_type": "execute_result"
    }
   ],
   "source": [
    "weather['datetime'].head(5)"
   ]
  },
  {
   "cell_type": "code",
   "execution_count": 54,
   "metadata": {
    "colab": {
     "base_uri": "https://localhost:8080/",
     "height": 521
    },
    "colab_type": "code",
    "collapsed": false,
    "executionInfo": {
     "elapsed": 504,
     "status": "ok",
     "timestamp": 1538999676164,
     "user": {
      "displayName": "Pieter Sap",
      "photoUrl": "",
      "userId": "15749761891409076289"
     },
     "user_tz": -120
    },
    "id": "nizFQ2FBKbby",
    "outputId": "c807aba9-e3f5-4e5e-c3fa-81fcaeaf3245"
   },
   "outputs": [
    {
     "data": {
      "text/plain": [
       "AirportID              int64\n",
       "Year                   int64\n",
       "Month                  int64\n",
       "Day                    int64\n",
       "Time                   int64\n",
       "TimeZone               int64\n",
       "Visibility           float64\n",
       "DryBulbFarenheit     float64\n",
       "DryBulbCelsius       float64\n",
       "WetBulbFarenheit     float64\n",
       "WetBulbCelsius       float64\n",
       "DewPointFarenheit    float64\n",
       "DewPointCelsius      float64\n",
       "RelativeHumidity     float64\n",
       "WindSpeed              int64\n",
       "StationPressure      float64\n",
       "Altimeter            float64\n",
       "dir_VR                 int64\n",
       "dir_0                  int64\n",
       "dir_40                 int64\n",
       "dir_80                 int64\n",
       "dir_120                int64\n",
       "dir_160                int64\n",
       "dir_200                int64\n",
       "dir_240                int64\n",
       "dir_280                int64\n",
       "dir_320                int64\n",
       "hour                   int64\n",
       "datetime              object\n",
       "dtype: object"
      ]
     },
     "execution_count": 54,
     "metadata": {
      "tags": []
     },
     "output_type": "execute_result"
    }
   ],
   "source": [
    "weather.dtypes"
   ]
  },
  {
   "cell_type": "markdown",
   "metadata": {
    "colab_type": "text",
    "id": "eRrWVMh_g4lM"
   },
   "source": [
    "## 2.5 Result\n",
    "\n",
    "Dropping some columns that we no longer need."
   ]
  },
  {
   "cell_type": "code",
   "execution_count": 0,
   "metadata": {
    "colab": {},
    "colab_type": "code",
    "collapsed": true,
    "id": "eOeVoDBrg3wD"
   },
   "outputs": [],
   "source": [
    "weather.drop(columns=[\"Year\",\"Month\",\"Day\",\"Time\",\"TimeZone\",\"hour\"],inplace=True)"
   ]
  },
  {
   "cell_type": "markdown",
   "metadata": {
    "colab_type": "text",
    "id": "Vd8y0gRZKbAr"
   },
   "source": [
    "The temperature information is redundant: it has both the farenheit and celcius values. We will drop the Farenheit columns. We also drop the Altimeter column."
   ]
  },
  {
   "cell_type": "code",
   "execution_count": 0,
   "metadata": {
    "colab": {},
    "colab_type": "code",
    "collapsed": true,
    "id": "Lk5V4P8iKoAa"
   },
   "outputs": [],
   "source": [
    "weather.drop(columns=[\"DryBulbFarenheit\",\"WetBulbFarenheit\",\"DewPointFarenheit\",\"Altimeter\"],inplace=True)"
   ]
  },
  {
   "cell_type": "code",
   "execution_count": 57,
   "metadata": {
    "colab": {
     "base_uri": "https://localhost:8080/",
     "height": 299
    },
    "colab_type": "code",
    "collapsed": false,
    "executionInfo": {
     "elapsed": 498,
     "status": "ok",
     "timestamp": 1538999679603,
     "user": {
      "displayName": "Pieter Sap",
      "photoUrl": "",
      "userId": "15749761891409076289"
     },
     "user_tz": -120
    },
    "id": "nlGR0-OJLxeM",
    "outputId": "04fe8f27-6aee-43ee-dbff-34220fcdc491"
   },
   "outputs": [
    {
     "data": {
      "text/html": [
       "<div>\n",
       "<style scoped>\n",
       "    .dataframe tbody tr th:only-of-type {\n",
       "        vertical-align: middle;\n",
       "    }\n",
       "\n",
       "    .dataframe tbody tr th {\n",
       "        vertical-align: top;\n",
       "    }\n",
       "\n",
       "    .dataframe thead th {\n",
       "        text-align: right;\n",
       "    }\n",
       "</style>\n",
       "<table border=\"1\" class=\"dataframe\">\n",
       "  <thead>\n",
       "    <tr style=\"text-align: right;\">\n",
       "      <th></th>\n",
       "      <th>AirportID</th>\n",
       "      <th>Visibility</th>\n",
       "      <th>DryBulbCelsius</th>\n",
       "      <th>WetBulbCelsius</th>\n",
       "      <th>DewPointCelsius</th>\n",
       "      <th>RelativeHumidity</th>\n",
       "      <th>WindSpeed</th>\n",
       "      <th>StationPressure</th>\n",
       "      <th>dir_VR</th>\n",
       "      <th>dir_0</th>\n",
       "      <th>dir_40</th>\n",
       "      <th>dir_80</th>\n",
       "      <th>dir_120</th>\n",
       "      <th>dir_160</th>\n",
       "      <th>dir_200</th>\n",
       "      <th>dir_240</th>\n",
       "      <th>dir_280</th>\n",
       "      <th>dir_320</th>\n",
       "      <th>datetime</th>\n",
       "    </tr>\n",
       "  </thead>\n",
       "  <tbody>\n",
       "    <tr>\n",
       "      <th>0</th>\n",
       "      <td>14843</td>\n",
       "      <td>10.0</td>\n",
       "      <td>24.4</td>\n",
       "      <td>23.3</td>\n",
       "      <td>22.8</td>\n",
       "      <td>90.0</td>\n",
       "      <td>13</td>\n",
       "      <td>30.06</td>\n",
       "      <td>0</td>\n",
       "      <td>0</td>\n",
       "      <td>0</td>\n",
       "      <td>1</td>\n",
       "      <td>0</td>\n",
       "      <td>0</td>\n",
       "      <td>0</td>\n",
       "      <td>0</td>\n",
       "      <td>0</td>\n",
       "      <td>0</td>\n",
       "      <td>2013-4-1-1</td>\n",
       "    </tr>\n",
       "    <tr>\n",
       "      <th>1</th>\n",
       "      <td>14843</td>\n",
       "      <td>10.0</td>\n",
       "      <td>24.4</td>\n",
       "      <td>22.5</td>\n",
       "      <td>21.7</td>\n",
       "      <td>85.0</td>\n",
       "      <td>10</td>\n",
       "      <td>30.05</td>\n",
       "      <td>0</td>\n",
       "      <td>0</td>\n",
       "      <td>0</td>\n",
       "      <td>1</td>\n",
       "      <td>0</td>\n",
       "      <td>0</td>\n",
       "      <td>0</td>\n",
       "      <td>0</td>\n",
       "      <td>0</td>\n",
       "      <td>0</td>\n",
       "      <td>2013-4-1-2</td>\n",
       "    </tr>\n",
       "    <tr>\n",
       "      <th>2</th>\n",
       "      <td>14843</td>\n",
       "      <td>10.0</td>\n",
       "      <td>24.4</td>\n",
       "      <td>22.5</td>\n",
       "      <td>21.7</td>\n",
       "      <td>85.0</td>\n",
       "      <td>9</td>\n",
       "      <td>30.03</td>\n",
       "      <td>0</td>\n",
       "      <td>0</td>\n",
       "      <td>0</td>\n",
       "      <td>1</td>\n",
       "      <td>0</td>\n",
       "      <td>0</td>\n",
       "      <td>0</td>\n",
       "      <td>0</td>\n",
       "      <td>0</td>\n",
       "      <td>0</td>\n",
       "      <td>2013-4-1-3</td>\n",
       "    </tr>\n",
       "    <tr>\n",
       "      <th>3</th>\n",
       "      <td>14843</td>\n",
       "      <td>10.0</td>\n",
       "      <td>24.4</td>\n",
       "      <td>22.2</td>\n",
       "      <td>21.1</td>\n",
       "      <td>82.0</td>\n",
       "      <td>9</td>\n",
       "      <td>30.02</td>\n",
       "      <td>0</td>\n",
       "      <td>0</td>\n",
       "      <td>0</td>\n",
       "      <td>1</td>\n",
       "      <td>0</td>\n",
       "      <td>0</td>\n",
       "      <td>0</td>\n",
       "      <td>0</td>\n",
       "      <td>0</td>\n",
       "      <td>0</td>\n",
       "      <td>2013-4-1-4</td>\n",
       "    </tr>\n",
       "    <tr>\n",
       "      <th>4</th>\n",
       "      <td>14843</td>\n",
       "      <td>10.0</td>\n",
       "      <td>24.4</td>\n",
       "      <td>22.2</td>\n",
       "      <td>21.1</td>\n",
       "      <td>82.0</td>\n",
       "      <td>7</td>\n",
       "      <td>30.03</td>\n",
       "      <td>0</td>\n",
       "      <td>0</td>\n",
       "      <td>0</td>\n",
       "      <td>0</td>\n",
       "      <td>1</td>\n",
       "      <td>0</td>\n",
       "      <td>0</td>\n",
       "      <td>0</td>\n",
       "      <td>0</td>\n",
       "      <td>0</td>\n",
       "      <td>2013-4-1-5</td>\n",
       "    </tr>\n",
       "  </tbody>\n",
       "</table>\n",
       "</div>"
      ],
      "text/plain": [
       "   AirportID  Visibility  DryBulbCelsius  WetBulbCelsius  DewPointCelsius  \\\n",
       "0      14843        10.0            24.4            23.3             22.8   \n",
       "1      14843        10.0            24.4            22.5             21.7   \n",
       "2      14843        10.0            24.4            22.5             21.7   \n",
       "3      14843        10.0            24.4            22.2             21.1   \n",
       "4      14843        10.0            24.4            22.2             21.1   \n",
       "\n",
       "   RelativeHumidity  WindSpeed  StationPressure  dir_VR  dir_0  dir_40  \\\n",
       "0              90.0         13            30.06       0      0       0   \n",
       "1              85.0         10            30.05       0      0       0   \n",
       "2              85.0          9            30.03       0      0       0   \n",
       "3              82.0          9            30.02       0      0       0   \n",
       "4              82.0          7            30.03       0      0       0   \n",
       "\n",
       "   dir_80  dir_120  dir_160  dir_200  dir_240  dir_280  dir_320    datetime  \n",
       "0       1        0        0        0        0        0        0  2013-4-1-1  \n",
       "1       1        0        0        0        0        0        0  2013-4-1-2  \n",
       "2       1        0        0        0        0        0        0  2013-4-1-3  \n",
       "3       1        0        0        0        0        0        0  2013-4-1-4  \n",
       "4       0        1        0        0        0        0        0  2013-4-1-5  "
      ]
     },
     "execution_count": 57,
     "metadata": {
      "tags": []
     },
     "output_type": "execute_result"
    }
   ],
   "source": [
    "weather.head()"
   ]
  },
  {
   "cell_type": "markdown",
   "metadata": {
    "colab_type": "text",
    "id": "F8CiQt3hC92c"
   },
   "source": [
    "## 2.6 memory usage and dtypes\n",
    "\n",
    "When working with small amounts of data, Pandas works without any problems. For larger datasets, memory usage of the Pandas dataframes becomes to high and the runtime could possible crash. Therefore, we will try to optimize memory usage. If we don't, this notebook will crash when running in the Colaboratory environment. \n",
    "\n",
    "In order to minimize the memory footprint, we have to look at the dtypes of the columns."
   ]
  },
  {
   "cell_type": "code",
   "execution_count": 58,
   "metadata": {
    "colab": {
     "base_uri": "https://localhost:8080/",
     "height": 353
    },
    "colab_type": "code",
    "collapsed": false,
    "executionInfo": {
     "elapsed": 511,
     "status": "ok",
     "timestamp": 1538999680855,
     "user": {
      "displayName": "Pieter Sap",
      "photoUrl": "",
      "userId": "15749761891409076289"
     },
     "user_tz": -120
    },
    "id": "ac9eVOfzFIHK",
    "outputId": "84042506-2142-4102-c83d-d691a7ffc1ae"
   },
   "outputs": [
    {
     "data": {
      "text/plain": [
       "AirportID             int64\n",
       "Visibility          float64\n",
       "DryBulbCelsius      float64\n",
       "WetBulbCelsius      float64\n",
       "DewPointCelsius     float64\n",
       "RelativeHumidity    float64\n",
       "WindSpeed             int64\n",
       "StationPressure     float64\n",
       "dir_VR                int64\n",
       "dir_0                 int64\n",
       "dir_40                int64\n",
       "dir_80                int64\n",
       "dir_120               int64\n",
       "dir_160               int64\n",
       "dir_200               int64\n",
       "dir_240               int64\n",
       "dir_280               int64\n",
       "dir_320               int64\n",
       "datetime             object\n",
       "dtype: object"
      ]
     },
     "execution_count": 58,
     "metadata": {
      "tags": []
     },
     "output_type": "execute_result"
    }
   ],
   "source": [
    "weather.dtypes"
   ]
  },
  {
   "cell_type": "markdown",
   "metadata": {
    "colab_type": "text",
    "id": "abDvIdVXFSWq"
   },
   "source": [
    "Pandas uses Numpy arrays internally. Columns of the same dtype are internally stored together in one Numpy Array. \n",
    "\n",
    "The choice of dtype determines the memory usage of the column. A more detailed discussion about memory usage in Pandas is found in this [blog](https://www.dataquest.io/blog/pandas-big-data/), but the ongoing disucssion will make sense without reading the blog.\n",
    "\n",
    "We can inspect a dataframes memory usage as follows:"
   ]
  },
  {
   "cell_type": "code",
   "execution_count": 59,
   "metadata": {
    "colab": {
     "base_uri": "https://localhost:8080/",
     "height": 101
    },
    "colab_type": "code",
    "collapsed": false,
    "executionInfo": {
     "elapsed": 553,
     "status": "ok",
     "timestamp": 1538999682151,
     "user": {
      "displayName": "Pieter Sap",
      "photoUrl": "",
      "userId": "15749761891409076289"
     },
     "user_tz": -120
    },
    "id": "qbw3pHXwFQXP",
    "outputId": "f309f054-264f-470a-a724-abfaf4e7bcb4"
   },
   "outputs": [
    {
     "name": "stdout",
     "output_type": "stream",
     "text": [
      "<class 'pandas.core.frame.DataFrame'>\n",
      "Int64Index: 404910 entries, 0 to 406515\n",
      "Columns: 19 entries, AirportID to datetime\n",
      "dtypes: float64(6), int64(12), object(1)\n",
      "memory usage: 80.5 MB\n"
     ]
    }
   ],
   "source": [
    "weather.info(memory_usage='deep',max_cols=1) #without memory_usage = 'deep', the displayed memory usage is a less accurate approximation."
   ]
  },
  {
   "cell_type": "markdown",
   "metadata": {
    "colab_type": "text",
    "id": "nceFdUpEK995"
   },
   "source": [
    "**currently, our memory usage of the weather dataframe is about 80MB**"
   ]
  },
  {
   "cell_type": "code",
   "execution_count": 60,
   "metadata": {
    "colab": {
     "base_uri": "https://localhost:8080/",
     "height": 299
    },
    "colab_type": "code",
    "collapsed": false,
    "executionInfo": {
     "elapsed": 600,
     "status": "ok",
     "timestamp": 1538999683387,
     "user": {
      "displayName": "Pieter Sap",
      "photoUrl": "",
      "userId": "15749761891409076289"
     },
     "user_tz": -120
    },
    "id": "abEqdXhZGdC0",
    "outputId": "ecc7e86d-2004-4c64-cb3f-52bac0069bde"
   },
   "outputs": [
    {
     "data": {
      "text/html": [
       "<div>\n",
       "<style scoped>\n",
       "    .dataframe tbody tr th:only-of-type {\n",
       "        vertical-align: middle;\n",
       "    }\n",
       "\n",
       "    .dataframe tbody tr th {\n",
       "        vertical-align: top;\n",
       "    }\n",
       "\n",
       "    .dataframe thead th {\n",
       "        text-align: right;\n",
       "    }\n",
       "</style>\n",
       "<table border=\"1\" class=\"dataframe\">\n",
       "  <thead>\n",
       "    <tr style=\"text-align: right;\">\n",
       "      <th></th>\n",
       "      <th>AirportID</th>\n",
       "      <th>Visibility</th>\n",
       "      <th>DryBulbCelsius</th>\n",
       "      <th>WetBulbCelsius</th>\n",
       "      <th>DewPointCelsius</th>\n",
       "      <th>RelativeHumidity</th>\n",
       "      <th>WindSpeed</th>\n",
       "      <th>StationPressure</th>\n",
       "      <th>dir_VR</th>\n",
       "      <th>dir_0</th>\n",
       "      <th>dir_40</th>\n",
       "      <th>dir_80</th>\n",
       "      <th>dir_120</th>\n",
       "      <th>dir_160</th>\n",
       "      <th>dir_200</th>\n",
       "      <th>dir_240</th>\n",
       "      <th>dir_280</th>\n",
       "      <th>dir_320</th>\n",
       "      <th>datetime</th>\n",
       "    </tr>\n",
       "  </thead>\n",
       "  <tbody>\n",
       "    <tr>\n",
       "      <th>0</th>\n",
       "      <td>14843</td>\n",
       "      <td>10.0</td>\n",
       "      <td>24.4</td>\n",
       "      <td>23.3</td>\n",
       "      <td>22.8</td>\n",
       "      <td>90.0</td>\n",
       "      <td>13</td>\n",
       "      <td>30.06</td>\n",
       "      <td>0</td>\n",
       "      <td>0</td>\n",
       "      <td>0</td>\n",
       "      <td>1</td>\n",
       "      <td>0</td>\n",
       "      <td>0</td>\n",
       "      <td>0</td>\n",
       "      <td>0</td>\n",
       "      <td>0</td>\n",
       "      <td>0</td>\n",
       "      <td>2013-4-1-1</td>\n",
       "    </tr>\n",
       "    <tr>\n",
       "      <th>1</th>\n",
       "      <td>14843</td>\n",
       "      <td>10.0</td>\n",
       "      <td>24.4</td>\n",
       "      <td>22.5</td>\n",
       "      <td>21.7</td>\n",
       "      <td>85.0</td>\n",
       "      <td>10</td>\n",
       "      <td>30.05</td>\n",
       "      <td>0</td>\n",
       "      <td>0</td>\n",
       "      <td>0</td>\n",
       "      <td>1</td>\n",
       "      <td>0</td>\n",
       "      <td>0</td>\n",
       "      <td>0</td>\n",
       "      <td>0</td>\n",
       "      <td>0</td>\n",
       "      <td>0</td>\n",
       "      <td>2013-4-1-2</td>\n",
       "    </tr>\n",
       "    <tr>\n",
       "      <th>2</th>\n",
       "      <td>14843</td>\n",
       "      <td>10.0</td>\n",
       "      <td>24.4</td>\n",
       "      <td>22.5</td>\n",
       "      <td>21.7</td>\n",
       "      <td>85.0</td>\n",
       "      <td>9</td>\n",
       "      <td>30.03</td>\n",
       "      <td>0</td>\n",
       "      <td>0</td>\n",
       "      <td>0</td>\n",
       "      <td>1</td>\n",
       "      <td>0</td>\n",
       "      <td>0</td>\n",
       "      <td>0</td>\n",
       "      <td>0</td>\n",
       "      <td>0</td>\n",
       "      <td>0</td>\n",
       "      <td>2013-4-1-3</td>\n",
       "    </tr>\n",
       "    <tr>\n",
       "      <th>3</th>\n",
       "      <td>14843</td>\n",
       "      <td>10.0</td>\n",
       "      <td>24.4</td>\n",
       "      <td>22.2</td>\n",
       "      <td>21.1</td>\n",
       "      <td>82.0</td>\n",
       "      <td>9</td>\n",
       "      <td>30.02</td>\n",
       "      <td>0</td>\n",
       "      <td>0</td>\n",
       "      <td>0</td>\n",
       "      <td>1</td>\n",
       "      <td>0</td>\n",
       "      <td>0</td>\n",
       "      <td>0</td>\n",
       "      <td>0</td>\n",
       "      <td>0</td>\n",
       "      <td>0</td>\n",
       "      <td>2013-4-1-4</td>\n",
       "    </tr>\n",
       "    <tr>\n",
       "      <th>4</th>\n",
       "      <td>14843</td>\n",
       "      <td>10.0</td>\n",
       "      <td>24.4</td>\n",
       "      <td>22.2</td>\n",
       "      <td>21.1</td>\n",
       "      <td>82.0</td>\n",
       "      <td>7</td>\n",
       "      <td>30.03</td>\n",
       "      <td>0</td>\n",
       "      <td>0</td>\n",
       "      <td>0</td>\n",
       "      <td>0</td>\n",
       "      <td>1</td>\n",
       "      <td>0</td>\n",
       "      <td>0</td>\n",
       "      <td>0</td>\n",
       "      <td>0</td>\n",
       "      <td>0</td>\n",
       "      <td>2013-4-1-5</td>\n",
       "    </tr>\n",
       "  </tbody>\n",
       "</table>\n",
       "</div>"
      ],
      "text/plain": [
       "   AirportID  Visibility  DryBulbCelsius  WetBulbCelsius  DewPointCelsius  \\\n",
       "0      14843        10.0            24.4            23.3             22.8   \n",
       "1      14843        10.0            24.4            22.5             21.7   \n",
       "2      14843        10.0            24.4            22.5             21.7   \n",
       "3      14843        10.0            24.4            22.2             21.1   \n",
       "4      14843        10.0            24.4            22.2             21.1   \n",
       "\n",
       "   RelativeHumidity  WindSpeed  StationPressure  dir_VR  dir_0  dir_40  \\\n",
       "0              90.0         13            30.06       0      0       0   \n",
       "1              85.0         10            30.05       0      0       0   \n",
       "2              85.0          9            30.03       0      0       0   \n",
       "3              82.0          9            30.02       0      0       0   \n",
       "4              82.0          7            30.03       0      0       0   \n",
       "\n",
       "   dir_80  dir_120  dir_160  dir_200  dir_240  dir_280  dir_320    datetime  \n",
       "0       1        0        0        0        0        0        0  2013-4-1-1  \n",
       "1       1        0        0        0        0        0        0  2013-4-1-2  \n",
       "2       1        0        0        0        0        0        0  2013-4-1-3  \n",
       "3       1        0        0        0        0        0        0  2013-4-1-4  \n",
       "4       0        1        0        0        0        0        0  2013-4-1-5  "
      ]
     },
     "execution_count": 60,
     "metadata": {
      "tags": []
     },
     "output_type": "execute_result"
    }
   ],
   "source": [
    "weather.head()"
   ]
  },
  {
   "cell_type": "markdown",
   "metadata": {
    "colab_type": "text",
    "id": "HBKhPhigKNcw"
   },
   "source": [
    "Observe the possible values for the following columns..."
   ]
  },
  {
   "cell_type": "code",
   "execution_count": 61,
   "metadata": {
    "colab": {
     "base_uri": "https://localhost:8080/",
     "height": 67
    },
    "colab_type": "code",
    "collapsed": false,
    "executionInfo": {
     "elapsed": 555,
     "status": "ok",
     "timestamp": 1538999684720,
     "user": {
      "displayName": "Pieter Sap",
      "photoUrl": "",
      "userId": "15749761891409076289"
     },
     "user_tz": -120
    },
    "id": "ewxlV5_RIOHF",
    "outputId": "f685018d-1f0c-4931-f83a-bfe2ccecb8e5"
   },
   "outputs": [
    {
     "data": {
      "text/plain": [
       "array([13, 10,  9,  7, 14, 16, 17, 20, 18, 15, 11,  5,  6,  3,  8,  0, 21,\n",
       "       22, 23, 24, 26, 25, 30, 29, 32, 34, 40, 37, 28, 31, 44, 39, 33, 38,\n",
       "       36, 43, 41, 45, 53, 46, 51, 47, 62])"
      ]
     },
     "execution_count": 61,
     "metadata": {
      "tags": []
     },
     "output_type": "execute_result"
    }
   ],
   "source": [
    "weather[\"WindSpeed\"].unique()"
   ]
  },
  {
   "cell_type": "code",
   "execution_count": 62,
   "metadata": {
    "colab": {
     "base_uri": "https://localhost:8080/",
     "height": 168
    },
    "colab_type": "code",
    "collapsed": false,
    "executionInfo": {
     "elapsed": 574,
     "status": "ok",
     "timestamp": 1538999686165,
     "user": {
      "displayName": "Pieter Sap",
      "photoUrl": "",
      "userId": "15749761891409076289"
     },
     "user_tz": -120
    },
    "id": "8kNglECNLOgX",
    "outputId": "c319ca7a-6f85-49fe-e7a1-64c3b38cff24"
   },
   "outputs": [
    {
     "data": {
      "text/plain": [
       "array([ 90.,  85.,  82.,  79.,  74.,  72.,  65.,  63.,  59.,  61.,  57.,\n",
       "        67.,  69.,  71.,  77.,  55.,  50.,  48.,  47.,  42.,  44.,  53.,\n",
       "        76.,  87.,  52.,  88.,  70.,  68.,  45.,  84.,  93.,  94.,  51.,\n",
       "        56.,  58.,  60.,  64.,  66.,  97.,  75.,  78.,  81.,  62.,  43.,\n",
       "        41.,  49.,  37.,  39.,  38.,  46.,  54., 100.,  96.,  86.,  73.,\n",
       "        40.,  91.,  83.,  80.,  36.,  33.,  34.,  35.,  89.,  31.,  30.,\n",
       "        29.,  27.,  22.,  20.,  23.,  25.,  32.,  26.,  19.,  21.,  18.,\n",
       "        17.,  16.,  28.,  24.,  15.,  14.,  92.,  13.,  11.,   9.,   8.,\n",
       "         7.,  10.,  12.,   6.,   4.,   5.,   3.,   2.,   1.])"
      ]
     },
     "execution_count": 62,
     "metadata": {
      "tags": []
     },
     "output_type": "execute_result"
    }
   ],
   "source": [
    "weather[\"RelativeHumidity\"].unique()"
   ]
  },
  {
   "cell_type": "code",
   "execution_count": 63,
   "metadata": {
    "colab": {
     "base_uri": "https://localhost:8080/",
     "height": 67
    },
    "colab_type": "code",
    "collapsed": false,
    "executionInfo": {
     "elapsed": 579,
     "status": "ok",
     "timestamp": 1538999693706,
     "user": {
      "displayName": "Pieter Sap",
      "photoUrl": "",
      "userId": "15749761891409076289"
     },
     "user_tz": -120
    },
    "id": "JF-xw9aFL_lW",
    "outputId": "462b6a84-1f9f-4eb2-9a5b-5b22abac6dbe"
   },
   "outputs": [
    {
     "data": {
      "text/plain": [
       "array([10.  ,  8.  ,  9.  ,  1.  ,  2.  ,  4.  ,  6.  ,  7.  ,  3.  ,\n",
       "        5.  ,  0.5 ,  0.75,  1.5 ,  1.49,  2.5 ,  1.75,  1.25,  0.25,\n",
       "        0.12,  0.  ,  9.94, 35.  ])"
      ]
     },
     "execution_count": 63,
     "metadata": {
      "tags": []
     },
     "output_type": "execute_result"
    }
   ],
   "source": [
    "weather[\"Visibility\"].unique()"
   ]
  },
  {
   "cell_type": "code",
   "execution_count": 0,
   "metadata": {
    "colab": {},
    "colab_type": "code",
    "collapsed": true,
    "id": "L-otRfp1S6ye"
   },
   "outputs": [],
   "source": [
    "#weather[\"Altimeter\"].unique()"
   ]
  },
  {
   "cell_type": "code",
   "execution_count": 65,
   "metadata": {
    "colab": {
     "base_uri": "https://localhost:8080/",
     "height": 195
    },
    "colab_type": "code",
    "collapsed": false,
    "executionInfo": {
     "elapsed": 481,
     "status": "ok",
     "timestamp": 1538999696138,
     "user": {
      "displayName": "Pieter Sap",
      "photoUrl": "",
      "userId": "15749761891409076289"
     },
     "user_tz": -120
    },
    "id": "Ki5J305KLUQz",
    "outputId": "6d235660-e5bd-4f9d-fa0c-90c95dd6ee16"
   },
   "outputs": [
    {
     "data": {
      "text/html": [
       "<div>\n",
       "<style scoped>\n",
       "    .dataframe tbody tr th:only-of-type {\n",
       "        vertical-align: middle;\n",
       "    }\n",
       "\n",
       "    .dataframe tbody tr th {\n",
       "        vertical-align: top;\n",
       "    }\n",
       "\n",
       "    .dataframe thead th {\n",
       "        text-align: right;\n",
       "    }\n",
       "</style>\n",
       "<table border=\"1\" class=\"dataframe\">\n",
       "  <thead>\n",
       "    <tr style=\"text-align: right;\">\n",
       "      <th></th>\n",
       "      <th>StationPressure</th>\n",
       "      <th>Visibility</th>\n",
       "      <th>DryBulbCelsius</th>\n",
       "      <th>WetBulbCelsius</th>\n",
       "      <th>DewPointCelsius</th>\n",
       "      <th>RelativeHumidity</th>\n",
       "    </tr>\n",
       "  </thead>\n",
       "  <tbody>\n",
       "    <tr>\n",
       "      <th>0</th>\n",
       "      <td>30.06</td>\n",
       "      <td>10.0</td>\n",
       "      <td>24.4</td>\n",
       "      <td>23.3</td>\n",
       "      <td>22.8</td>\n",
       "      <td>90.0</td>\n",
       "    </tr>\n",
       "    <tr>\n",
       "      <th>1</th>\n",
       "      <td>30.05</td>\n",
       "      <td>10.0</td>\n",
       "      <td>24.4</td>\n",
       "      <td>22.5</td>\n",
       "      <td>21.7</td>\n",
       "      <td>85.0</td>\n",
       "    </tr>\n",
       "    <tr>\n",
       "      <th>2</th>\n",
       "      <td>30.03</td>\n",
       "      <td>10.0</td>\n",
       "      <td>24.4</td>\n",
       "      <td>22.5</td>\n",
       "      <td>21.7</td>\n",
       "      <td>85.0</td>\n",
       "    </tr>\n",
       "    <tr>\n",
       "      <th>3</th>\n",
       "      <td>30.02</td>\n",
       "      <td>10.0</td>\n",
       "      <td>24.4</td>\n",
       "      <td>22.2</td>\n",
       "      <td>21.1</td>\n",
       "      <td>82.0</td>\n",
       "    </tr>\n",
       "    <tr>\n",
       "      <th>4</th>\n",
       "      <td>30.03</td>\n",
       "      <td>10.0</td>\n",
       "      <td>24.4</td>\n",
       "      <td>22.2</td>\n",
       "      <td>21.1</td>\n",
       "      <td>82.0</td>\n",
       "    </tr>\n",
       "  </tbody>\n",
       "</table>\n",
       "</div>"
      ],
      "text/plain": [
       "   StationPressure  Visibility  DryBulbCelsius  WetBulbCelsius  \\\n",
       "0            30.06        10.0            24.4            23.3   \n",
       "1            30.05        10.0            24.4            22.5   \n",
       "2            30.03        10.0            24.4            22.5   \n",
       "3            30.02        10.0            24.4            22.2   \n",
       "4            30.03        10.0            24.4            22.2   \n",
       "\n",
       "   DewPointCelsius  RelativeHumidity  \n",
       "0             22.8              90.0  \n",
       "1             21.7              85.0  \n",
       "2             21.7              85.0  \n",
       "3             21.1              82.0  \n",
       "4             21.1              82.0  "
      ]
     },
     "execution_count": 65,
     "metadata": {
      "tags": []
     },
     "output_type": "execute_result"
    }
   ],
   "source": [
    "weather[[\"StationPressure\",\"Visibility\",\"DryBulbCelsius\",\"WetBulbCelsius\",\"DewPointCelsius\",\"RelativeHumidity\"]].head()"
   ]
  },
  {
   "cell_type": "code",
   "execution_count": 66,
   "metadata": {
    "colab": {
     "base_uri": "https://localhost:8080/",
     "height": 67
    },
    "colab_type": "code",
    "collapsed": false,
    "executionInfo": {
     "elapsed": 560,
     "status": "ok",
     "timestamp": 1538999697180,
     "user": {
      "displayName": "Pieter Sap",
      "photoUrl": "",
      "userId": "15749761891409076289"
     },
     "user_tz": -120
    },
    "id": "rKfW9i53OUFf",
    "outputId": "69477bd1-7dee-415f-be69-9c5d1ecb9370"
   },
   "outputs": [
    {
     "name": "stdout",
     "output_type": "stream",
     "text": [
      "minimum and maximum column values\n",
      "Visibility: minimum = 0.0, maximum = 35.0\n",
      "StationPressure: minimum = 24.17, maximum = 30.74\n"
     ]
    }
   ],
   "source": [
    "print(\"minimum and maximum column values\")\n",
    "for columname in [\"Visibility\",\"StationPressure\"]:\n",
    "  print(\"{0}: minimum = {1}, maximum = {2}\".format(columname,weather[columname].min(),weather[columname].max()))"
   ]
  },
  {
   "cell_type": "markdown",
   "metadata": {
    "colab_type": "text",
    "id": "G3Q_MPDFGWJT"
   },
   "source": [
    "The interger type has subtypes int8, int 16, int32 and int64. These subtypes have a different memory footprint. An int8 is stored in one byte (8 bits), so it can take 2^8=256 values in total. Thus, it can represent numbers between -128 and 127 (including 0). An int64 is stored in 8 bytes and can take much larger values.\n",
    "\n",
    "**(1) integers**\n",
    "\n",
    "Currently, all our integer columns are int64. We can reduce our memory usage a lot. One of our integer columns, windspeed, ranges from 0 to 64. There is clearly no need for an int64, an int8 would be sufficient. Even the one-hot encoded columns are int64, while they only take the values 0 and 1. \n",
    "\n",
    "A handy way to check the minimal and maximum values of a dtype is np.iinfo() or np.finfo().\n",
    "\n",
    "\n",
    "\n",
    "\n"
   ]
  },
  {
   "cell_type": "code",
   "execution_count": 67,
   "metadata": {
    "colab": {
     "base_uri": "https://localhost:8080/",
     "height": 218
    },
    "colab_type": "code",
    "collapsed": false,
    "executionInfo": {
     "elapsed": 496,
     "status": "ok",
     "timestamp": 1538999698270,
     "user": {
      "displayName": "Pieter Sap",
      "photoUrl": "",
      "userId": "15749761891409076289"
     },
     "user_tz": -120
    },
    "id": "Q-iRkw75KMD1",
    "outputId": "9d227028-e70e-4644-a084-340699beb98d"
   },
   "outputs": [
    {
     "name": "stdout",
     "output_type": "stream",
     "text": [
      "Machine parameters for int64\n",
      "---------------------------------------------------------------\n",
      "min = -9223372036854775808\n",
      "max = 9223372036854775807\n",
      "---------------------------------------------------------------\n",
      "\n",
      "Machine parameters for int8\n",
      "---------------------------------------------------------------\n",
      "min = -128\n",
      "max = 127\n",
      "---------------------------------------------------------------\n",
      "\n"
     ]
    }
   ],
   "source": [
    "print(np.iinfo(np.int64))\n",
    "print(np.iinfo(np.int8))"
   ]
  },
  {
   "cell_type": "markdown",
   "metadata": {
    "colab_type": "text",
    "id": "MDDlbJbvP22j"
   },
   "source": [
    "We will **downcast** the one-hot columns and the windspeed to **int8** in the cell below with [pd.to_numeric()](https://pandas.pydata.org/pandas-docs/stable/generated/pandas.to_numeric.html). As an exercise, one might investigate wether an int64 is required for AirportID and optionally downcast it.\n",
    "\n",
    "The to_numeric() method with the 'downcast' parameter will automatically pick the best possible dtype."
   ]
  },
  {
   "cell_type": "code",
   "execution_count": 0,
   "metadata": {
    "colab": {},
    "colab_type": "code",
    "collapsed": true,
    "id": "BfcZ09RBM1Q3"
   },
   "outputs": [],
   "source": [
    "for columnname in [\"WindSpeed\",\"dir_0\",\"dir_40\",\"dir_80\",\"dir_120\",\"dir_160\",\"dir_200\",\"dir_240\",\"dir_280\",\"dir_320\"]:\n",
    "  weather[columnname] = pd.to_numeric(weather[columnname],downcast=\"integer\")"
   ]
  },
  {
   "cell_type": "markdown",
   "metadata": {
    "colab_type": "text",
    "id": "M37Lgfz3MgEl"
   },
   "source": [
    "**(2) floats**\n",
    "\n",
    "The \"float\" type has subtypes float16, float32, float64 and float128. Currently, all floats are of dtype float64.\n",
    "\n",
    "It is clear that the RelativeHumidity column has simple integer values disguised as floats. The decimal is always zero. We will downcast this to int8. \n",
    "\n",
    "\n"
   ]
  },
  {
   "cell_type": "code",
   "execution_count": 0,
   "metadata": {
    "colab": {},
    "colab_type": "code",
    "collapsed": true,
    "id": "7iNPUF3fSdGp"
   },
   "outputs": [],
   "source": [
    "# weather[\"RelativeHumididty\"] = pd.to_numeric(weather[\"RelativeHumidity\"], downcast=\"float\")"
   ]
  },
  {
   "cell_type": "markdown",
   "metadata": {
    "colab_type": "text",
    "id": "DHCvXS7GSdVh"
   },
   "source": [
    "The RelativeHumidity, Visiblity, StationPressure and Altimeter columns are floats with decimals, but there minimum and maximum values don't require a float64 - by far. Let's see the minimum and maximum values for some float types."
   ]
  },
  {
   "cell_type": "code",
   "execution_count": 70,
   "metadata": {
    "colab": {
     "base_uri": "https://localhost:8080/",
     "height": 521
    },
    "colab_type": "code",
    "collapsed": false,
    "executionInfo": {
     "elapsed": 562,
     "status": "ok",
     "timestamp": 1538999708309,
     "user": {
      "displayName": "Pieter Sap",
      "photoUrl": "",
      "userId": "15749761891409076289"
     },
     "user_tz": -120
    },
    "id": "N8MHLGhcMkKS",
    "outputId": "997f30ac-5a73-4d97-927b-f4fa515aeba7"
   },
   "outputs": [
    {
     "name": "stdout",
     "output_type": "stream",
     "text": [
      "Machine parameters for float64\n",
      "---------------------------------------------------------------\n",
      "precision =  15   resolution = 1.0000000000000001e-15\n",
      "machep =    -52   eps =        2.2204460492503131e-16\n",
      "negep =     -53   epsneg =     1.1102230246251565e-16\n",
      "minexp =  -1022   tiny =       2.2250738585072014e-308\n",
      "maxexp =   1024   max =        1.7976931348623157e+308\n",
      "nexp =       11   min =        -max\n",
      "---------------------------------------------------------------\n",
      "\n",
      "Machine parameters for float32\n",
      "---------------------------------------------------------------\n",
      "precision =   6   resolution = 1.0000000e-06\n",
      "machep =    -23   eps =        1.1920929e-07\n",
      "negep =     -24   epsneg =     5.9604645e-08\n",
      "minexp =   -126   tiny =       1.1754944e-38\n",
      "maxexp =    128   max =        3.4028235e+38\n",
      "nexp =        8   min =        -max\n",
      "---------------------------------------------------------------\n",
      "\n",
      "Machine parameters for float16\n",
      "---------------------------------------------------------------\n",
      "precision =   3   resolution = 1.00040e-03\n",
      "machep =    -10   eps =        9.76562e-04\n",
      "negep =     -11   epsneg =     4.88281e-04\n",
      "minexp =    -14   tiny =       6.10352e-05\n",
      "maxexp =     16   max =        6.55040e+04\n",
      "nexp =        5   min =        -max\n",
      "---------------------------------------------------------------\n",
      "\n"
     ]
    }
   ],
   "source": [
    "print(np.finfo(np.float64))\n",
    "print(np.finfo(np.float32))\n",
    "print(np.finfo(np.float16))\n"
   ]
  },
  {
   "cell_type": "markdown",
   "metadata": {
    "colab_type": "text",
    "id": "0ZECV_i9PXaM"
   },
   "source": [
    "Looks like a smaller float will do. Downcast!"
   ]
  },
  {
   "cell_type": "code",
   "execution_count": 0,
   "metadata": {
    "colab": {},
    "colab_type": "code",
    "collapsed": true,
    "id": "STD_FaBIPbbt"
   },
   "outputs": [],
   "source": [
    "for columnname in [\"StationPressure\",\"Visibility\",\"DryBulbCelsius\",\"WetBulbCelsius\",\"DewPointCelsius\",\"RelativeHumidity\"]:\n",
    "  weather[columnname] = pd.to_numeric(weather[columnname],downcast=\"float\")"
   ]
  },
  {
   "cell_type": "code",
   "execution_count": 72,
   "metadata": {
    "colab": {
     "base_uri": "https://localhost:8080/",
     "height": 102
    },
    "colab_type": "code",
    "collapsed": false,
    "executionInfo": {
     "elapsed": 562,
     "status": "ok",
     "timestamp": 1538999717600,
     "user": {
      "displayName": "Pieter Sap",
      "photoUrl": "",
      "userId": "15749761891409076289"
     },
     "user_tz": -120
    },
    "id": "3kkH2w4qUY21",
    "outputId": "4c746161-be5e-4655-f9d4-51463641dcee"
   },
   "outputs": [
    {
     "name": "stdout",
     "output_type": "stream",
     "text": [
      "<class 'pandas.core.frame.DataFrame'>\n",
      "Int64Index: 404910 entries, 0 to 406515\n",
      "Columns: 19 entries, AirportID to datetime\n",
      "dtypes: float32(6), int64(2), int8(10), object(1)\n",
      "memory usage: 44.2 MB\n"
     ]
    }
   ],
   "source": [
    "weather.info(memory_usage=\"deep\",max_cols=1)"
   ]
  },
  {
   "cell_type": "code",
   "execution_count": 73,
   "metadata": {
    "colab": {
     "base_uri": "https://localhost:8080/",
     "height": 309
    },
    "colab_type": "code",
    "collapsed": false,
    "executionInfo": {
     "elapsed": 517,
     "status": "ok",
     "timestamp": 1538999719468,
     "user": {
      "displayName": "Pieter Sap",
      "photoUrl": "",
      "userId": "15749761891409076289"
     },
     "user_tz": -120
    },
    "id": "fZ9hCgmTe6R6",
    "outputId": "5f6ade54-b01c-4a92-a71e-a31325e29167"
   },
   "outputs": [
    {
     "data": {
      "text/html": [
       "<div>\n",
       "<style scoped>\n",
       "    .dataframe tbody tr th:only-of-type {\n",
       "        vertical-align: middle;\n",
       "    }\n",
       "\n",
       "    .dataframe tbody tr th {\n",
       "        vertical-align: top;\n",
       "    }\n",
       "\n",
       "    .dataframe thead th {\n",
       "        text-align: right;\n",
       "    }\n",
       "</style>\n",
       "<table border=\"1\" class=\"dataframe\">\n",
       "  <thead>\n",
       "    <tr style=\"text-align: right;\">\n",
       "      <th></th>\n",
       "      <th>AirportID</th>\n",
       "      <th>Visibility</th>\n",
       "      <th>DryBulbCelsius</th>\n",
       "      <th>WetBulbCelsius</th>\n",
       "      <th>DewPointCelsius</th>\n",
       "      <th>RelativeHumidity</th>\n",
       "      <th>WindSpeed</th>\n",
       "      <th>StationPressure</th>\n",
       "      <th>dir_VR</th>\n",
       "      <th>dir_0</th>\n",
       "      <th>dir_40</th>\n",
       "      <th>dir_80</th>\n",
       "      <th>dir_120</th>\n",
       "      <th>dir_160</th>\n",
       "      <th>dir_200</th>\n",
       "      <th>dir_240</th>\n",
       "      <th>dir_280</th>\n",
       "      <th>dir_320</th>\n",
       "      <th>datetime</th>\n",
       "    </tr>\n",
       "  </thead>\n",
       "  <tbody>\n",
       "    <tr>\n",
       "      <th>0</th>\n",
       "      <td>14843</td>\n",
       "      <td>10.0</td>\n",
       "      <td>24.4</td>\n",
       "      <td>23.299999</td>\n",
       "      <td>22.799999</td>\n",
       "      <td>90.0</td>\n",
       "      <td>13</td>\n",
       "      <td>30.059999</td>\n",
       "      <td>0</td>\n",
       "      <td>0</td>\n",
       "      <td>0</td>\n",
       "      <td>1</td>\n",
       "      <td>0</td>\n",
       "      <td>0</td>\n",
       "      <td>0</td>\n",
       "      <td>0</td>\n",
       "      <td>0</td>\n",
       "      <td>0</td>\n",
       "      <td>2013-4-1-1</td>\n",
       "    </tr>\n",
       "    <tr>\n",
       "      <th>1</th>\n",
       "      <td>14843</td>\n",
       "      <td>10.0</td>\n",
       "      <td>24.4</td>\n",
       "      <td>22.500000</td>\n",
       "      <td>21.700001</td>\n",
       "      <td>85.0</td>\n",
       "      <td>10</td>\n",
       "      <td>30.049999</td>\n",
       "      <td>0</td>\n",
       "      <td>0</td>\n",
       "      <td>0</td>\n",
       "      <td>1</td>\n",
       "      <td>0</td>\n",
       "      <td>0</td>\n",
       "      <td>0</td>\n",
       "      <td>0</td>\n",
       "      <td>0</td>\n",
       "      <td>0</td>\n",
       "      <td>2013-4-1-2</td>\n",
       "    </tr>\n",
       "    <tr>\n",
       "      <th>2</th>\n",
       "      <td>14843</td>\n",
       "      <td>10.0</td>\n",
       "      <td>24.4</td>\n",
       "      <td>22.500000</td>\n",
       "      <td>21.700001</td>\n",
       "      <td>85.0</td>\n",
       "      <td>9</td>\n",
       "      <td>30.030001</td>\n",
       "      <td>0</td>\n",
       "      <td>0</td>\n",
       "      <td>0</td>\n",
       "      <td>1</td>\n",
       "      <td>0</td>\n",
       "      <td>0</td>\n",
       "      <td>0</td>\n",
       "      <td>0</td>\n",
       "      <td>0</td>\n",
       "      <td>0</td>\n",
       "      <td>2013-4-1-3</td>\n",
       "    </tr>\n",
       "    <tr>\n",
       "      <th>3</th>\n",
       "      <td>14843</td>\n",
       "      <td>10.0</td>\n",
       "      <td>24.4</td>\n",
       "      <td>22.200001</td>\n",
       "      <td>21.100000</td>\n",
       "      <td>82.0</td>\n",
       "      <td>9</td>\n",
       "      <td>30.020000</td>\n",
       "      <td>0</td>\n",
       "      <td>0</td>\n",
       "      <td>0</td>\n",
       "      <td>1</td>\n",
       "      <td>0</td>\n",
       "      <td>0</td>\n",
       "      <td>0</td>\n",
       "      <td>0</td>\n",
       "      <td>0</td>\n",
       "      <td>0</td>\n",
       "      <td>2013-4-1-4</td>\n",
       "    </tr>\n",
       "    <tr>\n",
       "      <th>4</th>\n",
       "      <td>14843</td>\n",
       "      <td>10.0</td>\n",
       "      <td>24.4</td>\n",
       "      <td>22.200001</td>\n",
       "      <td>21.100000</td>\n",
       "      <td>82.0</td>\n",
       "      <td>7</td>\n",
       "      <td>30.030001</td>\n",
       "      <td>0</td>\n",
       "      <td>0</td>\n",
       "      <td>0</td>\n",
       "      <td>0</td>\n",
       "      <td>1</td>\n",
       "      <td>0</td>\n",
       "      <td>0</td>\n",
       "      <td>0</td>\n",
       "      <td>0</td>\n",
       "      <td>0</td>\n",
       "      <td>2013-4-1-5</td>\n",
       "    </tr>\n",
       "  </tbody>\n",
       "</table>\n",
       "</div>"
      ],
      "text/plain": [
       "   AirportID  Visibility  DryBulbCelsius  WetBulbCelsius  DewPointCelsius  \\\n",
       "0      14843        10.0            24.4       23.299999        22.799999   \n",
       "1      14843        10.0            24.4       22.500000        21.700001   \n",
       "2      14843        10.0            24.4       22.500000        21.700001   \n",
       "3      14843        10.0            24.4       22.200001        21.100000   \n",
       "4      14843        10.0            24.4       22.200001        21.100000   \n",
       "\n",
       "   RelativeHumidity  WindSpeed  StationPressure  dir_VR  dir_0  dir_40  \\\n",
       "0              90.0         13        30.059999       0      0       0   \n",
       "1              85.0         10        30.049999       0      0       0   \n",
       "2              85.0          9        30.030001       0      0       0   \n",
       "3              82.0          9        30.020000       0      0       0   \n",
       "4              82.0          7        30.030001       0      0       0   \n",
       "\n",
       "   dir_80  dir_120  dir_160  dir_200  dir_240  dir_280  dir_320    datetime  \n",
       "0       1        0        0        0        0        0        0  2013-4-1-1  \n",
       "1       1        0        0        0        0        0        0  2013-4-1-2  \n",
       "2       1        0        0        0        0        0        0  2013-4-1-3  \n",
       "3       1        0        0        0        0        0        0  2013-4-1-4  \n",
       "4       0        1        0        0        0        0        0  2013-4-1-5  "
      ]
     },
     "execution_count": 73,
     "metadata": {
      "tags": []
     },
     "output_type": "execute_result"
    }
   ],
   "source": [
    "weather.head()"
   ]
  },
  {
   "cell_type": "markdown",
   "metadata": {
    "colab_type": "text",
    "id": "bDdM9WHXLxeO"
   },
   "source": [
    "# 3 Cleaning delay data\n",
    "\n"
   ]
  },
  {
   "cell_type": "markdown",
   "metadata": {
    "colab_type": "text",
    "id": "_Et5EY_Jgnht"
   },
   "source": [
    "## 3.1 Dropping and one-hot-encoding"
   ]
  },
  {
   "cell_type": "code",
   "execution_count": 74,
   "metadata": {
    "colab": {
     "base_uri": "https://localhost:8080/",
     "height": 204
    },
    "colab_type": "code",
    "collapsed": false,
    "executionInfo": {
     "elapsed": 571,
     "status": "ok",
     "timestamp": 1538999726413,
     "user": {
      "displayName": "Pieter Sap",
      "photoUrl": "",
      "userId": "15749761891409076289"
     },
     "user_tz": -120
    },
    "id": "jno0DgpgLxeP",
    "outputId": "8dd8dac2-a0d7-40ab-ee3d-3e0e644e558d"
   },
   "outputs": [
    {
     "data": {
      "text/html": [
       "<div>\n",
       "<style scoped>\n",
       "    .dataframe tbody tr th:only-of-type {\n",
       "        vertical-align: middle;\n",
       "    }\n",
       "\n",
       "    .dataframe tbody tr th {\n",
       "        vertical-align: top;\n",
       "    }\n",
       "\n",
       "    .dataframe thead th {\n",
       "        text-align: right;\n",
       "    }\n",
       "</style>\n",
       "<table border=\"1\" class=\"dataframe\">\n",
       "  <thead>\n",
       "    <tr style=\"text-align: right;\">\n",
       "      <th></th>\n",
       "      <th>Year</th>\n",
       "      <th>Month</th>\n",
       "      <th>DayofMonth</th>\n",
       "      <th>DayOfWeek</th>\n",
       "      <th>Carrier</th>\n",
       "      <th>OriginAirportID</th>\n",
       "      <th>DestAirportID</th>\n",
       "      <th>CRSDepTime</th>\n",
       "      <th>DepDelay</th>\n",
       "      <th>DepDel15</th>\n",
       "      <th>CRSArrTime</th>\n",
       "      <th>ArrDelay</th>\n",
       "      <th>ArrDel15</th>\n",
       "      <th>Cancelled</th>\n",
       "    </tr>\n",
       "  </thead>\n",
       "  <tbody>\n",
       "    <tr>\n",
       "      <th>0</th>\n",
       "      <td>2013</td>\n",
       "      <td>4</td>\n",
       "      <td>19</td>\n",
       "      <td>5</td>\n",
       "      <td>DL</td>\n",
       "      <td>11433</td>\n",
       "      <td>13303</td>\n",
       "      <td>837</td>\n",
       "      <td>-3.0</td>\n",
       "      <td>0.0</td>\n",
       "      <td>1138</td>\n",
       "      <td>1.0</td>\n",
       "      <td>0.0</td>\n",
       "      <td>0.0</td>\n",
       "    </tr>\n",
       "    <tr>\n",
       "      <th>1</th>\n",
       "      <td>2013</td>\n",
       "      <td>4</td>\n",
       "      <td>19</td>\n",
       "      <td>5</td>\n",
       "      <td>DL</td>\n",
       "      <td>14869</td>\n",
       "      <td>12478</td>\n",
       "      <td>1705</td>\n",
       "      <td>0.0</td>\n",
       "      <td>0.0</td>\n",
       "      <td>2336</td>\n",
       "      <td>-8.0</td>\n",
       "      <td>0.0</td>\n",
       "      <td>0.0</td>\n",
       "    </tr>\n",
       "    <tr>\n",
       "      <th>2</th>\n",
       "      <td>2013</td>\n",
       "      <td>4</td>\n",
       "      <td>19</td>\n",
       "      <td>5</td>\n",
       "      <td>DL</td>\n",
       "      <td>14057</td>\n",
       "      <td>14869</td>\n",
       "      <td>600</td>\n",
       "      <td>-4.0</td>\n",
       "      <td>0.0</td>\n",
       "      <td>851</td>\n",
       "      <td>-15.0</td>\n",
       "      <td>0.0</td>\n",
       "      <td>0.0</td>\n",
       "    </tr>\n",
       "    <tr>\n",
       "      <th>3</th>\n",
       "      <td>2013</td>\n",
       "      <td>4</td>\n",
       "      <td>19</td>\n",
       "      <td>5</td>\n",
       "      <td>DL</td>\n",
       "      <td>15016</td>\n",
       "      <td>11433</td>\n",
       "      <td>1630</td>\n",
       "      <td>28.0</td>\n",
       "      <td>1.0</td>\n",
       "      <td>1903</td>\n",
       "      <td>24.0</td>\n",
       "      <td>1.0</td>\n",
       "      <td>0.0</td>\n",
       "    </tr>\n",
       "    <tr>\n",
       "      <th>4</th>\n",
       "      <td>2013</td>\n",
       "      <td>4</td>\n",
       "      <td>19</td>\n",
       "      <td>5</td>\n",
       "      <td>DL</td>\n",
       "      <td>11193</td>\n",
       "      <td>12892</td>\n",
       "      <td>1615</td>\n",
       "      <td>-6.0</td>\n",
       "      <td>0.0</td>\n",
       "      <td>1805</td>\n",
       "      <td>-11.0</td>\n",
       "      <td>0.0</td>\n",
       "      <td>0.0</td>\n",
       "    </tr>\n",
       "  </tbody>\n",
       "</table>\n",
       "</div>"
      ],
      "text/plain": [
       "   Year  Month  DayofMonth  DayOfWeek Carrier  OriginAirportID  DestAirportID  \\\n",
       "0  2013      4          19          5      DL            11433          13303   \n",
       "1  2013      4          19          5      DL            14869          12478   \n",
       "2  2013      4          19          5      DL            14057          14869   \n",
       "3  2013      4          19          5      DL            15016          11433   \n",
       "4  2013      4          19          5      DL            11193          12892   \n",
       "\n",
       "   CRSDepTime  DepDelay  DepDel15  CRSArrTime  ArrDelay  ArrDel15  Cancelled  \n",
       "0         837      -3.0       0.0        1138       1.0       0.0        0.0  \n",
       "1        1705       0.0       0.0        2336      -8.0       0.0        0.0  \n",
       "2         600      -4.0       0.0         851     -15.0       0.0        0.0  \n",
       "3        1630      28.0       1.0        1903      24.0       1.0        0.0  \n",
       "4        1615      -6.0       0.0        1805     -11.0       0.0        0.0  "
      ]
     },
     "execution_count": 74,
     "metadata": {
      "tags": []
     },
     "output_type": "execute_result"
    }
   ],
   "source": [
    "delays.head()"
   ]
  },
  {
   "cell_type": "code",
   "execution_count": 75,
   "metadata": {
    "colab": {
     "base_uri": "https://localhost:8080/",
     "height": 272
    },
    "colab_type": "code",
    "collapsed": false,
    "executionInfo": {
     "elapsed": 548,
     "status": "ok",
     "timestamp": 1538999727775,
     "user": {
      "displayName": "Pieter Sap",
      "photoUrl": "",
      "userId": "15749761891409076289"
     },
     "user_tz": -120
    },
    "id": "Ap3YNIq1MbFo",
    "outputId": "cba322cb-41a2-4fac-cf3f-97caf97dc94b"
   },
   "outputs": [
    {
     "data": {
      "text/plain": [
       "Year                 int64\n",
       "Month                int64\n",
       "DayofMonth           int64\n",
       "DayOfWeek            int64\n",
       "Carrier             object\n",
       "OriginAirportID      int64\n",
       "DestAirportID        int64\n",
       "CRSDepTime           int64\n",
       "DepDelay           float64\n",
       "DepDel15           float64\n",
       "CRSArrTime           int64\n",
       "ArrDelay           float64\n",
       "ArrDel15           float64\n",
       "Cancelled          float64\n",
       "dtype: object"
      ]
     },
     "execution_count": 75,
     "metadata": {
      "tags": []
     },
     "output_type": "execute_result"
    }
   ],
   "source": [
    "delays.dtypes"
   ]
  },
  {
   "cell_type": "markdown",
   "metadata": {
    "colab_type": "text",
    "id": "CVEiSFj8M3M2"
   },
   "source": [
    "**DayOfWeek** has values ranging from 0 (Monday) to 6 (Sunday). We will not need this column so we drop it."
   ]
  },
  {
   "cell_type": "code",
   "execution_count": 76,
   "metadata": {
    "colab": {
     "base_uri": "https://localhost:8080/",
     "height": 50
    },
    "colab_type": "code",
    "collapsed": false,
    "executionInfo": {
     "elapsed": 805,
     "status": "ok",
     "timestamp": 1538999729453,
     "user": {
      "displayName": "Pieter Sap",
      "photoUrl": "",
      "userId": "15749761891409076289"
     },
     "user_tz": -120
    },
    "id": "_rCvWNyKMmBD",
    "outputId": "77295b17-2155-467b-89e9-ab1c6194b4e8"
   },
   "outputs": [
    {
     "name": "stdout",
     "output_type": "stream",
     "text": [
      "('unique DayOfWeek: ', 7)\n"
     ]
    },
    {
     "data": {
      "text/plain": [
       "array([5, 6, 4, 2, 3, 7, 1])"
      ]
     },
     "execution_count": 76,
     "metadata": {
      "tags": []
     },
     "output_type": "execute_result"
    }
   ],
   "source": [
    "print(\"unique DayOfWeek: \",delays[\"DayOfWeek\"].unique().shape[0])\n",
    "delays[\"DayOfWeek\"].unique()"
   ]
  },
  {
   "cell_type": "code",
   "execution_count": 0,
   "metadata": {
    "colab": {},
    "colab_type": "code",
    "collapsed": true,
    "id": "UEj0DfYRNASz"
   },
   "outputs": [],
   "source": [
    "delays.drop(columns = \"DayOfWeek\",inplace=True)"
   ]
  },
  {
   "cell_type": "markdown",
   "metadata": {
    "colab_type": "text",
    "id": "O6bG2ZurNEzm"
   },
   "source": [
    "**Carrier** is a categorical value with 16 categories. "
   ]
  },
  {
   "cell_type": "code",
   "execution_count": 78,
   "metadata": {
    "colab": {
     "base_uri": "https://localhost:8080/",
     "height": 67
    },
    "colab_type": "code",
    "collapsed": false,
    "executionInfo": {
     "elapsed": 728,
     "status": "ok",
     "timestamp": 1538999740026,
     "user": {
      "displayName": "Pieter Sap",
      "photoUrl": "",
      "userId": "15749761891409076289"
     },
     "user_tz": -120
    },
    "id": "7e1tEdIuLxeR",
    "outputId": "2279118d-8cfa-43ed-f1ea-2e938122d4c9"
   },
   "outputs": [
    {
     "name": "stdout",
     "output_type": "stream",
     "text": [
      "('unique Carrier: ', 16)\n"
     ]
    },
    {
     "data": {
      "text/plain": [
       "array(['DL', 'AA', 'EV', 'B6', 'F9', 'FL', 'HA', 'MQ', '9E', 'AS', 'US',\n",
       "       'UA', 'VX', 'WN', 'YV', 'OO'], dtype=object)"
      ]
     },
     "execution_count": 78,
     "metadata": {
      "tags": []
     },
     "output_type": "execute_result"
    }
   ],
   "source": [
    "print(\"unique Carrier: \",delays[\"Carrier\"].unique().shape[0])\n",
    "delays[\"Carrier\"].unique()"
   ]
  },
  {
   "cell_type": "markdown",
   "metadata": {
    "colab_type": "text",
    "id": "1j04RwPDN2Io"
   },
   "source": [
    "We will one-hot encode this column. Below is a function to perform this one-hot-encoding. Notice the important memory optimization! Later we will use this function to one-hot encode the airportID's which creates over hundred new columns. You are not able to run this one-hot-encoding without the memory optimization line."
   ]
  },
  {
   "cell_type": "code",
   "execution_count": 0,
   "metadata": {
    "colab": {},
    "colab_type": "code",
    "collapsed": true,
    "id": "Itp6Oi3zLxeU"
   },
   "outputs": [],
   "source": [
    "def one_hot(df,features):\n",
    "    all_column_names = []\n",
    "    for feature in features:\n",
    "        names = list(df[feature].unique())\n",
    "        for i, name in enumerate(names):\n",
    "            column_name = str(feature)+'_'+str(i)\n",
    "            df[column_name] = df[feature].apply(lambda x: 1 if x==name else 0)\n",
    "            df[column_name] = pd.to_numeric(df[column_name],downcast='integer') #memory optimization!!\n",
    "            all_column_names.append(column_name)\n",
    "    df.drop(columns=features)\n",
    "    return df"
   ]
  },
  {
   "cell_type": "code",
   "execution_count": 0,
   "metadata": {
    "colab": {},
    "colab_type": "code",
    "collapsed": true,
    "id": "dvTdqhCCLxeZ"
   },
   "outputs": [],
   "source": [
    "delays = one_hot(delays,[\"Carrier\"])"
   ]
  },
  {
   "cell_type": "markdown",
   "metadata": {
    "colab_type": "text",
    "id": "9TU-YR_XghwT"
   },
   "source": [
    "## 3.2 Handling time"
   ]
  },
  {
   "cell_type": "markdown",
   "metadata": {
    "colab_type": "text",
    "id": "poW137E_OJck"
   },
   "source": [
    "Departure and arrival times: we round **CRSDepTime** and **CRSArrTime** to the nearest hour, creating the columns **Dep_hour** and **Arr_hour**. We round *down*, while the hour of the weather was rounded *up*.  This is to make sure that weather conditions after the flight departure/arrival are not a deciding factor."
   ]
  },
  {
   "cell_type": "code",
   "execution_count": 0,
   "metadata": {
    "colab": {},
    "colab_type": "code",
    "collapsed": true,
    "id": "1VjWHjMwLxeW"
   },
   "outputs": [],
   "source": [
    "delays[\"Dep_hour\"] = delays[\"CRSDepTime\"].apply(lambda x: hhmm_to_h(x,mode=\"down\"))\n",
    "delays[\"Arr_hour\"] = delays[\"CRSArrTime\"].apply(lambda x: hhmm_to_h(x,mode=\"down\"))"
   ]
  },
  {
   "cell_type": "code",
   "execution_count": 82,
   "metadata": {
    "colab": {
     "base_uri": "https://localhost:8080/",
     "height": 244
    },
    "colab_type": "code",
    "collapsed": false,
    "executionInfo": {
     "elapsed": 590,
     "status": "ok",
     "timestamp": 1538999769535,
     "user": {
      "displayName": "Pieter Sap",
      "photoUrl": "",
      "userId": "15749761891409076289"
     },
     "user_tz": -120
    },
    "id": "5s20WC8DLxeb",
    "outputId": "7a5154e4-b63c-47aa-979a-217fe9f0cf02"
   },
   "outputs": [
    {
     "data": {
      "text/html": [
       "<div>\n",
       "<style scoped>\n",
       "    .dataframe tbody tr th:only-of-type {\n",
       "        vertical-align: middle;\n",
       "    }\n",
       "\n",
       "    .dataframe tbody tr th {\n",
       "        vertical-align: top;\n",
       "    }\n",
       "\n",
       "    .dataframe thead th {\n",
       "        text-align: right;\n",
       "    }\n",
       "</style>\n",
       "<table border=\"1\" class=\"dataframe\">\n",
       "  <thead>\n",
       "    <tr style=\"text-align: right;\">\n",
       "      <th></th>\n",
       "      <th>Year</th>\n",
       "      <th>Month</th>\n",
       "      <th>DayofMonth</th>\n",
       "      <th>Carrier</th>\n",
       "      <th>OriginAirportID</th>\n",
       "      <th>DestAirportID</th>\n",
       "      <th>CRSDepTime</th>\n",
       "      <th>DepDelay</th>\n",
       "      <th>DepDel15</th>\n",
       "      <th>CRSArrTime</th>\n",
       "      <th>...</th>\n",
       "      <th>Carrier_8</th>\n",
       "      <th>Carrier_9</th>\n",
       "      <th>Carrier_10</th>\n",
       "      <th>Carrier_11</th>\n",
       "      <th>Carrier_12</th>\n",
       "      <th>Carrier_13</th>\n",
       "      <th>Carrier_14</th>\n",
       "      <th>Carrier_15</th>\n",
       "      <th>Dep_hour</th>\n",
       "      <th>Arr_hour</th>\n",
       "    </tr>\n",
       "  </thead>\n",
       "  <tbody>\n",
       "    <tr>\n",
       "      <th>0</th>\n",
       "      <td>2013</td>\n",
       "      <td>4</td>\n",
       "      <td>19</td>\n",
       "      <td>DL</td>\n",
       "      <td>11433</td>\n",
       "      <td>13303</td>\n",
       "      <td>837</td>\n",
       "      <td>-3.0</td>\n",
       "      <td>0.0</td>\n",
       "      <td>1138</td>\n",
       "      <td>...</td>\n",
       "      <td>0</td>\n",
       "      <td>0</td>\n",
       "      <td>0</td>\n",
       "      <td>0</td>\n",
       "      <td>0</td>\n",
       "      <td>0</td>\n",
       "      <td>0</td>\n",
       "      <td>0</td>\n",
       "      <td>8</td>\n",
       "      <td>11</td>\n",
       "    </tr>\n",
       "    <tr>\n",
       "      <th>1</th>\n",
       "      <td>2013</td>\n",
       "      <td>4</td>\n",
       "      <td>19</td>\n",
       "      <td>DL</td>\n",
       "      <td>14869</td>\n",
       "      <td>12478</td>\n",
       "      <td>1705</td>\n",
       "      <td>0.0</td>\n",
       "      <td>0.0</td>\n",
       "      <td>2336</td>\n",
       "      <td>...</td>\n",
       "      <td>0</td>\n",
       "      <td>0</td>\n",
       "      <td>0</td>\n",
       "      <td>0</td>\n",
       "      <td>0</td>\n",
       "      <td>0</td>\n",
       "      <td>0</td>\n",
       "      <td>0</td>\n",
       "      <td>17</td>\n",
       "      <td>23</td>\n",
       "    </tr>\n",
       "    <tr>\n",
       "      <th>2</th>\n",
       "      <td>2013</td>\n",
       "      <td>4</td>\n",
       "      <td>19</td>\n",
       "      <td>DL</td>\n",
       "      <td>14057</td>\n",
       "      <td>14869</td>\n",
       "      <td>600</td>\n",
       "      <td>-4.0</td>\n",
       "      <td>0.0</td>\n",
       "      <td>851</td>\n",
       "      <td>...</td>\n",
       "      <td>0</td>\n",
       "      <td>0</td>\n",
       "      <td>0</td>\n",
       "      <td>0</td>\n",
       "      <td>0</td>\n",
       "      <td>0</td>\n",
       "      <td>0</td>\n",
       "      <td>0</td>\n",
       "      <td>6</td>\n",
       "      <td>8</td>\n",
       "    </tr>\n",
       "    <tr>\n",
       "      <th>3</th>\n",
       "      <td>2013</td>\n",
       "      <td>4</td>\n",
       "      <td>19</td>\n",
       "      <td>DL</td>\n",
       "      <td>15016</td>\n",
       "      <td>11433</td>\n",
       "      <td>1630</td>\n",
       "      <td>28.0</td>\n",
       "      <td>1.0</td>\n",
       "      <td>1903</td>\n",
       "      <td>...</td>\n",
       "      <td>0</td>\n",
       "      <td>0</td>\n",
       "      <td>0</td>\n",
       "      <td>0</td>\n",
       "      <td>0</td>\n",
       "      <td>0</td>\n",
       "      <td>0</td>\n",
       "      <td>0</td>\n",
       "      <td>16</td>\n",
       "      <td>19</td>\n",
       "    </tr>\n",
       "    <tr>\n",
       "      <th>4</th>\n",
       "      <td>2013</td>\n",
       "      <td>4</td>\n",
       "      <td>19</td>\n",
       "      <td>DL</td>\n",
       "      <td>11193</td>\n",
       "      <td>12892</td>\n",
       "      <td>1615</td>\n",
       "      <td>-6.0</td>\n",
       "      <td>0.0</td>\n",
       "      <td>1805</td>\n",
       "      <td>...</td>\n",
       "      <td>0</td>\n",
       "      <td>0</td>\n",
       "      <td>0</td>\n",
       "      <td>0</td>\n",
       "      <td>0</td>\n",
       "      <td>0</td>\n",
       "      <td>0</td>\n",
       "      <td>0</td>\n",
       "      <td>16</td>\n",
       "      <td>18</td>\n",
       "    </tr>\n",
       "  </tbody>\n",
       "</table>\n",
       "<p>5 rows × 31 columns</p>\n",
       "</div>"
      ],
      "text/plain": [
       "   Year  Month  DayofMonth Carrier  OriginAirportID  DestAirportID  \\\n",
       "0  2013      4          19      DL            11433          13303   \n",
       "1  2013      4          19      DL            14869          12478   \n",
       "2  2013      4          19      DL            14057          14869   \n",
       "3  2013      4          19      DL            15016          11433   \n",
       "4  2013      4          19      DL            11193          12892   \n",
       "\n",
       "   CRSDepTime  DepDelay  DepDel15  CRSArrTime    ...     Carrier_8  Carrier_9  \\\n",
       "0         837      -3.0       0.0        1138    ...             0          0   \n",
       "1        1705       0.0       0.0        2336    ...             0          0   \n",
       "2         600      -4.0       0.0         851    ...             0          0   \n",
       "3        1630      28.0       1.0        1903    ...             0          0   \n",
       "4        1615      -6.0       0.0        1805    ...             0          0   \n",
       "\n",
       "   Carrier_10  Carrier_11  Carrier_12  Carrier_13  Carrier_14  Carrier_15  \\\n",
       "0           0           0           0           0           0           0   \n",
       "1           0           0           0           0           0           0   \n",
       "2           0           0           0           0           0           0   \n",
       "3           0           0           0           0           0           0   \n",
       "4           0           0           0           0           0           0   \n",
       "\n",
       "   Dep_hour  Arr_hour  \n",
       "0         8        11  \n",
       "1        17        23  \n",
       "2         6         8  \n",
       "3        16        19  \n",
       "4        16        18  \n",
       "\n",
       "[5 rows x 31 columns]"
      ]
     },
     "execution_count": 82,
     "metadata": {
      "tags": []
     },
     "output_type": "execute_result"
    }
   ],
   "source": [
    "delays.head()"
   ]
  },
  {
   "cell_type": "code",
   "execution_count": 83,
   "metadata": {
    "colab": {
     "base_uri": "https://localhost:8080/",
     "height": 151
    },
    "colab_type": "code",
    "collapsed": false,
    "executionInfo": {
     "elapsed": 490,
     "status": "ok",
     "timestamp": 1538999771266,
     "user": {
      "displayName": "Pieter Sap",
      "photoUrl": "",
      "userId": "15749761891409076289"
     },
     "user_tz": -120
    },
    "id": "XR23N67TLxed",
    "outputId": "37a4ed1c-376a-42a6-84ba-beb7623eacc0"
   },
   "outputs": [
    {
     "data": {
      "text/plain": [
       "Index([u'Year', u'Month', u'DayofMonth', u'Carrier', u'OriginAirportID',\n",
       "       u'DestAirportID', u'CRSDepTime', u'DepDelay', u'DepDel15',\n",
       "       u'CRSArrTime', u'ArrDelay', u'ArrDel15', u'Cancelled', u'Carrier_0',\n",
       "       u'Carrier_1', u'Carrier_2', u'Carrier_3', u'Carrier_4', u'Carrier_5',\n",
       "       u'Carrier_6', u'Carrier_7', u'Carrier_8', u'Carrier_9', u'Carrier_10',\n",
       "       u'Carrier_11', u'Carrier_12', u'Carrier_13', u'Carrier_14',\n",
       "       u'Carrier_15', u'Dep_hour', u'Arr_hour'],\n",
       "      dtype='object')"
      ]
     },
     "execution_count": 83,
     "metadata": {
      "tags": []
     },
     "output_type": "execute_result"
    }
   ],
   "source": [
    "delays.columns"
   ]
  },
  {
   "cell_type": "code",
   "execution_count": 84,
   "metadata": {
    "colab": {
     "base_uri": "https://localhost:8080/",
     "height": 554
    },
    "colab_type": "code",
    "collapsed": false,
    "executionInfo": {
     "elapsed": 569,
     "status": "ok",
     "timestamp": 1538999772768,
     "user": {
      "displayName": "Pieter Sap",
      "photoUrl": "",
      "userId": "15749761891409076289"
     },
     "user_tz": -120
    },
    "id": "yvZ68YbJLxee",
    "outputId": "8fa7cd7e-6fff-480f-983c-b63c63a3ab1b"
   },
   "outputs": [
    {
     "data": {
      "text/plain": [
       "Year                 int64\n",
       "Month                int64\n",
       "DayofMonth           int64\n",
       "Carrier             object\n",
       "OriginAirportID      int64\n",
       "DestAirportID        int64\n",
       "CRSDepTime           int64\n",
       "DepDelay           float64\n",
       "DepDel15           float64\n",
       "CRSArrTime           int64\n",
       "ArrDelay           float64\n",
       "ArrDel15           float64\n",
       "Cancelled          float64\n",
       "Carrier_0             int8\n",
       "Carrier_1             int8\n",
       "Carrier_2             int8\n",
       "Carrier_3             int8\n",
       "Carrier_4             int8\n",
       "Carrier_5             int8\n",
       "Carrier_6             int8\n",
       "Carrier_7             int8\n",
       "Carrier_8             int8\n",
       "Carrier_9             int8\n",
       "Carrier_10            int8\n",
       "Carrier_11            int8\n",
       "Carrier_12            int8\n",
       "Carrier_13            int8\n",
       "Carrier_14            int8\n",
       "Carrier_15            int8\n",
       "Dep_hour             int64\n",
       "Arr_hour             int64\n",
       "dtype: object"
      ]
     },
     "execution_count": 84,
     "metadata": {
      "tags": []
     },
     "output_type": "execute_result"
    }
   ],
   "source": [
    "delays.dtypes"
   ]
  },
  {
   "cell_type": "markdown",
   "metadata": {
    "colab_type": "text",
    "id": "7jUAiH3ALxeg"
   },
   "source": [
    "We will create columns **Dep_datetime** and **Arr_datetime** in the same format as the **Datetime** column in the weather dataset. We will use these columns later to join the delay data with the weather data.\n",
    "\n",
    "By inspecting the columns above, we can see that the flight info has only one 'DayofMonth'. We assume this is the day of *departure*. However, when a flight takes place overnight, the arrival might be on the next day. This must be taken into account when constructing the Dep_datetime and Arr_datetime columns.\n",
    "\n",
    "We assume the departure and arrival hour (Dep_hour and Arr_hour) are in the local timezone of the departure and arrival airports respectively. If departure time is later than arrival time, then the arrival is on the next day, so this must be taken into account when constructing Arr_datetime and Dep_datetime (add one day to Dep_datetime). \n",
    "\n",
    "We introduce the helper column **dep_after_arr** (1 or 0). This column is '1' if the arrival date in on the next day and '0' otherwise.\n",
    "\n"
   ]
  },
  {
   "cell_type": "code",
   "execution_count": 0,
   "metadata": {
    "colab": {},
    "colab_type": "code",
    "collapsed": true,
    "id": "UD-n6BtJLxeh"
   },
   "outputs": [],
   "source": [
    "delays[\"dep_after_arr\"] = (delays[\"CRSArrTime\"]<delays[\"CRSDepTime\"])"
   ]
  },
  {
   "cell_type": "code",
   "execution_count": 0,
   "metadata": {
    "colab": {},
    "colab_type": "code",
    "collapsed": true,
    "id": "6Nc2BcH2Lxei"
   },
   "outputs": [],
   "source": [
    "delays[\"Dep_datetime\"] = delays[\"Year\"].astype(str)+'-'+delays[\"Month\"].astype(str)+'-'+delays[\"DayofMonth\"].astype(str)+'-'+delays[\"Dep_hour\"].astype(str)"
   ]
  },
  {
   "cell_type": "markdown",
   "metadata": {
    "colab_type": "text",
    "id": "kjvhom0yT4i1"
   },
   "source": [
    "We add an extra helper column **DayofMonth_arr**, the day of month of *arrival*. This is one day later than the **DayofMonth** column if arrival is one day later (i.e, when dep_after_arr is 1) and the same as **DayofMonth** otherwise."
   ]
  },
  {
   "cell_type": "code",
   "execution_count": 0,
   "metadata": {
    "colab": {},
    "colab_type": "code",
    "collapsed": true,
    "id": "-AJqi48HLxek"
   },
   "outputs": [],
   "source": [
    "delays[\"DayofMonth_arr\"] = delays[\"DayofMonth\"]+delays[\"dep_after_arr\"]"
   ]
  },
  {
   "cell_type": "markdown",
   "metadata": {
    "colab_type": "text",
    "id": "caDXB-iVUUqB"
   },
   "source": [
    "From this, we can create **Arr_datetime**"
   ]
  },
  {
   "cell_type": "code",
   "execution_count": 0,
   "metadata": {
    "colab": {},
    "colab_type": "code",
    "collapsed": true,
    "id": "xxK1bkvJLxeo"
   },
   "outputs": [],
   "source": [
    "delays[\"Arr_datetime\"] = delays[\"Year\"].astype(str)+'-'+delays[\"Month\"].astype(str)+'-'+delays[\"DayofMonth_arr\"].astype(str)+'-'+delays[\"Arr_hour\"].astype(str)"
   ]
  },
  {
   "cell_type": "markdown",
   "metadata": {
    "colab_type": "text",
    "id": "4kkhl6tgVpSq"
   },
   "source": [
    "## 3.3 Result\n",
    "\n",
    "Let's drop some columns we no longer need."
   ]
  },
  {
   "cell_type": "code",
   "execution_count": 0,
   "metadata": {
    "colab": {},
    "colab_type": "code",
    "collapsed": true,
    "id": "Cqj_oOm_VWPL"
   },
   "outputs": [],
   "source": [
    "delays.drop(columns=[\"dep_after_arr\",\"DayofMonth\",\"DayofMonth_arr\",\"CRSArrTime\", \"CRSDepTime\",\"Dep_hour\",\"Arr_hour\",\"Year\",\"Month\",\"Carrier\"],inplace=True)"
   ]
  },
  {
   "cell_type": "markdown",
   "metadata": {
    "colab_type": "text",
    "id": "kA_HWRTDgICZ"
   },
   "source": [
    "The result is as follows.."
   ]
  },
  {
   "cell_type": "code",
   "execution_count": 90,
   "metadata": {
    "colab": {
     "base_uri": "https://localhost:8080/",
     "height": 244
    },
    "colab_type": "code",
    "collapsed": false,
    "executionInfo": {
     "elapsed": 524,
     "status": "ok",
     "timestamp": 1538999801031,
     "user": {
      "displayName": "Pieter Sap",
      "photoUrl": "",
      "userId": "15749761891409076289"
     },
     "user_tz": -120
    },
    "id": "vZf_dUoFgUin",
    "outputId": "2d858b85-cf2b-4d5b-cb4a-8f07256ff416"
   },
   "outputs": [
    {
     "data": {
      "text/html": [
       "<div>\n",
       "<style scoped>\n",
       "    .dataframe tbody tr th:only-of-type {\n",
       "        vertical-align: middle;\n",
       "    }\n",
       "\n",
       "    .dataframe tbody tr th {\n",
       "        vertical-align: top;\n",
       "    }\n",
       "\n",
       "    .dataframe thead th {\n",
       "        text-align: right;\n",
       "    }\n",
       "</style>\n",
       "<table border=\"1\" class=\"dataframe\">\n",
       "  <thead>\n",
       "    <tr style=\"text-align: right;\">\n",
       "      <th></th>\n",
       "      <th>OriginAirportID</th>\n",
       "      <th>DestAirportID</th>\n",
       "      <th>DepDelay</th>\n",
       "      <th>DepDel15</th>\n",
       "      <th>ArrDelay</th>\n",
       "      <th>ArrDel15</th>\n",
       "      <th>Cancelled</th>\n",
       "      <th>Carrier_0</th>\n",
       "      <th>Carrier_1</th>\n",
       "      <th>Carrier_2</th>\n",
       "      <th>...</th>\n",
       "      <th>Carrier_8</th>\n",
       "      <th>Carrier_9</th>\n",
       "      <th>Carrier_10</th>\n",
       "      <th>Carrier_11</th>\n",
       "      <th>Carrier_12</th>\n",
       "      <th>Carrier_13</th>\n",
       "      <th>Carrier_14</th>\n",
       "      <th>Carrier_15</th>\n",
       "      <th>Dep_datetime</th>\n",
       "      <th>Arr_datetime</th>\n",
       "    </tr>\n",
       "  </thead>\n",
       "  <tbody>\n",
       "    <tr>\n",
       "      <th>0</th>\n",
       "      <td>11433</td>\n",
       "      <td>13303</td>\n",
       "      <td>-3.0</td>\n",
       "      <td>0.0</td>\n",
       "      <td>1.0</td>\n",
       "      <td>0.0</td>\n",
       "      <td>0.0</td>\n",
       "      <td>1</td>\n",
       "      <td>0</td>\n",
       "      <td>0</td>\n",
       "      <td>...</td>\n",
       "      <td>0</td>\n",
       "      <td>0</td>\n",
       "      <td>0</td>\n",
       "      <td>0</td>\n",
       "      <td>0</td>\n",
       "      <td>0</td>\n",
       "      <td>0</td>\n",
       "      <td>0</td>\n",
       "      <td>2013-4-19-8</td>\n",
       "      <td>2013-4-19-11</td>\n",
       "    </tr>\n",
       "    <tr>\n",
       "      <th>1</th>\n",
       "      <td>14869</td>\n",
       "      <td>12478</td>\n",
       "      <td>0.0</td>\n",
       "      <td>0.0</td>\n",
       "      <td>-8.0</td>\n",
       "      <td>0.0</td>\n",
       "      <td>0.0</td>\n",
       "      <td>1</td>\n",
       "      <td>0</td>\n",
       "      <td>0</td>\n",
       "      <td>...</td>\n",
       "      <td>0</td>\n",
       "      <td>0</td>\n",
       "      <td>0</td>\n",
       "      <td>0</td>\n",
       "      <td>0</td>\n",
       "      <td>0</td>\n",
       "      <td>0</td>\n",
       "      <td>0</td>\n",
       "      <td>2013-4-19-17</td>\n",
       "      <td>2013-4-19-23</td>\n",
       "    </tr>\n",
       "    <tr>\n",
       "      <th>2</th>\n",
       "      <td>14057</td>\n",
       "      <td>14869</td>\n",
       "      <td>-4.0</td>\n",
       "      <td>0.0</td>\n",
       "      <td>-15.0</td>\n",
       "      <td>0.0</td>\n",
       "      <td>0.0</td>\n",
       "      <td>1</td>\n",
       "      <td>0</td>\n",
       "      <td>0</td>\n",
       "      <td>...</td>\n",
       "      <td>0</td>\n",
       "      <td>0</td>\n",
       "      <td>0</td>\n",
       "      <td>0</td>\n",
       "      <td>0</td>\n",
       "      <td>0</td>\n",
       "      <td>0</td>\n",
       "      <td>0</td>\n",
       "      <td>2013-4-19-6</td>\n",
       "      <td>2013-4-19-8</td>\n",
       "    </tr>\n",
       "    <tr>\n",
       "      <th>3</th>\n",
       "      <td>15016</td>\n",
       "      <td>11433</td>\n",
       "      <td>28.0</td>\n",
       "      <td>1.0</td>\n",
       "      <td>24.0</td>\n",
       "      <td>1.0</td>\n",
       "      <td>0.0</td>\n",
       "      <td>1</td>\n",
       "      <td>0</td>\n",
       "      <td>0</td>\n",
       "      <td>...</td>\n",
       "      <td>0</td>\n",
       "      <td>0</td>\n",
       "      <td>0</td>\n",
       "      <td>0</td>\n",
       "      <td>0</td>\n",
       "      <td>0</td>\n",
       "      <td>0</td>\n",
       "      <td>0</td>\n",
       "      <td>2013-4-19-16</td>\n",
       "      <td>2013-4-19-19</td>\n",
       "    </tr>\n",
       "    <tr>\n",
       "      <th>4</th>\n",
       "      <td>11193</td>\n",
       "      <td>12892</td>\n",
       "      <td>-6.0</td>\n",
       "      <td>0.0</td>\n",
       "      <td>-11.0</td>\n",
       "      <td>0.0</td>\n",
       "      <td>0.0</td>\n",
       "      <td>1</td>\n",
       "      <td>0</td>\n",
       "      <td>0</td>\n",
       "      <td>...</td>\n",
       "      <td>0</td>\n",
       "      <td>0</td>\n",
       "      <td>0</td>\n",
       "      <td>0</td>\n",
       "      <td>0</td>\n",
       "      <td>0</td>\n",
       "      <td>0</td>\n",
       "      <td>0</td>\n",
       "      <td>2013-4-19-16</td>\n",
       "      <td>2013-4-19-18</td>\n",
       "    </tr>\n",
       "  </tbody>\n",
       "</table>\n",
       "<p>5 rows × 25 columns</p>\n",
       "</div>"
      ],
      "text/plain": [
       "   OriginAirportID  DestAirportID  DepDelay  DepDel15  ArrDelay  ArrDel15  \\\n",
       "0            11433          13303      -3.0       0.0       1.0       0.0   \n",
       "1            14869          12478       0.0       0.0      -8.0       0.0   \n",
       "2            14057          14869      -4.0       0.0     -15.0       0.0   \n",
       "3            15016          11433      28.0       1.0      24.0       1.0   \n",
       "4            11193          12892      -6.0       0.0     -11.0       0.0   \n",
       "\n",
       "   Cancelled  Carrier_0  Carrier_1  Carrier_2      ...       Carrier_8  \\\n",
       "0        0.0          1          0          0      ...               0   \n",
       "1        0.0          1          0          0      ...               0   \n",
       "2        0.0          1          0          0      ...               0   \n",
       "3        0.0          1          0          0      ...               0   \n",
       "4        0.0          1          0          0      ...               0   \n",
       "\n",
       "   Carrier_9  Carrier_10  Carrier_11  Carrier_12  Carrier_13  Carrier_14  \\\n",
       "0          0           0           0           0           0           0   \n",
       "1          0           0           0           0           0           0   \n",
       "2          0           0           0           0           0           0   \n",
       "3          0           0           0           0           0           0   \n",
       "4          0           0           0           0           0           0   \n",
       "\n",
       "   Carrier_15  Dep_datetime  Arr_datetime  \n",
       "0           0   2013-4-19-8  2013-4-19-11  \n",
       "1           0  2013-4-19-17  2013-4-19-23  \n",
       "2           0   2013-4-19-6   2013-4-19-8  \n",
       "3           0  2013-4-19-16  2013-4-19-19  \n",
       "4           0  2013-4-19-16  2013-4-19-18  \n",
       "\n",
       "[5 rows x 25 columns]"
      ]
     },
     "execution_count": 90,
     "metadata": {
      "tags": []
     },
     "output_type": "execute_result"
    }
   ],
   "source": [
    "delays.head()"
   ]
  },
  {
   "cell_type": "markdown",
   "metadata": {
    "colab_type": "text",
    "id": "4IIekvCxgWqG"
   },
   "source": [
    "## 3.4 memory usage and dtypes\n",
    "\n"
   ]
  },
  {
   "cell_type": "code",
   "execution_count": 91,
   "metadata": {
    "colab": {
     "base_uri": "https://localhost:8080/",
     "height": 521
    },
    "colab_type": "code",
    "collapsed": false,
    "executionInfo": {
     "elapsed": 685,
     "status": "ok",
     "timestamp": 1538999808540,
     "user": {
      "displayName": "Pieter Sap",
      "photoUrl": "",
      "userId": "15749761891409076289"
     },
     "user_tz": -120
    },
    "id": "0eqQbgPgiybI",
    "outputId": "99d05da8-7890-4241-cd0b-af0823d8258e"
   },
   "outputs": [
    {
     "name": "stdout",
     "output_type": "stream",
     "text": [
      "<class 'pandas.core.frame.DataFrame'>\n",
      "RangeIndex: 2719418 entries, 0 to 2719417\n",
      "Data columns (total 25 columns):\n",
      "OriginAirportID    int64\n",
      "DestAirportID      int64\n",
      "DepDelay           float64\n",
      "DepDel15           float64\n",
      "ArrDelay           float64\n",
      "ArrDel15           float64\n",
      "Cancelled          float64\n",
      "Carrier_0          int8\n",
      "Carrier_1          int8\n",
      "Carrier_2          int8\n",
      "Carrier_3          int8\n",
      "Carrier_4          int8\n",
      "Carrier_5          int8\n",
      "Carrier_6          int8\n",
      "Carrier_7          int8\n",
      "Carrier_8          int8\n",
      "Carrier_9          int8\n",
      "Carrier_10         int8\n",
      "Carrier_11         int8\n",
      "Carrier_12         int8\n",
      "Carrier_13         int8\n",
      "Carrier_14         int8\n",
      "Carrier_15         int8\n",
      "Dep_datetime       object\n",
      "Arr_datetime       object\n",
      "dtypes: float64(5), int64(2), int8(16), object(2)\n",
      "memory usage: 480.4 MB\n"
     ]
    }
   ],
   "source": [
    "delays.info(memory_usage='deep')"
   ]
  },
  {
   "cell_type": "code",
   "execution_count": 92,
   "metadata": {
    "colab": {
     "base_uri": "https://localhost:8080/",
     "height": 454
    },
    "colab_type": "code",
    "collapsed": false,
    "executionInfo": {
     "elapsed": 697,
     "status": "ok",
     "timestamp": 1538999809848,
     "user": {
      "displayName": "Pieter Sap",
      "photoUrl": "",
      "userId": "15749761891409076289"
     },
     "user_tz": -120
    },
    "id": "dibm7edBLxer",
    "outputId": "57599c80-dd9a-4e38-c83c-59a8b191ed43"
   },
   "outputs": [
    {
     "data": {
      "text/plain": [
       "OriginAirportID      int64\n",
       "DestAirportID        int64\n",
       "DepDelay           float64\n",
       "DepDel15           float64\n",
       "ArrDelay           float64\n",
       "ArrDel15           float64\n",
       "Cancelled          float64\n",
       "Carrier_0             int8\n",
       "Carrier_1             int8\n",
       "Carrier_2             int8\n",
       "Carrier_3             int8\n",
       "Carrier_4             int8\n",
       "Carrier_5             int8\n",
       "Carrier_6             int8\n",
       "Carrier_7             int8\n",
       "Carrier_8             int8\n",
       "Carrier_9             int8\n",
       "Carrier_10            int8\n",
       "Carrier_11            int8\n",
       "Carrier_12            int8\n",
       "Carrier_13            int8\n",
       "Carrier_14            int8\n",
       "Carrier_15            int8\n",
       "Dep_datetime        object\n",
       "Arr_datetime        object\n",
       "dtype: object"
      ]
     },
     "execution_count": 92,
     "metadata": {
      "tags": []
     },
     "output_type": "execute_result"
    }
   ],
   "source": [
    "delays.dtypes"
   ]
  },
  {
   "cell_type": "code",
   "execution_count": 93,
   "metadata": {
    "colab": {
     "base_uri": "https://localhost:8080/",
     "height": 244
    },
    "colab_type": "code",
    "collapsed": false,
    "executionInfo": {
     "elapsed": 683,
     "status": "ok",
     "timestamp": 1538999812006,
     "user": {
      "displayName": "Pieter Sap",
      "photoUrl": "",
      "userId": "15749761891409076289"
     },
     "user_tz": -120
    },
    "id": "blAkq_gEjIsH",
    "outputId": "be72dc12-b734-4129-bf70-ac67aea2bf2a"
   },
   "outputs": [
    {
     "data": {
      "text/html": [
       "<div>\n",
       "<style scoped>\n",
       "    .dataframe tbody tr th:only-of-type {\n",
       "        vertical-align: middle;\n",
       "    }\n",
       "\n",
       "    .dataframe tbody tr th {\n",
       "        vertical-align: top;\n",
       "    }\n",
       "\n",
       "    .dataframe thead th {\n",
       "        text-align: right;\n",
       "    }\n",
       "</style>\n",
       "<table border=\"1\" class=\"dataframe\">\n",
       "  <thead>\n",
       "    <tr style=\"text-align: right;\">\n",
       "      <th></th>\n",
       "      <th>OriginAirportID</th>\n",
       "      <th>DestAirportID</th>\n",
       "      <th>DepDelay</th>\n",
       "      <th>DepDel15</th>\n",
       "      <th>ArrDelay</th>\n",
       "      <th>ArrDel15</th>\n",
       "      <th>Cancelled</th>\n",
       "      <th>Carrier_0</th>\n",
       "      <th>Carrier_1</th>\n",
       "      <th>Carrier_2</th>\n",
       "      <th>...</th>\n",
       "      <th>Carrier_8</th>\n",
       "      <th>Carrier_9</th>\n",
       "      <th>Carrier_10</th>\n",
       "      <th>Carrier_11</th>\n",
       "      <th>Carrier_12</th>\n",
       "      <th>Carrier_13</th>\n",
       "      <th>Carrier_14</th>\n",
       "      <th>Carrier_15</th>\n",
       "      <th>Dep_datetime</th>\n",
       "      <th>Arr_datetime</th>\n",
       "    </tr>\n",
       "  </thead>\n",
       "  <tbody>\n",
       "    <tr>\n",
       "      <th>0</th>\n",
       "      <td>11433</td>\n",
       "      <td>13303</td>\n",
       "      <td>-3.0</td>\n",
       "      <td>0.0</td>\n",
       "      <td>1.0</td>\n",
       "      <td>0.0</td>\n",
       "      <td>0.0</td>\n",
       "      <td>1</td>\n",
       "      <td>0</td>\n",
       "      <td>0</td>\n",
       "      <td>...</td>\n",
       "      <td>0</td>\n",
       "      <td>0</td>\n",
       "      <td>0</td>\n",
       "      <td>0</td>\n",
       "      <td>0</td>\n",
       "      <td>0</td>\n",
       "      <td>0</td>\n",
       "      <td>0</td>\n",
       "      <td>2013-4-19-8</td>\n",
       "      <td>2013-4-19-11</td>\n",
       "    </tr>\n",
       "    <tr>\n",
       "      <th>1</th>\n",
       "      <td>14869</td>\n",
       "      <td>12478</td>\n",
       "      <td>0.0</td>\n",
       "      <td>0.0</td>\n",
       "      <td>-8.0</td>\n",
       "      <td>0.0</td>\n",
       "      <td>0.0</td>\n",
       "      <td>1</td>\n",
       "      <td>0</td>\n",
       "      <td>0</td>\n",
       "      <td>...</td>\n",
       "      <td>0</td>\n",
       "      <td>0</td>\n",
       "      <td>0</td>\n",
       "      <td>0</td>\n",
       "      <td>0</td>\n",
       "      <td>0</td>\n",
       "      <td>0</td>\n",
       "      <td>0</td>\n",
       "      <td>2013-4-19-17</td>\n",
       "      <td>2013-4-19-23</td>\n",
       "    </tr>\n",
       "    <tr>\n",
       "      <th>2</th>\n",
       "      <td>14057</td>\n",
       "      <td>14869</td>\n",
       "      <td>-4.0</td>\n",
       "      <td>0.0</td>\n",
       "      <td>-15.0</td>\n",
       "      <td>0.0</td>\n",
       "      <td>0.0</td>\n",
       "      <td>1</td>\n",
       "      <td>0</td>\n",
       "      <td>0</td>\n",
       "      <td>...</td>\n",
       "      <td>0</td>\n",
       "      <td>0</td>\n",
       "      <td>0</td>\n",
       "      <td>0</td>\n",
       "      <td>0</td>\n",
       "      <td>0</td>\n",
       "      <td>0</td>\n",
       "      <td>0</td>\n",
       "      <td>2013-4-19-6</td>\n",
       "      <td>2013-4-19-8</td>\n",
       "    </tr>\n",
       "    <tr>\n",
       "      <th>3</th>\n",
       "      <td>15016</td>\n",
       "      <td>11433</td>\n",
       "      <td>28.0</td>\n",
       "      <td>1.0</td>\n",
       "      <td>24.0</td>\n",
       "      <td>1.0</td>\n",
       "      <td>0.0</td>\n",
       "      <td>1</td>\n",
       "      <td>0</td>\n",
       "      <td>0</td>\n",
       "      <td>...</td>\n",
       "      <td>0</td>\n",
       "      <td>0</td>\n",
       "      <td>0</td>\n",
       "      <td>0</td>\n",
       "      <td>0</td>\n",
       "      <td>0</td>\n",
       "      <td>0</td>\n",
       "      <td>0</td>\n",
       "      <td>2013-4-19-16</td>\n",
       "      <td>2013-4-19-19</td>\n",
       "    </tr>\n",
       "    <tr>\n",
       "      <th>4</th>\n",
       "      <td>11193</td>\n",
       "      <td>12892</td>\n",
       "      <td>-6.0</td>\n",
       "      <td>0.0</td>\n",
       "      <td>-11.0</td>\n",
       "      <td>0.0</td>\n",
       "      <td>0.0</td>\n",
       "      <td>1</td>\n",
       "      <td>0</td>\n",
       "      <td>0</td>\n",
       "      <td>...</td>\n",
       "      <td>0</td>\n",
       "      <td>0</td>\n",
       "      <td>0</td>\n",
       "      <td>0</td>\n",
       "      <td>0</td>\n",
       "      <td>0</td>\n",
       "      <td>0</td>\n",
       "      <td>0</td>\n",
       "      <td>2013-4-19-16</td>\n",
       "      <td>2013-4-19-18</td>\n",
       "    </tr>\n",
       "  </tbody>\n",
       "</table>\n",
       "<p>5 rows × 25 columns</p>\n",
       "</div>"
      ],
      "text/plain": [
       "   OriginAirportID  DestAirportID  DepDelay  DepDel15  ArrDelay  ArrDel15  \\\n",
       "0            11433          13303      -3.0       0.0       1.0       0.0   \n",
       "1            14869          12478       0.0       0.0      -8.0       0.0   \n",
       "2            14057          14869      -4.0       0.0     -15.0       0.0   \n",
       "3            15016          11433      28.0       1.0      24.0       1.0   \n",
       "4            11193          12892      -6.0       0.0     -11.0       0.0   \n",
       "\n",
       "   Cancelled  Carrier_0  Carrier_1  Carrier_2      ...       Carrier_8  \\\n",
       "0        0.0          1          0          0      ...               0   \n",
       "1        0.0          1          0          0      ...               0   \n",
       "2        0.0          1          0          0      ...               0   \n",
       "3        0.0          1          0          0      ...               0   \n",
       "4        0.0          1          0          0      ...               0   \n",
       "\n",
       "   Carrier_9  Carrier_10  Carrier_11  Carrier_12  Carrier_13  Carrier_14  \\\n",
       "0          0           0           0           0           0           0   \n",
       "1          0           0           0           0           0           0   \n",
       "2          0           0           0           0           0           0   \n",
       "3          0           0           0           0           0           0   \n",
       "4          0           0           0           0           0           0   \n",
       "\n",
       "   Carrier_15  Dep_datetime  Arr_datetime  \n",
       "0           0   2013-4-19-8  2013-4-19-11  \n",
       "1           0  2013-4-19-17  2013-4-19-23  \n",
       "2           0   2013-4-19-6   2013-4-19-8  \n",
       "3           0  2013-4-19-16  2013-4-19-19  \n",
       "4           0  2013-4-19-16  2013-4-19-18  \n",
       "\n",
       "[5 rows x 25 columns]"
      ]
     },
     "execution_count": 93,
     "metadata": {
      "tags": []
     },
     "output_type": "execute_result"
    }
   ],
   "source": [
    "delays.head()"
   ]
  },
  {
   "cell_type": "markdown",
   "metadata": {
    "colab_type": "text",
    "id": "fKgUz5iEjMME"
   },
   "source": [
    "DepDelay and ArrDelay are now floats but they can be casted to integers. ArrDelay15 and Cancelled are floats that are actually binary 1 or 0. The one-hot encoded features are int64, while an int8 should be sufficient. \n",
    "\n",
    "We will downcast all values as integers, except for the datetime columns."
   ]
  },
  {
   "cell_type": "code",
   "execution_count": 94,
   "metadata": {
    "colab": {
     "base_uri": "https://localhost:8080/",
     "height": 118
    },
    "colab_type": "code",
    "collapsed": false,
    "executionInfo": {
     "elapsed": 601,
     "status": "ok",
     "timestamp": 1538999820968,
     "user": {
      "displayName": "Pieter Sap",
      "photoUrl": "",
      "userId": "15749761891409076289"
     },
     "user_tz": -120
    },
    "id": "6zc14Z6IjKjk",
    "outputId": "8f11c307-1627-4182-a619-d8f267d0f22d"
   },
   "outputs": [
    {
     "data": {
      "text/plain": [
       "Index([u'OriginAirportID', u'DestAirportID', u'DepDelay', u'DepDel15',\n",
       "       u'ArrDelay', u'ArrDel15', u'Cancelled', u'Carrier_0', u'Carrier_1',\n",
       "       u'Carrier_2', u'Carrier_3', u'Carrier_4', u'Carrier_5', u'Carrier_6',\n",
       "       u'Carrier_7', u'Carrier_8', u'Carrier_9', u'Carrier_10', u'Carrier_11',\n",
       "       u'Carrier_12', u'Carrier_13', u'Carrier_14', u'Carrier_15'],\n",
       "      dtype='object')"
      ]
     },
     "execution_count": 94,
     "metadata": {
      "tags": []
     },
     "output_type": "execute_result"
    }
   ],
   "source": [
    "delays.columns[0:-2]"
   ]
  },
  {
   "cell_type": "code",
   "execution_count": 0,
   "metadata": {
    "colab": {},
    "colab_type": "code",
    "collapsed": true,
    "id": "WvUAhHJlhOTZ"
   },
   "outputs": [],
   "source": [
    "for columnname in delays.columns[0:-2]: #excluse the last two (datetimes Dep_datetime and Arr_datetime objects)\n",
    "  delays[columnname] = pd.to_numeric(delays[columnname],downcast=\"integer\")"
   ]
  },
  {
   "cell_type": "code",
   "execution_count": 96,
   "metadata": {
    "colab": {
     "base_uri": "https://localhost:8080/",
     "height": 454
    },
    "colab_type": "code",
    "collapsed": false,
    "executionInfo": {
     "elapsed": 628,
     "status": "ok",
     "timestamp": 1538999826303,
     "user": {
      "displayName": "Pieter Sap",
      "photoUrl": "",
      "userId": "15749761891409076289"
     },
     "user_tz": -120
    },
    "id": "kBuOHBhthekQ",
    "outputId": "8065f1a8-f67c-4558-b1df-431600993439"
   },
   "outputs": [
    {
     "data": {
      "text/plain": [
       "OriginAirportID      int16\n",
       "DestAirportID        int16\n",
       "DepDelay           float64\n",
       "DepDel15           float64\n",
       "ArrDelay           float64\n",
       "ArrDel15              int8\n",
       "Cancelled             int8\n",
       "Carrier_0             int8\n",
       "Carrier_1             int8\n",
       "Carrier_2             int8\n",
       "Carrier_3             int8\n",
       "Carrier_4             int8\n",
       "Carrier_5             int8\n",
       "Carrier_6             int8\n",
       "Carrier_7             int8\n",
       "Carrier_8             int8\n",
       "Carrier_9             int8\n",
       "Carrier_10            int8\n",
       "Carrier_11            int8\n",
       "Carrier_12            int8\n",
       "Carrier_13            int8\n",
       "Carrier_14            int8\n",
       "Carrier_15            int8\n",
       "Dep_datetime        object\n",
       "Arr_datetime        object\n",
       "dtype: object"
      ]
     },
     "execution_count": 96,
     "metadata": {
      "tags": []
     },
     "output_type": "execute_result"
    }
   ],
   "source": [
    "delays.dtypes"
   ]
  },
  {
   "cell_type": "code",
   "execution_count": 97,
   "metadata": {
    "colab": {
     "base_uri": "https://localhost:8080/",
     "height": 521
    },
    "colab_type": "code",
    "collapsed": false,
    "executionInfo": {
     "elapsed": 921,
     "status": "ok",
     "timestamp": 1538999833885,
     "user": {
      "displayName": "Pieter Sap",
      "photoUrl": "",
      "userId": "15749761891409076289"
     },
     "user_tz": -120
    },
    "id": "iXtG7va4kCLv",
    "outputId": "7f1db770-bd22-413b-b739-4665a915acde"
   },
   "outputs": [
    {
     "name": "stdout",
     "output_type": "stream",
     "text": [
      "<class 'pandas.core.frame.DataFrame'>\n",
      "RangeIndex: 2719418 entries, 0 to 2719417\n",
      "Data columns (total 25 columns):\n",
      "OriginAirportID    int16\n",
      "DestAirportID      int16\n",
      "DepDelay           float64\n",
      "DepDel15           float64\n",
      "ArrDelay           float64\n",
      "ArrDel15           int8\n",
      "Cancelled          int8\n",
      "Carrier_0          int8\n",
      "Carrier_1          int8\n",
      "Carrier_2          int8\n",
      "Carrier_3          int8\n",
      "Carrier_4          int8\n",
      "Carrier_5          int8\n",
      "Carrier_6          int8\n",
      "Carrier_7          int8\n",
      "Carrier_8          int8\n",
      "Carrier_9          int8\n",
      "Carrier_10         int8\n",
      "Carrier_11         int8\n",
      "Carrier_12         int8\n",
      "Carrier_13         int8\n",
      "Carrier_14         int8\n",
      "Carrier_15         int8\n",
      "Dep_datetime       object\n",
      "Arr_datetime       object\n",
      "dtypes: float64(3), int16(2), int8(18), object(2)\n",
      "memory usage: 413.0 MB\n"
     ]
    }
   ],
   "source": [
    "delays.info(memory_usage='deep')"
   ]
  },
  {
   "cell_type": "markdown",
   "metadata": {
    "colab_type": "text",
    "id": "a_P2GXX8Lxew"
   },
   "source": [
    "# 4 Join with OriginAirport weather"
   ]
  },
  {
   "cell_type": "markdown",
   "metadata": {
    "colab_type": "text",
    "id": "5eRrNBW2Lxew"
   },
   "source": [
    "Apparently, in the weather data sometimes for the same airport two measurements are available in the same hour (i.e. same datetime). We need to drop these duplicates (keeping the last available) so that we have unique airport-datetime combinations. Then, we can index on these columns (double index) and join the dataframes. "
   ]
  },
  {
   "cell_type": "code",
   "execution_count": 0,
   "metadata": {
    "colab": {},
    "colab_type": "code",
    "collapsed": true,
    "id": "wIe2G2QzLxew"
   },
   "outputs": [],
   "source": [
    "weather.drop_duplicates(subset=[\"AirportID\",\"datetime\"],keep=\"last\",inplace=True)"
   ]
  },
  {
   "cell_type": "code",
   "execution_count": 0,
   "metadata": {
    "colab": {},
    "colab_type": "code",
    "collapsed": true,
    "id": "gnzJb-ljLxe2"
   },
   "outputs": [],
   "source": [
    "weather.set_index(keys=[\"AirportID\",\"datetime\"],inplace=True)"
   ]
  },
  {
   "cell_type": "code",
   "execution_count": 100,
   "metadata": {
    "colab": {
     "base_uri": "https://localhost:8080/",
     "height": 329
    },
    "colab_type": "code",
    "collapsed": false,
    "executionInfo": {
     "elapsed": 545,
     "status": "ok",
     "timestamp": 1538999837219,
     "user": {
      "displayName": "Pieter Sap",
      "photoUrl": "",
      "userId": "15749761891409076289"
     },
     "user_tz": -120
    },
    "id": "wZyr6ZxUhijz",
    "outputId": "bfb7d5cd-ab65-4abf-a071-6f36fe1559f4"
   },
   "outputs": [
    {
     "data": {
      "text/html": [
       "<div>\n",
       "<style scoped>\n",
       "    .dataframe tbody tr th:only-of-type {\n",
       "        vertical-align: middle;\n",
       "    }\n",
       "\n",
       "    .dataframe tbody tr th {\n",
       "        vertical-align: top;\n",
       "    }\n",
       "\n",
       "    .dataframe thead th {\n",
       "        text-align: right;\n",
       "    }\n",
       "</style>\n",
       "<table border=\"1\" class=\"dataframe\">\n",
       "  <thead>\n",
       "    <tr style=\"text-align: right;\">\n",
       "      <th></th>\n",
       "      <th></th>\n",
       "      <th>Visibility</th>\n",
       "      <th>DryBulbCelsius</th>\n",
       "      <th>WetBulbCelsius</th>\n",
       "      <th>DewPointCelsius</th>\n",
       "      <th>RelativeHumidity</th>\n",
       "      <th>WindSpeed</th>\n",
       "      <th>StationPressure</th>\n",
       "      <th>dir_VR</th>\n",
       "      <th>dir_0</th>\n",
       "      <th>dir_40</th>\n",
       "      <th>dir_80</th>\n",
       "      <th>dir_120</th>\n",
       "      <th>dir_160</th>\n",
       "      <th>dir_200</th>\n",
       "      <th>dir_240</th>\n",
       "      <th>dir_280</th>\n",
       "      <th>dir_320</th>\n",
       "    </tr>\n",
       "    <tr>\n",
       "      <th>AirportID</th>\n",
       "      <th>datetime</th>\n",
       "      <th></th>\n",
       "      <th></th>\n",
       "      <th></th>\n",
       "      <th></th>\n",
       "      <th></th>\n",
       "      <th></th>\n",
       "      <th></th>\n",
       "      <th></th>\n",
       "      <th></th>\n",
       "      <th></th>\n",
       "      <th></th>\n",
       "      <th></th>\n",
       "      <th></th>\n",
       "      <th></th>\n",
       "      <th></th>\n",
       "      <th></th>\n",
       "      <th></th>\n",
       "    </tr>\n",
       "  </thead>\n",
       "  <tbody>\n",
       "    <tr>\n",
       "      <th rowspan=\"5\" valign=\"top\">14843</th>\n",
       "      <th>2013-4-1-1</th>\n",
       "      <td>10.0</td>\n",
       "      <td>24.4</td>\n",
       "      <td>23.299999</td>\n",
       "      <td>22.799999</td>\n",
       "      <td>90.0</td>\n",
       "      <td>13</td>\n",
       "      <td>30.059999</td>\n",
       "      <td>0</td>\n",
       "      <td>0</td>\n",
       "      <td>0</td>\n",
       "      <td>1</td>\n",
       "      <td>0</td>\n",
       "      <td>0</td>\n",
       "      <td>0</td>\n",
       "      <td>0</td>\n",
       "      <td>0</td>\n",
       "      <td>0</td>\n",
       "    </tr>\n",
       "    <tr>\n",
       "      <th>2013-4-1-2</th>\n",
       "      <td>10.0</td>\n",
       "      <td>24.4</td>\n",
       "      <td>22.500000</td>\n",
       "      <td>21.700001</td>\n",
       "      <td>85.0</td>\n",
       "      <td>10</td>\n",
       "      <td>30.049999</td>\n",
       "      <td>0</td>\n",
       "      <td>0</td>\n",
       "      <td>0</td>\n",
       "      <td>1</td>\n",
       "      <td>0</td>\n",
       "      <td>0</td>\n",
       "      <td>0</td>\n",
       "      <td>0</td>\n",
       "      <td>0</td>\n",
       "      <td>0</td>\n",
       "    </tr>\n",
       "    <tr>\n",
       "      <th>2013-4-1-3</th>\n",
       "      <td>10.0</td>\n",
       "      <td>24.4</td>\n",
       "      <td>22.500000</td>\n",
       "      <td>21.700001</td>\n",
       "      <td>85.0</td>\n",
       "      <td>9</td>\n",
       "      <td>30.030001</td>\n",
       "      <td>0</td>\n",
       "      <td>0</td>\n",
       "      <td>0</td>\n",
       "      <td>1</td>\n",
       "      <td>0</td>\n",
       "      <td>0</td>\n",
       "      <td>0</td>\n",
       "      <td>0</td>\n",
       "      <td>0</td>\n",
       "      <td>0</td>\n",
       "    </tr>\n",
       "    <tr>\n",
       "      <th>2013-4-1-4</th>\n",
       "      <td>10.0</td>\n",
       "      <td>24.4</td>\n",
       "      <td>22.200001</td>\n",
       "      <td>21.100000</td>\n",
       "      <td>82.0</td>\n",
       "      <td>9</td>\n",
       "      <td>30.020000</td>\n",
       "      <td>0</td>\n",
       "      <td>0</td>\n",
       "      <td>0</td>\n",
       "      <td>1</td>\n",
       "      <td>0</td>\n",
       "      <td>0</td>\n",
       "      <td>0</td>\n",
       "      <td>0</td>\n",
       "      <td>0</td>\n",
       "      <td>0</td>\n",
       "    </tr>\n",
       "    <tr>\n",
       "      <th>2013-4-1-5</th>\n",
       "      <td>10.0</td>\n",
       "      <td>24.4</td>\n",
       "      <td>22.200001</td>\n",
       "      <td>21.100000</td>\n",
       "      <td>82.0</td>\n",
       "      <td>7</td>\n",
       "      <td>30.030001</td>\n",
       "      <td>0</td>\n",
       "      <td>0</td>\n",
       "      <td>0</td>\n",
       "      <td>0</td>\n",
       "      <td>1</td>\n",
       "      <td>0</td>\n",
       "      <td>0</td>\n",
       "      <td>0</td>\n",
       "      <td>0</td>\n",
       "      <td>0</td>\n",
       "    </tr>\n",
       "  </tbody>\n",
       "</table>\n",
       "</div>"
      ],
      "text/plain": [
       "                      Visibility  DryBulbCelsius  WetBulbCelsius  \\\n",
       "AirportID datetime                                                 \n",
       "14843     2013-4-1-1        10.0            24.4       23.299999   \n",
       "          2013-4-1-2        10.0            24.4       22.500000   \n",
       "          2013-4-1-3        10.0            24.4       22.500000   \n",
       "          2013-4-1-4        10.0            24.4       22.200001   \n",
       "          2013-4-1-5        10.0            24.4       22.200001   \n",
       "\n",
       "                      DewPointCelsius  RelativeHumidity  WindSpeed  \\\n",
       "AirportID datetime                                                   \n",
       "14843     2013-4-1-1        22.799999              90.0         13   \n",
       "          2013-4-1-2        21.700001              85.0         10   \n",
       "          2013-4-1-3        21.700001              85.0          9   \n",
       "          2013-4-1-4        21.100000              82.0          9   \n",
       "          2013-4-1-5        21.100000              82.0          7   \n",
       "\n",
       "                      StationPressure  dir_VR  dir_0  dir_40  dir_80  dir_120  \\\n",
       "AirportID datetime                                                              \n",
       "14843     2013-4-1-1        30.059999       0      0       0       1        0   \n",
       "          2013-4-1-2        30.049999       0      0       0       1        0   \n",
       "          2013-4-1-3        30.030001       0      0       0       1        0   \n",
       "          2013-4-1-4        30.020000       0      0       0       1        0   \n",
       "          2013-4-1-5        30.030001       0      0       0       0        1   \n",
       "\n",
       "                      dir_160  dir_200  dir_240  dir_280  dir_320  \n",
       "AirportID datetime                                                 \n",
       "14843     2013-4-1-1        0        0        0        0        0  \n",
       "          2013-4-1-2        0        0        0        0        0  \n",
       "          2013-4-1-3        0        0        0        0        0  \n",
       "          2013-4-1-4        0        0        0        0        0  \n",
       "          2013-4-1-5        0        0        0        0        0  "
      ]
     },
     "execution_count": 100,
     "metadata": {
      "tags": []
     },
     "output_type": "execute_result"
    }
   ],
   "source": [
    "weather.head(5)"
   ]
  },
  {
   "cell_type": "code",
   "execution_count": 101,
   "metadata": {
    "colab": {
     "base_uri": "https://localhost:8080/",
     "height": 454
    },
    "colab_type": "code",
    "collapsed": false,
    "executionInfo": {
     "elapsed": 662,
     "status": "ok",
     "timestamp": 1538999838699,
     "user": {
      "displayName": "Pieter Sap",
      "photoUrl": "",
      "userId": "15749761891409076289"
     },
     "user_tz": -120
    },
    "id": "TSls1_50Lxe5",
    "outputId": "d57b3972-8b4f-46ee-d73d-29d9773c2f11"
   },
   "outputs": [
    {
     "data": {
      "text/plain": [
       "OriginAirportID      int16\n",
       "DestAirportID        int16\n",
       "DepDelay           float64\n",
       "DepDel15           float64\n",
       "ArrDelay           float64\n",
       "ArrDel15              int8\n",
       "Cancelled             int8\n",
       "Carrier_0             int8\n",
       "Carrier_1             int8\n",
       "Carrier_2             int8\n",
       "Carrier_3             int8\n",
       "Carrier_4             int8\n",
       "Carrier_5             int8\n",
       "Carrier_6             int8\n",
       "Carrier_7             int8\n",
       "Carrier_8             int8\n",
       "Carrier_9             int8\n",
       "Carrier_10            int8\n",
       "Carrier_11            int8\n",
       "Carrier_12            int8\n",
       "Carrier_13            int8\n",
       "Carrier_14            int8\n",
       "Carrier_15            int8\n",
       "Dep_datetime        object\n",
       "Arr_datetime        object\n",
       "dtype: object"
      ]
     },
     "execution_count": 101,
     "metadata": {
      "tags": []
     },
     "output_type": "execute_result"
    }
   ],
   "source": [
    "delays.dtypes"
   ]
  },
  {
   "cell_type": "markdown",
   "metadata": {
    "colab_type": "text",
    "id": "xbgBoNFoh-f0"
   },
   "source": [
    "We are now ready to add the weather information to our delays dataframe. We will first join with the weather at the departure airport. \n",
    "\n",
    "In order to perform the join, we must temporarily rename our OriginAirportID to AirportID and Dep_datetime to datetime. The column names to be joined on, are then equal in both dataframes of the join."
   ]
  },
  {
   "cell_type": "code",
   "execution_count": 0,
   "metadata": {
    "colab": {},
    "colab_type": "code",
    "collapsed": true,
    "id": "NSSwD8KjLxe7"
   },
   "outputs": [],
   "source": [
    "delays.rename(columns={\"OriginAirportID\":\"AirportID\",\"Dep_datetime\":\"datetime\"},inplace=True)"
   ]
  },
  {
   "cell_type": "markdown",
   "metadata": {
    "colab_type": "text",
    "id": "6Akug-eii5mw"
   },
   "source": [
    "Now, adding the weather of the departure airport to the dataframe..."
   ]
  },
  {
   "cell_type": "code",
   "execution_count": 103,
   "metadata": {
    "colab": {
     "base_uri": "https://localhost:8080/",
     "height": 328
    },
    "colab_type": "code",
    "collapsed": false,
    "executionInfo": {
     "elapsed": 931,
     "status": "ok",
     "timestamp": 1538999848628,
     "user": {
      "displayName": "Pieter Sap",
      "photoUrl": "",
      "userId": "15749761891409076289"
     },
     "user_tz": -120
    },
    "id": "mZQCYCeQldRS",
    "outputId": "6dc6dd20-0cc1-4ba0-bcb9-0f32261f8d72"
   },
   "outputs": [
    {
     "data": {
      "text/html": [
       "<div>\n",
       "<style scoped>\n",
       "    .dataframe tbody tr th:only-of-type {\n",
       "        vertical-align: middle;\n",
       "    }\n",
       "\n",
       "    .dataframe tbody tr th {\n",
       "        vertical-align: top;\n",
       "    }\n",
       "\n",
       "    .dataframe thead th {\n",
       "        text-align: right;\n",
       "    }\n",
       "</style>\n",
       "<table border=\"1\" class=\"dataframe\">\n",
       "  <thead>\n",
       "    <tr style=\"text-align: right;\">\n",
       "      <th></th>\n",
       "      <th>AirportID</th>\n",
       "      <th>DestAirportID</th>\n",
       "      <th>DepDelay</th>\n",
       "      <th>DepDel15</th>\n",
       "      <th>ArrDelay</th>\n",
       "      <th>ArrDel15</th>\n",
       "      <th>Cancelled</th>\n",
       "      <th>Carrier_0</th>\n",
       "      <th>Carrier_1</th>\n",
       "      <th>Carrier_2</th>\n",
       "      <th>...</th>\n",
       "      <th>Carrier_8</th>\n",
       "      <th>Carrier_9</th>\n",
       "      <th>Carrier_10</th>\n",
       "      <th>Carrier_11</th>\n",
       "      <th>Carrier_12</th>\n",
       "      <th>Carrier_13</th>\n",
       "      <th>Carrier_14</th>\n",
       "      <th>Carrier_15</th>\n",
       "      <th>datetime</th>\n",
       "      <th>Arr_datetime</th>\n",
       "    </tr>\n",
       "  </thead>\n",
       "  <tbody>\n",
       "    <tr>\n",
       "      <th>0</th>\n",
       "      <td>11433</td>\n",
       "      <td>13303</td>\n",
       "      <td>-3.0</td>\n",
       "      <td>0.0</td>\n",
       "      <td>1.0</td>\n",
       "      <td>0</td>\n",
       "      <td>0</td>\n",
       "      <td>1</td>\n",
       "      <td>0</td>\n",
       "      <td>0</td>\n",
       "      <td>...</td>\n",
       "      <td>0</td>\n",
       "      <td>0</td>\n",
       "      <td>0</td>\n",
       "      <td>0</td>\n",
       "      <td>0</td>\n",
       "      <td>0</td>\n",
       "      <td>0</td>\n",
       "      <td>0</td>\n",
       "      <td>2013-4-19-8</td>\n",
       "      <td>2013-4-19-11</td>\n",
       "    </tr>\n",
       "    <tr>\n",
       "      <th>1</th>\n",
       "      <td>14869</td>\n",
       "      <td>12478</td>\n",
       "      <td>0.0</td>\n",
       "      <td>0.0</td>\n",
       "      <td>-8.0</td>\n",
       "      <td>0</td>\n",
       "      <td>0</td>\n",
       "      <td>1</td>\n",
       "      <td>0</td>\n",
       "      <td>0</td>\n",
       "      <td>...</td>\n",
       "      <td>0</td>\n",
       "      <td>0</td>\n",
       "      <td>0</td>\n",
       "      <td>0</td>\n",
       "      <td>0</td>\n",
       "      <td>0</td>\n",
       "      <td>0</td>\n",
       "      <td>0</td>\n",
       "      <td>2013-4-19-17</td>\n",
       "      <td>2013-4-19-23</td>\n",
       "    </tr>\n",
       "    <tr>\n",
       "      <th>2</th>\n",
       "      <td>14057</td>\n",
       "      <td>14869</td>\n",
       "      <td>-4.0</td>\n",
       "      <td>0.0</td>\n",
       "      <td>-15.0</td>\n",
       "      <td>0</td>\n",
       "      <td>0</td>\n",
       "      <td>1</td>\n",
       "      <td>0</td>\n",
       "      <td>0</td>\n",
       "      <td>...</td>\n",
       "      <td>0</td>\n",
       "      <td>0</td>\n",
       "      <td>0</td>\n",
       "      <td>0</td>\n",
       "      <td>0</td>\n",
       "      <td>0</td>\n",
       "      <td>0</td>\n",
       "      <td>0</td>\n",
       "      <td>2013-4-19-6</td>\n",
       "      <td>2013-4-19-8</td>\n",
       "    </tr>\n",
       "    <tr>\n",
       "      <th>3</th>\n",
       "      <td>15016</td>\n",
       "      <td>11433</td>\n",
       "      <td>28.0</td>\n",
       "      <td>1.0</td>\n",
       "      <td>24.0</td>\n",
       "      <td>1</td>\n",
       "      <td>0</td>\n",
       "      <td>1</td>\n",
       "      <td>0</td>\n",
       "      <td>0</td>\n",
       "      <td>...</td>\n",
       "      <td>0</td>\n",
       "      <td>0</td>\n",
       "      <td>0</td>\n",
       "      <td>0</td>\n",
       "      <td>0</td>\n",
       "      <td>0</td>\n",
       "      <td>0</td>\n",
       "      <td>0</td>\n",
       "      <td>2013-4-19-16</td>\n",
       "      <td>2013-4-19-19</td>\n",
       "    </tr>\n",
       "    <tr>\n",
       "      <th>4</th>\n",
       "      <td>11193</td>\n",
       "      <td>12892</td>\n",
       "      <td>-6.0</td>\n",
       "      <td>0.0</td>\n",
       "      <td>-11.0</td>\n",
       "      <td>0</td>\n",
       "      <td>0</td>\n",
       "      <td>1</td>\n",
       "      <td>0</td>\n",
       "      <td>0</td>\n",
       "      <td>...</td>\n",
       "      <td>0</td>\n",
       "      <td>0</td>\n",
       "      <td>0</td>\n",
       "      <td>0</td>\n",
       "      <td>0</td>\n",
       "      <td>0</td>\n",
       "      <td>0</td>\n",
       "      <td>0</td>\n",
       "      <td>2013-4-19-16</td>\n",
       "      <td>2013-4-19-18</td>\n",
       "    </tr>\n",
       "  </tbody>\n",
       "</table>\n",
       "<p>5 rows × 25 columns</p>\n",
       "</div>"
      ],
      "text/plain": [
       "   AirportID  DestAirportID  DepDelay  DepDel15  ArrDelay  ArrDel15  \\\n",
       "0      11433          13303      -3.0       0.0       1.0         0   \n",
       "1      14869          12478       0.0       0.0      -8.0         0   \n",
       "2      14057          14869      -4.0       0.0     -15.0         0   \n",
       "3      15016          11433      28.0       1.0      24.0         1   \n",
       "4      11193          12892      -6.0       0.0     -11.0         0   \n",
       "\n",
       "   Cancelled  Carrier_0  Carrier_1  Carrier_2      ...       Carrier_8  \\\n",
       "0          0          1          0          0      ...               0   \n",
       "1          0          1          0          0      ...               0   \n",
       "2          0          1          0          0      ...               0   \n",
       "3          0          1          0          0      ...               0   \n",
       "4          0          1          0          0      ...               0   \n",
       "\n",
       "   Carrier_9  Carrier_10  Carrier_11  Carrier_12  Carrier_13  Carrier_14  \\\n",
       "0          0           0           0           0           0           0   \n",
       "1          0           0           0           0           0           0   \n",
       "2          0           0           0           0           0           0   \n",
       "3          0           0           0           0           0           0   \n",
       "4          0           0           0           0           0           0   \n",
       "\n",
       "   Carrier_15      datetime  Arr_datetime  \n",
       "0           0   2013-4-19-8  2013-4-19-11  \n",
       "1           0  2013-4-19-17  2013-4-19-23  \n",
       "2           0   2013-4-19-6   2013-4-19-8  \n",
       "3           0  2013-4-19-16  2013-4-19-19  \n",
       "4           0  2013-4-19-16  2013-4-19-18  \n",
       "\n",
       "[5 rows x 25 columns]"
      ]
     },
     "execution_count": 103,
     "metadata": {
      "tags": []
     },
     "output_type": "execute_result"
    }
   ],
   "source": [
    "delays.head()"
   ]
  },
  {
   "cell_type": "code",
   "execution_count": 0,
   "metadata": {
    "colab": {},
    "colab_type": "code",
    "collapsed": true,
    "id": "xUZ-pINzLxe9"
   },
   "outputs": [],
   "source": [
    "delays=delays.join(weather,on=[\"AirportID\",\"datetime\"])#,rsuffix=\"_depweather\")"
   ]
  },
  {
   "cell_type": "code",
   "execution_count": 0,
   "metadata": {
    "colab": {},
    "colab_type": "code",
    "collapsed": true,
    "id": "aUYo0dZ-3Efa"
   },
   "outputs": [],
   "source": []
  },
  {
   "cell_type": "code",
   "execution_count": 105,
   "metadata": {
    "colab": {
     "base_uri": "https://localhost:8080/",
     "height": 185
    },
    "colab_type": "code",
    "collapsed": false,
    "executionInfo": {
     "elapsed": 564,
     "status": "ok",
     "timestamp": 1538999860360,
     "user": {
      "displayName": "Pieter Sap",
      "photoUrl": "",
      "userId": "15749761891409076289"
     },
     "user_tz": -120
    },
    "id": "mD3t9WXKjZ_L",
    "outputId": "5b1af569-7a4e-4c49-b95d-f3a051c6173d"
   },
   "outputs": [
    {
     "data": {
      "text/plain": [
       "Index([u'AirportID', u'DestAirportID', u'DepDelay', u'DepDel15', u'ArrDelay',\n",
       "       u'ArrDel15', u'Cancelled', u'Carrier_0', u'Carrier_1', u'Carrier_2',\n",
       "       u'Carrier_3', u'Carrier_4', u'Carrier_5', u'Carrier_6', u'Carrier_7',\n",
       "       u'Carrier_8', u'Carrier_9', u'Carrier_10', u'Carrier_11', u'Carrier_12',\n",
       "       u'Carrier_13', u'Carrier_14', u'Carrier_15', u'datetime',\n",
       "       u'Arr_datetime', u'Visibility', u'DryBulbCelsius', u'WetBulbCelsius',\n",
       "       u'DewPointCelsius', u'RelativeHumidity', u'WindSpeed',\n",
       "       u'StationPressure', u'dir_VR', u'dir_0', u'dir_40', u'dir_80',\n",
       "       u'dir_120', u'dir_160', u'dir_200', u'dir_240', u'dir_280', u'dir_320'],\n",
       "      dtype='object')"
      ]
     },
     "execution_count": 105,
     "metadata": {
      "tags": []
     },
     "output_type": "execute_result"
    }
   ],
   "source": [
    "delays.columns"
   ]
  },
  {
   "cell_type": "markdown",
   "metadata": {
    "colab_type": "text",
    "id": "VULDdKVnk44n"
   },
   "source": [
    "A lot of columns have been added related to the weather at the origin airport. We will rename all these columns with a suffix **_originairport** so that we can distinct them later from the weather data of the destination airport. We also change  AirportID back to OriginAirportID and datetime to Dep_datetime"
   ]
  },
  {
   "cell_type": "code",
   "execution_count": 106,
   "metadata": {
    "colab": {
     "base_uri": "https://localhost:8080/",
     "height": 269
    },
    "colab_type": "code",
    "collapsed": false,
    "executionInfo": {
     "elapsed": 1505,
     "status": "ok",
     "timestamp": 1538999868199,
     "user": {
      "displayName": "Pieter Sap",
      "photoUrl": "",
      "userId": "15749761891409076289"
     },
     "user_tz": -120
    },
    "id": "WkpXwiyiLxfE",
    "outputId": "0d74b27f-0941-4cfa-d691-6152607f6a7d"
   },
   "outputs": [
    {
     "data": {
      "text/plain": [
       "Index([u'OriginAirportID', u'DestAirportID', u'DepDelay', u'DepDel15',\n",
       "       u'ArrDelay', u'ArrDel15', u'Cancelled', u'Carrier_0', u'Carrier_1',\n",
       "       u'Carrier_2', u'Carrier_3', u'Carrier_4', u'Carrier_5', u'Carrier_6',\n",
       "       u'Carrier_7', u'Carrier_8', u'Carrier_9', u'Carrier_10', u'Carrier_11',\n",
       "       u'Carrier_12', u'Carrier_13', u'Carrier_14', u'Carrier_15',\n",
       "       u'Dep_datetime', u'Arr_datetime', u'Visibility_originAirport',\n",
       "       u'DryBulbCelsius_originAirport', u'WetBulbCelsius_originAirport',\n",
       "       u'DewPointCelsius_originAirport', u'RelativeHumidity_originAirport',\n",
       "       u'WindSpeed_originAirport', u'StationPressure_originAirport',\n",
       "       u'dir_VR_originAirport', u'dir_0_originAirport',\n",
       "       u'dir_40_originAirport', u'dir_80_originAirport',\n",
       "       u'dir_120_originAirport', u'dir_160_originAirport',\n",
       "       u'dir_200_originAirport', u'dir_240_originAirport',\n",
       "       u'dir_280_originAirport', u'dir_320_originAirport'],\n",
       "      dtype='object')"
      ]
     },
     "execution_count": 106,
     "metadata": {
      "tags": []
     },
     "output_type": "execute_result"
    }
   ],
   "source": [
    "delays_columns_old = delays.columns\n",
    "delays_columns_new = []\n",
    "for column in delays_columns_old:\n",
    "    if column in weather.columns:\n",
    "        delays_columns_new.append(column+\"_originAirport\")\n",
    "    else:\n",
    "        delays_columns_new.append(column)\n",
    "        \n",
    "delays.columns = delays_columns_new\n",
    "delays.rename(columns={\"AirportID\":\"OriginAirportID\",\"datetime\":\"Dep_datetime\"},inplace=True)\n",
    "delays.columns"
   ]
  },
  {
   "cell_type": "markdown",
   "metadata": {
    "colab_type": "text",
    "id": "JvPoSvo6LxfH"
   },
   "source": [
    "# 5 Join with DestinationAirport weather"
   ]
  },
  {
   "cell_type": "markdown",
   "metadata": {
    "colab_type": "text",
    "id": "KoZ6iFgen8ky"
   },
   "source": [
    "We now perform the same tricks with the destination airport weather."
   ]
  },
  {
   "cell_type": "code",
   "execution_count": 0,
   "metadata": {
    "colab": {},
    "colab_type": "code",
    "collapsed": true,
    "id": "fHXoxRQvLxfI"
   },
   "outputs": [],
   "source": [
    "delays.rename(columns={\"DestAirportID\":\"AirportID\",\"Arr_datetime\":\"datetime\"},inplace=True)"
   ]
  },
  {
   "cell_type": "code",
   "execution_count": 0,
   "metadata": {
    "colab": {},
    "colab_type": "code",
    "collapsed": true,
    "id": "saM5xOmeLxfL"
   },
   "outputs": [],
   "source": [
    "delays=delays.join(weather,on=[\"AirportID\",\"datetime\"])#,rsuffix=\"_arrweather\")"
   ]
  },
  {
   "cell_type": "code",
   "execution_count": 109,
   "metadata": {
    "colab": {
     "base_uri": "https://localhost:8080/",
     "height": 336
    },
    "colab_type": "code",
    "collapsed": false,
    "executionInfo": {
     "elapsed": 616,
     "status": "ok",
     "timestamp": 1538999872875,
     "user": {
      "displayName": "Pieter Sap",
      "photoUrl": "",
      "userId": "15749761891409076289"
     },
     "user_tz": -120
    },
    "id": "o4LzDYo2LxfL",
    "outputId": "7562115b-fdaa-46a4-dace-8a31a84000f6"
   },
   "outputs": [
    {
     "data": {
      "text/plain": [
       "Index([u'OriginAirportID', u'AirportID', u'DepDelay', u'DepDel15', u'ArrDelay',\n",
       "       u'ArrDel15', u'Cancelled', u'Carrier_0', u'Carrier_1', u'Carrier_2',\n",
       "       u'Carrier_3', u'Carrier_4', u'Carrier_5', u'Carrier_6', u'Carrier_7',\n",
       "       u'Carrier_8', u'Carrier_9', u'Carrier_10', u'Carrier_11', u'Carrier_12',\n",
       "       u'Carrier_13', u'Carrier_14', u'Carrier_15', u'Dep_datetime',\n",
       "       u'datetime', u'Visibility_originAirport',\n",
       "       u'DryBulbCelsius_originAirport', u'WetBulbCelsius_originAirport',\n",
       "       u'DewPointCelsius_originAirport', u'RelativeHumidity_originAirport',\n",
       "       u'WindSpeed_originAirport', u'StationPressure_originAirport',\n",
       "       u'dir_VR_originAirport', u'dir_0_originAirport',\n",
       "       u'dir_40_originAirport', u'dir_80_originAirport',\n",
       "       u'dir_120_originAirport', u'dir_160_originAirport',\n",
       "       u'dir_200_originAirport', u'dir_240_originAirport',\n",
       "       u'dir_280_originAirport', u'dir_320_originAirport', u'Visibility',\n",
       "       u'DryBulbCelsius', u'WetBulbCelsius', u'DewPointCelsius',\n",
       "       u'RelativeHumidity', u'WindSpeed', u'StationPressure', u'dir_VR',\n",
       "       u'dir_0', u'dir_40', u'dir_80', u'dir_120', u'dir_160', u'dir_200',\n",
       "       u'dir_240', u'dir_280', u'dir_320'],\n",
       "      dtype='object')"
      ]
     },
     "execution_count": 109,
     "metadata": {
      "tags": []
     },
     "output_type": "execute_result"
    }
   ],
   "source": [
    "delays.columns"
   ]
  },
  {
   "cell_type": "code",
   "execution_count": 110,
   "metadata": {
    "colab": {
     "base_uri": "https://localhost:8080/",
     "height": 386
    },
    "colab_type": "code",
    "collapsed": false,
    "executionInfo": {
     "elapsed": 2557,
     "status": "ok",
     "timestamp": 1538999876544,
     "user": {
      "displayName": "Pieter Sap",
      "photoUrl": "",
      "userId": "15749761891409076289"
     },
     "user_tz": -120
    },
    "id": "nKciqITBLxfR",
    "outputId": "da0531c0-5be0-40d6-b802-0756fcac4223"
   },
   "outputs": [
    {
     "data": {
      "text/plain": [
       "Index([u'OriginAirportID', u'DestAirportID', u'DepDelay', u'DepDel15',\n",
       "       u'ArrDelay', u'ArrDel15', u'Cancelled', u'Carrier_0', u'Carrier_1',\n",
       "       u'Carrier_2', u'Carrier_3', u'Carrier_4', u'Carrier_5', u'Carrier_6',\n",
       "       u'Carrier_7', u'Carrier_8', u'Carrier_9', u'Carrier_10', u'Carrier_11',\n",
       "       u'Carrier_12', u'Carrier_13', u'Carrier_14', u'Carrier_15',\n",
       "       u'Dep_datetime', u'Arr_datetime', u'Visibility_originAirport',\n",
       "       u'DryBulbCelsius_originAirport', u'WetBulbCelsius_originAirport',\n",
       "       u'DewPointCelsius_originAirport', u'RelativeHumidity_originAirport',\n",
       "       u'WindSpeed_originAirport', u'StationPressure_originAirport',\n",
       "       u'dir_VR_originAirport', u'dir_0_originAirport',\n",
       "       u'dir_40_originAirport', u'dir_80_originAirport',\n",
       "       u'dir_120_originAirport', u'dir_160_originAirport',\n",
       "       u'dir_200_originAirport', u'dir_240_originAirport',\n",
       "       u'dir_280_originAirport', u'dir_320_originAirport',\n",
       "       u'Visibility_destAirport', u'DryBulbCelsius_destAirport',\n",
       "       u'WetBulbCelsius_destAirport', u'DewPointCelsius_destAirport',\n",
       "       u'RelativeHumidity_destAirport', u'WindSpeed_destAirport',\n",
       "       u'StationPressure_destAirport', u'dir_VR_destAirport',\n",
       "       u'dir_0_destAirport', u'dir_40_destAirport', u'dir_80_destAirport',\n",
       "       u'dir_120_destAirport', u'dir_160_destAirport', u'dir_200_destAirport',\n",
       "       u'dir_240_destAirport', u'dir_280_destAirport', u'dir_320_destAirport'],\n",
       "      dtype='object')"
      ]
     },
     "execution_count": 110,
     "metadata": {
      "tags": []
     },
     "output_type": "execute_result"
    }
   ],
   "source": [
    "delays_columns_old = delays.columns\n",
    "delays_columns_new = []\n",
    "for column in delays_columns_old:\n",
    "    if column in weather.columns:\n",
    "        delays_columns_new.append(column+\"_destAirport\")\n",
    "    else:\n",
    "        delays_columns_new.append(column)\n",
    "        \n",
    "delays.columns = delays_columns_new\n",
    "delays.rename(columns={\"AirportID\":\"DestAirportID\",\"datetime\":\"Arr_datetime\"},inplace=True)\n",
    "delays.columns"
   ]
  },
  {
   "cell_type": "code",
   "execution_count": 111,
   "metadata": {
    "colab": {
     "base_uri": "https://localhost:8080/",
     "height": 244
    },
    "colab_type": "code",
    "collapsed": false,
    "executionInfo": {
     "elapsed": 542,
     "status": "ok",
     "timestamp": 1538999886571,
     "user": {
      "displayName": "Pieter Sap",
      "photoUrl": "",
      "userId": "15749761891409076289"
     },
     "user_tz": -120
    },
    "id": "ZLqqL0dOLxfS",
    "outputId": "b5940a30-dbaf-476b-e23d-042e6b5a0d48"
   },
   "outputs": [
    {
     "data": {
      "text/html": [
       "<div>\n",
       "<style scoped>\n",
       "    .dataframe tbody tr th:only-of-type {\n",
       "        vertical-align: middle;\n",
       "    }\n",
       "\n",
       "    .dataframe tbody tr th {\n",
       "        vertical-align: top;\n",
       "    }\n",
       "\n",
       "    .dataframe thead th {\n",
       "        text-align: right;\n",
       "    }\n",
       "</style>\n",
       "<table border=\"1\" class=\"dataframe\">\n",
       "  <thead>\n",
       "    <tr style=\"text-align: right;\">\n",
       "      <th></th>\n",
       "      <th>OriginAirportID</th>\n",
       "      <th>DestAirportID</th>\n",
       "      <th>DepDelay</th>\n",
       "      <th>DepDel15</th>\n",
       "      <th>ArrDelay</th>\n",
       "      <th>ArrDel15</th>\n",
       "      <th>Cancelled</th>\n",
       "      <th>Carrier_0</th>\n",
       "      <th>Carrier_1</th>\n",
       "      <th>Carrier_2</th>\n",
       "      <th>...</th>\n",
       "      <th>dir_VR_destAirport</th>\n",
       "      <th>dir_0_destAirport</th>\n",
       "      <th>dir_40_destAirport</th>\n",
       "      <th>dir_80_destAirport</th>\n",
       "      <th>dir_120_destAirport</th>\n",
       "      <th>dir_160_destAirport</th>\n",
       "      <th>dir_200_destAirport</th>\n",
       "      <th>dir_240_destAirport</th>\n",
       "      <th>dir_280_destAirport</th>\n",
       "      <th>dir_320_destAirport</th>\n",
       "    </tr>\n",
       "  </thead>\n",
       "  <tbody>\n",
       "    <tr>\n",
       "      <th>0</th>\n",
       "      <td>11433</td>\n",
       "      <td>13303</td>\n",
       "      <td>-3.0</td>\n",
       "      <td>0.0</td>\n",
       "      <td>1.0</td>\n",
       "      <td>0</td>\n",
       "      <td>0</td>\n",
       "      <td>1</td>\n",
       "      <td>0</td>\n",
       "      <td>0</td>\n",
       "      <td>...</td>\n",
       "      <td>0.0</td>\n",
       "      <td>0.0</td>\n",
       "      <td>0.0</td>\n",
       "      <td>0.0</td>\n",
       "      <td>1.0</td>\n",
       "      <td>0.0</td>\n",
       "      <td>0.0</td>\n",
       "      <td>0.0</td>\n",
       "      <td>0.0</td>\n",
       "      <td>0.0</td>\n",
       "    </tr>\n",
       "    <tr>\n",
       "      <th>1</th>\n",
       "      <td>14869</td>\n",
       "      <td>12478</td>\n",
       "      <td>0.0</td>\n",
       "      <td>0.0</td>\n",
       "      <td>-8.0</td>\n",
       "      <td>0</td>\n",
       "      <td>0</td>\n",
       "      <td>1</td>\n",
       "      <td>0</td>\n",
       "      <td>0</td>\n",
       "      <td>...</td>\n",
       "      <td>0.0</td>\n",
       "      <td>0.0</td>\n",
       "      <td>0.0</td>\n",
       "      <td>0.0</td>\n",
       "      <td>0.0</td>\n",
       "      <td>1.0</td>\n",
       "      <td>0.0</td>\n",
       "      <td>0.0</td>\n",
       "      <td>0.0</td>\n",
       "      <td>0.0</td>\n",
       "    </tr>\n",
       "    <tr>\n",
       "      <th>2</th>\n",
       "      <td>14057</td>\n",
       "      <td>14869</td>\n",
       "      <td>-4.0</td>\n",
       "      <td>0.0</td>\n",
       "      <td>-15.0</td>\n",
       "      <td>0</td>\n",
       "      <td>0</td>\n",
       "      <td>1</td>\n",
       "      <td>0</td>\n",
       "      <td>0</td>\n",
       "      <td>...</td>\n",
       "      <td>0.0</td>\n",
       "      <td>0.0</td>\n",
       "      <td>0.0</td>\n",
       "      <td>0.0</td>\n",
       "      <td>1.0</td>\n",
       "      <td>0.0</td>\n",
       "      <td>0.0</td>\n",
       "      <td>0.0</td>\n",
       "      <td>0.0</td>\n",
       "      <td>0.0</td>\n",
       "    </tr>\n",
       "    <tr>\n",
       "      <th>3</th>\n",
       "      <td>15016</td>\n",
       "      <td>11433</td>\n",
       "      <td>28.0</td>\n",
       "      <td>1.0</td>\n",
       "      <td>24.0</td>\n",
       "      <td>1</td>\n",
       "      <td>0</td>\n",
       "      <td>1</td>\n",
       "      <td>0</td>\n",
       "      <td>0</td>\n",
       "      <td>...</td>\n",
       "      <td>0.0</td>\n",
       "      <td>0.0</td>\n",
       "      <td>0.0</td>\n",
       "      <td>0.0</td>\n",
       "      <td>0.0</td>\n",
       "      <td>0.0</td>\n",
       "      <td>1.0</td>\n",
       "      <td>0.0</td>\n",
       "      <td>0.0</td>\n",
       "      <td>0.0</td>\n",
       "    </tr>\n",
       "    <tr>\n",
       "      <th>4</th>\n",
       "      <td>11193</td>\n",
       "      <td>12892</td>\n",
       "      <td>-6.0</td>\n",
       "      <td>0.0</td>\n",
       "      <td>-11.0</td>\n",
       "      <td>0</td>\n",
       "      <td>0</td>\n",
       "      <td>1</td>\n",
       "      <td>0</td>\n",
       "      <td>0</td>\n",
       "      <td>...</td>\n",
       "      <td>0.0</td>\n",
       "      <td>0.0</td>\n",
       "      <td>0.0</td>\n",
       "      <td>0.0</td>\n",
       "      <td>0.0</td>\n",
       "      <td>0.0</td>\n",
       "      <td>0.0</td>\n",
       "      <td>1.0</td>\n",
       "      <td>0.0</td>\n",
       "      <td>0.0</td>\n",
       "    </tr>\n",
       "  </tbody>\n",
       "</table>\n",
       "<p>5 rows × 59 columns</p>\n",
       "</div>"
      ],
      "text/plain": [
       "   OriginAirportID  DestAirportID  DepDelay  DepDel15  ArrDelay  ArrDel15  \\\n",
       "0            11433          13303      -3.0       0.0       1.0         0   \n",
       "1            14869          12478       0.0       0.0      -8.0         0   \n",
       "2            14057          14869      -4.0       0.0     -15.0         0   \n",
       "3            15016          11433      28.0       1.0      24.0         1   \n",
       "4            11193          12892      -6.0       0.0     -11.0         0   \n",
       "\n",
       "   Cancelled  Carrier_0  Carrier_1  Carrier_2         ...           \\\n",
       "0          0          1          0          0         ...            \n",
       "1          0          1          0          0         ...            \n",
       "2          0          1          0          0         ...            \n",
       "3          0          1          0          0         ...            \n",
       "4          0          1          0          0         ...            \n",
       "\n",
       "   dir_VR_destAirport  dir_0_destAirport  dir_40_destAirport  \\\n",
       "0                 0.0                0.0                 0.0   \n",
       "1                 0.0                0.0                 0.0   \n",
       "2                 0.0                0.0                 0.0   \n",
       "3                 0.0                0.0                 0.0   \n",
       "4                 0.0                0.0                 0.0   \n",
       "\n",
       "   dir_80_destAirport  dir_120_destAirport  dir_160_destAirport  \\\n",
       "0                 0.0                  1.0                  0.0   \n",
       "1                 0.0                  0.0                  1.0   \n",
       "2                 0.0                  1.0                  0.0   \n",
       "3                 0.0                  0.0                  0.0   \n",
       "4                 0.0                  0.0                  0.0   \n",
       "\n",
       "   dir_200_destAirport  dir_240_destAirport  dir_280_destAirport  \\\n",
       "0                  0.0                  0.0                  0.0   \n",
       "1                  0.0                  0.0                  0.0   \n",
       "2                  0.0                  0.0                  0.0   \n",
       "3                  1.0                  0.0                  0.0   \n",
       "4                  0.0                  1.0                  0.0   \n",
       "\n",
       "   dir_320_destAirport  \n",
       "0                  0.0  \n",
       "1                  0.0  \n",
       "2                  0.0  \n",
       "3                  0.0  \n",
       "4                  0.0  \n",
       "\n",
       "[5 rows x 59 columns]"
      ]
     },
     "execution_count": 111,
     "metadata": {
      "tags": []
     },
     "output_type": "execute_result"
    }
   ],
   "source": [
    "delays.head()"
   ]
  },
  {
   "cell_type": "code",
   "execution_count": 112,
   "metadata": {
    "colab": {
     "base_uri": "https://localhost:8080/",
     "height": 1025
    },
    "colab_type": "code",
    "collapsed": false,
    "executionInfo": {
     "elapsed": 768,
     "status": "ok",
     "timestamp": 1538999889986,
     "user": {
      "displayName": "Pieter Sap",
      "photoUrl": "",
      "userId": "15749761891409076289"
     },
     "user_tz": -120
    },
    "id": "vRO5an8RplMk",
    "outputId": "9293c5e4-4d77-471e-fe76-c376a741f287"
   },
   "outputs": [
    {
     "data": {
      "text/plain": [
       "OriginAirportID                     int16\n",
       "DestAirportID                       int16\n",
       "DepDelay                          float64\n",
       "DepDel15                          float64\n",
       "ArrDelay                          float64\n",
       "ArrDel15                             int8\n",
       "Cancelled                            int8\n",
       "Carrier_0                            int8\n",
       "Carrier_1                            int8\n",
       "Carrier_2                            int8\n",
       "Carrier_3                            int8\n",
       "Carrier_4                            int8\n",
       "Carrier_5                            int8\n",
       "Carrier_6                            int8\n",
       "Carrier_7                            int8\n",
       "Carrier_8                            int8\n",
       "Carrier_9                            int8\n",
       "Carrier_10                           int8\n",
       "Carrier_11                           int8\n",
       "Carrier_12                           int8\n",
       "Carrier_13                           int8\n",
       "Carrier_14                           int8\n",
       "Carrier_15                           int8\n",
       "Dep_datetime                       object\n",
       "Arr_datetime                       object\n",
       "Visibility_originAirport          float32\n",
       "DryBulbCelsius_originAirport      float32\n",
       "WetBulbCelsius_originAirport      float32\n",
       "DewPointCelsius_originAirport     float32\n",
       "RelativeHumidity_originAirport    float32\n",
       "WindSpeed_originAirport           float64\n",
       "StationPressure_originAirport     float32\n",
       "dir_VR_originAirport              float64\n",
       "dir_0_originAirport               float64\n",
       "dir_40_originAirport              float64\n",
       "dir_80_originAirport              float64\n",
       "dir_120_originAirport             float64\n",
       "dir_160_originAirport             float64\n",
       "dir_200_originAirport             float64\n",
       "dir_240_originAirport             float64\n",
       "dir_280_originAirport             float64\n",
       "dir_320_originAirport             float64\n",
       "Visibility_destAirport            float32\n",
       "DryBulbCelsius_destAirport        float32\n",
       "WetBulbCelsius_destAirport        float32\n",
       "DewPointCelsius_destAirport       float32\n",
       "RelativeHumidity_destAirport      float32\n",
       "WindSpeed_destAirport             float64\n",
       "StationPressure_destAirport       float32\n",
       "dir_VR_destAirport                float64\n",
       "dir_0_destAirport                 float64\n",
       "dir_40_destAirport                float64\n",
       "dir_80_destAirport                float64\n",
       "dir_120_destAirport               float64\n",
       "dir_160_destAirport               float64\n",
       "dir_200_destAirport               float64\n",
       "dir_240_destAirport               float64\n",
       "dir_280_destAirport               float64\n",
       "dir_320_destAirport               float64\n",
       "dtype: object"
      ]
     },
     "execution_count": 112,
     "metadata": {
      "tags": []
     },
     "output_type": "execute_result"
    }
   ],
   "source": [
    "delays.dtypes"
   ]
  },
  {
   "cell_type": "markdown",
   "metadata": {
    "colab_type": "text",
    "id": "G09Aoiuypl9a"
   },
   "source": [
    "# 6 Final data processing and result"
   ]
  },
  {
   "cell_type": "markdown",
   "metadata": {
    "colab_type": "text",
    "id": "q9uzbssgLxfU"
   },
   "source": [
    "Finally, we drop some unneeded columns. Let's assume that the exact flight times don't matter, only the weather conditions at those times. For now the only target variable is ArrDelay15, we exclude other related columns."
   ]
  },
  {
   "cell_type": "code",
   "execution_count": 0,
   "metadata": {
    "colab": {},
    "colab_type": "code",
    "collapsed": true,
    "id": "l6OWlW83LxfU"
   },
   "outputs": [],
   "source": [
    "delays.drop(columns=[\"Dep_datetime\",\"Arr_datetime\",\"DepDelay\",\"DepDel15\",\"ArrDelay\",\"Cancelled\"],inplace=True)\n"
   ]
  },
  {
   "cell_type": "markdown",
   "metadata": {
    "colab_type": "text",
    "id": "dH7Z8-Thp36A"
   },
   "source": [
    "Dropping NaN values"
   ]
  },
  {
   "cell_type": "code",
   "execution_count": 0,
   "metadata": {
    "colab": {},
    "colab_type": "code",
    "collapsed": true,
    "id": "qxn5uG0cLxfW"
   },
   "outputs": [],
   "source": [
    "delays.dropna(inplace=True)"
   ]
  },
  {
   "cell_type": "code",
   "execution_count": 115,
   "metadata": {
    "colab": {
     "base_uri": "https://localhost:8080/",
     "height": 924
    },
    "colab_type": "code",
    "collapsed": false,
    "executionInfo": {
     "elapsed": 552,
     "status": "ok",
     "timestamp": 1538999906238,
     "user": {
      "displayName": "Pieter Sap",
      "photoUrl": "",
      "userId": "15749761891409076289"
     },
     "user_tz": -120
    },
    "id": "UY2ARDMtsAX3",
    "outputId": "672d69a9-bc59-47e8-b6e3-550e7f5e0265"
   },
   "outputs": [
    {
     "data": {
      "text/plain": [
       "OriginAirportID                     int16\n",
       "DestAirportID                       int16\n",
       "ArrDel15                             int8\n",
       "Carrier_0                            int8\n",
       "Carrier_1                            int8\n",
       "Carrier_2                            int8\n",
       "Carrier_3                            int8\n",
       "Carrier_4                            int8\n",
       "Carrier_5                            int8\n",
       "Carrier_6                            int8\n",
       "Carrier_7                            int8\n",
       "Carrier_8                            int8\n",
       "Carrier_9                            int8\n",
       "Carrier_10                           int8\n",
       "Carrier_11                           int8\n",
       "Carrier_12                           int8\n",
       "Carrier_13                           int8\n",
       "Carrier_14                           int8\n",
       "Carrier_15                           int8\n",
       "Visibility_originAirport          float32\n",
       "DryBulbCelsius_originAirport      float32\n",
       "WetBulbCelsius_originAirport      float32\n",
       "DewPointCelsius_originAirport     float32\n",
       "RelativeHumidity_originAirport    float32\n",
       "WindSpeed_originAirport           float64\n",
       "StationPressure_originAirport     float32\n",
       "dir_VR_originAirport              float64\n",
       "dir_0_originAirport               float64\n",
       "dir_40_originAirport              float64\n",
       "dir_80_originAirport              float64\n",
       "dir_120_originAirport             float64\n",
       "dir_160_originAirport             float64\n",
       "dir_200_originAirport             float64\n",
       "dir_240_originAirport             float64\n",
       "dir_280_originAirport             float64\n",
       "dir_320_originAirport             float64\n",
       "Visibility_destAirport            float32\n",
       "DryBulbCelsius_destAirport        float32\n",
       "WetBulbCelsius_destAirport        float32\n",
       "DewPointCelsius_destAirport       float32\n",
       "RelativeHumidity_destAirport      float32\n",
       "WindSpeed_destAirport             float64\n",
       "StationPressure_destAirport       float32\n",
       "dir_VR_destAirport                float64\n",
       "dir_0_destAirport                 float64\n",
       "dir_40_destAirport                float64\n",
       "dir_80_destAirport                float64\n",
       "dir_120_destAirport               float64\n",
       "dir_160_destAirport               float64\n",
       "dir_200_destAirport               float64\n",
       "dir_240_destAirport               float64\n",
       "dir_280_destAirport               float64\n",
       "dir_320_destAirport               float64\n",
       "dtype: object"
      ]
     },
     "execution_count": 115,
     "metadata": {
      "tags": []
     },
     "output_type": "execute_result"
    }
   ],
   "source": [
    "delays.dtypes"
   ]
  },
  {
   "cell_type": "markdown",
   "metadata": {
    "colab_type": "text",
    "id": "L9A1LR8OrpgO"
   },
   "source": [
    "During the join, our columns related to Windspeed and Wind Direction are now back to float64. Cast them back to integers to conserve memory"
   ]
  },
  {
   "cell_type": "code",
   "execution_count": 116,
   "metadata": {
    "colab": {
     "base_uri": "https://localhost:8080/",
     "height": 101
    },
    "colab_type": "code",
    "collapsed": false,
    "executionInfo": {
     "elapsed": 756,
     "status": "ok",
     "timestamp": 1538999908324,
     "user": {
      "displayName": "Pieter Sap",
      "photoUrl": "",
      "userId": "15749761891409076289"
     },
     "user_tz": -120
    },
    "id": "nvuJy6CktREX",
    "outputId": "762d6e64-1817-440e-e46c-f5c6a0434195"
   },
   "outputs": [
    {
     "name": "stdout",
     "output_type": "stream",
     "text": [
      "<class 'pandas.core.frame.DataFrame'>\n",
      "Int64Index: 2138043 entries, 0 to 2719417\n",
      "Columns: 53 entries, OriginAirportID to dir_320_destAirport\n",
      "dtypes: float32(12), float64(22), int16(2), int8(17)\n",
      "memory usage: 515.9 MB\n"
     ]
    }
   ],
   "source": [
    "delays.info(memory_usage='deep',max_cols=1)"
   ]
  },
  {
   "cell_type": "code",
   "execution_count": 0,
   "metadata": {
    "colab": {},
    "colab_type": "code",
    "collapsed": true,
    "id": "CPt5uh6Prv2H"
   },
   "outputs": [],
   "source": [
    "def isDowncastColumn(columnName):\n",
    "    if (\"dir_\" in columnName) or (\"WindSpeed\" in columnName):\n",
    "      return True\n",
    "    else:\n",
    "      return False\n",
    "    \n",
    "for columnName in filter(isDowncastColumn,list(delays.columns)):\n",
    "  delays[columnName] = pd.to_numeric(delays[columnName],downcast='integer')"
   ]
  },
  {
   "cell_type": "code",
   "execution_count": 118,
   "metadata": {
    "colab": {
     "base_uri": "https://localhost:8080/",
     "height": 935
    },
    "colab_type": "code",
    "collapsed": false,
    "executionInfo": {
     "elapsed": 616,
     "status": "ok",
     "timestamp": 1538999921122,
     "user": {
      "displayName": "Pieter Sap",
      "photoUrl": "",
      "userId": "15749761891409076289"
     },
     "user_tz": -120
    },
    "id": "zyOXpee1q3QZ",
    "outputId": "4de9dd89-a62c-4bad-f23c-0c3b5f284355"
   },
   "outputs": [
    {
     "data": {
      "text/plain": [
       "OriginAirportID                     int16\n",
       "DestAirportID                       int16\n",
       "ArrDel15                             int8\n",
       "Carrier_0                            int8\n",
       "Carrier_1                            int8\n",
       "Carrier_2                            int8\n",
       "Carrier_3                            int8\n",
       "Carrier_4                            int8\n",
       "Carrier_5                            int8\n",
       "Carrier_6                            int8\n",
       "Carrier_7                            int8\n",
       "Carrier_8                            int8\n",
       "Carrier_9                            int8\n",
       "Carrier_10                           int8\n",
       "Carrier_11                           int8\n",
       "Carrier_12                           int8\n",
       "Carrier_13                           int8\n",
       "Carrier_14                           int8\n",
       "Carrier_15                           int8\n",
       "Visibility_originAirport          float32\n",
       "DryBulbCelsius_originAirport      float32\n",
       "WetBulbCelsius_originAirport      float32\n",
       "DewPointCelsius_originAirport     float32\n",
       "RelativeHumidity_originAirport    float32\n",
       "WindSpeed_originAirport              int8\n",
       "StationPressure_originAirport     float32\n",
       "dir_VR_originAirport                 int8\n",
       "dir_0_originAirport                  int8\n",
       "dir_40_originAirport                 int8\n",
       "dir_80_originAirport                 int8\n",
       "dir_120_originAirport                int8\n",
       "dir_160_originAirport                int8\n",
       "dir_200_originAirport                int8\n",
       "dir_240_originAirport                int8\n",
       "dir_280_originAirport                int8\n",
       "dir_320_originAirport                int8\n",
       "Visibility_destAirport            float32\n",
       "DryBulbCelsius_destAirport        float32\n",
       "WetBulbCelsius_destAirport        float32\n",
       "DewPointCelsius_destAirport       float32\n",
       "RelativeHumidity_destAirport      float32\n",
       "WindSpeed_destAirport                int8\n",
       "StationPressure_destAirport       float32\n",
       "dir_VR_destAirport                   int8\n",
       "dir_0_destAirport                    int8\n",
       "dir_40_destAirport                   int8\n",
       "dir_80_destAirport                   int8\n",
       "dir_120_destAirport                  int8\n",
       "dir_160_destAirport                  int8\n",
       "dir_200_destAirport                  int8\n",
       "dir_240_destAirport                  int8\n",
       "dir_280_destAirport                  int8\n",
       "dir_320_destAirport                  int8\n",
       "dtype: object"
      ]
     },
     "execution_count": 118,
     "metadata": {
      "tags": []
     },
     "output_type": "execute_result"
    }
   ],
   "source": [
    "delays.dtypes"
   ]
  },
  {
   "cell_type": "code",
   "execution_count": 119,
   "metadata": {
    "colab": {
     "base_uri": "https://localhost:8080/",
     "height": 101
    },
    "colab_type": "code",
    "collapsed": false,
    "executionInfo": {
     "elapsed": 765,
     "status": "ok",
     "timestamp": 1538999922655,
     "user": {
      "displayName": "Pieter Sap",
      "photoUrl": "",
      "userId": "15749761891409076289"
     },
     "user_tz": -120
    },
    "id": "Ok5tuoaZq3Hg",
    "outputId": "b114e73c-1918-42a9-8aab-457cb82e4600"
   },
   "outputs": [
    {
     "name": "stdout",
     "output_type": "stream",
     "text": [
      "<class 'pandas.core.frame.DataFrame'>\n",
      "Int64Index: 2138043 entries, 0 to 2719417\n",
      "Columns: 53 entries, OriginAirportID to dir_320_destAirport\n",
      "dtypes: float32(12), int16(2), int8(39)\n",
      "memory usage: 201.9 MB\n"
     ]
    }
   ],
   "source": [
    "delays.info(memory_usage='deep',max_cols=1)"
   ]
  },
  {
   "cell_type": "markdown",
   "metadata": {
    "colab_type": "text",
    "id": "NGKB7-q2rno4"
   },
   "source": [
    "Now, we must one-hot-encode the destination and origin airport ID's. Since there are 64 options for each, this will introduce 128 new one-hot features!"
   ]
  },
  {
   "cell_type": "code",
   "execution_count": 120,
   "metadata": {
    "colab": {
     "base_uri": "https://localhost:8080/",
     "height": 50
    },
    "colab_type": "code",
    "collapsed": false,
    "executionInfo": {
     "elapsed": 515,
     "status": "ok",
     "timestamp": 1538999923800,
     "user": {
      "displayName": "Pieter Sap",
      "photoUrl": "",
      "userId": "15749761891409076289"
     },
     "user_tz": -120
    },
    "id": "SJsnAXOHsWCO",
    "outputId": "7f96d951-a33d-4848-a4fc-c2ebf210966d"
   },
   "outputs": [
    {
     "name": "stdout",
     "output_type": "stream",
     "text": [
      "unique origin airports: 64\n",
      "unique destination airports: 64\n"
     ]
    }
   ],
   "source": [
    "print(\"unique origin airports: {0}\".format(delays[\"OriginAirportID\"].unique().shape[0]))\n",
    "print(\"unique destination airports: {0}\".format(delays[\"DestAirportID\"].unique().shape[0]))"
   ]
  },
  {
   "cell_type": "code",
   "execution_count": 0,
   "metadata": {
    "colab": {},
    "colab_type": "code",
    "collapsed": true,
    "id": "POxHBRfHrskS"
   },
   "outputs": [],
   "source": [
    "#this might take a few minutes...\n",
    "delays = one_hot(delays,[\"OriginAirportID\",\"DestAirportID\"])"
   ]
  },
  {
   "cell_type": "markdown",
   "metadata": {
    "colab_type": "text",
    "id": "FzztioTowpyM"
   },
   "source": [
    "Our resulting dataset has 61 columns (60 feature columns and one target output). Our data preprocessing was limited to one-hot-encoding, cleaning the data, and doing some manipulations on the time information. No advanced feature engineering was done."
   ]
  },
  {
   "cell_type": "code",
   "execution_count": 122,
   "metadata": {
    "colab": {
     "base_uri": "https://localhost:8080/",
     "height": 244
    },
    "colab_type": "code",
    "collapsed": false,
    "executionInfo": {
     "elapsed": 499,
     "status": "ok",
     "timestamp": 1539000033507,
     "user": {
      "displayName": "Pieter Sap",
      "photoUrl": "",
      "userId": "15749761891409076289"
     },
     "user_tz": -120
    },
    "id": "_GdLhu39vRVH",
    "outputId": "0c0282a5-3790-4ceb-aacd-55ba2126fe58"
   },
   "outputs": [
    {
     "data": {
      "text/html": [
       "<div>\n",
       "<style scoped>\n",
       "    .dataframe tbody tr th:only-of-type {\n",
       "        vertical-align: middle;\n",
       "    }\n",
       "\n",
       "    .dataframe tbody tr th {\n",
       "        vertical-align: top;\n",
       "    }\n",
       "\n",
       "    .dataframe thead th {\n",
       "        text-align: right;\n",
       "    }\n",
       "</style>\n",
       "<table border=\"1\" class=\"dataframe\">\n",
       "  <thead>\n",
       "    <tr style=\"text-align: right;\">\n",
       "      <th></th>\n",
       "      <th>OriginAirportID</th>\n",
       "      <th>DestAirportID</th>\n",
       "      <th>ArrDel15</th>\n",
       "      <th>Carrier_0</th>\n",
       "      <th>Carrier_1</th>\n",
       "      <th>Carrier_2</th>\n",
       "      <th>Carrier_3</th>\n",
       "      <th>Carrier_4</th>\n",
       "      <th>Carrier_5</th>\n",
       "      <th>Carrier_6</th>\n",
       "      <th>...</th>\n",
       "      <th>DestAirportID_54</th>\n",
       "      <th>DestAirportID_55</th>\n",
       "      <th>DestAirportID_56</th>\n",
       "      <th>DestAirportID_57</th>\n",
       "      <th>DestAirportID_58</th>\n",
       "      <th>DestAirportID_59</th>\n",
       "      <th>DestAirportID_60</th>\n",
       "      <th>DestAirportID_61</th>\n",
       "      <th>DestAirportID_62</th>\n",
       "      <th>DestAirportID_63</th>\n",
       "    </tr>\n",
       "  </thead>\n",
       "  <tbody>\n",
       "    <tr>\n",
       "      <th>0</th>\n",
       "      <td>11433</td>\n",
       "      <td>13303</td>\n",
       "      <td>0</td>\n",
       "      <td>1</td>\n",
       "      <td>0</td>\n",
       "      <td>0</td>\n",
       "      <td>0</td>\n",
       "      <td>0</td>\n",
       "      <td>0</td>\n",
       "      <td>0</td>\n",
       "      <td>...</td>\n",
       "      <td>0</td>\n",
       "      <td>0</td>\n",
       "      <td>0</td>\n",
       "      <td>0</td>\n",
       "      <td>0</td>\n",
       "      <td>0</td>\n",
       "      <td>0</td>\n",
       "      <td>0</td>\n",
       "      <td>0</td>\n",
       "      <td>0</td>\n",
       "    </tr>\n",
       "    <tr>\n",
       "      <th>1</th>\n",
       "      <td>14869</td>\n",
       "      <td>12478</td>\n",
       "      <td>0</td>\n",
       "      <td>1</td>\n",
       "      <td>0</td>\n",
       "      <td>0</td>\n",
       "      <td>0</td>\n",
       "      <td>0</td>\n",
       "      <td>0</td>\n",
       "      <td>0</td>\n",
       "      <td>...</td>\n",
       "      <td>0</td>\n",
       "      <td>0</td>\n",
       "      <td>0</td>\n",
       "      <td>0</td>\n",
       "      <td>0</td>\n",
       "      <td>0</td>\n",
       "      <td>0</td>\n",
       "      <td>0</td>\n",
       "      <td>0</td>\n",
       "      <td>0</td>\n",
       "    </tr>\n",
       "    <tr>\n",
       "      <th>2</th>\n",
       "      <td>14057</td>\n",
       "      <td>14869</td>\n",
       "      <td>0</td>\n",
       "      <td>1</td>\n",
       "      <td>0</td>\n",
       "      <td>0</td>\n",
       "      <td>0</td>\n",
       "      <td>0</td>\n",
       "      <td>0</td>\n",
       "      <td>0</td>\n",
       "      <td>...</td>\n",
       "      <td>0</td>\n",
       "      <td>0</td>\n",
       "      <td>0</td>\n",
       "      <td>0</td>\n",
       "      <td>0</td>\n",
       "      <td>0</td>\n",
       "      <td>0</td>\n",
       "      <td>0</td>\n",
       "      <td>0</td>\n",
       "      <td>0</td>\n",
       "    </tr>\n",
       "    <tr>\n",
       "      <th>3</th>\n",
       "      <td>15016</td>\n",
       "      <td>11433</td>\n",
       "      <td>1</td>\n",
       "      <td>1</td>\n",
       "      <td>0</td>\n",
       "      <td>0</td>\n",
       "      <td>0</td>\n",
       "      <td>0</td>\n",
       "      <td>0</td>\n",
       "      <td>0</td>\n",
       "      <td>...</td>\n",
       "      <td>0</td>\n",
       "      <td>0</td>\n",
       "      <td>0</td>\n",
       "      <td>0</td>\n",
       "      <td>0</td>\n",
       "      <td>0</td>\n",
       "      <td>0</td>\n",
       "      <td>0</td>\n",
       "      <td>0</td>\n",
       "      <td>0</td>\n",
       "    </tr>\n",
       "    <tr>\n",
       "      <th>5</th>\n",
       "      <td>10397</td>\n",
       "      <td>15016</td>\n",
       "      <td>0</td>\n",
       "      <td>1</td>\n",
       "      <td>0</td>\n",
       "      <td>0</td>\n",
       "      <td>0</td>\n",
       "      <td>0</td>\n",
       "      <td>0</td>\n",
       "      <td>0</td>\n",
       "      <td>...</td>\n",
       "      <td>0</td>\n",
       "      <td>0</td>\n",
       "      <td>0</td>\n",
       "      <td>0</td>\n",
       "      <td>0</td>\n",
       "      <td>0</td>\n",
       "      <td>0</td>\n",
       "      <td>0</td>\n",
       "      <td>0</td>\n",
       "      <td>0</td>\n",
       "    </tr>\n",
       "  </tbody>\n",
       "</table>\n",
       "<p>5 rows × 181 columns</p>\n",
       "</div>"
      ],
      "text/plain": [
       "   OriginAirportID  DestAirportID  ArrDel15  Carrier_0  Carrier_1  Carrier_2  \\\n",
       "0            11433          13303         0          1          0          0   \n",
       "1            14869          12478         0          1          0          0   \n",
       "2            14057          14869         0          1          0          0   \n",
       "3            15016          11433         1          1          0          0   \n",
       "5            10397          15016         0          1          0          0   \n",
       "\n",
       "   Carrier_3  Carrier_4  Carrier_5  Carrier_6        ...         \\\n",
       "0          0          0          0          0        ...          \n",
       "1          0          0          0          0        ...          \n",
       "2          0          0          0          0        ...          \n",
       "3          0          0          0          0        ...          \n",
       "5          0          0          0          0        ...          \n",
       "\n",
       "   DestAirportID_54  DestAirportID_55  DestAirportID_56  DestAirportID_57  \\\n",
       "0                 0                 0                 0                 0   \n",
       "1                 0                 0                 0                 0   \n",
       "2                 0                 0                 0                 0   \n",
       "3                 0                 0                 0                 0   \n",
       "5                 0                 0                 0                 0   \n",
       "\n",
       "   DestAirportID_58  DestAirportID_59  DestAirportID_60  DestAirportID_61  \\\n",
       "0                 0                 0                 0                 0   \n",
       "1                 0                 0                 0                 0   \n",
       "2                 0                 0                 0                 0   \n",
       "3                 0                 0                 0                 0   \n",
       "5                 0                 0                 0                 0   \n",
       "\n",
       "   DestAirportID_62  DestAirportID_63  \n",
       "0                 0                 0  \n",
       "1                 0                 0  \n",
       "2                 0                 0  \n",
       "3                 0                 0  \n",
       "5                 0                 0  \n",
       "\n",
       "[5 rows x 181 columns]"
      ]
     },
     "execution_count": 122,
     "metadata": {
      "tags": []
     },
     "output_type": "execute_result"
    }
   ],
   "source": [
    "delays.head(5)"
   ]
  },
  {
   "cell_type": "code",
   "execution_count": 123,
   "metadata": {
    "colab": {
     "base_uri": "https://localhost:8080/",
     "height": 101
    },
    "colab_type": "code",
    "collapsed": false,
    "executionInfo": {
     "elapsed": 485,
     "status": "ok",
     "timestamp": 1539000034480,
     "user": {
      "displayName": "Pieter Sap",
      "photoUrl": "",
      "userId": "15749761891409076289"
     },
     "user_tz": -120
    },
    "id": "r-RXZZZIvTru",
    "outputId": "c157f79f-f195-468b-8e82-4db56e6dd300"
   },
   "outputs": [
    {
     "name": "stdout",
     "output_type": "stream",
     "text": [
      "<class 'pandas.core.frame.DataFrame'>\n",
      "Int64Index: 2138043 entries, 0 to 2719417\n",
      "Columns: 181 entries, OriginAirportID to DestAirportID_63\n",
      "dtypes: float32(12), int16(2), int8(167)\n",
      "memory usage: 462.9 MB\n"
     ]
    }
   ],
   "source": [
    "delays.info(memory_usage='deep')"
   ]
  },
  {
   "cell_type": "code",
   "execution_count": 124,
   "metadata": {
    "colab": {
     "base_uri": "https://localhost:8080/",
     "height": 170
    },
    "colab_type": "code",
    "collapsed": false,
    "executionInfo": {
     "elapsed": 629,
     "status": "ok",
     "timestamp": 1539000035521,
     "user": {
      "displayName": "Pieter Sap",
      "photoUrl": "",
      "userId": "15749761891409076289"
     },
     "user_tz": -120
    },
    "id": "wCniCAagvYW9",
    "outputId": "c0558f56-526b-491d-96a7-cb3efae8b2ce"
   },
   "outputs": [
    {
     "data": {
      "text/plain": [
       "Index([u'OriginAirportID', u'DestAirportID', u'ArrDel15', u'Carrier_0',\n",
       "       u'Carrier_1', u'Carrier_2', u'Carrier_3', u'Carrier_4', u'Carrier_5',\n",
       "       u'Carrier_6',\n",
       "       ...\n",
       "       u'DestAirportID_54', u'DestAirportID_55', u'DestAirportID_56',\n",
       "       u'DestAirportID_57', u'DestAirportID_58', u'DestAirportID_59',\n",
       "       u'DestAirportID_60', u'DestAirportID_61', u'DestAirportID_62',\n",
       "       u'DestAirportID_63'],\n",
       "      dtype='object', length=181)"
      ]
     },
     "execution_count": 124,
     "metadata": {
      "tags": []
     },
     "output_type": "execute_result"
    }
   ],
   "source": [
    "delays.columns"
   ]
  },
  {
   "cell_type": "markdown",
   "metadata": {
    "colab_type": "text",
    "id": "D53uAMO6v1wo"
   },
   "source": [
    "Our target variable is **ArrDel15**, a binary (0 or 1) indicating wether or not the flight arrives at least 15 minutes late."
   ]
  },
  {
   "cell_type": "code",
   "execution_count": 125,
   "metadata": {
    "colab": {
     "base_uri": "https://localhost:8080/",
     "height": 119
    },
    "colab_type": "code",
    "collapsed": false,
    "executionInfo": {
     "elapsed": 726,
     "status": "ok",
     "timestamp": 1539000042753,
     "user": {
      "displayName": "Pieter Sap",
      "photoUrl": "",
      "userId": "15749761891409076289"
     },
     "user_tz": -120
    },
    "id": "9h3HkA_PwDER",
    "outputId": "37c83e22-ffc3-4ea3-cf38-38f66912ae00"
   },
   "outputs": [
    {
     "data": {
      "text/plain": [
       "0    0\n",
       "1    0\n",
       "2    0\n",
       "3    1\n",
       "5    0\n",
       "Name: ArrDel15, dtype: int8"
      ]
     },
     "execution_count": 125,
     "metadata": {
      "tags": []
     },
     "output_type": "execute_result"
    }
   ],
   "source": [
    "delays[\"ArrDel15\"].head()"
   ]
  },
  {
   "cell_type": "code",
   "execution_count": 0,
   "metadata": {
    "colab": {},
    "colab_type": "code",
    "collapsed": true,
    "id": "gQZWKHosdBuS"
   },
   "outputs": [],
   "source": [
    "# saving the cleaned dataframe to a CSV file. We will use it later.\n",
    "\n",
    "delays.to_csv(\"/content/drive/My Drive/xylosai/regression/FlightDelaysData_clean.csv\")"
   ]
  },
  {
   "cell_type": "markdown",
   "metadata": {
    "colab_type": "text",
    "id": "gspykWhRwWzM"
   },
   "source": [
    "# 7 Logistic regression"
   ]
  },
  {
   "cell_type": "markdown",
   "metadata": {
    "colab_type": "text",
    "id": "XO3wgfjQxQIU"
   },
   "source": [
    "## 7.1 Introduction\n",
    "\n",
    "In this notebook we will build a binary classifier using logistic regression. Our goal is to build a model that is able to determine wether or not a commercial aircraft flight will be delayed or not, based on information such as the weather conditions and the carrier of the flight.\n",
    "\n",
    "In logistic regression for binary classification, there are only 2 classes: 1 and 0. An output Z is calculated as a linear function of the features. The result of this is \"activated\" with a softmax activation function, causing the resulting output to fall in the interval ]0,1[, interpreted as a probability P(Y'=1). Then, at prediction time, we will predict \"1\" if the output is above some threshold (usually 0.5).\n",
    "\n",
    "$Z = w_0 + w_1h_1 + w_2h_2 + ... + w_nh_n$\n",
    "\n",
    "$Y' =  sigmoid(Z) = 1/(1+exp(-Z)$\n",
    "\n",
    "\n",
    "Logistic regression is a **linear classifier**. It can only find a linear decision boundary in the features $h_i$. In general, features are any function of the \"raw\" inputs $x_i$. This allows to learn a non-linear relationship between output and input. In our case, the features are all the columns in the dataset (except for the target column).\n",
    "\n",
    "\n",
    "\n"
   ]
  },
  {
   "cell_type": "markdown",
   "metadata": {
    "colab_type": "text",
    "id": "z75OjcQ-arcm"
   },
   "source": [
    "## 7.2 The implications of linearity\n",
    "\n",
    "The implications of linearity can be explained better with the **WindDirection** input. It is reasonable to assume that the wind direction has an influence on flight delays. Maybe, if the wind direction is perpendicular to the direction of take-off, take-off might be impeded. \n",
    "\n",
    "The possible values for the wind direction range from 0° to 360° plus some 'VR' case. Going back to our formula, if one of the features was the winddirection, a weight must be learned that encodes the influence of wind direction. \n",
    "\n",
    "Learning a positive weight would mean that a \"high\" degree (closer to 360°) causes flight delay. Then, $Z$ will be higher so that the output $Y'$ is close to one, leading to a prediction of 1 (1 = delay, 0 = no delay). \n",
    "\n",
    "Generally, there is no reason to believe that a \"high\" degree (close to 360°) is better for take-off then a \"low degree\" (close to 0°). With feature engineering, we could find a non-linear relationship with wind direction, but then we still have no way to deal with the 'VR' case.\n",
    "\n",
    "But we have one-hot-encoded our wind direction in ranges of 40°. Each of these one-hot-encoded features has its own weight. If the wind direction is 165°, only the weight of the one-hot-encoded feature **dir_160** will influence the outcome, since all other one-hot-encoded features are zero. This way, the model can learn that, for example, a wind direction of 160° causes delay (a high weight) and wind directions close to 0° or close to 360° are less likely to cause delay (a low weight).\n",
    "\n",
    "This could work if there was only airport in the dataset. But our model - and its weights - applies to all airports in the dataset. Different airports have a different orientation. A wind direction of 165° degree might be beneficial for one airport, but not for the other. Therefore, it is unlikely to assume that weights can be learned that work for all airports. In order to truly take into account the wind direction, some single feature $h_i$ should be engineered that is a function of both airportID and wind direction simultaneously. It is unclear how this feature should look. **It looks like taking into account wind direction is not easily done with a linear classifier like logistic regression...**. For logistic regression, we will drop features related to wind direction (**dir_0** to **dir_320**.)\n",
    "\n",
    "We will later see that the problem of manual feature engineering is addressed with neural networks. Neural networks are able to find non-linear relationships between input and output, without feature engineering. With neural networks, wind direction would not even have to be one-hot-encoded if consisted of only numerical value and it did not contain the weird 'VR' value. Unfortunately, because of this 'VR' value, we will keep the one-hot-encoded wind direction features even for the neural network example later.\n",
    "\n"
   ]
  },
  {
   "cell_type": "markdown",
   "metadata": {
    "colab_type": "text",
    "id": "_yYWouU-769X"
   },
   "source": [
    "## 7.3 Building a first model\n",
    "\n",
    "Drop columns related to wind direction."
   ]
  },
  {
   "cell_type": "code",
   "execution_count": 0,
   "metadata": {
    "colab": {},
    "colab_type": "code",
    "collapsed": true,
    "id": "_-6nGLkH8rAR"
   },
   "outputs": [],
   "source": [
    "#might be needed to conserve memory\n",
    "del weather"
   ]
  },
  {
   "cell_type": "code",
   "execution_count": 0,
   "metadata": {
    "colab": {},
    "colab_type": "code",
    "collapsed": true,
    "id": "ymfHaIJe-xIK"
   },
   "outputs": [],
   "source": [
    "from sklearn.linear_model import LogisticRegression"
   ]
  },
  {
   "cell_type": "code",
   "execution_count": 0,
   "metadata": {
    "colab": {},
    "colab_type": "code",
    "collapsed": true,
    "id": "wq-G7MNHwWHw"
   },
   "outputs": [],
   "source": [
    "def isDirectionColumn(columnName):\n",
    "    if \"dir_\" in columnName:\n",
    "      return True\n",
    "    else:\n",
    "      return False\n",
    "    \n"
   ]
  },
  {
   "cell_type": "code",
   "execution_count": 0,
   "metadata": {
    "colab": {},
    "colab_type": "code",
    "collapsed": true,
    "id": "EhlK4ChfwWES"
   },
   "outputs": [],
   "source": [
    "directionColumns = filter(isDirectionColumn,list(delays.columns))"
   ]
  },
  {
   "cell_type": "code",
   "execution_count": 0,
   "metadata": {
    "colab": {},
    "colab_type": "code",
    "collapsed": true,
    "id": "U1qKX4hTwWAV"
   },
   "outputs": [],
   "source": [
    "delays = delays.drop(columns = directionColumns) #note: inplace = False (default)\n"
   ]
  },
  {
   "cell_type": "code",
   "execution_count": 133,
   "metadata": {
    "colab": {
     "base_uri": "https://localhost:8080/",
     "height": 253
    },
    "colab_type": "code",
    "collapsed": false,
    "executionInfo": {
     "elapsed": 587,
     "status": "ok",
     "timestamp": 1538990615665,
     "user": {
      "displayName": "Pieter Sap",
      "photoUrl": "",
      "userId": "15749761891409076289"
     },
     "user_tz": -120
    },
    "id": "n8rQ0Mik8l2v",
    "outputId": "30a0d382-5041-4a46-9f89-51e9870c28e7"
   },
   "outputs": [
    {
     "data": {
      "text/html": [
       "<div>\n",
       "<style scoped>\n",
       "    .dataframe tbody tr th:only-of-type {\n",
       "        vertical-align: middle;\n",
       "    }\n",
       "\n",
       "    .dataframe tbody tr th {\n",
       "        vertical-align: top;\n",
       "    }\n",
       "\n",
       "    .dataframe thead th {\n",
       "        text-align: right;\n",
       "    }\n",
       "</style>\n",
       "<table border=\"1\" class=\"dataframe\">\n",
       "  <thead>\n",
       "    <tr style=\"text-align: right;\">\n",
       "      <th></th>\n",
       "      <th>OriginAirportID</th>\n",
       "      <th>DestAirportID</th>\n",
       "      <th>ArrDel15</th>\n",
       "      <th>Carrier_0</th>\n",
       "      <th>Carrier_1</th>\n",
       "      <th>Carrier_2</th>\n",
       "      <th>Carrier_3</th>\n",
       "      <th>Carrier_4</th>\n",
       "      <th>Carrier_5</th>\n",
       "      <th>Carrier_6</th>\n",
       "      <th>...</th>\n",
       "      <th>DestAirportID_54</th>\n",
       "      <th>DestAirportID_55</th>\n",
       "      <th>DestAirportID_56</th>\n",
       "      <th>DestAirportID_57</th>\n",
       "      <th>DestAirportID_58</th>\n",
       "      <th>DestAirportID_59</th>\n",
       "      <th>DestAirportID_60</th>\n",
       "      <th>DestAirportID_61</th>\n",
       "      <th>DestAirportID_62</th>\n",
       "      <th>DestAirportID_63</th>\n",
       "    </tr>\n",
       "  </thead>\n",
       "  <tbody>\n",
       "    <tr>\n",
       "      <th>0</th>\n",
       "      <td>11433</td>\n",
       "      <td>13303</td>\n",
       "      <td>0</td>\n",
       "      <td>1</td>\n",
       "      <td>0</td>\n",
       "      <td>0</td>\n",
       "      <td>0</td>\n",
       "      <td>0</td>\n",
       "      <td>0</td>\n",
       "      <td>0</td>\n",
       "      <td>...</td>\n",
       "      <td>0</td>\n",
       "      <td>0</td>\n",
       "      <td>0</td>\n",
       "      <td>0</td>\n",
       "      <td>0</td>\n",
       "      <td>0</td>\n",
       "      <td>0</td>\n",
       "      <td>0</td>\n",
       "      <td>0</td>\n",
       "      <td>0</td>\n",
       "    </tr>\n",
       "    <tr>\n",
       "      <th>1</th>\n",
       "      <td>14869</td>\n",
       "      <td>12478</td>\n",
       "      <td>0</td>\n",
       "      <td>1</td>\n",
       "      <td>0</td>\n",
       "      <td>0</td>\n",
       "      <td>0</td>\n",
       "      <td>0</td>\n",
       "      <td>0</td>\n",
       "      <td>0</td>\n",
       "      <td>...</td>\n",
       "      <td>0</td>\n",
       "      <td>0</td>\n",
       "      <td>0</td>\n",
       "      <td>0</td>\n",
       "      <td>0</td>\n",
       "      <td>0</td>\n",
       "      <td>0</td>\n",
       "      <td>0</td>\n",
       "      <td>0</td>\n",
       "      <td>0</td>\n",
       "    </tr>\n",
       "    <tr>\n",
       "      <th>2</th>\n",
       "      <td>14057</td>\n",
       "      <td>14869</td>\n",
       "      <td>0</td>\n",
       "      <td>1</td>\n",
       "      <td>0</td>\n",
       "      <td>0</td>\n",
       "      <td>0</td>\n",
       "      <td>0</td>\n",
       "      <td>0</td>\n",
       "      <td>0</td>\n",
       "      <td>...</td>\n",
       "      <td>0</td>\n",
       "      <td>0</td>\n",
       "      <td>0</td>\n",
       "      <td>0</td>\n",
       "      <td>0</td>\n",
       "      <td>0</td>\n",
       "      <td>0</td>\n",
       "      <td>0</td>\n",
       "      <td>0</td>\n",
       "      <td>0</td>\n",
       "    </tr>\n",
       "    <tr>\n",
       "      <th>3</th>\n",
       "      <td>15016</td>\n",
       "      <td>11433</td>\n",
       "      <td>1</td>\n",
       "      <td>1</td>\n",
       "      <td>0</td>\n",
       "      <td>0</td>\n",
       "      <td>0</td>\n",
       "      <td>0</td>\n",
       "      <td>0</td>\n",
       "      <td>0</td>\n",
       "      <td>...</td>\n",
       "      <td>0</td>\n",
       "      <td>0</td>\n",
       "      <td>0</td>\n",
       "      <td>0</td>\n",
       "      <td>0</td>\n",
       "      <td>0</td>\n",
       "      <td>0</td>\n",
       "      <td>0</td>\n",
       "      <td>0</td>\n",
       "      <td>0</td>\n",
       "    </tr>\n",
       "    <tr>\n",
       "      <th>5</th>\n",
       "      <td>10397</td>\n",
       "      <td>15016</td>\n",
       "      <td>0</td>\n",
       "      <td>1</td>\n",
       "      <td>0</td>\n",
       "      <td>0</td>\n",
       "      <td>0</td>\n",
       "      <td>0</td>\n",
       "      <td>0</td>\n",
       "      <td>0</td>\n",
       "      <td>...</td>\n",
       "      <td>0</td>\n",
       "      <td>0</td>\n",
       "      <td>0</td>\n",
       "      <td>0</td>\n",
       "      <td>0</td>\n",
       "      <td>0</td>\n",
       "      <td>0</td>\n",
       "      <td>0</td>\n",
       "      <td>0</td>\n",
       "      <td>0</td>\n",
       "    </tr>\n",
       "  </tbody>\n",
       "</table>\n",
       "<p>5 rows × 161 columns</p>\n",
       "</div>"
      ],
      "text/plain": [
       "   OriginAirportID  DestAirportID  ArrDel15  Carrier_0  Carrier_1  Carrier_2  \\\n",
       "0            11433          13303         0          1          0          0   \n",
       "1            14869          12478         0          1          0          0   \n",
       "2            14057          14869         0          1          0          0   \n",
       "3            15016          11433         1          1          0          0   \n",
       "5            10397          15016         0          1          0          0   \n",
       "\n",
       "   Carrier_3  Carrier_4  Carrier_5  Carrier_6        ...         \\\n",
       "0          0          0          0          0        ...          \n",
       "1          0          0          0          0        ...          \n",
       "2          0          0          0          0        ...          \n",
       "3          0          0          0          0        ...          \n",
       "5          0          0          0          0        ...          \n",
       "\n",
       "   DestAirportID_54  DestAirportID_55  DestAirportID_56  DestAirportID_57  \\\n",
       "0                 0                 0                 0                 0   \n",
       "1                 0                 0                 0                 0   \n",
       "2                 0                 0                 0                 0   \n",
       "3                 0                 0                 0                 0   \n",
       "5                 0                 0                 0                 0   \n",
       "\n",
       "   DestAirportID_58  DestAirportID_59  DestAirportID_60  DestAirportID_61  \\\n",
       "0                 0                 0                 0                 0   \n",
       "1                 0                 0                 0                 0   \n",
       "2                 0                 0                 0                 0   \n",
       "3                 0                 0                 0                 0   \n",
       "5                 0                 0                 0                 0   \n",
       "\n",
       "   DestAirportID_62  DestAirportID_63  \n",
       "0                 0                 0  \n",
       "1                 0                 0  \n",
       "2                 0                 0  \n",
       "3                 0                 0  \n",
       "5                 0                 0  \n",
       "\n",
       "[5 rows x 161 columns]"
      ]
     },
     "execution_count": 133,
     "metadata": {
      "tags": []
     },
     "output_type": "execute_result"
    }
   ],
   "source": [
    "delays.head()"
   ]
  },
  {
   "cell_type": "code",
   "execution_count": 134,
   "metadata": {
    "colab": {
     "base_uri": "https://localhost:8080/",
     "height": 170
    },
    "colab_type": "code",
    "collapsed": false,
    "executionInfo": {
     "elapsed": 570,
     "status": "ok",
     "timestamp": 1538990616664,
     "user": {
      "displayName": "Pieter Sap",
      "photoUrl": "",
      "userId": "15749761891409076289"
     },
     "user_tz": -120
    },
    "id": "dV8ixRNN9WMV",
    "outputId": "43f443fe-7d1a-4ee9-dfd2-508241bea90c"
   },
   "outputs": [
    {
     "data": {
      "text/plain": [
       "Index([u'OriginAirportID', u'DestAirportID', u'ArrDel15', u'Carrier_0',\n",
       "       u'Carrier_1', u'Carrier_2', u'Carrier_3', u'Carrier_4', u'Carrier_5',\n",
       "       u'Carrier_6',\n",
       "       ...\n",
       "       u'DestAirportID_54', u'DestAirportID_55', u'DestAirportID_56',\n",
       "       u'DestAirportID_57', u'DestAirportID_58', u'DestAirportID_59',\n",
       "       u'DestAirportID_60', u'DestAirportID_61', u'DestAirportID_62',\n",
       "       u'DestAirportID_63'],\n",
       "      dtype='object', length=161)"
      ]
     },
     "execution_count": 134,
     "metadata": {
      "tags": []
     },
     "output_type": "execute_result"
    }
   ],
   "source": [
    "delays.columns"
   ]
  },
  {
   "cell_type": "code",
   "execution_count": 0,
   "metadata": {
    "colab": {},
    "colab_type": "code",
    "collapsed": true,
    "id": "vOqniqLn9z-Q"
   },
   "outputs": [],
   "source": [
    "Y = delays[\"ArrDel15\"].astype(np.float64)\n",
    "X = delays.drop(columns=[\"ArrDel15\"]).astype(np.float64)"
   ]
  },
  {
   "cell_type": "code",
   "execution_count": 0,
   "metadata": {
    "colab": {},
    "colab_type": "code",
    "collapsed": true,
    "id": "NLtsUe0EBhIR"
   },
   "outputs": [],
   "source": [
    "X_train, X_test, Y_train, Y_test = train_test_split(X,Y,random_state=0,test_size = 0.10)"
   ]
  },
  {
   "cell_type": "markdown",
   "metadata": {
    "colab_type": "text",
    "id": "QKwthofy_dSV"
   },
   "source": [
    "Creating a model. Read the [documentation](http://scikit-learn.org/stable/modules/generated/sklearn.linear_model.LogisticRegression.html) for logistic regression in sklearn. Are we applying any regularization?"
   ]
  },
  {
   "cell_type": "code",
   "execution_count": 137,
   "metadata": {
    "colab": {
     "base_uri": "https://localhost:8080/",
     "height": 85
    },
    "colab_type": "code",
    "collapsed": false,
    "executionInfo": {
     "elapsed": 31085,
     "status": "ok",
     "timestamp": 1538990664163,
     "user": {
      "displayName": "Pieter Sap",
      "photoUrl": "",
      "userId": "15749761891409076289"
     },
     "user_tz": -120
    },
    "id": "SG2c1YrZ-h2z",
    "outputId": "8d85ffbf-f858-49f9-8158-e0f2ed8a9747"
   },
   "outputs": [
    {
     "data": {
      "text/plain": [
       "LogisticRegression(C=1.0, class_weight=None, dual=False, fit_intercept=True,\n",
       "          intercept_scaling=1, max_iter=100, multi_class='ovr', n_jobs=1,\n",
       "          penalty='l2', random_state=0, solver='liblinear', tol=0.0001,\n",
       "          verbose=0, warm_start=False)"
      ]
     },
     "execution_count": 137,
     "metadata": {
      "tags": []
     },
     "output_type": "execute_result"
    }
   ],
   "source": [
    "model_logreg = LogisticRegression(random_state = 0)\n",
    "model_logreg.fit(X_train,Y_train)"
   ]
  },
  {
   "cell_type": "markdown",
   "metadata": {
    "colab_type": "text",
    "id": "OaHGRIOLBIBw"
   },
   "source": [
    "## 7.4 Evaluating the model\n",
    "\n",
    "the score() method returns the accuracy of a model on a dataset. As usual, we evaluate our model on the unseen **test set**"
   ]
  },
  {
   "cell_type": "code",
   "execution_count": 138,
   "metadata": {
    "colab": {
     "base_uri": "https://localhost:8080/",
     "height": 34
    },
    "colab_type": "code",
    "collapsed": false,
    "executionInfo": {
     "elapsed": 694,
     "status": "ok",
     "timestamp": 1538990665785,
     "user": {
      "displayName": "Pieter Sap",
      "photoUrl": "",
      "userId": "15749761891409076289"
     },
     "user_tz": -120
    },
    "id": "NN-f8Yj-AT8q",
    "outputId": "97dc1282-c8b9-45c8-e5ec-a9f9afdf8447"
   },
   "outputs": [
    {
     "name": "stdout",
     "output_type": "stream",
     "text": [
      "Accuracy: 0.787699071584\n"
     ]
    }
   ],
   "source": [
    "accuracy = model_logreg.score(X_test,Y_test)\n",
    "print(\"Accuracy: {0}\".format(accuracy))"
   ]
  },
  {
   "cell_type": "code",
   "execution_count": 139,
   "metadata": {
    "colab": {
     "base_uri": "https://localhost:8080/",
     "height": 34
    },
    "colab_type": "code",
    "collapsed": false,
    "executionInfo": {
     "elapsed": 1183,
     "status": "ok",
     "timestamp": 1538990667391,
     "user": {
      "displayName": "Pieter Sap",
      "photoUrl": "",
      "userId": "15749761891409076289"
     },
     "user_tz": -120
    },
    "id": "dpIrH-pECVbW",
    "outputId": "0f29c178-53ce-44a5-f1c2-519f69edc6f7"
   },
   "outputs": [
    {
     "name": "stdout",
     "output_type": "stream",
     "text": [
      "fraction of flights that are on time: 0.787729713575\n"
     ]
    }
   ],
   "source": [
    "perc_ontime = float(len(delays[delays[\"ArrDel15\"] == 0]))/len(delays)\n",
    "print(\"fraction of flights that are on time: {0}\".format(perc_ontime))"
   ]
  },
  {
   "cell_type": "markdown",
   "metadata": {
    "colab_type": "text",
    "id": "oT2jqeysCM9G"
   },
   "source": [
    "The accuracy of 79% is not a good performance indicator. Since 79% percent of the dataset is not-delayed (ArrDel15 = 0), a majority class classifier would achieve the same accuracy. Maybe the model has simply learned that basically all flights are on time?"
   ]
  },
  {
   "cell_type": "code",
   "execution_count": 140,
   "metadata": {
    "colab": {
     "base_uri": "https://localhost:8080/",
     "height": 51
    },
    "colab_type": "code",
    "collapsed": false,
    "executionInfo": {
     "elapsed": 505,
     "status": "ok",
     "timestamp": 1538990668591,
     "user": {
      "displayName": "Pieter Sap",
      "photoUrl": "",
      "userId": "15749761891409076289"
     },
     "user_tz": -120
    },
    "id": "kLhdWHjYDT9C",
    "outputId": "5697bb0e-230f-4e2b-ed73-d8a679f21984"
   },
   "outputs": [
    {
     "name": "stdout",
     "output_type": "stream",
     "text": [
      "predicted positive: 39\n",
      "predicted negative: 213766\n"
     ]
    }
   ],
   "source": [
    "predictions = model_logreg.predict(X_test)\n",
    "pred_positive = np.sum(predictions == 1)\n",
    "pred_negative = np.sum(predictions == 0)\n",
    "print(\"predicted positive: {0}\".format(pred_positive))\n",
    "print(\"predicted negative: {0}\".format(pred_negative))\n"
   ]
  },
  {
   "cell_type": "markdown",
   "metadata": {
    "colab_type": "text",
    "id": "3IGteMANUWqb"
   },
   "source": [
    "\n",
    "\n",
    "We calculate the Area Under the (ROC) Curve (AUC) using Sklearn's builtin functionality ([documentation](http://scikit-learn.org/stable/modules/generated/sklearn.linear_model.LogisticRegression.html#sklearn.linear_model.LogisticRegression.score)). First we must predict the probabilities without applying a threshold with [predict_proba](http://scikit-learn.org/stable/modules/generated/sklearn.linear_model.LogisticRegression.html#sklearn.linear_model.LogisticRegression.predict_proba). Predict_proba returns a Numpy array with the probabilities of each class, for each data point. The sum of each row (the sum of both columns in this case of binary classification) is one. "
   ]
  },
  {
   "cell_type": "code",
   "execution_count": 141,
   "metadata": {
    "colab": {
     "base_uri": "https://localhost:8080/",
     "height": 136
    },
    "colab_type": "code",
    "collapsed": false,
    "executionInfo": {
     "elapsed": 491,
     "status": "ok",
     "timestamp": 1538990669578,
     "user": {
      "displayName": "Pieter Sap",
      "photoUrl": "",
      "userId": "15749761891409076289"
     },
     "user_tz": -120
    },
    "id": "ofEOycLzUt8A",
    "outputId": "3a54daf3-9993-4393-c4ef-587a8676a00e"
   },
   "outputs": [
    {
     "data": {
      "text/plain": [
       "array([[0.8555124 , 0.1444876 ],\n",
       "       [0.86950966, 0.13049034],\n",
       "       [0.86317946, 0.13682054],\n",
       "       ...,\n",
       "       [0.80492105, 0.19507895],\n",
       "       [0.84264979, 0.15735021],\n",
       "       [0.69918622, 0.30081378]])"
      ]
     },
     "execution_count": 141,
     "metadata": {
      "tags": []
     },
     "output_type": "execute_result"
    }
   ],
   "source": [
    "Y_test_prob = model_logreg.predict_proba(X_test)\n",
    "Y_test_prob"
   ]
  },
  {
   "cell_type": "markdown",
   "metadata": {
    "colab_type": "text",
    "id": "tAyD4n3SXdO-"
   },
   "source": [
    "Our function for calculating AUC requires the probability estimates of the positive class, i.e. the second column of Y_test_prob (since columns are ordered by the label of classes, so the first column is class 0 and class 1)."
   ]
  },
  {
   "cell_type": "code",
   "execution_count": 142,
   "metadata": {
    "colab": {
     "base_uri": "https://localhost:8080/",
     "height": 34
    },
    "colab_type": "code",
    "collapsed": false,
    "executionInfo": {
     "elapsed": 805,
     "status": "ok",
     "timestamp": 1538990670888,
     "user": {
      "displayName": "Pieter Sap",
      "photoUrl": "",
      "userId": "15749761891409076289"
     },
     "user_tz": -120
    },
    "id": "VFe_gKFMWcqC",
    "outputId": "d7e56513-1bb8-4a1f-ea32-f3fa39a3d161"
   },
   "outputs": [
    {
     "name": "stdout",
     "output_type": "stream",
     "text": [
      "0.6110916171662042\n"
     ]
    }
   ],
   "source": [
    "auc = sklearn.metrics.roc_auc_score(Y_test,Y_test_prob[:,1])\n",
    "print(auc)"
   ]
  },
  {
   "cell_type": "markdown",
   "metadata": {
    "colab_type": "text",
    "id": "xUEx4MOFYPBM"
   },
   "source": [
    "We can also plot the roc curve of a binary classifier with the [roc_curve](http://scikit-learn.org/stable/modules/generated/sklearn.metrics.roc_curve.html) method and matplotlib. A **good classifier has**, for all thresholds, a **high true positive rate** while still maintaining a **low false positive rate**, i.e. a high area under the curve. A worthless random classifier (baseline) has AUC = 0.5 and is drawn as a 45° degree straight line: fpr and tpr are equal for any threshold. Let's plot our ROC curve together with the baseline. We create a function plotROC for this, since we will need to do this again later."
   ]
  },
  {
   "cell_type": "code",
   "execution_count": 0,
   "metadata": {
    "colab": {},
    "colab_type": "code",
    "collapsed": true,
    "id": "avh4UWGvYOV5"
   },
   "outputs": [],
   "source": [
    "fpr, tpr, tresholds = sklearn.metrics.roc_curve(Y_test, Y_test_prob[:,1])\n",
    " "
   ]
  },
  {
   "cell_type": "code",
   "execution_count": 0,
   "metadata": {
    "colab": {},
    "colab_type": "code",
    "collapsed": true,
    "id": "TwlH0W34bhKK"
   },
   "outputs": [],
   "source": [
    "def plotROC(fpr, tpr):\n",
    "  fig = plt.figure(figsize = (10,10))\n",
    "  plt.xlabel(\"false positive rate (FPR)\",fontsize = 15)\n",
    "  plt.ylabel(\"true positive rate (TPR)\",fontsize = 15)\n",
    "  plt.title(\"ROC curve\",fontsize=20)\n",
    "  plt.plot(fpr, tpr,\"b\",fpr, fpr, \"k:\")\n",
    "  plt.legend((\"ROC curve\",\"baseline\"),fontsize=15)\n",
    "  plt.show()\n",
    "\n",
    "  "
   ]
  },
  {
   "cell_type": "code",
   "execution_count": 145,
   "metadata": {
    "colab": {
     "base_uri": "https://localhost:8080/",
     "height": 630
    },
    "colab_type": "code",
    "collapsed": false,
    "executionInfo": {
     "elapsed": 1078,
     "status": "ok",
     "timestamp": 1538990674156,
     "user": {
      "displayName": "Pieter Sap",
      "photoUrl": "",
      "userId": "15749761891409076289"
     },
     "user_tz": -120
    },
    "id": "TEFoKPgwZVMG",
    "outputId": "c6af8948-3ee7-4f29-ef17-1211665f73ad"
   },
   "outputs": [
    {
     "data": {
      "image/png": "[encoded data removed]",
      "text/plain": [
       "<matplotlib.figure.Figure at 0x7f24e496f750>"
      ]
     },
     "metadata": {
      "tags": []
     },
     "output_type": "display_data"
    }
   ],
   "source": [
    "plotROC(fpr, tpr)"
   ]
  },
  {
   "cell_type": "markdown",
   "metadata": {
    "colab_type": "text",
    "id": "OGhJkoAxYxSc"
   },
   "source": [
    "## 7.5 Dealing with imbalanced classes (undersampling)\n",
    "\n",
    "In our data, 79% of flights were on time (class 0). Therefore, our model is biased towards predicting 0. We will now balance our training data so that it contains an equal amount of positive (1) and negative (0) samples. With this balanced set we fit a new classifier, and evaluate on the same test set.\n",
    "\n",
    "Note that we balance our training set, but we still evaluate our model on the original test set so that the test"
   ]
  },
  {
   "cell_type": "code",
   "execution_count": 147,
   "metadata": {
    "colab": {
     "base_uri": "https://localhost:8080/",
     "height": 51
    },
    "colab_type": "code",
    "collapsed": false,
    "executionInfo": {
     "elapsed": 484,
     "status": "ok",
     "timestamp": 1538992182150,
     "user": {
      "displayName": "Pieter Sap",
      "photoUrl": "",
      "userId": "15749761891409076289"
     },
     "user_tz": -120
    },
    "id": "Mn9jQq9ZE5eH",
    "outputId": "9c3a07da-9232-494b-c8b4-5c282d195661"
   },
   "outputs": [
    {
     "name": "stdout",
     "output_type": "stream",
     "text": [
      "not delayed: 1515803\n",
      "delayed: 408435\n"
     ]
    }
   ],
   "source": [
    "# category count before balancing\n",
    "print(\"not delayed: {0}\".format(np.sum(Y_train == 0)))\n",
    "print(\"delayed: {0}\".format(np.sum(Y_train == 1)))"
   ]
  },
  {
   "cell_type": "code",
   "execution_count": 0,
   "metadata": {
    "colab": {},
    "colab_type": "code",
    "collapsed": true,
    "id": "_LlSebM7nh9H"
   },
   "outputs": [],
   "source": [
    "# THIS IS THE ORIGINAL CODE FOR BALANCING THE CLASSES. READ AND UNDERSTAND IT FIRST.\n",
    "# THE CELL BELOW PERFORMS THE SAME TASK, BUT IS MORE MEMORY-OPTIMIZED. \n",
    "# (memory is limited to about 12GB in Colaboratory).\n",
    "\n",
    "# #split training data into classes\n",
    "# X_train_1 = X_train[Y_train == 1]  #minority\n",
    "# Y_train_1 = Y_train[Y_train == 1]\n",
    "\n",
    "# X_train_0 = X_train[Y_train == 0]  #majority\n",
    "# Y_train_0 = Y_train[Y_train == 0]\n",
    "\n",
    "# X_train_0 = X_train_0[0:len(Y_train_1)]\n",
    "# Y_train_0 = Y_train_0[0:len(Y_train_1)]\n",
    "\n",
    "# #shapes should be equal\n",
    "# print(X_train_1.shape, X_train_0.shape)\n",
    "# print(Y_train_1.shape, Y_train_0.shape)\n",
    "\n",
    "# X_train_balanced = pd.concat([X_train_1, X_train_0],axis=0)\n",
    "# Y_train_balanced = pd.concat([Y_train_1, Y_train_0],axis=0)\n",
    "\n",
    "# #shuffling first could improve training\n",
    "# X_train_balanced, Y_train_balanced = sklearn.utils.shuffle(X_train_balanced, Y_train_balanced, random_state=0)"
   ]
  },
  {
   "cell_type": "markdown",
   "metadata": {
    "colab_type": "text",
    "id": "kFZ952ALE7T3"
   },
   "source": []
  },
  {
   "cell_type": "code",
   "execution_count": 0,
   "metadata": {
    "colab": {},
    "colab_type": "code",
    "collapsed": true,
    "id": "LNLTpdqVCrmI"
   },
   "outputs": [],
   "source": [
    "# balancing the classes in the train set, memory-optimized\n",
    "\n",
    "l_1 = np.sum(Y_train == 1)\n",
    "\n",
    "\n",
    "X_train = pd.concat([X_train[Y_train == 1], X_train[Y_train == 0][0:l_1]],axis=0)\n",
    "Y_train = pd.concat([Y_train[Y_train == 1], Y_train[Y_train == 0][0:l_1]],axis=0)\n",
    "\n",
    "X_train, Y_train = sklearn.utils.shuffle(X_train, Y_train, random_state=0)"
   ]
  },
  {
   "cell_type": "code",
   "execution_count": 149,
   "metadata": {
    "colab": {
     "base_uri": "https://localhost:8080/",
     "height": 51
    },
    "colab_type": "code",
    "collapsed": false,
    "executionInfo": {
     "elapsed": 643,
     "status": "ok",
     "timestamp": 1538992235376,
     "user": {
      "displayName": "Pieter Sap",
      "photoUrl": "",
      "userId": "15749761891409076289"
     },
     "user_tz": -120
    },
    "id": "joZBudpdsfDI",
    "outputId": "c7cfe003-6194-4220-b729-d0ee3b19f985"
   },
   "outputs": [
    {
     "name": "stdout",
     "output_type": "stream",
     "text": [
      "not delayed: 408435\n",
      "delayed: 408435\n"
     ]
    }
   ],
   "source": [
    "# category count after balancing\n",
    "print(\"not delayed: {0}\".format(np.sum(Y_train == 0)))\n",
    "print(\"delayed: {0}\".format(np.sum(Y_train == 1)))"
   ]
  },
  {
   "cell_type": "markdown",
   "metadata": {
    "colab_type": "text",
    "id": "oGrUytRuqk0b"
   },
   "source": [
    "Training a new model on balanced training set, and evaluate on the (non-balanced) test set."
   ]
  },
  {
   "cell_type": "code",
   "execution_count": 150,
   "metadata": {
    "colab": {
     "base_uri": "https://localhost:8080/",
     "height": 85
    },
    "colab_type": "code",
    "collapsed": false,
    "executionInfo": {
     "elapsed": 216787,
     "status": "ok",
     "timestamp": 1538992928068,
     "user": {
      "displayName": "Pieter Sap",
      "photoUrl": "",
      "userId": "15749761891409076289"
     },
     "user_tz": -120
    },
    "id": "eiJ6wK2JqjUm",
    "outputId": "3f014756-f8b6-4a2e-8a76-9652432aaab0"
   },
   "outputs": [
    {
     "data": {
      "text/plain": [
       "LogisticRegression(C=1.0, class_weight=None, dual=False, fit_intercept=True,\n",
       "          intercept_scaling=1, max_iter=100, multi_class='ovr', n_jobs=1,\n",
       "          penalty='l2', random_state=0, solver='liblinear', tol=0.0001,\n",
       "          verbose=0, warm_start=False)"
      ]
     },
     "execution_count": 150,
     "metadata": {
      "tags": []
     },
     "output_type": "execute_result"
    }
   ],
   "source": [
    "model_logreg = LogisticRegression(random_state = 0)\n",
    "model_logreg.fit(X_train,Y_train)"
   ]
  },
  {
   "cell_type": "code",
   "execution_count": 0,
   "metadata": {
    "colab": {},
    "colab_type": "code",
    "collapsed": true,
    "id": "48ZQRFrHoiUP"
   },
   "outputs": [],
   "source": [
    "Y_test_prob = model_logreg.predict_proba(X_test)"
   ]
  },
  {
   "cell_type": "code",
   "execution_count": 152,
   "metadata": {
    "colab": {
     "base_uri": "https://localhost:8080/",
     "height": 34
    },
    "colab_type": "code",
    "collapsed": false,
    "executionInfo": {
     "elapsed": 520,
     "status": "ok",
     "timestamp": 1538996035363,
     "user": {
      "displayName": "Pieter Sap",
      "photoUrl": "",
      "userId": "15749761891409076289"
     },
     "user_tz": -120
    },
    "id": "g0XOpPFBr_fp",
    "outputId": "9e7765d1-7c8e-4ce2-82dd-f1e7e2ad4761"
   },
   "outputs": [
    {
     "data": {
      "text/plain": [
       "0.6600185707214967"
      ]
     },
     "execution_count": 152,
     "metadata": {
      "tags": []
     },
     "output_type": "execute_result"
    }
   ],
   "source": [
    "auc = sklearn.metrics.roc_auc_score(Y_test,Y_test_prob[:,1])\n",
    "auc"
   ]
  },
  {
   "cell_type": "markdown",
   "metadata": {
    "colab_type": "text",
    "id": "WbrVT89DxAr_"
   },
   "source": [
    "With undersampling, our AUC score has improved slightly from 0.61 to 0.66.\n",
    "\n",
    "It is important to mention that for a different random subset of the training data, or a different random test-train split, the results can be slightly different."
   ]
  },
  {
   "cell_type": "code",
   "execution_count": 0,
   "metadata": {
    "colab": {},
    "colab_type": "code",
    "collapsed": true,
    "id": "fiFDUkdgsARW"
   },
   "outputs": [],
   "source": [
    "fpr, tpr, tresholds = sklearn.metrics.roc_curve(Y_test, Y_test_prob[:,1])"
   ]
  },
  {
   "cell_type": "code",
   "execution_count": 154,
   "metadata": {
    "colab": {
     "base_uri": "https://localhost:8080/",
     "height": 630
    },
    "colab_type": "code",
    "collapsed": false,
    "executionInfo": {
     "elapsed": 1369,
     "status": "ok",
     "timestamp": 1538996099524,
     "user": {
      "displayName": "Pieter Sap",
      "photoUrl": "",
      "userId": "15749761891409076289"
     },
     "user_tz": -120
    },
    "id": "pQzcnpo_sVCc",
    "outputId": "c6d5b396-b126-4ac5-ff5c-072ab3dbf239"
   },
   "outputs": [
    {
     "data": {
      "image/png": "[encoded data removed]",
      "text/plain": [
       "<matplotlib.figure.Figure at 0x7f24c7618fd0>"
      ]
     },
     "metadata": {
      "tags": []
     },
     "output_type": "display_data"
    }
   ],
   "source": [
    "plotROC(fpr, tpr)"
   ]
  },
  {
   "cell_type": "markdown",
   "metadata": {
    "colab_type": "text",
    "id": "ovGVoE9oLxfg"
   },
   "source": [
    "# 8 Decision tree classifier (to do)\n",
    "\n",
    "First, run all cells of sections 1 up to (and including) 6"
   ]
  },
  {
   "cell_type": "markdown",
   "metadata": {
    "colab_type": "text",
    "id": "EnC_ZDavLxfg"
   },
   "source": [
    "## 8.1 Building a first model\n",
    "\n",
    "With a decision tree classifier, we can learn non-linear decision boundaries.\n",
    "We keep the wind direction input. As a reminder, let's look at our final dataset."
   ]
  },
  {
   "cell_type": "code",
   "execution_count": 2,
   "metadata": {
    "colab": {
     "base_uri": "https://localhost:8080/",
     "height": 278
    },
    "colab_type": "code",
    "collapsed": false,
    "executionInfo": {
     "elapsed": 64947,
     "status": "ok",
     "timestamp": 1539001043693,
     "user": {
      "displayName": "Pieter Sap",
      "photoUrl": "",
      "userId": "15749761891409076289"
     },
     "user_tz": -120
    },
    "id": "-S-XVfyr-vIX",
    "outputId": "f62c75f3-ca0f-40a1-f05b-3a3145b94f17"
   },
   "outputs": [
    {
     "name": "stderr",
     "output_type": "stream",
     "text": [
      "/usr/local/lib/python2.7/dist-packages/numpy/lib/arraysetops.py:472: FutureWarning: elementwise comparison failed; returning scalar instead, but in the future will perform elementwise comparison\n",
      "  mask |= (ar1 == a)\n"
     ]
    },
    {
     "data": {
      "text/html": [
       "<div>\n",
       "<style scoped>\n",
       "    .dataframe tbody tr th:only-of-type {\n",
       "        vertical-align: middle;\n",
       "    }\n",
       "\n",
       "    .dataframe tbody tr th {\n",
       "        vertical-align: top;\n",
       "    }\n",
       "\n",
       "    .dataframe thead th {\n",
       "        text-align: right;\n",
       "    }\n",
       "</style>\n",
       "<table border=\"1\" class=\"dataframe\">\n",
       "  <thead>\n",
       "    <tr style=\"text-align: right;\">\n",
       "      <th></th>\n",
       "      <th>OriginAirportID</th>\n",
       "      <th>DestAirportID</th>\n",
       "      <th>ArrDel15</th>\n",
       "      <th>Carrier_0</th>\n",
       "      <th>Carrier_1</th>\n",
       "      <th>Carrier_2</th>\n",
       "      <th>Carrier_3</th>\n",
       "      <th>Carrier_4</th>\n",
       "      <th>Carrier_5</th>\n",
       "      <th>Carrier_6</th>\n",
       "      <th>...</th>\n",
       "      <th>DestAirportID_54</th>\n",
       "      <th>DestAirportID_55</th>\n",
       "      <th>DestAirportID_56</th>\n",
       "      <th>DestAirportID_57</th>\n",
       "      <th>DestAirportID_58</th>\n",
       "      <th>DestAirportID_59</th>\n",
       "      <th>DestAirportID_60</th>\n",
       "      <th>DestAirportID_61</th>\n",
       "      <th>DestAirportID_62</th>\n",
       "      <th>DestAirportID_63</th>\n",
       "    </tr>\n",
       "  </thead>\n",
       "  <tbody>\n",
       "    <tr>\n",
       "      <th>0</th>\n",
       "      <td>11433</td>\n",
       "      <td>13303</td>\n",
       "      <td>0</td>\n",
       "      <td>1</td>\n",
       "      <td>0</td>\n",
       "      <td>0</td>\n",
       "      <td>0</td>\n",
       "      <td>0</td>\n",
       "      <td>0</td>\n",
       "      <td>0</td>\n",
       "      <td>...</td>\n",
       "      <td>0</td>\n",
       "      <td>0</td>\n",
       "      <td>0</td>\n",
       "      <td>0</td>\n",
       "      <td>0</td>\n",
       "      <td>0</td>\n",
       "      <td>0</td>\n",
       "      <td>0</td>\n",
       "      <td>0</td>\n",
       "      <td>0</td>\n",
       "    </tr>\n",
       "    <tr>\n",
       "      <th>1</th>\n",
       "      <td>14869</td>\n",
       "      <td>12478</td>\n",
       "      <td>0</td>\n",
       "      <td>1</td>\n",
       "      <td>0</td>\n",
       "      <td>0</td>\n",
       "      <td>0</td>\n",
       "      <td>0</td>\n",
       "      <td>0</td>\n",
       "      <td>0</td>\n",
       "      <td>...</td>\n",
       "      <td>0</td>\n",
       "      <td>0</td>\n",
       "      <td>0</td>\n",
       "      <td>0</td>\n",
       "      <td>0</td>\n",
       "      <td>0</td>\n",
       "      <td>0</td>\n",
       "      <td>0</td>\n",
       "      <td>0</td>\n",
       "      <td>0</td>\n",
       "    </tr>\n",
       "    <tr>\n",
       "      <th>2</th>\n",
       "      <td>14057</td>\n",
       "      <td>14869</td>\n",
       "      <td>0</td>\n",
       "      <td>1</td>\n",
       "      <td>0</td>\n",
       "      <td>0</td>\n",
       "      <td>0</td>\n",
       "      <td>0</td>\n",
       "      <td>0</td>\n",
       "      <td>0</td>\n",
       "      <td>...</td>\n",
       "      <td>0</td>\n",
       "      <td>0</td>\n",
       "      <td>0</td>\n",
       "      <td>0</td>\n",
       "      <td>0</td>\n",
       "      <td>0</td>\n",
       "      <td>0</td>\n",
       "      <td>0</td>\n",
       "      <td>0</td>\n",
       "      <td>0</td>\n",
       "    </tr>\n",
       "    <tr>\n",
       "      <th>3</th>\n",
       "      <td>15016</td>\n",
       "      <td>11433</td>\n",
       "      <td>1</td>\n",
       "      <td>1</td>\n",
       "      <td>0</td>\n",
       "      <td>0</td>\n",
       "      <td>0</td>\n",
       "      <td>0</td>\n",
       "      <td>0</td>\n",
       "      <td>0</td>\n",
       "      <td>...</td>\n",
       "      <td>0</td>\n",
       "      <td>0</td>\n",
       "      <td>0</td>\n",
       "      <td>0</td>\n",
       "      <td>0</td>\n",
       "      <td>0</td>\n",
       "      <td>0</td>\n",
       "      <td>0</td>\n",
       "      <td>0</td>\n",
       "      <td>0</td>\n",
       "    </tr>\n",
       "    <tr>\n",
       "      <th>5</th>\n",
       "      <td>10397</td>\n",
       "      <td>15016</td>\n",
       "      <td>0</td>\n",
       "      <td>1</td>\n",
       "      <td>0</td>\n",
       "      <td>0</td>\n",
       "      <td>0</td>\n",
       "      <td>0</td>\n",
       "      <td>0</td>\n",
       "      <td>0</td>\n",
       "      <td>...</td>\n",
       "      <td>0</td>\n",
       "      <td>0</td>\n",
       "      <td>0</td>\n",
       "      <td>0</td>\n",
       "      <td>0</td>\n",
       "      <td>0</td>\n",
       "      <td>0</td>\n",
       "      <td>0</td>\n",
       "      <td>0</td>\n",
       "      <td>0</td>\n",
       "    </tr>\n",
       "  </tbody>\n",
       "</table>\n",
       "<p>5 rows × 181 columns</p>\n",
       "</div>"
      ],
      "text/plain": [
       "   OriginAirportID  DestAirportID  ArrDel15  Carrier_0  Carrier_1  Carrier_2  \\\n",
       "0            11433          13303         0          1          0          0   \n",
       "1            14869          12478         0          1          0          0   \n",
       "2            14057          14869         0          1          0          0   \n",
       "3            15016          11433         1          1          0          0   \n",
       "5            10397          15016         0          1          0          0   \n",
       "\n",
       "   Carrier_3  Carrier_4  Carrier_5  Carrier_6        ...         \\\n",
       "0          0          0          0          0        ...          \n",
       "1          0          0          0          0        ...          \n",
       "2          0          0          0          0        ...          \n",
       "3          0          0          0          0        ...          \n",
       "5          0          0          0          0        ...          \n",
       "\n",
       "   DestAirportID_54  DestAirportID_55  DestAirportID_56  DestAirportID_57  \\\n",
       "0                 0                 0                 0                 0   \n",
       "1                 0                 0                 0                 0   \n",
       "2                 0                 0                 0                 0   \n",
       "3                 0                 0                 0                 0   \n",
       "5                 0                 0                 0                 0   \n",
       "\n",
       "   DestAirportID_58  DestAirportID_59  DestAirportID_60  DestAirportID_61  \\\n",
       "0                 0                 0                 0                 0   \n",
       "1                 0                 0                 0                 0   \n",
       "2                 0                 0                 0                 0   \n",
       "3                 0                 0                 0                 0   \n",
       "5                 0                 0                 0                 0   \n",
       "\n",
       "   DestAirportID_62  DestAirportID_63  \n",
       "0                 0                 0  \n",
       "1                 0                 0  \n",
       "2                 0                 0  \n",
       "3                 0                 0  \n",
       "5                 0                 0  \n",
       "\n",
       "[5 rows x 181 columns]"
      ]
     },
     "execution_count": 2,
     "metadata": {
      "tags": []
     },
     "output_type": "execute_result"
    }
   ],
   "source": [
    "delays = pd.read_csv(\"/content/drive/My Drive/xylosai/regression/FlightDelaysData_clean.csv\",header=0,index_col = 0)\n",
    "delays.head()"
   ]
  },
  {
   "cell_type": "code",
   "execution_count": 4,
   "metadata": {
    "colab": {
     "base_uri": "https://localhost:8080/",
     "height": 168
    },
    "colab_type": "code",
    "collapsed": false,
    "executionInfo": {
     "elapsed": 530,
     "status": "ok",
     "timestamp": 1539000759283,
     "user": {
      "displayName": "Pieter Sap",
      "photoUrl": "",
      "userId": "15749761891409076289"
     },
     "user_tz": -120
    },
    "id": "2SkOPHO9nHVA",
    "outputId": "1710230e-b286-4f06-e58e-1ade8e1b22b1"
   },
   "outputs": [
    {
     "data": {
      "text/plain": [
       "Index([u'OriginAirportID', u'DestAirportID', u'ArrDel15', u'Carrier_0',\n",
       "       u'Carrier_1', u'Carrier_2', u'Carrier_3', u'Carrier_4', u'Carrier_5',\n",
       "       u'Carrier_6',\n",
       "       ...\n",
       "       u'DestAirportID_54', u'DestAirportID_55', u'DestAirportID_56',\n",
       "       u'DestAirportID_57', u'DestAirportID_58', u'DestAirportID_59',\n",
       "       u'DestAirportID_60', u'DestAirportID_61', u'DestAirportID_62',\n",
       "       u'DestAirportID_63'],\n",
       "      dtype='object', length=181)"
      ]
     },
     "execution_count": 4,
     "metadata": {
      "tags": []
     },
     "output_type": "execute_result"
    }
   ],
   "source": [
    "delays.columns"
   ]
  },
  {
   "cell_type": "code",
   "execution_count": 0,
   "metadata": {
    "colab": {},
    "colab_type": "code",
    "collapsed": true,
    "id": "gLR875rKLxfX"
   },
   "outputs": [],
   "source": [
    "Y = delays[\"ArrDel15\"].astype(np.float64).values\n",
    "del delays[\"ArrDel15\"]\n"
   ]
  },
  {
   "cell_type": "code",
   "execution_count": 0,
   "metadata": {
    "colab": {},
    "colab_type": "code",
    "collapsed": true,
    "id": "s1BfK3twmt2N"
   },
   "outputs": [],
   "source": [
    "X = delays.drop(columns=[\"ArrDel15\"]).astype(np.float64).values"
   ]
  },
  {
   "cell_type": "code",
   "execution_count": 0,
   "metadata": {
    "colab": {},
    "colab_type": "code",
    "collapsed": true,
    "id": "zGnBv2BYLxfe"
   },
   "outputs": [],
   "source": [
    "X_traindev, X_test, Y_traindev, Y_test = train_test_split(X,Y,random_state=0,test_size = 0.10)\n",
    "\n",
    "del X\n",
    "del Y\n"
   ]
  },
  {
   "cell_type": "code",
   "execution_count": 0,
   "metadata": {
    "colab": {},
    "colab_type": "code",
    "collapsed": true,
    "id": "OkLq70Rwee3y"
   },
   "outputs": [],
   "source": [
    "# balancing the classes in the train/dev set, memory-optimized\n",
    "\n",
    "l_1 = np.sum(Y_traindev == 1)\n",
    "\n",
    "\n",
    "X_traindev = pd.concat([X_traindev[Y_traindev == 1], X_traindev[Y_traindev == 0][0:l_1]],axis=0)\n",
    "Y_traindev = pd.concat([Y_traindev[Y_traindev == 1], Y_traindev[Y_traindev == 0][0:l_1]],axis=0)\n",
    "\n",
    "X_traindev, Y_traindev = sklearn.utils.shuffle(X_traindev, Y_traindev, random_state=0)\n",
    "\n"
   ]
  },
  {
   "cell_type": "code",
   "execution_count": 0,
   "metadata": {
    "colab": {},
    "colab_type": "code",
    "collapsed": true,
    "id": "-51uHx6VfIV0"
   },
   "outputs": [],
   "source": [
    "# category count in the train/dev set after balancing. Should be equal.\n",
    "print(\"not delayed: {0}\".format(np.sum(Y_traindev == 0)))\n",
    "print(\"delayed: {0}\".format(np.sum(Y_traindev == 1)))\n"
   ]
  },
  {
   "cell_type": "code",
   "execution_count": 0,
   "metadata": {
    "colab": {},
    "colab_type": "code",
    "collapsed": true,
    "id": "oD16wwHceS8_"
   },
   "outputs": [],
   "source": [
    "X_train, X_dev, Y_train, Y_dev = train_test_split(X_traindev,Y_traindev,random_state=0,test_size = 0.10)"
   ]
  },
  {
   "cell_type": "code",
   "execution_count": 0,
   "metadata": {
    "colab": {},
    "colab_type": "code",
    "collapsed": true,
    "id": "-SxLgxRELxfj"
   },
   "outputs": [],
   "source": [
    "clf = tree.DecisionTreeClassifier(random_state=0, min_samples_split = 1000)"
   ]
  },
  {
   "cell_type": "code",
   "execution_count": 0,
   "metadata": {
    "colab": {},
    "colab_type": "code",
    "collapsed": false,
    "id": "kJXoRQniLxfl",
    "outputId": "88239b3b-16be-4b1b-b256-00f89a134817"
   },
   "outputs": [
    {
     "name": "stdout",
     "output_type": "stream",
     "text": [
      "Fitting took 224.89454913139343 seconds\n"
     ]
    }
   ],
   "source": [
    "start = time.time()\n",
    "clf.fit(X_train, Y_train)\n",
    "end = time.time()\n",
    "\n",
    "seconds = end-start\n",
    "print(\"Fitting took {0} seconds\".format(seconds))"
   ]
  },
  {
   "cell_type": "markdown",
   "metadata": {
    "colab_type": "text",
    "id": "xHFyXadsiYN3"
   },
   "source": [
    "## 8.2 Evaluating our model\n",
    "\n",
    "Let's first look at the predicted probabilities for our test set..."
   ]
  },
  {
   "cell_type": "code",
   "execution_count": 0,
   "metadata": {
    "colab": {},
    "colab_type": "code",
    "collapsed": false,
    "id": "lTMtxtbXLxfq",
    "outputId": "0d6b946c-8029-4faf-f4d6-7efdb14f83de"
   },
   "outputs": [
    {
     "data": {
      "text/plain": [
       "array([[0.91938376, 0.08061624],\n",
       "       [0.82355954, 0.17644046],\n",
       "       [0.81050677, 0.18949323],\n",
       "       ...,\n",
       "       [0.84695215, 0.15304785],\n",
       "       [0.84695215, 0.15304785],\n",
       "       [0.66781361, 0.33218639]])"
      ]
     },
     "execution_count": 136,
     "metadata": {
      "tags": []
     },
     "output_type": "execute_result"
    }
   ],
   "source": [
    "Y_log_prob = model_logreg.predict_proba(X_test)\n",
    "Y_log_prob\n"
   ]
  },
  {
   "cell_type": "markdown",
   "metadata": {
    "colab_type": "text",
    "id": "MO2tNqtEgFqL"
   },
   "source": [
    "All probabilities are 0 or 1?\n"
   ]
  },
  {
   "cell_type": "code",
   "execution_count": 0,
   "metadata": {
    "colab": {},
    "colab_type": "code",
    "collapsed": false,
    "id": "2aNY5aNnLxf8",
    "outputId": "7be68088-fd5d-4bd3-f603-622c39916f9c"
   },
   "outputs": [
    {
     "data": {
      "text/plain": [
       "17735"
      ]
     },
     "execution_count": 128,
     "metadata": {
      "tags": []
     },
     "output_type": "execute_result"
    }
   ],
   "source": [
    "clf.tree_.node_count"
   ]
  },
  {
   "cell_type": "code",
   "execution_count": 0,
   "metadata": {
    "colab": {},
    "colab_type": "code",
    "collapsed": false,
    "id": "6HliJ0kCLxf9",
    "outputId": "e9819369-97c3-46b5-bae6-ebe7ea864e9f"
   },
   "outputs": [
    {
     "data": {
      "text/plain": [
       "0.6448286481318811"
      ]
     },
     "execution_count": 147,
     "metadata": {
      "tags": []
     },
     "output_type": "execute_result"
    },
    {
     "data": {
      "image/png": "[encoded data removed]",
      "text/plain": [
       "<Figure size 432x288 with 1 Axes>"
      ]
     },
     "metadata": {
      "tags": []
     },
     "output_type": "display_data"
    }
   ],
   "source": [
    "auc = sklearn.metrics.roc_auc_score(Y_test,Y_test_prob[:,1])\n",
    "print(auc)"
   ]
  },
  {
   "cell_type": "code",
   "execution_count": 0,
   "metadata": {
    "colab": {},
    "colab_type": "code",
    "collapsed": true,
    "id": "nJUDhf-tigHp"
   },
   "outputs": [],
   "source": [
    "fpr, tpr, tresholds = sklearn.metrics.roc_curve(Y_test, Y_test_prob[:,1])"
   ]
  },
  {
   "cell_type": "code",
   "execution_count": 0,
   "metadata": {
    "colab": {},
    "colab_type": "code",
    "collapsed": true,
    "id": "wYHILomJjFVp"
   },
   "outputs": [],
   "source": [
    "def plotROC(fpr, tpr):\n",
    "  fig = plt.figure(figsize = (10,10))\n",
    "  plt.xlabel(\"false positive rate (FPR)\",fontsize = 15)\n",
    "  plt.ylabel(\"true positive rate (TPR)\",fontsize = 15)\n",
    "  plt.title(\"ROC curve\",fontsize=20)\n",
    "  plt.plot(fpr, tpr,\"b\",fpr, fpr, \"k:\")\n",
    "  plt.legend((\"ROC curve\",\"baseline\"),fontsize=15)\n",
    "  plt.show()"
   ]
  },
  {
   "cell_type": "code",
   "execution_count": 0,
   "metadata": {
    "colab": {},
    "colab_type": "code",
    "collapsed": true,
    "id": "DmoG8eysjFRI"
   },
   "outputs": [],
   "source": [
    "plotROC(fpr, tpr)"
   ]
  },
  {
   "cell_type": "markdown",
   "metadata": {
    "colab_type": "text",
    "id": "QDWNQxgLjmIe"
   },
   "source": [
    "\n",
    "In the code above, we have not limited the growth of our tree in any way. As a result, the tree has kept making splits untill every node had zero impurities. The result is a tree that is overfitted on the data.\n",
    "\n",
    "For decision trees, the growth of the tree must be limited to avoid overfitting. This can be done in multiple ways. In the next section we will limited the tree growth by:\n",
    "\n",
    "1. Limiting the maximum depth of the tree\n",
    "2. Setting a minimum a"
   ]
  },
  {
   "cell_type": "markdown",
   "metadata": {
    "colab_type": "text",
    "id": "sLrx1eR0LxgC"
   },
   "source": [
    "## 4.2 Hyperparameter search"
   ]
  },
  {
   "cell_type": "code",
   "execution_count": 0,
   "metadata": {
    "colab": {},
    "colab_type": "code",
    "collapsed": true,
    "id": "17y1Hz6QLxgC"
   },
   "outputs": [],
   "source": [
    "split_list = [2,500,1000,2000]\n",
    "depth_list = [10,20,30,40]"
   ]
  },
  {
   "cell_type": "code",
   "execution_count": 0,
   "metadata": {
    "colab": {},
    "colab_type": "code",
    "collapsed": false,
    "id": "vJ94mIkELxgC",
    "outputId": "c9c48b7a-759c-4ecf-9fea-227f2de09f75"
   },
   "outputs": [
    {
     "name": "stdout",
     "output_type": "stream",
     "text": [
      "2 / 10\n",
      "2 / 20\n",
      "2 / 30\n",
      "2 / 40\n",
      "500 / 10\n",
      "500 / 20\n",
      "500 / 30\n",
      "500 / 40\n",
      "1000 / 10\n",
      "1000 / 20\n",
      "1000 / 30\n",
      "1000 / 40\n",
      "2000 / 10\n",
      "2000 / 20\n",
      "2000 / 30\n",
      "2000 / 40\n",
      "{'run_6': {'auc_train': 0.7303856667732778, 'split': 500, 'depth': 30, 'auc_dev': 0.6748519463265837}, 'run_0': {'auc_train': 0.6527034329248941, 'split': 2, 'depth': 10, 'auc_dev': 0.6465847349996299}, 'run_3': {'auc_train': 0.9901079484713191, 'split': 2, 'depth': 40, 'auc_dev': 0.5793248062261067}, 'run_4': {'auc_train': 0.6514636524788621, 'split': 500, 'depth': 10, 'auc_dev': 0.646608779731869}, 'run_7': {'auc_train': 0.7391849252866118, 'split': 500, 'depth': 40, 'auc_dev': 0.6735938002712927}, 'run_12': {'auc_train': 0.6493058581458026, 'split': 2000, 'depth': 10, 'auc_dev': 0.6454488154198862}, 'run_11': {'auc_train': 0.712907419989401, 'split': 1000, 'depth': 40, 'auc_dev': 0.6739786028844735}, 'run_9': {'auc_train': 0.6937047403903195, 'split': 1000, 'depth': 20, 'auc_dev': 0.6719229531165309}, 'run_15': {'auc_train': 0.6927839753399151, 'split': 2000, 'depth': 40, 'auc_dev': 0.6709187033798576}, 'run_5': {'auc_train': 0.7044169092046878, 'split': 500, 'depth': 20, 'auc_dev': 0.6735091306748376}, 'run_10': {'auc_train': 0.7089002169989773, 'split': 1000, 'depth': 30, 'auc_dev': 0.673894917602772}, 'run_2': {'auc_train': 0.9326556358179625, 'split': 2, 'depth': 30, 'auc_dev': 0.5934008310422285}, 'run_1': {'auc_train': 0.7780570003711904, 'split': 2, 'depth': 20, 'auc_dev': 0.6441538353253401}, 'run_14': {'auc_train': 0.6912688846559654, 'split': 2000, 'depth': 30, 'auc_dev': 0.6704017340690755}, 'run_13': {'auc_train': 0.6832517693696111, 'split': 2000, 'depth': 20, 'auc_dev': 0.6681300058146176}, 'run_8': {'auc_train': 0.6506017696711069, 'split': 1000, 'depth': 10, 'auc_dev': 0.6464214642689652}}\n"
     ]
    },
    {
     "data": {
      "image/png": "[encoded data removed]",
      "text/plain": [
       "<Figure size 432x288 with 1 Axes>"
      ]
     },
     "metadata": {
      "tags": []
     },
     "output_type": "display_data"
    }
   ],
   "source": [
    "result_dict = {}\n",
    "i = 0\n",
    "optimal_results = {\"split\":split_list[0],\"depth\":depth_list[0],\"auc_dev\":0}\n",
    "clf_best = None\n",
    "for s in split_list:\n",
    "    for d in depth_list:\n",
    "        print(str(s)+\" / \"+str(d))\n",
    "        clf = tree.DecisionTreeClassifier(random_state=0, min_samples_split = s,max_depth = d)\n",
    "        clf.fit(X_train, Y_train)\n",
    "        auc_dev = evaluate_clf(clf,X_dev,Y_dev,plot=False)\n",
    "        if auc_dev > optimal_results[\"auc_dev\"]:\n",
    "            optimal_results[\"split\"] = s\n",
    "            optimal_results[\"depth\"] = d\n",
    "            optimal_results[\"auc_dev\"] = auc_dev\n",
    "            clf_best = clf\n",
    "        auc_train = evaluate_clf(clf,X_train,Y_train,plot=False)\n",
    "        result_dict[\"run_\"+str(i)] = {\"split\":s,\"depth\":d,\"auc_train\":auc_train,\"auc_dev\":auc_dev}\n",
    "        i += 1\n",
    "        \n",
    "print(result_dict)\n",
    "\n",
    "optimal_results[\"auc_test\"] = evaluate_clf(clf_best,X_test,Y_test,plot=False)\n",
    "\n",
    "\n",
    "\n",
    "with open('result_decisiontreeCLF.txt','a') as f:\n",
    "    f.write(json.dumps(result_dict,sort_keys=True,indent=4))\n",
    "    f.write(\"Best results:\")\n",
    "    f.write(json.dumps(optimal_results,sort_keys=True,indent=4))\n",
    "    "
   ]
  },
  {
   "cell_type": "markdown",
   "metadata": {
    "colab_type": "text",
    "id": "pK8EZe4yLxgE"
   },
   "source": [
    "# 5 Dense neural network (to do)"
   ]
  },
  {
   "cell_type": "code",
   "execution_count": 0,
   "metadata": {
    "colab": {},
    "colab_type": "code",
    "collapsed": false,
    "id": "o-crdTg_LxgE",
    "outputId": "43d63290-ae92-4b6d-ec92-ef2ff8a90efc"
   },
   "outputs": [
    {
     "name": "stderr",
     "output_type": "stream",
     "text": [
      "Using TensorFlow backend.\n"
     ]
    }
   ],
   "source": [
    "from keras import layers\n",
    "from keras.layers import Input, Add, Dense, Activation, Dropout, ZeroPadding2D, BatchNormalization, Flatten, Conv2D, AveragePooling2D, MaxPooling2D, GlobalMaxPooling2D\n",
    "from keras.models import Model, load_model\n",
    "from keras.initializers import glorot_uniform\n",
    "import tensorflow as tf"
   ]
  },
  {
   "cell_type": "code",
   "execution_count": 0,
   "metadata": {
    "colab": {},
    "colab_type": "code",
    "collapsed": true,
    "id": "zVpFDvazLxgF"
   },
   "outputs": [],
   "source": [
    "def delayNNmodel(input_shape,hidden_units = [100,100],dropout_rate = 0.1):\n",
    "    \n",
    "    #input layer\n",
    "    X_input = Input(input_shape)\n",
    "    \n",
    "    #first hidden layer\n",
    "    X = Dense(hidden_units[0])(X_input)\n",
    "    X = Activation('relu')(X)\n",
    "    X = Dropout(dropout_rate,seed=0)(X)\n",
    "    \n",
    "    #next hidden layer(s)\n",
    "    if len(hidden_units)>2:\n",
    "        for n in hidden_units[1:]:\n",
    "            X = Dense(n)(X)\n",
    "            X = Activation('relu')(X)\n",
    "            X = Dropout(dropout_rate,seed=0)(X)\n",
    "    elif len(hidden_units) == 2:\n",
    "        X = Dense(hidden_units[1])(X)\n",
    "        X = Activation('relu')(X)\n",
    "        X = Dropout(dropout_rate,seed=0)(X)\n",
    "        \n",
    "    #output layer\n",
    "    X = Dense(1)(X)\n",
    "    X = Activation('sigmoid')(X)\n",
    "    \n",
    "    model = Model(inputs = X_input, outputs = X, name = 'delayBinaryClassifierNN')\n",
    "    model.compile(optimizer='adam', loss='binary_crossentropy', metrics=['accuracy'])\n",
    "    return model"
   ]
  },
  {
   "cell_type": "code",
   "execution_count": 0,
   "metadata": {
    "colab": {},
    "colab_type": "code",
    "collapsed": true,
    "id": "Q0_14-xmLxgG"
   },
   "outputs": [],
   "source": [
    "def evaluate_NN(model,X,Y,plot=False):\n",
    "    Y_pred = model.predict(X)\n",
    "    fpr,tpr,thresholds = roc_curve(Y,Y_pred)\n",
    "    if plot:\n",
    "        plt.plot(fpr,tpr)\n",
    "    AUC = auc(fpr,tpr)\n",
    "    return AUC"
   ]
  },
  {
   "cell_type": "code",
   "execution_count": 0,
   "metadata": {
    "colab": {},
    "colab_type": "code",
    "collapsed": true,
    "id": "yjJWRktLLxgG"
   },
   "outputs": [],
   "source": [
    "def fit_and_plot(model,X_train,Y_train,X_test,Y_test,epochs = 10,verbose=False,evaluate_offset = 0):\n",
    "    auc_test = []\n",
    "    auc_train = []\n",
    "    for i in range(epochs):\n",
    "        print(i)\n",
    "        model.fit(X_train,Y_train,epochs=1,batch_size=128,verbose=0)\n",
    "        if i >= evaluate_offset:\n",
    "            auc_test_ = evaluate_NN(model,X_test,Y_test,plot=False)\n",
    "            auc_test.append(auc_test_)\n",
    "            auc_train_ = evaluate_NN(model,X_train,Y_train,plot=False)\n",
    "            auc_train.append(auc_train_)\n",
    "            if verbose:\n",
    "                print(\"Epoch {2}. Test auc: {0}, Train auc: {1}\".format(auc_test_,auc_train_,i))\n",
    "    plt.figure()\n",
    "    plt.plot(np.arange(len(auc_test)),auc_test,'r',np.arange(len(auc_train)),auc_train,'b')\n",
    "    plt.show()\n",
    "    return model"
   ]
  },
  {
   "cell_type": "markdown",
   "metadata": {
    "colab_type": "text",
    "id": "ORK2bqVuLxgH"
   },
   "source": [
    "**never name the output of this function 'auc' since it collides with the name of the function auc, imported above**"
   ]
  },
  {
   "cell_type": "markdown",
   "metadata": {
    "colab_type": "text",
    "id": "bjsiRGw4LxgI"
   },
   "source": [
    "auc_ = evaluate_NN(model,X_test,Y_test,plot=False)\n",
    "print(auc_)"
   ]
  },
  {
   "cell_type": "markdown",
   "metadata": {
    "colab_type": "text",
    "id": "kzvCyWX6LxgJ"
   },
   "source": [
    "**Output is always 0, see cell below. Let's try to balance to dataset first, since it is skewed towards output 0**"
   ]
  },
  {
   "cell_type": "code",
   "execution_count": 0,
   "metadata": {
    "colab": {},
    "colab_type": "code",
    "collapsed": false,
    "id": "pOkJjJOvLxgK",
    "outputId": "5f22c574-4d00-4f50-f876-b6559e056743"
   },
   "outputs": [
    {
     "data": {
      "text/plain": [
       "0"
      ]
     },
     "execution_count": 139,
     "metadata": {
      "tags": []
     },
     "output_type": "execute_result"
    }
   ],
   "source": [
    "pred=model.predict(X_train)\n",
    "np.sum(pred>0.00001)"
   ]
  },
  {
   "cell_type": "code",
   "execution_count": 0,
   "metadata": {
    "colab": {},
    "colab_type": "code",
    "collapsed": false,
    "id": "dsTRHcccLxgL",
    "outputId": "d7d47153-c844-4294-be3a-360bce30323b"
   },
   "outputs": [
    {
     "data": {
      "text/plain": [
       "0.21225804708149407"
      ]
     },
     "execution_count": 141,
     "metadata": {
      "tags": []
     },
     "output_type": "execute_result"
    }
   ],
   "source": [
    "np.sum(Y_train==1)/Y_train.shape[0]"
   ]
  },
  {
   "cell_type": "code",
   "execution_count": 0,
   "metadata": {
    "colab": {},
    "colab_type": "code",
    "collapsed": false,
    "id": "h4bGjURgLxgM",
    "outputId": "8e244c70-cb3a-45b0-a0a7-113447f03eff"
   },
   "outputs": [
    {
     "data": {
      "text/plain": [
       "0.7877419529185059"
      ]
     },
     "execution_count": 142,
     "metadata": {
      "tags": []
     },
     "output_type": "execute_result"
    }
   ],
   "source": [
    "np.sum(Y_train==0)/Y_train.shape[0]"
   ]
  },
  {
   "cell_type": "code",
   "execution_count": 0,
   "metadata": {
    "colab": {},
    "colab_type": "code",
    "collapsed": false,
    "id": "mEA5rl_YLxgN",
    "outputId": "8dcc13a5-5523-41fa-e0bf-1f926390bb20"
   },
   "outputs": [
    {
     "name": "stdout",
     "output_type": "stream",
     "text": [
      "1515803\n",
      "408435\n",
      "(816870, 200)\n",
      "(816870, 1)\n",
      "(816870, 200)\n",
      "(816870,)\n"
     ]
    }
   ],
   "source": [
    "#turn this into a robust reusable function!\n",
    "\n",
    "index_0 = (Y_train==0)\n",
    "index_1 = (Y_train==1)\n",
    "print(np.sum(index_0))\n",
    "print(np.sum(index_1))\n",
    "amt_1 = np.sum(index_1)\n",
    "Y_train_0 = Y_train[index_0]\n",
    "Y_train_1 = Y_train[index_1]\n",
    "X_train_0 = X_train[index_0]\n",
    "X_train_1= X_train[index_1]\n",
    "\n",
    "np.random.seed(0)\n",
    "selection_0 = np.random.randint(0,Y_train_0.shape[0],amt_1)\n",
    "\n",
    "Y_train_0_selected = Y_train_0[selection_0]\n",
    "X_train_0_selected = X_train_0[selection_0]\n",
    "\n",
    "X_train_balanced = np.append(X_train_0_selected,X_train_1,axis=0)\n",
    "Y_train_balanced = np.append(Y_train_0_selected,Y_train_1,axis=0)\n",
    "\n",
    "print(X_train_balanced.shape)\n",
    "print(np.expand_dims(Y_train_balanced,axis=1).shape)\n",
    "\n",
    "XY = np.append(X_train_balanced,np.expand_dims(Y_train_balanced,axis=1),axis=1)\n",
    "np.random.shuffle(XY)\n",
    "X_train_balanced = XY[:,0:-1]\n",
    "Y_train_balanced = XY[:,-1]\n",
    "\n",
    "print(X_train_balanced.shape)\n",
    "print(Y_train_balanced.shape)"
   ]
  },
  {
   "cell_type": "code",
   "execution_count": 0,
   "metadata": {
    "colab": {},
    "colab_type": "code",
    "collapsed": false,
    "id": "5NRDRTrzLxgP",
    "outputId": "93cdd1ea-d9ef-437d-e61c-6f936dea066a"
   },
   "outputs": [
    {
     "name": "stdout",
     "output_type": "stream",
     "text": [
      "Epoch 1/1\n",
      "816870/816870 [==============================] - 11s 14us/step - loss: 0.7072 - acc: 0.5774\n",
      "Epoch 0. Test auc: 0.6502808914769697, Train auc: 0.6470881794865477\n",
      "Epoch 1/1\n",
      "816870/816870 [==============================] - 11s 13us/step - loss: 0.6635 - acc: 0.5989\n",
      "Epoch 1. Test auc: 0.6546190910458762, Train auc: 0.6532343825949037\n",
      "Epoch 1/1\n",
      "816870/816870 [==============================] - 11s 13us/step - loss: 0.6590 - acc: 0.6052\n",
      "Epoch 2. Test auc: 0.6574285401007209, Train auc: 0.655030532673549\n"
     ]
    },
    {
     "data": {
      "image/png": "[encoded data removed]",
      "text/plain": [
       "<Figure size 432x288 with 1 Axes>"
      ]
     },
     "metadata": {
      "tags": []
     },
     "output_type": "display_data"
    }
   ],
   "source": [
    "input_shape = [X_train.shape[1]]\n",
    "model = delayNNmodel(input_shape,dropout_rate=0)\n",
    "fit_and_plot(model,X_train_balanced,Y_train_balanced,X_test,Y_test,verbose=True,epochs=3)"
   ]
  },
  {
   "cell_type": "code",
   "execution_count": 0,
   "metadata": {
    "colab": {},
    "colab_type": "code",
    "collapsed": false,
    "id": "IEHExjXmLxgR",
    "outputId": "29f1373e-92bc-4667-c948-b4413613f8f8"
   },
   "outputs": [
    {
     "name": "stdout",
     "output_type": "stream",
     "text": [
      "0.6561154672356233\n"
     ]
    }
   ],
   "source": [
    "auc_ = evaluate_NN(model,X_test,Y_test,plot=False)\n",
    "print(auc_)"
   ]
  },
  {
   "cell_type": "code",
   "execution_count": 0,
   "metadata": {
    "colab": {},
    "colab_type": "code",
    "collapsed": false,
    "id": "ACG35-J-LxgR",
    "outputId": "22de3222-da05-4642-dee0-444a5e4b7e24"
   },
   "outputs": [
    {
     "name": "stdout",
     "output_type": "stream",
     "text": [
      "units: [128, 128], dropout: 0\n",
      "0\n",
      "1\n",
      "2\n",
      "3\n",
      "4\n",
      "5\n"
     ]
    },
    {
     "data": {
      "image/png": "[encoded data removed]",
      "text/plain": [
       "<Figure size 432x288 with 1 Axes>"
      ]
     },
     "metadata": {
      "tags": []
     },
     "output_type": "display_data"
    },
    {
     "name": "stdout",
     "output_type": "stream",
     "text": [
      "units: [128, 128], dropout: 0.05\n",
      "0\n",
      "1\n",
      "2\n",
      "3\n",
      "4\n",
      "5\n"
     ]
    },
    {
     "data": {
      "image/png": "[encoded data removed]",
      "text/plain": [
       "<Figure size 432x288 with 1 Axes>"
      ]
     },
     "metadata": {
      "tags": []
     },
     "output_type": "display_data"
    },
    {
     "name": "stdout",
     "output_type": "stream",
     "text": [
      "units: [128, 128], dropout: 0.1\n",
      "0\n",
      "1\n",
      "2\n",
      "3\n",
      "4\n",
      "5\n"
     ]
    },
    {
     "data": {
      "image/png": "[encoded data removed]",
      "text/plain": [
       "<Figure size 432x288 with 1 Axes>"
      ]
     },
     "metadata": {
      "tags": []
     },
     "output_type": "display_data"
    },
    {
     "name": "stdout",
     "output_type": "stream",
     "text": [
      "units: [128, 128], dropout: 0.2\n",
      "0\n",
      "1\n",
      "2\n",
      "3\n",
      "4\n",
      "5\n"
     ]
    },
    {
     "data": {
      "image/png": "[encoded data removed]",
      "text/plain": [
       "<Figure size 432x288 with 1 Axes>"
      ]
     },
     "metadata": {
      "tags": []
     },
     "output_type": "display_data"
    },
    {
     "name": "stdout",
     "output_type": "stream",
     "text": [
      "units: [128, 128, 128], dropout: 0\n",
      "0\n",
      "1\n",
      "2\n",
      "3\n",
      "4\n",
      "5\n"
     ]
    },
    {
     "data": {
      "image/png": "[encoded data removed]",
      "text/plain": [
       "<Figure size 432x288 with 1 Axes>"
      ]
     },
     "metadata": {
      "tags": []
     },
     "output_type": "display_data"
    },
    {
     "name": "stdout",
     "output_type": "stream",
     "text": [
      "units: [128, 128, 128], dropout: 0.05\n",
      "0\n",
      "1\n",
      "2\n",
      "3\n",
      "4\n",
      "5\n"
     ]
    },
    {
     "data": {
      "image/png": "[encoded data removed]",
      "text/plain": [
       "<Figure size 432x288 with 1 Axes>"
      ]
     },
     "metadata": {
      "tags": []
     },
     "output_type": "display_data"
    },
    {
     "name": "stdout",
     "output_type": "stream",
     "text": [
      "units: [128, 128, 128], dropout: 0.1\n",
      "0\n",
      "1\n",
      "2\n",
      "3\n",
      "4\n",
      "5\n"
     ]
    },
    {
     "data": {
      "image/png": "[encoded data removed]",
      "text/plain": [
       "<Figure size 432x288 with 1 Axes>"
      ]
     },
     "metadata": {
      "tags": []
     },
     "output_type": "display_data"
    },
    {
     "name": "stdout",
     "output_type": "stream",
     "text": [
      "units: [128, 128, 128], dropout: 0.2\n",
      "0\n",
      "1\n",
      "2\n",
      "3\n",
      "4\n",
      "5\n"
     ]
    },
    {
     "data": {
      "image/png": "[encoded data removed]",
      "text/plain": [
       "<Figure size 432x288 with 1 Axes>"
      ]
     },
     "metadata": {
      "tags": []
     },
     "output_type": "display_data"
    },
    {
     "name": "stdout",
     "output_type": "stream",
     "text": [
      "units: [256, 256, 128], dropout: 0\n",
      "0\n",
      "1\n",
      "2\n",
      "3\n",
      "4\n",
      "5\n"
     ]
    },
    {
     "data": {
      "image/png": "[encoded data removed]",
      "text/plain": [
       "<Figure size 432x288 with 1 Axes>"
      ]
     },
     "metadata": {
      "tags": []
     },
     "output_type": "display_data"
    },
    {
     "name": "stdout",
     "output_type": "stream",
     "text": [
      "units: [256, 256, 128], dropout: 0.05\n",
      "0\n",
      "1\n",
      "2\n",
      "3\n",
      "4\n",
      "5\n"
     ]
    },
    {
     "data": {
      "image/png": "[encoded data removed]",
      "text/plain": [
       "<Figure size 432x288 with 1 Axes>"
      ]
     },
     "metadata": {
      "tags": []
     },
     "output_type": "display_data"
    },
    {
     "name": "stdout",
     "output_type": "stream",
     "text": [
      "units: [256, 256, 128], dropout: 0.1\n",
      "0\n",
      "1\n",
      "2\n",
      "3\n",
      "4\n",
      "5\n"
     ]
    },
    {
     "data": {
      "image/png": "[encoded data removed]",
      "text/plain": [
       "<Figure size 432x288 with 1 Axes>"
      ]
     },
     "metadata": {
      "tags": []
     },
     "output_type": "display_data"
    },
    {
     "name": "stdout",
     "output_type": "stream",
     "text": [
      "units: [256, 256, 128], dropout: 0.2\n",
      "0\n",
      "1\n",
      "2\n",
      "3\n",
      "4\n",
      "5\n"
     ]
    },
    {
     "data": {
      "image/png": "[encoded data removed]",
      "text/plain": [
       "<Figure size 432x288 with 1 Axes>"
      ]
     },
     "metadata": {
      "tags": []
     },
     "output_type": "display_data"
    }
   ],
   "source": [
    "units = [[128,128],[128,128,128],[256,256,128]]\n",
    "dropout_rates = [0,0.05,0.1,0.2]\n",
    "for u in units:\n",
    "    for dropout_rate in dropout_rates:\n",
    "        model = delayNNmodel(input_shape, hidden_units = u, dropout_rate = dropout_rate)\n",
    "        print(\"units: {0}, dropout: {1}\".format(u,dropout_rate))\n",
    "        fit_and_plot(model,X_train_balanced,Y_train_balanced,X_test,Y_test,verbose=False,epochs=6)"
   ]
  },
  {
   "cell_type": "markdown",
   "metadata": {
    "colab_type": "text",
    "id": "vOu_QXLALxgX"
   },
   "source": [
    "**doing extra epochs for those who seem promising**"
   ]
  },
  {
   "cell_type": "code",
   "execution_count": 0,
   "metadata": {
    "colab": {},
    "colab_type": "code",
    "collapsed": false,
    "id": "6ZjGBRJ7LxgX",
    "outputId": "f6456b4e-9546-44ea-e33d-8a45776dbf8d"
   },
   "outputs": [
    {
     "name": "stdout",
     "output_type": "stream",
     "text": [
      "units: [128, 128], dropout: 0\n",
      "0\n",
      "1\n",
      "2\n",
      "3\n",
      "4\n",
      "5\n",
      "6\n",
      "7\n",
      "8\n",
      "9\n"
     ]
    },
    {
     "data": {
      "image/png": "[encoded data removed]",
      "text/plain": [
       "<Figure size 432x288 with 1 Axes>"
      ]
     },
     "metadata": {
      "tags": []
     },
     "output_type": "display_data"
    },
    {
     "name": "stdout",
     "output_type": "stream",
     "text": [
      "units: [128, 128, 128], dropout: 0\n",
      "0\n",
      "1\n",
      "2\n",
      "3\n",
      "4\n",
      "5\n",
      "6\n",
      "7\n",
      "8\n",
      "9\n"
     ]
    },
    {
     "data": {
      "image/png": "[encoded data removed]",
      "text/plain": [
       "<Figure size 432x288 with 1 Axes>"
      ]
     },
     "metadata": {
      "tags": []
     },
     "output_type": "display_data"
    },
    {
     "name": "stdout",
     "output_type": "stream",
     "text": [
      "units: [128, 128, 128], dropout: 0.05\n",
      "0\n",
      "1\n",
      "2\n",
      "3\n",
      "4\n",
      "5\n",
      "6\n",
      "7\n",
      "8\n",
      "9\n"
     ]
    },
    {
     "data": {
      "image/png": "[encoded data removed]",
      "text/plain": [
       "<Figure size 432x288 with 1 Axes>"
      ]
     },
     "metadata": {
      "tags": []
     },
     "output_type": "display_data"
    },
    {
     "name": "stdout",
     "output_type": "stream",
     "text": [
      "units: [256, 256, 128], dropout: 0.05\n",
      "0\n",
      "1\n",
      "2\n",
      "3\n",
      "4\n",
      "5\n",
      "6\n",
      "7\n",
      "8\n",
      "9\n"
     ]
    },
    {
     "data": {
      "image/png": "[encoded data removed]",
      "text/plain": [
       "<Figure size 432x288 with 1 Axes>"
      ]
     },
     "metadata": {
      "tags": []
     },
     "output_type": "display_data"
    }
   ],
   "source": [
    "units = [[128,128],[128,128,128],[128,128,128],[256,256,128]]\n",
    "dropout_rates = [0,0,0.05,0.05]\n",
    "for u,dropout_rate in zip(units,dropout_rates):\n",
    "        model = delayNNmodel(input_shape, hidden_units = u, dropout_rate = dropout_rate)\n",
    "        print(\"units: {0}, dropout: {1}\".format(u,dropout_rate))\n",
    "        fit_and_plot(model,X_train_balanced,Y_train_balanced,X_test,Y_test,verbose=False,epochs=10)"
   ]
  },
  {
   "cell_type": "code",
   "execution_count": 0,
   "metadata": {
    "colab": {},
    "colab_type": "code",
    "collapsed": false,
    "id": "teKR8hBELxgc",
    "outputId": "02f3b89b-7ec3-42c9-b902-06010f1e2923"
   },
   "outputs": [
    {
     "name": "stdout",
     "output_type": "stream",
     "text": [
      "units: [128, 128, 128], dropout: 0\n",
      "0\n",
      "1\n",
      "2\n",
      "3\n",
      "4\n",
      "5\n",
      "6\n",
      "7\n",
      "8\n",
      "9\n",
      "10\n",
      "11\n",
      "12\n",
      "13\n",
      "14\n",
      "15\n",
      "16\n",
      "17\n",
      "18\n",
      "19\n"
     ]
    },
    {
     "data": {
      "image/png": "[encoded data removed]",
      "text/plain": [
       "<Figure size 432x288 with 1 Axes>"
      ]
     },
     "metadata": {
      "tags": []
     },
     "output_type": "display_data"
    },
    {
     "name": "stdout",
     "output_type": "stream",
     "text": [
      "units: [256, 256, 128], dropout: 0.05\n",
      "0\n",
      "1\n",
      "2\n",
      "3\n",
      "4\n",
      "5\n",
      "6\n",
      "7\n",
      "8\n",
      "9\n",
      "10\n",
      "11\n",
      "12\n",
      "13\n",
      "14\n",
      "15\n",
      "16\n",
      "17\n",
      "18\n",
      "19\n"
     ]
    },
    {
     "data": {
      "image/png": "[encoded data removed]",
      "text/plain": [
       "<Figure size 432x288 with 1 Axes>"
      ]
     },
     "metadata": {
      "tags": []
     },
     "output_type": "display_data"
    }
   ],
   "source": [
    "units = [[128,128,128],[256,256,128]]\n",
    "dropout_rates = [0,0.05]\n",
    "for u,dropout_rate in zip(units,dropout_rates):\n",
    "        model = delayNNmodel(input_shape, hidden_units = u, dropout_rate = dropout_rate)\n",
    "        print(\"units: {0}, dropout: {1}\".format(u,dropout_rate))\n",
    "        fit_and_plot(model,X_train_balanced,Y_train_balanced,X_test,Y_test,verbose=False,epochs=20)"
   ]
  },
  {
   "cell_type": "code",
   "execution_count": 0,
   "metadata": {
    "colab": {},
    "colab_type": "code",
    "collapsed": false,
    "id": "loPAqgc5Lxge",
    "outputId": "d0dcc1a0-53a9-40b7-cde2-aa381ab3a4d9"
   },
   "outputs": [
    {
     "name": "stdout",
     "output_type": "stream",
     "text": [
      "units: [256, 256, 128], dropout: 0.05\n",
      "0\n",
      "1\n",
      "2\n",
      "3\n",
      "4\n",
      "5\n",
      "6\n",
      "7\n",
      "8\n",
      "9\n",
      "10\n",
      "11\n",
      "12\n",
      "13\n",
      "14\n",
      "15\n",
      "16\n",
      "17\n",
      "18\n",
      "19\n",
      "20\n",
      "21\n",
      "22\n",
      "23\n",
      "24\n",
      "25\n",
      "26\n",
      "27\n",
      "28\n",
      "29\n",
      "30\n",
      "31\n",
      "32\n",
      "33\n",
      "34\n",
      "35\n",
      "36\n",
      "37\n",
      "38\n",
      "39\n"
     ]
    },
    {
     "data": {
      "image/png": "[encoded data removed]",
      "text/plain": [
       "<Figure size 432x288 with 1 Axes>"
      ]
     },
     "metadata": {
      "tags": []
     },
     "output_type": "display_data"
    }
   ],
   "source": [
    "units = [[256,256,128]]\n",
    "dropout_rates = [0.05]\n",
    "for u,dropout_rate in zip(units,dropout_rates):\n",
    "        model = delayNNmodel(input_shape, hidden_units = u, dropout_rate = dropout_rate)\n",
    "        print(\"units: {0}, dropout: {1}\".format(u,dropout_rate))\n",
    "        fit_and_plot(model,X_train_balanced,Y_train_balanced,X_test,Y_test,verbose=False,epochs=40)"
   ]
  },
  {
   "cell_type": "code",
   "execution_count": 0,
   "metadata": {
    "colab": {},
    "colab_type": "code",
    "collapsed": false,
    "id": "JoKrNVn2Lxgg",
    "outputId": "94d41ee7-7881-47ca-c6ef-0133d9601105"
   },
   "outputs": [
    {
     "name": "stdout",
     "output_type": "stream",
     "text": [
      "units: [256, 256, 128], dropout: 0.05\n",
      "0\n",
      "1\n",
      "2\n",
      "3\n",
      "4\n",
      "5\n",
      "6\n",
      "7\n",
      "8\n",
      "9\n",
      "10\n",
      "11\n",
      "12\n",
      "13\n",
      "14\n",
      "15\n",
      "16\n",
      "17\n",
      "18\n",
      "19\n",
      "20\n",
      "21\n",
      "22\n",
      "23\n",
      "24\n",
      "25\n",
      "26\n",
      "27\n",
      "28\n",
      "29\n",
      "30\n",
      "31\n",
      "32\n",
      "33\n",
      "34\n",
      "35\n",
      "36\n",
      "37\n",
      "38\n",
      "39\n",
      "40\n",
      "41\n",
      "42\n",
      "43\n",
      "44\n",
      "45\n",
      "46\n",
      "47\n",
      "48\n",
      "49\n",
      "50\n",
      "51\n",
      "52\n",
      "53\n",
      "54\n",
      "55\n",
      "56\n",
      "57\n",
      "58\n",
      "59\n",
      "60\n",
      "61\n",
      "62\n",
      "63\n",
      "64\n",
      "65\n",
      "66\n",
      "67\n",
      "68\n",
      "69\n",
      "70\n",
      "71\n",
      "72\n",
      "73\n",
      "74\n",
      "75\n",
      "76\n",
      "77\n",
      "78\n",
      "79\n"
     ]
    },
    {
     "data": {
      "image/png": "[encoded data removed]",
      "text/plain": [
       "<Figure size 432x288 with 1 Axes>"
      ]
     },
     "metadata": {
      "tags": []
     },
     "output_type": "display_data"
    }
   ],
   "source": [
    "units = [[256,256,128]]\n",
    "input_shape = [X_train.shape[1]]\n",
    "dropout_rates = [0.05]\n",
    "for u,dropout_rate in zip(units,dropout_rates):\n",
    "        model = delayNNmodel(input_shape, hidden_units = u, dropout_rate = dropout_rate)\n",
    "        print(\"units: {0}, dropout: {1}\".format(u,dropout_rate))\n",
    "        fitted_model = fit_and_plot(model,X_train_balanced,Y_train_balanced,X_test,Y_test,verbose=False,epochs=80,\n",
    "                                    evaluate_offset=30)"
   ]
  },
  {
   "cell_type": "code",
   "execution_count": 0,
   "metadata": {
    "colab": {},
    "colab_type": "code",
    "collapsed": true,
    "id": "zNraXJBwLxgi"
   },
   "outputs": [],
   "source": []
  }
 ],
 "metadata": {
  "colab": {
   "collapsed_sections": [],
   "name": "notebook_4_flight_delay.ipynb",
   "provenance": [],
   "toc_visible": true,
   "version": "0.3.2"
  },
  "kernelspec": {
   "display_name": "python352",
   "language": "python",
   "name": "python352"
  },
  "language_info": {
   "codemirror_mode": {
    "name": "ipython",
    "version": 3
   },
   "file_extension": ".py",
   "mimetype": "text/x-python",
   "name": "python",
   "nbconvert_exporter": "python",
   "pygments_lexer": "ipython3",
   "version": "3.5.2"
  }
 },
 "nbformat": 4,
 "nbformat_minor": 0
}
