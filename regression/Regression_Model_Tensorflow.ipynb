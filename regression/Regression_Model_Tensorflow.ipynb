{
  "nbformat": 4,
  "nbformat_minor": 0,
  "metadata": {
    "colab": {
      "name": "Regression Model Tensorflow.ipynb",
      "version": "0.3.2",
      "provenance": [],
      "collapsed_sections": [],
      "include_colab_link": true
    },
    "kernelspec": {
      "name": "python3",
      "display_name": "Python 3"
    },
    "accelerator": "GPU"
  },
  "cells": [
    {
      "cell_type": "markdown",
      "metadata": {
        "id": "view-in-github",
        "colab_type": "text"
      },
      "source": [
        "[View in Colaboratory](https://colab.research.google.com/github/gbaeke/xylosai/blob/master/regression/Regression_Model_Tensorflow.ipynb)"
      ]
    },
    {
      "metadata": {
        "id": "-ojphurUYcEH",
        "colab_type": "code",
        "colab": {}
      },
      "cell_type": "code",
      "source": [
        "# see https://www.safaribooksonline.com/library/view/machine-learning-with/9781617293870/kindle_split_013.html\n",
        "import tensorflow as tf\n",
        "import numpy as np\n",
        "import matplotlib.pyplot as plt"
      ],
      "execution_count": 0,
      "outputs": []
    },
    {
      "metadata": {
        "id": "ZXRdCJoqYkEA",
        "colab_type": "code",
        "colab": {}
      },
      "cell_type": "code",
      "source": [
        "lr = 0.01 #learning rate\n",
        "epochs = 500 #epochs"
      ],
      "execution_count": 0,
      "outputs": []
    },
    {
      "metadata": {
        "id": "MYXAPCyOYr6l",
        "colab_type": "code",
        "colab": {}
      },
      "cell_type": "code",
      "source": [
        "# let's generate some training data x and y\n",
        "x_train = np.linspace(-1, 1, 20)\n",
        "y_train = 10 + 2 * x_train + np.random.randn(*x_train.shape) * 0.3\n",
        "\n",
        "# note the use of *x_train.shape versus just x_train.shape\n",
        "# unpacking\n"
      ],
      "execution_count": 0,
      "outputs": []
    },
    {
      "metadata": {
        "id": "g1Av5qWdZI6x",
        "colab_type": "code",
        "colab": {}
      },
      "cell_type": "code",
      "source": [
        "# note that x_train and y_train are numpy arrays\n",
        "# we will present these numpy arrays to tensorflow via placeholders\n",
        "# these placeholders are used in the session with feed_dict\n",
        "X = tf.placeholder(tf.float32)\n",
        "Y = tf.placeholder(tf.float32)"
      ],
      "execution_count": 0,
      "outputs": []
    },
    {
      "metadata": {
        "id": "Ia6viHhVbqON",
        "colab_type": "code",
        "colab": {}
      },
      "cell_type": "code",
      "source": [
        "# next we define the model\n",
        "# this is often a more complex function (e.g. neural networks) that returns the model\n",
        "def model(X, w, b):\n",
        "  return tf.add(tf.multiply(X,w), b)"
      ],
      "execution_count": 0,
      "outputs": []
    },
    {
      "metadata": {
        "id": "HYIfZSpWcPWT",
        "colab_type": "code",
        "colab": {}
      },
      "cell_type": "code",
      "source": [
        "# we are looking for w and b so those should be variables\n",
        "w = tf.Variable(0.0, name=\"weight\")\n",
        "b = tf.Variable(0.0, name=\"intercept\")"
      ],
      "execution_count": 0,
      "outputs": []
    },
    {
      "metadata": {
        "id": "UYOKRcxano1k",
        "colab_type": "text"
      },
      "cell_type": "markdown",
      "source": [
        "Our model is $f(x)=wx +b$\n",
        "\n",
        "Cost function is $MSE = \\frac{1}{n}\\sum_{i=1}^n (y_i - \\hat{y}_i)^2$"
      ]
    },
    {
      "metadata": {
        "id": "5uVL4HkDchOp",
        "colab_type": "code",
        "colab": {}
      },
      "cell_type": "code",
      "source": [
        "# define the model\n",
        "y_model = model(X, w, b)\n",
        "\n",
        "#define the cost (mean squared error)\n",
        "cost = tf.reduce_mean(tf.square(y_model - Y))"
      ],
      "execution_count": 0,
      "outputs": []
    },
    {
      "metadata": {
        "id": "MDcrI_oedBiV",
        "colab_type": "code",
        "colab": {}
      },
      "cell_type": "code",
      "source": [
        "# training operation with simple Gradient Descent\n",
        "train_op = tf.train.GradientDescentOptimizer(lr).minimize(cost)\n",
        "\n",
        "init = tf.global_variables_initializer()"
      ],
      "execution_count": 0,
      "outputs": []
    },
    {
      "metadata": {
        "id": "INH-t-6odJ2r",
        "colab_type": "code",
        "colab": {
          "base_uri": "https://localhost:8080/",
          "height": 35
        },
        "outputId": "a330ab70-aade-43e2-9649-e597b92809cf"
      },
      "cell_type": "code",
      "source": [
        "with tf.Session() as sess:\n",
        "  sess.run(init)\n",
        "  for epoch in range(epochs):\n",
        "    for (x, y) in zip(x_train, y_train):\n",
        "      sess.run(train_op, feed_dict={X: x, Y: y})\n",
        "\n",
        "  w_val = sess.run(w) # should be close to 2\n",
        "  b_val = sess.run(b) # should be close to 10\n",
        "  print(w_val, b_val)"
      ],
      "execution_count": 9,
      "outputs": [
        {
          "output_type": "stream",
          "text": [
            "2.0756197 10.078839\n"
          ],
          "name": "stdout"
        }
      ]
    },
    {
      "metadata": {
        "id": "-3M6-VhTeMyG",
        "colab_type": "code",
        "colab": {
          "base_uri": "https://localhost:8080/",
          "height": 347
        },
        "outputId": "6de9fb9c-e3f3-49b4-e348-ab5836e3cbce"
      },
      "cell_type": "code",
      "source": [
        "# let's plot all this\n",
        "plt.scatter(x_train, y_train)\n",
        "y_learned = x_train * w_val + b_val\n",
        "plt.plot(x_train, y_learned, 'r')\n",
        "plt.show()"
      ],
      "execution_count": 10,
      "outputs": [
        {
          "output_type": "display_data",
          "data": {
            "image/png": "[encoded data removed]",
            "text/plain": [
              "<matplotlib.figure.Figure at 0x7f327be7ea90>"
            ]
          },
          "metadata": {
            "tags": []
          }
        }
      ]
    },
    {
      "metadata": {
        "id": "QEMCzwakZG4l",
        "colab_type": "code",
        "colab": {
          "base_uri": "https://localhost:8080/",
          "height": 35
        },
        "outputId": "ab49190d-77ab-4867-cc93-2b28775f1a69"
      },
      "cell_type": "code",
      "source": [
        "# just for fun, the same in scikit-learn\n",
        "from sklearn import linear_model\n",
        "reg = linear_model.LinearRegression()\n",
        "# x_train shape is expected as (20,1) not (20,)\n",
        "# in reshape, -1 let's numpy figure out the dimension size which is 20 here when you want the 2nd dimension to be 1\n",
        "reg.fit(x_train.reshape(-1,1), y_train) \n",
        "print(reg.coef_, reg.intercept_)"
      ],
      "execution_count": 11,
      "outputs": [
        {
          "output_type": "stream",
          "text": [
            "[2.08624472] 10.078096713598576\n"
          ],
          "name": "stdout"
        }
      ]
    },
    {
      "metadata": {
        "id": "k3EWlaL9bNEx",
        "colab_type": "code",
        "colab": {
          "base_uri": "https://localhost:8080/",
          "height": 35
        },
        "outputId": "4a32b6fd-2b3a-42d4-a628-644c6baa0a85"
      },
      "cell_type": "code",
      "source": [
        "# for even more fun, use normal equation\n",
        "x_train_b = np.c_[np.ones((20,1)), x_train] # add x0 = 1 to each instance which is format expected below\n",
        "best_params = np.linalg.inv(x_train_b.T.dot(x_train_b)).dot(x_train_b.T).dot(y_train)\n",
        "best_params"
      ],
      "execution_count": 12,
      "outputs": [
        {
          "output_type": "execute_result",
          "data": {
            "text/plain": [
              "array([10.07809671,  2.08624472])"
            ]
          },
          "metadata": {
            "tags": []
          },
          "execution_count": 12
        }
      ]
    },
    {
      "metadata": {
        "id": "U-drCKgccYK4",
        "colab_type": "code",
        "colab": {}
      },
      "cell_type": "code",
      "source": [
        ""
      ],
      "execution_count": 0,
      "outputs": []
    }
  ]
}