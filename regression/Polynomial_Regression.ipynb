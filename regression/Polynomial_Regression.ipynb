{
  "nbformat": 4,
  "nbformat_minor": 0,
  "metadata": {
    "colab": {
      "name": "Polynomial Regression.ipynb",
      "version": "0.3.2",
      "provenance": [],
      "collapsed_sections": [],
      "include_colab_link": true
    },
    "kernelspec": {
      "name": "python3",
      "display_name": "Python 3"
    }
  },
  "cells": [
    {
      "cell_type": "markdown",
      "metadata": {
        "id": "view-in-github",
        "colab_type": "text"
      },
      "source": [
        "[View in Colaboratory](https://colab.research.google.com/github/gbaeke/xylosai/blob/master/regression/Polynomial_Regression.ipynb)"
      ]
    },
    {
      "metadata": {
        "id": "p0i7AyIimdqP",
        "colab_type": "text"
      },
      "cell_type": "markdown",
      "source": [
        "Example of a polynomial of the nth degree:\n",
        "\n",
        "$f(x) = w_nx^2 + ... + w_1x + w_0$\n",
        "\n",
        "When n=1, you just have a linear function\n"
      ]
    },
    {
      "metadata": {
        "id": "2a5yEe5MmXWb",
        "colab_type": "code",
        "colab": {}
      },
      "cell_type": "code",
      "source": [
        "import tensorflow as tf\n",
        "import numpy as np\n",
        "import matplotlib.pyplot as plt"
      ],
      "execution_count": 0,
      "outputs": []
    },
    {
      "metadata": {
        "id": "pR1YdzxRpuKK",
        "colab_type": "code",
        "colab": {}
      },
      "cell_type": "code",
      "source": [
        "lr = 0.01\n",
        "epochs = 40"
      ],
      "execution_count": 0,
      "outputs": []
    },
    {
      "metadata": {
        "id": "WSza7QNppy-s",
        "colab_type": "code",
        "colab": {}
      },
      "cell_type": "code",
      "source": [
        "x_train = np.linspace(-1, 1, 101)\n",
        "# note: could have used a loop to build this; but manual is clearer\n",
        "num_coeffs = 7\n",
        "y_train = np.power(x_train, 1) + 2 * np.power(x_train, 2) + 3 * np.power(x_train, 3) + \\\n",
        "  4 * np.power(x_train, 4) + 5 * np.power(x_train, 5) + 6 * np.power(x_train, 6)  + 7 * np.power(x_train, 7)\n",
        "y_train += np.random.randn(*x_train.shape) * 1.3"
      ],
      "execution_count": 0,
      "outputs": []
    },
    {
      "metadata": {
        "id": "yRJcdTaMrbGg",
        "colab_type": "code",
        "colab": {
          "base_uri": "https://localhost:8080/",
          "height": 369
        },
        "outputId": "cef1189e-fa17-4272-a598-7bc1588076c1"
      },
      "cell_type": "code",
      "source": [
        "plt.scatter(x_train, y_train)\n",
        "plt.show"
      ],
      "execution_count": 10,
      "outputs": [
        {
          "output_type": "execute_result",
          "data": {
            "text/plain": [
              "<function matplotlib.pyplot.show>"
            ]
          },
          "metadata": {
            "tags": []
          },
          "execution_count": 10
        },
        {
          "output_type": "display_data",
          "data": {
            "image/png": "[encoded data removed]",
            "text/plain": [
              "<matplotlib.figure.Figure at 0x7fec8070be10>"
            ]
          },
          "metadata": {
            "tags": []
          }
        }
      ]
    },
    {
      "metadata": {
        "id": "dFrRpbzDrfXi",
        "colab_type": "code",
        "colab": {}
      },
      "cell_type": "code",
      "source": [
        "# placeholders for X and Y data\n",
        "# we will use feed_dict to feed x_train and y_train to these placeholders\n",
        "X = tf.placeholder(tf.float32)\n",
        "Y = tf.placeholder(tf.float32)"
      ],
      "execution_count": 0,
      "outputs": []
    },
    {
      "metadata": {
        "id": "6rXfR62DsRxO",
        "colab_type": "code",
        "colab": {}
      },
      "cell_type": "code",
      "source": [
        "# definition of the model\n",
        "def model(X,w):\n",
        "  # note that w is not just one value but a list of values\n",
        "  # there are num_coeffs values in the list (7)\n",
        "  terms=[]\n",
        "  for i in range(num_coeffs):\n",
        "    term = tf.multiply(w[i], tf.pow(X,i)) # term of polynomial\n",
        "    terms.append(term)\n",
        "  return tf.add_n(terms) # add all terms element-wise\n",
        "\n"
      ],
      "execution_count": 0,
      "outputs": []
    },
    {
      "metadata": {
        "id": "cxvg9_rpux8z",
        "colab_type": "code",
        "colab": {}
      },
      "cell_type": "code",
      "source": [
        "# variable for all weights\n",
        "w = tf.Variable([0.] * num_coeffs, name = \"params\")\n",
        "\n",
        "# our model\n",
        "y_model = model(X,w)"
      ],
      "execution_count": 0,
      "outputs": []
    },
    {
      "metadata": {
        "id": "ZW0TUOtXvBqV",
        "colab_type": "code",
        "colab": {}
      },
      "cell_type": "code",
      "source": [
        "# cost function\n",
        "cost = tf.pow(Y-y_model, 2)"
      ],
      "execution_count": 0,
      "outputs": []
    },
    {
      "metadata": {
        "id": "IlsP7pm2vywr",
        "colab_type": "code",
        "colab": {}
      },
      "cell_type": "code",
      "source": [
        "#define train operation\n",
        "train_op = tf.train.GradientDescentOptimizer(lr).minimize(cost)"
      ],
      "execution_count": 0,
      "outputs": []
    },
    {
      "metadata": {
        "id": "52l02Sb5v7w6",
        "colab_type": "code",
        "colab": {
          "base_uri": "https://localhost:8080/",
          "height": 54
        },
        "outputId": "a0bc1abd-f8c9-46b5-e0d9-2946f245b292"
      },
      "cell_type": "code",
      "source": [
        "#let the training start\n",
        "sess = tf.Session()\n",
        "init = tf.global_variables_initializer()\n",
        "sess.run(init)\n",
        "\n",
        "for epoch in range(epochs):\n",
        "  for (x,y) in zip(x_train, y_train):\n",
        "    sess.run(train_op, feed_dict={X: x, Y: y})\n",
        "  \n",
        "w_val = sess.run(w)\n",
        "print(w_val)"
      ],
      "execution_count": 44,
      "outputs": [
        {
          "output_type": "stream",
          "text": [
            "[-0.1770524 -0.5920483  3.043064   6.8615117  4.2210574  8.18779\n",
            "  4.4349785]\n"
          ],
          "name": "stdout"
        }
      ]
    },
    {
      "metadata": {
        "id": "jLR_S_sTwhec",
        "colab_type": "code",
        "colab": {
          "base_uri": "https://localhost:8080/",
          "height": 347
        },
        "outputId": "ef9c311f-4243-4a51-bf87-9383199004a2"
      },
      "cell_type": "code",
      "source": [
        "plt.scatter(x_train, y_train)                                                 \n",
        "trY2 = 0                                                                  \n",
        "for i in range(num_coeffs):                                                \n",
        "    trY2 += w_val[i] * np.power(x_train, i)                                    \n",
        "                                                                           \n",
        "plt.plot(x_train, trY2, 'r')                                                   \n",
        "plt.show()     "
      ],
      "execution_count": 45,
      "outputs": [
        {
          "output_type": "display_data",
          "data": {
            "image/png": "[encoded data removed]",
            "text/plain": [
              "<matplotlib.figure.Figure at 0x7fec7a367fd0>"
            ]
          },
          "metadata": {
            "tags": []
          }
        }
      ]
    },
    {
      "metadata": {
        "id": "DOW932YLw1Yd",
        "colab_type": "code",
        "colab": {}
      },
      "cell_type": "code",
      "source": [
        "# let's try this with scikit learn\n",
        "from sklearn.preprocessing import PolynomialFeatures\n",
        "poly_features = PolynomialFeatures(degree=7, include_bias=False)\n",
        "x_train_poly = poly_features.fit_transform(x_train.reshape(-1,1))\n"
      ],
      "execution_count": 0,
      "outputs": []
    },
    {
      "metadata": {
        "id": "auPcyapNyIIk",
        "colab_type": "code",
        "colab": {
          "base_uri": "https://localhost:8080/",
          "height": 35
        },
        "outputId": "ef0a3013-f534-4543-cd00-62f520235d8d"
      },
      "cell_type": "code",
      "source": [
        "# our original 1st feature\n",
        "x_train[1]"
      ],
      "execution_count": 32,
      "outputs": [
        {
          "output_type": "execute_result",
          "data": {
            "text/plain": [
              "-0.98"
            ]
          },
          "metadata": {
            "tags": []
          },
          "execution_count": 32
        }
      ]
    },
    {
      "metadata": {
        "id": "JgpGg8h8yn1b",
        "colab_type": "code",
        "colab": {
          "base_uri": "https://localhost:8080/",
          "height": 54
        },
        "outputId": "31e95429-2982-4583-a19d-a2b84bc8a2ac"
      },
      "cell_type": "code",
      "source": [
        "# 1st poly feature -0.98^7=-0,86812553324672\n",
        "x_train_poly[1]"
      ],
      "execution_count": 33,
      "outputs": [
        {
          "output_type": "execute_result",
          "data": {
            "text/plain": [
              "array([-0.98      ,  0.9604    , -0.941192  ,  0.92236816, -0.9039208 ,\n",
              "        0.88584238, -0.86812553])"
            ]
          },
          "metadata": {
            "tags": []
          },
          "execution_count": 33
        }
      ]
    },
    {
      "metadata": {
        "id": "D0mPUWggytCg",
        "colab_type": "code",
        "colab": {
          "base_uri": "https://localhost:8080/",
          "height": 35
        },
        "outputId": "3c069bd9-44be-4d9d-b563-4e79fa1323f3"
      },
      "cell_type": "code",
      "source": [
        "# now we do linear regression with these polynomial features\n",
        "from sklearn.linear_model import LinearRegression\n",
        "lin_reg=LinearRegression(fit_intercept=False)\n",
        "lin_reg.fit(x_train_poly, y_train)"
      ],
      "execution_count": 38,
      "outputs": [
        {
          "output_type": "execute_result",
          "data": {
            "text/plain": [
              "LinearRegression(copy_X=True, fit_intercept=False, n_jobs=1, normalize=False)"
            ]
          },
          "metadata": {
            "tags": []
          },
          "execution_count": 38
        }
      ]
    },
    {
      "metadata": {
        "id": "9jN6Y4eVzIFU",
        "colab_type": "code",
        "colab": {
          "base_uri": "https://localhost:8080/",
          "height": 54
        },
        "outputId": "f094203b-d288-4323-d623-a3b8a37aae72"
      },
      "cell_type": "code",
      "source": [
        "# what are the weights according to scikit learn?\n",
        "lin_reg.coef_"
      ],
      "execution_count": 41,
      "outputs": [
        {
          "output_type": "execute_result",
          "data": {
            "text/plain": [
              "(array([  0.91011474,   3.06768926,  -5.74741655,  -1.26776179,\n",
              "         33.06464205,  10.53883599, -13.95243685]), 0.0)"
            ]
          },
          "metadata": {
            "tags": []
          },
          "execution_count": 41
        }
      ]
    },
    {
      "metadata": {
        "id": "4bsRZGDr0-Tf",
        "colab_type": "code",
        "colab": {
          "base_uri": "https://localhost:8080/",
          "height": 347
        },
        "outputId": "337bb2be-ae16-4bdc-8f69-885cf44d43a8"
      },
      "cell_type": "code",
      "source": [
        "# result is quite different why?\n",
        "plt.scatter(x_train, y_train)                                                 \n",
        "trY2 = 0                                                                  \n",
        "for i in range(num_coeffs):                                                \n",
        "    trY2 += lin_reg.coef_[i] * np.power(x_train, i)                                    \n",
        "                                                                           \n",
        "plt.plot(x_train, trY2, 'r')                                                   \n",
        "plt.show()     "
      ],
      "execution_count": 42,
      "outputs": [
        {
          "output_type": "display_data",
          "data": {
            "image/png": "[encoded data removed]",
            "text/plain": [
              "<matplotlib.figure.Figure at 0x7fec7a4137b8>"
            ]
          },
          "metadata": {
            "tags": []
          }
        }
      ]
    },
    {
      "metadata": {
        "id": "lSS2J16V1i_9",
        "colab_type": "code",
        "colab": {}
      },
      "cell_type": "code",
      "source": [
        ""
      ],
      "execution_count": 0,
      "outputs": []
    }
  ]
}