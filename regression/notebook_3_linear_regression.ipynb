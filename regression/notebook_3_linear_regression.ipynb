{
  "nbformat": 4,
  "nbformat_minor": 0,
  "metadata": {
    "colab": {
      "name": "notebook_3_linear_regression.ipynb",
      "version": "0.3.2",
      "provenance": []
    },
    "kernelspec": {
      "display_name": "python352",
      "language": "python",
      "name": "python352"
    }
  },
  "cells": [
    {
      "metadata": {
        "id": "s9vhPkoQDhAb",
        "colab_type": "text"
      },
      "cell_type": "markdown",
      "source": [
        "# 1 Introduction\n",
        "\n",
        "In linear regression, a **continuous output $y$ (or multiple outputs) is estimated based on a set of input variables $x_1, x_2, ..., x_n$ **. \n",
        "\n",
        "The output is written as a function of the input features. Then, the parameters of this function are fitted to the dataset.\n",
        "\n",
        "One way in which the output can be written as a function of the input, is as follows. The features are $x_1, x_2, ..., x_n$.\n",
        "\n",
        "$y = w_0 + w_1x_1 + w_2x_2 + ... + w_nx_n$\n",
        "\n",
        "The parameters $w_0, ... w_n$ can than be fitted to the dataset $y, w_0..w_n$. They will be chosen so that their predictions perform well on the training data. But this function assumes that the relationship between input and output is linear. The output is always a linear combination of the inputs. The learned relationship will be the best possible **linear** relationship.\n",
        "\n",
        "In the real world, a lot of things are non-linear. If we want our model to be able to learn **non-linear relationships**, we must do **feature engineering**. \n",
        "\n",
        "For example, if we suspect that our output might actually depend quadratically on the second input variable $x_2$, we might rewrite our equation as below. Now, the features are $x_1, x_2^2, x_3, ... x_n$ an. We will **make a distinction between variables $x_1, x_2, .. x_n$ and the features that are derived from them**. One feature is one of the variables, or the square of a variable, or even the product of two variables, or any other function of one or more of the variables.\n",
        "\n",
        "$y = w_0 + w_1x_1 + w_2x_2^2 + ... + w_nx_n$\n",
        "\n",
        "We will use the notation of **'x' for input variables, and 'h' for features**. As such, we can rewrite our equation as follows:\n",
        "\n",
        "$y = w_0 + w_1h_1 + w_2h_2 + ... + w_nh_n$\n",
        "\n",
        "In the example above, $h_2 = x_2^2$\n",
        "\n",
        "From the input variables, the input features are calculated. Then, the model is trained based on the features. The output is still a **linear function of the features**. Therefore, even though the relation of input **variables** to output could be non-linear, we still call this linear regression. \n",
        "\n",
        "In that case, the output will depend more strongly on $x_2$. If, on the other hand, we expect that our output $y$ is only very slightly influenced by $x_2$, we might use the square root of $x_2$ instead.\n",
        "\n",
        "Feature engineering offers a lot of possibilities. We can always add more features. For example, we could use the following set of features: $x_1, x_2,x_2^2,x_3,x_3^2,x_3^4, x_4, \\sqrt(x_4),..., x_5 * x_6,... x_n$.\n",
        "\n",
        "When we do feature engineering and add more variations and new features to the model, the model will be able to learn more complex relationships between the input and the output. However, **beware of overfitting**. If the model is to complex, it could fit very well on the training set but perform badly on new data. Especially when less training data is available, choosing a more simple model could improve performance. The trained model is then likely to generalize better to new data. Simplifying the model can also be done by dropping some input variables.\n",
        "\n",
        "Feature engineering must be done manually by the data scientists **before** creating the model. Experience and a good understanding of the data will certainly help!"
      ]
    },
    {
      "metadata": {
        "id": "kdkBIJF3DhAe",
        "colab_type": "text"
      },
      "cell_type": "markdown",
      "source": [
        "\n",
        "\n",
        "# 2 House Sales dataset\n",
        "\n",
        "This notebook will guide you through a first example of linear regression. The goal is to train a model that is able to predict the selling price of a house, based on some features. \n",
        "\n",
        "The dataset is taken from [Kaggle](https://www.kaggle.com/), an online platform and community where data scientists can share approaches, data sets and take part in machine learning competitions. \n",
        "\n",
        "Our House Sales dataset consists of 21613 observations of house prices in King County, USA. It includes home sold between May 2014 and May 2015. The input variables include the living area, number of bathrooms, number of bedrooms, wether or not there is a waterfront view, the condition and grade, building year, ...More info can be found [here](https://www.kaggle.com/harlfoxem/housesalesprediction). \n",
        "\n",
        "In what follows, we explore the data and we try to extract useful features from the input variables. Then we train a regression model with the third-party Python library **sklearn**. We will discuss important concepts like the **train-test split** and **over- and underfitting** and see these concepts in action. They are very important for the whole field of machine learning, not only for regression. \n",
        "\n",
        "# 3 Feature engineering\n",
        "\n",
        "## 3.1 Reading and exploring the data"
      ]
    },
    {
      "metadata": {
        "id": "OZxL9oM9DhAf",
        "colab_type": "code",
        "colab": {}
      },
      "cell_type": "code",
      "source": [
        "import pandas as pd\n",
        "import numpy as np\n",
        "import matplotlib.pyplot as plt"
      ],
      "execution_count": 0,
      "outputs": []
    },
    {
      "metadata": {
        "id": "Iko8xwBAEmdT",
        "colab_type": "code",
        "colab": {}
      },
      "cell_type": "code",
      "source": [
        "#test change"
      ],
      "execution_count": 0,
      "outputs": []
    },
    {
      "metadata": {
        "id": "eT87OM56DhAk",
        "colab_type": "code",
        "colab": {}
      },
      "cell_type": "code",
      "source": [
        "dataset = pd.read_csv(\"notebook_3_files/kc_house_data.csv\")"
      ],
      "execution_count": 0,
      "outputs": []
    },
    {
      "metadata": {
        "id": "0cn5ZMU9DhAu",
        "colab_type": "code",
        "colab": {},
        "outputId": "2eff6f62-bcfb-4ead-df76-65e235285b4c"
      },
      "cell_type": "code",
      "source": [
        "print(\"columns: \",dataset.columns)\n",
        "print(\"\")\n",
        "print(\"number of columns: \",len(dataset.columns))\n",
        "print(\"number of rows: \",len(dataset))"
      ],
      "execution_count": 0,
      "outputs": [
        {
          "output_type": "stream",
          "text": [
            "columns:  Index(['id', 'date', 'price', 'bedrooms', 'bathrooms', 'sqft_living',\n",
            "       'sqft_lot', 'floors', 'waterfront', 'view', 'condition', 'grade',\n",
            "       'sqft_above', 'sqft_basement', 'yr_built', 'yr_renovated', 'zipcode',\n",
            "       'lat', 'long', 'sqft_living15', 'sqft_lot15'],\n",
            "      dtype='object')\n",
            "\n",
            "number of columns:  21\n",
            "number of rows:  21613\n"
          ],
          "name": "stdout"
        }
      ]
    },
    {
      "metadata": {
        "id": "nnbQBRYtDhA5",
        "colab_type": "text"
      },
      "cell_type": "markdown",
      "source": [
        "Our dataset consists of 19 columns for the input variables, one column with a house ID and one column with the price (i.e. the target output)."
      ]
    },
    {
      "metadata": {
        "id": "0yWBRuI6DhA6",
        "colab_type": "code",
        "colab": {},
        "outputId": "6dcbca67-1d40-440f-efef-71e9ae01f15e"
      },
      "cell_type": "code",
      "source": [
        "dataset.head()"
      ],
      "execution_count": 0,
      "outputs": [
        {
          "output_type": "execute_result",
          "data": {
            "text/html": [
              "<div>\n",
              "<style scoped>\n",
              "    .dataframe tbody tr th:only-of-type {\n",
              "        vertical-align: middle;\n",
              "    }\n",
              "\n",
              "    .dataframe tbody tr th {\n",
              "        vertical-align: top;\n",
              "    }\n",
              "\n",
              "    .dataframe thead th {\n",
              "        text-align: right;\n",
              "    }\n",
              "</style>\n",
              "<table border=\"1\" class=\"dataframe\">\n",
              "  <thead>\n",
              "    <tr style=\"text-align: right;\">\n",
              "      <th></th>\n",
              "      <th>id</th>\n",
              "      <th>date</th>\n",
              "      <th>price</th>\n",
              "      <th>bedrooms</th>\n",
              "      <th>bathrooms</th>\n",
              "      <th>sqft_living</th>\n",
              "      <th>sqft_lot</th>\n",
              "      <th>floors</th>\n",
              "      <th>waterfront</th>\n",
              "      <th>view</th>\n",
              "      <th>...</th>\n",
              "      <th>grade</th>\n",
              "      <th>sqft_above</th>\n",
              "      <th>sqft_basement</th>\n",
              "      <th>yr_built</th>\n",
              "      <th>yr_renovated</th>\n",
              "      <th>zipcode</th>\n",
              "      <th>lat</th>\n",
              "      <th>long</th>\n",
              "      <th>sqft_living15</th>\n",
              "      <th>sqft_lot15</th>\n",
              "    </tr>\n",
              "  </thead>\n",
              "  <tbody>\n",
              "    <tr>\n",
              "      <th>0</th>\n",
              "      <td>7129300520</td>\n",
              "      <td>20141013T000000</td>\n",
              "      <td>221900.0</td>\n",
              "      <td>3</td>\n",
              "      <td>1.00</td>\n",
              "      <td>1180</td>\n",
              "      <td>5650</td>\n",
              "      <td>1.0</td>\n",
              "      <td>0</td>\n",
              "      <td>0</td>\n",
              "      <td>...</td>\n",
              "      <td>7</td>\n",
              "      <td>1180</td>\n",
              "      <td>0</td>\n",
              "      <td>1955</td>\n",
              "      <td>0</td>\n",
              "      <td>98178</td>\n",
              "      <td>47.5112</td>\n",
              "      <td>-122.257</td>\n",
              "      <td>1340</td>\n",
              "      <td>5650</td>\n",
              "    </tr>\n",
              "    <tr>\n",
              "      <th>1</th>\n",
              "      <td>6414100192</td>\n",
              "      <td>20141209T000000</td>\n",
              "      <td>538000.0</td>\n",
              "      <td>3</td>\n",
              "      <td>2.25</td>\n",
              "      <td>2570</td>\n",
              "      <td>7242</td>\n",
              "      <td>2.0</td>\n",
              "      <td>0</td>\n",
              "      <td>0</td>\n",
              "      <td>...</td>\n",
              "      <td>7</td>\n",
              "      <td>2170</td>\n",
              "      <td>400</td>\n",
              "      <td>1951</td>\n",
              "      <td>1991</td>\n",
              "      <td>98125</td>\n",
              "      <td>47.7210</td>\n",
              "      <td>-122.319</td>\n",
              "      <td>1690</td>\n",
              "      <td>7639</td>\n",
              "    </tr>\n",
              "    <tr>\n",
              "      <th>2</th>\n",
              "      <td>5631500400</td>\n",
              "      <td>20150225T000000</td>\n",
              "      <td>180000.0</td>\n",
              "      <td>2</td>\n",
              "      <td>1.00</td>\n",
              "      <td>770</td>\n",
              "      <td>10000</td>\n",
              "      <td>1.0</td>\n",
              "      <td>0</td>\n",
              "      <td>0</td>\n",
              "      <td>...</td>\n",
              "      <td>6</td>\n",
              "      <td>770</td>\n",
              "      <td>0</td>\n",
              "      <td>1933</td>\n",
              "      <td>0</td>\n",
              "      <td>98028</td>\n",
              "      <td>47.7379</td>\n",
              "      <td>-122.233</td>\n",
              "      <td>2720</td>\n",
              "      <td>8062</td>\n",
              "    </tr>\n",
              "    <tr>\n",
              "      <th>3</th>\n",
              "      <td>2487200875</td>\n",
              "      <td>20141209T000000</td>\n",
              "      <td>604000.0</td>\n",
              "      <td>4</td>\n",
              "      <td>3.00</td>\n",
              "      <td>1960</td>\n",
              "      <td>5000</td>\n",
              "      <td>1.0</td>\n",
              "      <td>0</td>\n",
              "      <td>0</td>\n",
              "      <td>...</td>\n",
              "      <td>7</td>\n",
              "      <td>1050</td>\n",
              "      <td>910</td>\n",
              "      <td>1965</td>\n",
              "      <td>0</td>\n",
              "      <td>98136</td>\n",
              "      <td>47.5208</td>\n",
              "      <td>-122.393</td>\n",
              "      <td>1360</td>\n",
              "      <td>5000</td>\n",
              "    </tr>\n",
              "    <tr>\n",
              "      <th>4</th>\n",
              "      <td>1954400510</td>\n",
              "      <td>20150218T000000</td>\n",
              "      <td>510000.0</td>\n",
              "      <td>3</td>\n",
              "      <td>2.00</td>\n",
              "      <td>1680</td>\n",
              "      <td>8080</td>\n",
              "      <td>1.0</td>\n",
              "      <td>0</td>\n",
              "      <td>0</td>\n",
              "      <td>...</td>\n",
              "      <td>8</td>\n",
              "      <td>1680</td>\n",
              "      <td>0</td>\n",
              "      <td>1987</td>\n",
              "      <td>0</td>\n",
              "      <td>98074</td>\n",
              "      <td>47.6168</td>\n",
              "      <td>-122.045</td>\n",
              "      <td>1800</td>\n",
              "      <td>7503</td>\n",
              "    </tr>\n",
              "  </tbody>\n",
              "</table>\n",
              "<p>5 rows × 21 columns</p>\n",
              "</div>"
            ],
            "text/plain": [
              "           id             date     price  bedrooms  bathrooms  sqft_living  \\\n",
              "0  7129300520  20141013T000000  221900.0         3       1.00         1180   \n",
              "1  6414100192  20141209T000000  538000.0         3       2.25         2570   \n",
              "2  5631500400  20150225T000000  180000.0         2       1.00          770   \n",
              "3  2487200875  20141209T000000  604000.0         4       3.00         1960   \n",
              "4  1954400510  20150218T000000  510000.0         3       2.00         1680   \n",
              "\n",
              "   sqft_lot  floors  waterfront  view     ...      grade  sqft_above  \\\n",
              "0      5650     1.0           0     0     ...          7        1180   \n",
              "1      7242     2.0           0     0     ...          7        2170   \n",
              "2     10000     1.0           0     0     ...          6         770   \n",
              "3      5000     1.0           0     0     ...          7        1050   \n",
              "4      8080     1.0           0     0     ...          8        1680   \n",
              "\n",
              "   sqft_basement  yr_built  yr_renovated  zipcode      lat     long  \\\n",
              "0              0      1955             0    98178  47.5112 -122.257   \n",
              "1            400      1951          1991    98125  47.7210 -122.319   \n",
              "2              0      1933             0    98028  47.7379 -122.233   \n",
              "3            910      1965             0    98136  47.5208 -122.393   \n",
              "4              0      1987             0    98074  47.6168 -122.045   \n",
              "\n",
              "   sqft_living15  sqft_lot15  \n",
              "0           1340        5650  \n",
              "1           1690        7639  \n",
              "2           2720        8062  \n",
              "3           1360        5000  \n",
              "4           1800        7503  \n",
              "\n",
              "[5 rows x 21 columns]"
            ]
          },
          "metadata": {
            "tags": []
          },
          "execution_count": 119
        }
      ]
    },
    {
      "metadata": {
        "id": "pNQ-NqRaDhA-",
        "colab_type": "code",
        "colab": {},
        "outputId": "b82fe44f-b3d5-465a-bf64-85da7f3ccb67"
      },
      "cell_type": "code",
      "source": [
        "dataset.dtypes"
      ],
      "execution_count": 0,
      "outputs": [
        {
          "output_type": "execute_result",
          "data": {
            "text/plain": [
              "id                 int64\n",
              "date              object\n",
              "price            float64\n",
              "bedrooms           int64\n",
              "bathrooms        float64\n",
              "sqft_living        int64\n",
              "sqft_lot           int64\n",
              "floors           float64\n",
              "waterfront         int64\n",
              "view               int64\n",
              "condition          int64\n",
              "grade              int64\n",
              "sqft_above         int64\n",
              "sqft_basement      int64\n",
              "yr_built           int64\n",
              "yr_renovated       int64\n",
              "zipcode            int64\n",
              "lat              float64\n",
              "long             float64\n",
              "sqft_living15      int64\n",
              "sqft_lot15         int64\n",
              "dtype: object"
            ]
          },
          "metadata": {
            "tags": []
          },
          "execution_count": 120
        }
      ]
    },
    {
      "metadata": {
        "id": "xEi9Iou8DhBB",
        "colab_type": "text"
      },
      "cell_type": "markdown",
      "source": [
        "## 3.2 One-hot encoding categorical features"
      ]
    },
    {
      "metadata": {
        "id": "n8m7XZemDhBC",
        "colab_type": "text"
      },
      "cell_type": "markdown",
      "source": [
        "The example data we printed above, did not include all columns due to space restrictions. Let's zoom in on some of the columns..."
      ]
    },
    {
      "metadata": {
        "id": "b-n5DflVDhBC",
        "colab_type": "code",
        "colab": {},
        "outputId": "ecb2118d-5b2a-4373-878c-9d3eeee40d11"
      },
      "cell_type": "code",
      "source": [
        "dataset[[\"waterfront\",\"view\",\"condition\",\"grade\",\"zipcode\"]].head(10)"
      ],
      "execution_count": 0,
      "outputs": [
        {
          "output_type": "execute_result",
          "data": {
            "text/html": [
              "<div>\n",
              "<style scoped>\n",
              "    .dataframe tbody tr th:only-of-type {\n",
              "        vertical-align: middle;\n",
              "    }\n",
              "\n",
              "    .dataframe tbody tr th {\n",
              "        vertical-align: top;\n",
              "    }\n",
              "\n",
              "    .dataframe thead th {\n",
              "        text-align: right;\n",
              "    }\n",
              "</style>\n",
              "<table border=\"1\" class=\"dataframe\">\n",
              "  <thead>\n",
              "    <tr style=\"text-align: right;\">\n",
              "      <th></th>\n",
              "      <th>waterfront</th>\n",
              "      <th>view</th>\n",
              "      <th>condition</th>\n",
              "      <th>grade</th>\n",
              "      <th>zipcode</th>\n",
              "    </tr>\n",
              "  </thead>\n",
              "  <tbody>\n",
              "    <tr>\n",
              "      <th>0</th>\n",
              "      <td>0</td>\n",
              "      <td>0</td>\n",
              "      <td>3</td>\n",
              "      <td>7</td>\n",
              "      <td>98178</td>\n",
              "    </tr>\n",
              "    <tr>\n",
              "      <th>1</th>\n",
              "      <td>0</td>\n",
              "      <td>0</td>\n",
              "      <td>3</td>\n",
              "      <td>7</td>\n",
              "      <td>98125</td>\n",
              "    </tr>\n",
              "    <tr>\n",
              "      <th>2</th>\n",
              "      <td>0</td>\n",
              "      <td>0</td>\n",
              "      <td>3</td>\n",
              "      <td>6</td>\n",
              "      <td>98028</td>\n",
              "    </tr>\n",
              "    <tr>\n",
              "      <th>3</th>\n",
              "      <td>0</td>\n",
              "      <td>0</td>\n",
              "      <td>5</td>\n",
              "      <td>7</td>\n",
              "      <td>98136</td>\n",
              "    </tr>\n",
              "    <tr>\n",
              "      <th>4</th>\n",
              "      <td>0</td>\n",
              "      <td>0</td>\n",
              "      <td>3</td>\n",
              "      <td>8</td>\n",
              "      <td>98074</td>\n",
              "    </tr>\n",
              "    <tr>\n",
              "      <th>5</th>\n",
              "      <td>0</td>\n",
              "      <td>0</td>\n",
              "      <td>3</td>\n",
              "      <td>11</td>\n",
              "      <td>98053</td>\n",
              "    </tr>\n",
              "    <tr>\n",
              "      <th>6</th>\n",
              "      <td>0</td>\n",
              "      <td>0</td>\n",
              "      <td>3</td>\n",
              "      <td>7</td>\n",
              "      <td>98003</td>\n",
              "    </tr>\n",
              "    <tr>\n",
              "      <th>7</th>\n",
              "      <td>0</td>\n",
              "      <td>0</td>\n",
              "      <td>3</td>\n",
              "      <td>7</td>\n",
              "      <td>98198</td>\n",
              "    </tr>\n",
              "    <tr>\n",
              "      <th>8</th>\n",
              "      <td>0</td>\n",
              "      <td>0</td>\n",
              "      <td>3</td>\n",
              "      <td>7</td>\n",
              "      <td>98146</td>\n",
              "    </tr>\n",
              "    <tr>\n",
              "      <th>9</th>\n",
              "      <td>0</td>\n",
              "      <td>0</td>\n",
              "      <td>3</td>\n",
              "      <td>7</td>\n",
              "      <td>98038</td>\n",
              "    </tr>\n",
              "  </tbody>\n",
              "</table>\n",
              "</div>"
            ],
            "text/plain": [
              "   waterfront  view  condition  grade  zipcode\n",
              "0           0     0          3      7    98178\n",
              "1           0     0          3      7    98125\n",
              "2           0     0          3      6    98028\n",
              "3           0     0          5      7    98136\n",
              "4           0     0          3      8    98074\n",
              "5           0     0          3     11    98053\n",
              "6           0     0          3      7    98003\n",
              "7           0     0          3      7    98198\n",
              "8           0     0          3      7    98146\n",
              "9           0     0          3      7    98038"
            ]
          },
          "metadata": {
            "tags": []
          },
          "execution_count": 121
        }
      ]
    },
    {
      "metadata": {
        "id": "C4EuOcaeDhBF",
        "colab_type": "text"
      },
      "cell_type": "markdown",
      "source": [
        "First, we must check if any of the data is categorical. Most columns seem numerical, but others are categorical. \n",
        "\n",
        "For example, the **zip code**, even though it is a number, is a clear example of a categorical value. There is no real-world relationship between the price of a house and the magnitude of the zipcode. Having a zipcode of 99000 does not mean my house is more expensive than a house with zipcode 98000 or vice versa. \n",
        "\n",
        "There are 70 different zipcodes..."
      ]
    },
    {
      "metadata": {
        "id": "_Iczi2spDhBF",
        "colab_type": "code",
        "colab": {},
        "outputId": "40e5b0a0-640c-468a-c111-3ab38d9464d1"
      },
      "cell_type": "code",
      "source": [
        "print(\"zipcodes: \",dataset[\"zipcode\"].unique())\n",
        "print(\"\")\n",
        "print(\"number of zipcodes: \",len(dataset[\"zipcode\"].unique()))\n"
      ],
      "execution_count": 0,
      "outputs": [
        {
          "output_type": "stream",
          "text": [
            "zipcodes:  [98178 98125 98028 98136 98074 98053 98003 98198 98146 98038 98007 98115\n",
            " 98107 98126 98019 98103 98002 98133 98040 98092 98030 98119 98112 98052\n",
            " 98027 98117 98058 98001 98056 98166 98023 98070 98148 98105 98042 98008\n",
            " 98059 98122 98144 98004 98005 98034 98075 98116 98010 98118 98199 98032\n",
            " 98045 98102 98077 98108 98168 98177 98065 98029 98006 98109 98022 98033\n",
            " 98155 98024 98011 98031 98106 98072 98188 98014 98055 98039]\n",
            "\n",
            "number of zipcodes:  70\n"
          ],
          "name": "stdout"
        }
      ]
    },
    {
      "metadata": {
        "id": "KhvO8ikhDhBP",
        "colab_type": "text"
      },
      "cell_type": "markdown",
      "source": [
        "Still, we want to incorporate the zipcode into the model. The location of a house could have an influence on its price. We will **one-hot encode** the zipcode column. This means we add a column to the dataset for each of the 70 zipcodes. For each row, we put a 1 in the column that matches the houses zipcode, and a 0 in the others. Now, the zipcode column is split up into 70 numerical \"feature columns\"."
      ]
    },
    {
      "metadata": {
        "id": "vILA-qo7DhBQ",
        "colab_type": "code",
        "colab": {}
      },
      "cell_type": "code",
      "source": [
        "def encode_categorical(dataframe, column):\n",
        "    \n",
        "    #return the same dataframe, but with the column one-hot encoded\n",
        "    dummies = pd.get_dummies(dataframe[column])\n",
        "    dummies.columns = [column+str(value) for value in dummies.columns]\n",
        "    dataframe = dataframe.drop(columns = column)\n",
        "    for new_column in dummies.columns:\n",
        "        dataframe[new_column] = dummies[new_column]\n",
        "    return dataframe\n",
        "    "
      ],
      "execution_count": 0,
      "outputs": []
    },
    {
      "metadata": {
        "id": "sW8JeQMWDhBR",
        "colab_type": "code",
        "colab": {}
      },
      "cell_type": "code",
      "source": [
        "dataset = encode_categorical(dataset,'zipcode')"
      ],
      "execution_count": 0,
      "outputs": []
    },
    {
      "metadata": {
        "id": "D_RefJJZDhBT",
        "colab_type": "code",
        "colab": {},
        "outputId": "d67cf1b7-975b-4df5-fb51-905cc3668748"
      },
      "cell_type": "code",
      "source": [
        "dataset.head()"
      ],
      "execution_count": 0,
      "outputs": [
        {
          "output_type": "execute_result",
          "data": {
            "text/html": [
              "<div>\n",
              "<style scoped>\n",
              "    .dataframe tbody tr th:only-of-type {\n",
              "        vertical-align: middle;\n",
              "    }\n",
              "\n",
              "    .dataframe tbody tr th {\n",
              "        vertical-align: top;\n",
              "    }\n",
              "\n",
              "    .dataframe thead th {\n",
              "        text-align: right;\n",
              "    }\n",
              "</style>\n",
              "<table border=\"1\" class=\"dataframe\">\n",
              "  <thead>\n",
              "    <tr style=\"text-align: right;\">\n",
              "      <th></th>\n",
              "      <th>id</th>\n",
              "      <th>date</th>\n",
              "      <th>price</th>\n",
              "      <th>bedrooms</th>\n",
              "      <th>bathrooms</th>\n",
              "      <th>sqft_living</th>\n",
              "      <th>sqft_lot</th>\n",
              "      <th>floors</th>\n",
              "      <th>waterfront</th>\n",
              "      <th>view</th>\n",
              "      <th>...</th>\n",
              "      <th>zipcode98146</th>\n",
              "      <th>zipcode98148</th>\n",
              "      <th>zipcode98155</th>\n",
              "      <th>zipcode98166</th>\n",
              "      <th>zipcode98168</th>\n",
              "      <th>zipcode98177</th>\n",
              "      <th>zipcode98178</th>\n",
              "      <th>zipcode98188</th>\n",
              "      <th>zipcode98198</th>\n",
              "      <th>zipcode98199</th>\n",
              "    </tr>\n",
              "  </thead>\n",
              "  <tbody>\n",
              "    <tr>\n",
              "      <th>0</th>\n",
              "      <td>7129300520</td>\n",
              "      <td>20141013T000000</td>\n",
              "      <td>221900.0</td>\n",
              "      <td>3</td>\n",
              "      <td>1.00</td>\n",
              "      <td>1180</td>\n",
              "      <td>5650</td>\n",
              "      <td>1.0</td>\n",
              "      <td>0</td>\n",
              "      <td>0</td>\n",
              "      <td>...</td>\n",
              "      <td>0</td>\n",
              "      <td>0</td>\n",
              "      <td>0</td>\n",
              "      <td>0</td>\n",
              "      <td>0</td>\n",
              "      <td>0</td>\n",
              "      <td>1</td>\n",
              "      <td>0</td>\n",
              "      <td>0</td>\n",
              "      <td>0</td>\n",
              "    </tr>\n",
              "    <tr>\n",
              "      <th>1</th>\n",
              "      <td>6414100192</td>\n",
              "      <td>20141209T000000</td>\n",
              "      <td>538000.0</td>\n",
              "      <td>3</td>\n",
              "      <td>2.25</td>\n",
              "      <td>2570</td>\n",
              "      <td>7242</td>\n",
              "      <td>2.0</td>\n",
              "      <td>0</td>\n",
              "      <td>0</td>\n",
              "      <td>...</td>\n",
              "      <td>0</td>\n",
              "      <td>0</td>\n",
              "      <td>0</td>\n",
              "      <td>0</td>\n",
              "      <td>0</td>\n",
              "      <td>0</td>\n",
              "      <td>0</td>\n",
              "      <td>0</td>\n",
              "      <td>0</td>\n",
              "      <td>0</td>\n",
              "    </tr>\n",
              "    <tr>\n",
              "      <th>2</th>\n",
              "      <td>5631500400</td>\n",
              "      <td>20150225T000000</td>\n",
              "      <td>180000.0</td>\n",
              "      <td>2</td>\n",
              "      <td>1.00</td>\n",
              "      <td>770</td>\n",
              "      <td>10000</td>\n",
              "      <td>1.0</td>\n",
              "      <td>0</td>\n",
              "      <td>0</td>\n",
              "      <td>...</td>\n",
              "      <td>0</td>\n",
              "      <td>0</td>\n",
              "      <td>0</td>\n",
              "      <td>0</td>\n",
              "      <td>0</td>\n",
              "      <td>0</td>\n",
              "      <td>0</td>\n",
              "      <td>0</td>\n",
              "      <td>0</td>\n",
              "      <td>0</td>\n",
              "    </tr>\n",
              "    <tr>\n",
              "      <th>3</th>\n",
              "      <td>2487200875</td>\n",
              "      <td>20141209T000000</td>\n",
              "      <td>604000.0</td>\n",
              "      <td>4</td>\n",
              "      <td>3.00</td>\n",
              "      <td>1960</td>\n",
              "      <td>5000</td>\n",
              "      <td>1.0</td>\n",
              "      <td>0</td>\n",
              "      <td>0</td>\n",
              "      <td>...</td>\n",
              "      <td>0</td>\n",
              "      <td>0</td>\n",
              "      <td>0</td>\n",
              "      <td>0</td>\n",
              "      <td>0</td>\n",
              "      <td>0</td>\n",
              "      <td>0</td>\n",
              "      <td>0</td>\n",
              "      <td>0</td>\n",
              "      <td>0</td>\n",
              "    </tr>\n",
              "    <tr>\n",
              "      <th>4</th>\n",
              "      <td>1954400510</td>\n",
              "      <td>20150218T000000</td>\n",
              "      <td>510000.0</td>\n",
              "      <td>3</td>\n",
              "      <td>2.00</td>\n",
              "      <td>1680</td>\n",
              "      <td>8080</td>\n",
              "      <td>1.0</td>\n",
              "      <td>0</td>\n",
              "      <td>0</td>\n",
              "      <td>...</td>\n",
              "      <td>0</td>\n",
              "      <td>0</td>\n",
              "      <td>0</td>\n",
              "      <td>0</td>\n",
              "      <td>0</td>\n",
              "      <td>0</td>\n",
              "      <td>0</td>\n",
              "      <td>0</td>\n",
              "      <td>0</td>\n",
              "      <td>0</td>\n",
              "    </tr>\n",
              "  </tbody>\n",
              "</table>\n",
              "<p>5 rows × 90 columns</p>\n",
              "</div>"
            ],
            "text/plain": [
              "           id             date     price  bedrooms  bathrooms  sqft_living  \\\n",
              "0  7129300520  20141013T000000  221900.0         3       1.00         1180   \n",
              "1  6414100192  20141209T000000  538000.0         3       2.25         2570   \n",
              "2  5631500400  20150225T000000  180000.0         2       1.00          770   \n",
              "3  2487200875  20141209T000000  604000.0         4       3.00         1960   \n",
              "4  1954400510  20150218T000000  510000.0         3       2.00         1680   \n",
              "\n",
              "   sqft_lot  floors  waterfront  view      ...       zipcode98146  \\\n",
              "0      5650     1.0           0     0      ...                  0   \n",
              "1      7242     2.0           0     0      ...                  0   \n",
              "2     10000     1.0           0     0      ...                  0   \n",
              "3      5000     1.0           0     0      ...                  0   \n",
              "4      8080     1.0           0     0      ...                  0   \n",
              "\n",
              "   zipcode98148  zipcode98155  zipcode98166  zipcode98168  zipcode98177  \\\n",
              "0             0             0             0             0             0   \n",
              "1             0             0             0             0             0   \n",
              "2             0             0             0             0             0   \n",
              "3             0             0             0             0             0   \n",
              "4             0             0             0             0             0   \n",
              "\n",
              "   zipcode98178  zipcode98188  zipcode98198  zipcode98199  \n",
              "0             1             0             0             0  \n",
              "1             0             0             0             0  \n",
              "2             0             0             0             0  \n",
              "3             0             0             0             0  \n",
              "4             0             0             0             0  \n",
              "\n",
              "[5 rows x 90 columns]"
            ]
          },
          "metadata": {
            "tags": []
          },
          "execution_count": 125
        }
      ]
    },
    {
      "metadata": {
        "id": "mi3DmzKeDhBf",
        "colab_type": "text"
      },
      "cell_type": "markdown",
      "source": [
        "Let's zoom into 4 additional variables: waterfront, view, condition, grade. \n",
        "\n",
        "For each of these variables, print all the unique values and the number of unique values."
      ]
    },
    {
      "metadata": {
        "id": "gGSNn4L4DhBg",
        "colab_type": "code",
        "colab": {},
        "outputId": "19f7a8e3-0ffa-4eab-daea-1cd7298d04d5"
      },
      "cell_type": "code",
      "source": [
        "print(\"unique values, and number of unique values\")\n",
        "\n",
        "print(\"waterfront:\")\n",
        "print(dataset[\"waterfront\"].unique())\n",
        "print(len(dataset[\"waterfront\"].unique()))\n",
        "\n",
        "print(\"view:\")\n",
        "print(dataset[\"view\"].unique())\n",
        "print(len(dataset[\"view\"].unique()))\n",
        "\n",
        "print(\"condition:\")\n",
        "print(dataset[\"condition\"].unique())\n",
        "print(len(dataset[\"condition\"].unique()))\n",
        "\n",
        "print(\"grade:\")\n",
        "print(dataset[\"grade\"].unique())\n",
        "print(len(dataset[\"grade\"].unique()))"
      ],
      "execution_count": 0,
      "outputs": [
        {
          "output_type": "stream",
          "text": [
            "unique values, and number of unique values\n",
            "waterfront:\n",
            "[0 1]\n",
            "2\n",
            "view:\n",
            "[0 3 4 2 1]\n",
            "5\n",
            "condition:\n",
            "[3 5 4 1 2]\n",
            "5\n",
            "grade:\n",
            "[ 7  6  8 11  9  5 10 12  4  3 13  1]\n",
            "12\n"
          ],
          "name": "stdout"
        }
      ]
    },
    {
      "metadata": {
        "id": "HnIflJLeDhBj",
        "colab_type": "text"
      },
      "cell_type": "markdown",
      "source": [
        "\"waterfront\" is a categorical feature, but since it is binary it is already \"one-hot-encoded\". The \"view\" property tells us how many times the house has been viewed by potential buyers. A high \"view\" value - a house that has been viewed a lot - might become more expensive, so this is indeed a numerical value. The \"grade\" and \"condition\" values give a score about the condition and grade (according to a King Country grading system) of the house. We will keep these values as numerical, assuming that a high score for either of these values corresponds to a relatively more expense house.\n",
        "\n",
        "These are the feature columns we have up to now..."
      ]
    },
    {
      "metadata": {
        "id": "RoeYeKKnDhBk",
        "colab_type": "code",
        "colab": {},
        "outputId": "8ab2c310-e298-4d1b-cf03-a2466e4ab656"
      },
      "cell_type": "code",
      "source": [
        "dataset.columns"
      ],
      "execution_count": 0,
      "outputs": [
        {
          "output_type": "execute_result",
          "data": {
            "text/plain": [
              "Index(['id', 'date', 'price', 'bedrooms', 'bathrooms', 'sqft_living',\n",
              "       'sqft_lot', 'floors', 'waterfront', 'view', 'condition', 'grade',\n",
              "       'sqft_above', 'sqft_basement', 'yr_built', 'yr_renovated', 'lat',\n",
              "       'long', 'sqft_living15', 'sqft_lot15', 'zipcode98001', 'zipcode98002',\n",
              "       'zipcode98003', 'zipcode98004', 'zipcode98005', 'zipcode98006',\n",
              "       'zipcode98007', 'zipcode98008', 'zipcode98010', 'zipcode98011',\n",
              "       'zipcode98014', 'zipcode98019', 'zipcode98022', 'zipcode98023',\n",
              "       'zipcode98024', 'zipcode98027', 'zipcode98028', 'zipcode98029',\n",
              "       'zipcode98030', 'zipcode98031', 'zipcode98032', 'zipcode98033',\n",
              "       'zipcode98034', 'zipcode98038', 'zipcode98039', 'zipcode98040',\n",
              "       'zipcode98042', 'zipcode98045', 'zipcode98052', 'zipcode98053',\n",
              "       'zipcode98055', 'zipcode98056', 'zipcode98058', 'zipcode98059',\n",
              "       'zipcode98065', 'zipcode98070', 'zipcode98072', 'zipcode98074',\n",
              "       'zipcode98075', 'zipcode98077', 'zipcode98092', 'zipcode98102',\n",
              "       'zipcode98103', 'zipcode98105', 'zipcode98106', 'zipcode98107',\n",
              "       'zipcode98108', 'zipcode98109', 'zipcode98112', 'zipcode98115',\n",
              "       'zipcode98116', 'zipcode98117', 'zipcode98118', 'zipcode98119',\n",
              "       'zipcode98122', 'zipcode98125', 'zipcode98126', 'zipcode98133',\n",
              "       'zipcode98136', 'zipcode98144', 'zipcode98146', 'zipcode98148',\n",
              "       'zipcode98155', 'zipcode98166', 'zipcode98168', 'zipcode98177',\n",
              "       'zipcode98178', 'zipcode98188', 'zipcode98198', 'zipcode98199'],\n",
              "      dtype='object')"
            ]
          },
          "metadata": {
            "tags": []
          },
          "execution_count": 127
        }
      ]
    },
    {
      "metadata": {
        "id": "3oZRRN7MDhBr",
        "colab_type": "text"
      },
      "cell_type": "markdown",
      "source": [
        "## 3.3 Building age\n",
        "\n",
        "The 'yr_built' column tells us the building year of the house. The column 'date' contains the date on which the house was sold. By combining these two columns for each data point, we can determine the age of the house at the time of selling. This could be valuable information: an older house is typically worth less than a recently built house.\n",
        "\n",
        "In the cells below, add a column 'age' to the dataset."
      ]
    },
    {
      "metadata": {
        "id": "YdWSimvfDhBr",
        "colab_type": "code",
        "colab": {},
        "outputId": "30d1f077-c6d5-4d42-e14c-bf9422aae86f"
      },
      "cell_type": "code",
      "source": [
        "dataset[[\"date\",\"yr_built\"]].head()"
      ],
      "execution_count": 0,
      "outputs": [
        {
          "output_type": "execute_result",
          "data": {
            "text/html": [
              "<div>\n",
              "<style scoped>\n",
              "    .dataframe tbody tr th:only-of-type {\n",
              "        vertical-align: middle;\n",
              "    }\n",
              "\n",
              "    .dataframe tbody tr th {\n",
              "        vertical-align: top;\n",
              "    }\n",
              "\n",
              "    .dataframe thead th {\n",
              "        text-align: right;\n",
              "    }\n",
              "</style>\n",
              "<table border=\"1\" class=\"dataframe\">\n",
              "  <thead>\n",
              "    <tr style=\"text-align: right;\">\n",
              "      <th></th>\n",
              "      <th>date</th>\n",
              "      <th>yr_built</th>\n",
              "    </tr>\n",
              "  </thead>\n",
              "  <tbody>\n",
              "    <tr>\n",
              "      <th>0</th>\n",
              "      <td>20141013T000000</td>\n",
              "      <td>1955</td>\n",
              "    </tr>\n",
              "    <tr>\n",
              "      <th>1</th>\n",
              "      <td>20141209T000000</td>\n",
              "      <td>1951</td>\n",
              "    </tr>\n",
              "    <tr>\n",
              "      <th>2</th>\n",
              "      <td>20150225T000000</td>\n",
              "      <td>1933</td>\n",
              "    </tr>\n",
              "    <tr>\n",
              "      <th>3</th>\n",
              "      <td>20141209T000000</td>\n",
              "      <td>1965</td>\n",
              "    </tr>\n",
              "    <tr>\n",
              "      <th>4</th>\n",
              "      <td>20150218T000000</td>\n",
              "      <td>1987</td>\n",
              "    </tr>\n",
              "  </tbody>\n",
              "</table>\n",
              "</div>"
            ],
            "text/plain": [
              "              date  yr_built\n",
              "0  20141013T000000      1955\n",
              "1  20141209T000000      1951\n",
              "2  20150225T000000      1933\n",
              "3  20141209T000000      1965\n",
              "4  20150218T000000      1987"
            ]
          },
          "metadata": {
            "tags": []
          },
          "execution_count": 128
        }
      ]
    },
    {
      "metadata": {
        "id": "0wbVA0zQDhBw",
        "colab_type": "code",
        "colab": {},
        "outputId": "03a99907-ed36-4df0-d3d3-ad0fc71345bf"
      },
      "cell_type": "code",
      "source": [
        "#step 1: extract the selling YEAR from the 'date' column and store in a new column 'year'.\n",
        "\n",
        "dataset[\"selling_year\"] = pd.DatetimeIndex(dataset[\"date\"]).year\n",
        "dataset[\"selling_year\"].head()"
      ],
      "execution_count": 0,
      "outputs": [
        {
          "output_type": "execute_result",
          "data": {
            "text/plain": [
              "0    2014\n",
              "1    2014\n",
              "2    2015\n",
              "3    2014\n",
              "4    2015\n",
              "Name: selling_year, dtype: int64"
            ]
          },
          "metadata": {
            "tags": []
          },
          "execution_count": 129
        }
      ]
    },
    {
      "metadata": {
        "id": "qw4xUo-qDhBz",
        "colab_type": "code",
        "colab": {},
        "outputId": "2bcfa50d-6b53-4511-b874-0e2baf038b36"
      },
      "cell_type": "code",
      "source": [
        "#step 2: subtract yr_built from selling_yr to obtain the building age at selling time.\n",
        "\n",
        "dataset[\"age\"] = dataset[\"selling_year\"] - dataset[\"yr_built\"]\n",
        "dataset[\"age\"].head()"
      ],
      "execution_count": 0,
      "outputs": [
        {
          "output_type": "execute_result",
          "data": {
            "text/plain": [
              "0    59\n",
              "1    63\n",
              "2    82\n",
              "3    49\n",
              "4    28\n",
              "Name: age, dtype: int64"
            ]
          },
          "metadata": {
            "tags": []
          },
          "execution_count": 130
        }
      ]
    },
    {
      "metadata": {
        "id": "43ph_5sADhB3",
        "colab_type": "text"
      },
      "cell_type": "markdown",
      "source": [
        "We also have the feature 'yr_renovated'. A house that was recently renovated, could be more expensive. Similarly to the building age, we could build a column 'years_since_renovation' that tells us how many years before selling there was a renovation. Let's first check out this column."
      ]
    },
    {
      "metadata": {
        "id": "Ojasq_DHDhB5",
        "colab_type": "code",
        "colab": {},
        "outputId": "13d8301e-67f0-4531-e2d7-6a7a4cc2026c"
      },
      "cell_type": "code",
      "source": [
        "dataset[\"yr_renovated\"].head(10)"
      ],
      "execution_count": 0,
      "outputs": [
        {
          "output_type": "execute_result",
          "data": {
            "text/plain": [
              "0       0\n",
              "1    1991\n",
              "2       0\n",
              "3       0\n",
              "4       0\n",
              "5       0\n",
              "6       0\n",
              "7       0\n",
              "8       0\n",
              "9       0\n",
              "Name: yr_renovated, dtype: int64"
            ]
          },
          "metadata": {
            "tags": []
          },
          "execution_count": 131
        }
      ]
    },
    {
      "metadata": {
        "id": "3IyisfEzDhB_",
        "colab_type": "text"
      },
      "cell_type": "markdown",
      "source": [
        "If the house was never renovated, the year is set to zero. This is a problem, because this means we cannot simply subtract the selling year with the renovation year. Otherwise, a house that was renovated would have a meaningful value for 'years_since_renovation' and one that was never renovated would be \"renovated\" 2014 or 2015 years ago. Surely, our model would not improve if we added these non-sensical values to the dataset?\n",
        "\n",
        "More-over, only a small percentage of our houses was renovated at least once. Just how many houses in our dataset were renovated?"
      ]
    },
    {
      "metadata": {
        "id": "CMk49pxhDhCA",
        "colab_type": "code",
        "colab": {},
        "outputId": "8de69c0e-e45d-47da-9821-e0f4a2ff8bdf"
      },
      "cell_type": "code",
      "source": [
        "# find the percentage of houses that were renovated\n",
        "\n",
        "(dataset[\"yr_renovated\"] != 0).sum()/len(dataset)"
      ],
      "execution_count": 0,
      "outputs": [
        {
          "output_type": "execute_result",
          "data": {
            "text/plain": [
              "0.042289362883449776"
            ]
          },
          "metadata": {
            "tags": []
          },
          "execution_count": 132
        }
      ]
    },
    {
      "metadata": {
        "id": "N76wHRGyDhCD",
        "colab_type": "text"
      },
      "cell_type": "markdown",
      "source": [
        "Therefore, we will drop this column. \n",
        "\n",
        "**note: **If we wanted to, one way to include the renovation value was one-hot-encoding. We could add a column \"renovated\" that told us wether or not the building was renovated at least once. We would disregard the exact renovation year, but the feature could still be useful: \n",
        "\n",
        "\n",
        "Say $h_n$ is our onehot-encoded 'renovated' feature, we would expect to learn a positive weight $w_n$. Then, $w_nh_n$ could contribute positively to our output price $y$ if the house was once renovated ($h_n > 0$) and would not contribute at all to the price if it was never renovated ($h_n = 0$)\n"
      ]
    },
    {
      "metadata": {
        "id": "iLuoCJS1DhCE",
        "colab_type": "code",
        "colab": {},
        "outputId": "3ad2654b-714b-4f7c-dc4b-ddd77249dc7c"
      },
      "cell_type": "code",
      "source": [
        "#drop the yr_renovated column. Also drop yr_built and selling_year, since they are no longer needed.\n",
        "\n",
        "dataset = dataset.drop(columns=\"yr_renovated\")\n",
        "dataset = dataset.drop(columns=\"yr_built\")\n",
        "dataset = dataset.drop(columns=\"selling_year\")\n",
        "\n",
        "dataset.head()"
      ],
      "execution_count": 0,
      "outputs": [
        {
          "output_type": "execute_result",
          "data": {
            "text/html": [
              "<div>\n",
              "<style scoped>\n",
              "    .dataframe tbody tr th:only-of-type {\n",
              "        vertical-align: middle;\n",
              "    }\n",
              "\n",
              "    .dataframe tbody tr th {\n",
              "        vertical-align: top;\n",
              "    }\n",
              "\n",
              "    .dataframe thead th {\n",
              "        text-align: right;\n",
              "    }\n",
              "</style>\n",
              "<table border=\"1\" class=\"dataframe\">\n",
              "  <thead>\n",
              "    <tr style=\"text-align: right;\">\n",
              "      <th></th>\n",
              "      <th>id</th>\n",
              "      <th>date</th>\n",
              "      <th>price</th>\n",
              "      <th>bedrooms</th>\n",
              "      <th>bathrooms</th>\n",
              "      <th>sqft_living</th>\n",
              "      <th>sqft_lot</th>\n",
              "      <th>floors</th>\n",
              "      <th>waterfront</th>\n",
              "      <th>view</th>\n",
              "      <th>...</th>\n",
              "      <th>zipcode98148</th>\n",
              "      <th>zipcode98155</th>\n",
              "      <th>zipcode98166</th>\n",
              "      <th>zipcode98168</th>\n",
              "      <th>zipcode98177</th>\n",
              "      <th>zipcode98178</th>\n",
              "      <th>zipcode98188</th>\n",
              "      <th>zipcode98198</th>\n",
              "      <th>zipcode98199</th>\n",
              "      <th>age</th>\n",
              "    </tr>\n",
              "  </thead>\n",
              "  <tbody>\n",
              "    <tr>\n",
              "      <th>0</th>\n",
              "      <td>7129300520</td>\n",
              "      <td>20141013T000000</td>\n",
              "      <td>221900.0</td>\n",
              "      <td>3</td>\n",
              "      <td>1.00</td>\n",
              "      <td>1180</td>\n",
              "      <td>5650</td>\n",
              "      <td>1.0</td>\n",
              "      <td>0</td>\n",
              "      <td>0</td>\n",
              "      <td>...</td>\n",
              "      <td>0</td>\n",
              "      <td>0</td>\n",
              "      <td>0</td>\n",
              "      <td>0</td>\n",
              "      <td>0</td>\n",
              "      <td>1</td>\n",
              "      <td>0</td>\n",
              "      <td>0</td>\n",
              "      <td>0</td>\n",
              "      <td>59</td>\n",
              "    </tr>\n",
              "    <tr>\n",
              "      <th>1</th>\n",
              "      <td>6414100192</td>\n",
              "      <td>20141209T000000</td>\n",
              "      <td>538000.0</td>\n",
              "      <td>3</td>\n",
              "      <td>2.25</td>\n",
              "      <td>2570</td>\n",
              "      <td>7242</td>\n",
              "      <td>2.0</td>\n",
              "      <td>0</td>\n",
              "      <td>0</td>\n",
              "      <td>...</td>\n",
              "      <td>0</td>\n",
              "      <td>0</td>\n",
              "      <td>0</td>\n",
              "      <td>0</td>\n",
              "      <td>0</td>\n",
              "      <td>0</td>\n",
              "      <td>0</td>\n",
              "      <td>0</td>\n",
              "      <td>0</td>\n",
              "      <td>63</td>\n",
              "    </tr>\n",
              "    <tr>\n",
              "      <th>2</th>\n",
              "      <td>5631500400</td>\n",
              "      <td>20150225T000000</td>\n",
              "      <td>180000.0</td>\n",
              "      <td>2</td>\n",
              "      <td>1.00</td>\n",
              "      <td>770</td>\n",
              "      <td>10000</td>\n",
              "      <td>1.0</td>\n",
              "      <td>0</td>\n",
              "      <td>0</td>\n",
              "      <td>...</td>\n",
              "      <td>0</td>\n",
              "      <td>0</td>\n",
              "      <td>0</td>\n",
              "      <td>0</td>\n",
              "      <td>0</td>\n",
              "      <td>0</td>\n",
              "      <td>0</td>\n",
              "      <td>0</td>\n",
              "      <td>0</td>\n",
              "      <td>82</td>\n",
              "    </tr>\n",
              "    <tr>\n",
              "      <th>3</th>\n",
              "      <td>2487200875</td>\n",
              "      <td>20141209T000000</td>\n",
              "      <td>604000.0</td>\n",
              "      <td>4</td>\n",
              "      <td>3.00</td>\n",
              "      <td>1960</td>\n",
              "      <td>5000</td>\n",
              "      <td>1.0</td>\n",
              "      <td>0</td>\n",
              "      <td>0</td>\n",
              "      <td>...</td>\n",
              "      <td>0</td>\n",
              "      <td>0</td>\n",
              "      <td>0</td>\n",
              "      <td>0</td>\n",
              "      <td>0</td>\n",
              "      <td>0</td>\n",
              "      <td>0</td>\n",
              "      <td>0</td>\n",
              "      <td>0</td>\n",
              "      <td>49</td>\n",
              "    </tr>\n",
              "    <tr>\n",
              "      <th>4</th>\n",
              "      <td>1954400510</td>\n",
              "      <td>20150218T000000</td>\n",
              "      <td>510000.0</td>\n",
              "      <td>3</td>\n",
              "      <td>2.00</td>\n",
              "      <td>1680</td>\n",
              "      <td>8080</td>\n",
              "      <td>1.0</td>\n",
              "      <td>0</td>\n",
              "      <td>0</td>\n",
              "      <td>...</td>\n",
              "      <td>0</td>\n",
              "      <td>0</td>\n",
              "      <td>0</td>\n",
              "      <td>0</td>\n",
              "      <td>0</td>\n",
              "      <td>0</td>\n",
              "      <td>0</td>\n",
              "      <td>0</td>\n",
              "      <td>0</td>\n",
              "      <td>28</td>\n",
              "    </tr>\n",
              "  </tbody>\n",
              "</table>\n",
              "<p>5 rows × 89 columns</p>\n",
              "</div>"
            ],
            "text/plain": [
              "           id             date     price  bedrooms  bathrooms  sqft_living  \\\n",
              "0  7129300520  20141013T000000  221900.0         3       1.00         1180   \n",
              "1  6414100192  20141209T000000  538000.0         3       2.25         2570   \n",
              "2  5631500400  20150225T000000  180000.0         2       1.00          770   \n",
              "3  2487200875  20141209T000000  604000.0         4       3.00         1960   \n",
              "4  1954400510  20150218T000000  510000.0         3       2.00         1680   \n",
              "\n",
              "   sqft_lot  floors  waterfront  view ...   zipcode98148  zipcode98155  \\\n",
              "0      5650     1.0           0     0 ...              0             0   \n",
              "1      7242     2.0           0     0 ...              0             0   \n",
              "2     10000     1.0           0     0 ...              0             0   \n",
              "3      5000     1.0           0     0 ...              0             0   \n",
              "4      8080     1.0           0     0 ...              0             0   \n",
              "\n",
              "   zipcode98166  zipcode98168  zipcode98177  zipcode98178  zipcode98188  \\\n",
              "0             0             0             0             1             0   \n",
              "1             0             0             0             0             0   \n",
              "2             0             0             0             0             0   \n",
              "3             0             0             0             0             0   \n",
              "4             0             0             0             0             0   \n",
              "\n",
              "   zipcode98198  zipcode98199  age  \n",
              "0             0             0   59  \n",
              "1             0             0   63  \n",
              "2             0             0   82  \n",
              "3             0             0   49  \n",
              "4             0             0   28  \n",
              "\n",
              "[5 rows x 89 columns]"
            ]
          },
          "metadata": {
            "tags": []
          },
          "execution_count": 133
        }
      ]
    },
    {
      "metadata": {
        "id": "fK-m3IrHDhCH",
        "colab_type": "text"
      },
      "cell_type": "markdown",
      "source": [
        "## 3.4 Dropping the date\n",
        "\n",
        "One might argue that not only the age of time of selling, but also the exact selling date will influence the price. Market prices fluctuate and could be higher at certain times. We have sales data for the period of May 2014 to May 2015. Different scenarios are possible, due to market fluctuations.\n",
        "\n",
        "1. Market prices are high in May 2014, and have steadily decreased to a lower point in May 2015.\n",
        "2. Market prices are low in May 2014, and have steadily increased to a higher point in May 2015.\n",
        "3. Market prices started rising in May 2014, reached a peak, and decreased back to the same level in May 2015.\n",
        "\n",
        "Let's revisit our equation:\n",
        "\n",
        "$y = w_0 + w_1h_1 + w_2h_2 + ... + w_nh_n$\n",
        "\n",
        "We need to be able to find weights (positive or negative) that represent the impact of each feature $h$ on our output price $y$. If $h_1$ is our living area, for example, we expect our learned weight $w_1$ to be positive, so that a high living area results in a high selling price. On the contrary, the weight for the feature 'age' will be negative: an old building is less valuable.\n",
        "In any case, **we must create features from our input variables that have a uniformly positive or negative influence on the output**. This is a limitation of linear regression. \n",
        "\n"
      ]
    },
    {
      "metadata": {
        "id": "Uws9tVaTDhCI",
        "colab_type": "code",
        "colab": {},
        "outputId": "693a5d64-f553-4839-cfaa-47912bb16883"
      },
      "cell_type": "code",
      "source": [
        "dataset[\"date\"].head()"
      ],
      "execution_count": 0,
      "outputs": [
        {
          "output_type": "execute_result",
          "data": {
            "text/plain": [
              "0    20141013T000000\n",
              "1    20141209T000000\n",
              "2    20150225T000000\n",
              "3    20141209T000000\n",
              "4    20150218T000000\n",
              "Name: date, dtype: object"
            ]
          },
          "metadata": {
            "tags": []
          },
          "execution_count": 134
        }
      ]
    },
    {
      "metadata": {
        "id": "oMQy1D9jDhCP",
        "colab_type": "text"
      },
      "cell_type": "markdown",
      "source": [
        "So what about our selling date? The timestamp string could be easily transformed into a numerical value. A higher value would mean a recent date, and a lower value would mean an earlier date. But due to market fluctuations, the selling price will not necessarily rise or decrease uniformly in time. This would be true in scenario 1 and 2 above, but not in scenario 3. Since there is no obvious way to transform the date alone into a useful feature, we decide to drop it.\n",
        "\n",
        "\n"
      ]
    },
    {
      "metadata": {
        "id": "CUgglHlkDhCQ",
        "colab_type": "code",
        "colab": {},
        "collapsed": true
      },
      "cell_type": "code",
      "source": [
        "#drop the date column\n",
        "\n",
        "dataset = dataset.drop(columns=\"date\")"
      ],
      "execution_count": 0,
      "outputs": []
    },
    {
      "metadata": {
        "id": "78k0_sSpDhCS",
        "colab_type": "text"
      },
      "cell_type": "markdown",
      "source": [
        "**Note:** other algorithms, notably neural networks, are better in handling non-linear behaviour - even without the need for manual feature engineering. If market prices are higher in the middle of the observed period as in scenario 3, a neural network would be better at capturing this behaviour."
      ]
    },
    {
      "metadata": {
        "id": "mn7WYHoNDhCS",
        "colab_type": "text"
      },
      "cell_type": "markdown",
      "source": [
        "## 3.5 Dropping more columns\n",
        "\n",
        "Apply a similar reasoning to the longitude and latitude information, as we did for the date column. Should we keep these columns?  "
      ]
    },
    {
      "metadata": {
        "id": "oMxRKpCgDhCT",
        "colab_type": "code",
        "colab": {},
        "outputId": "942ecb2b-7d51-4822-d78e-03865d15b939"
      },
      "cell_type": "code",
      "source": [
        "dataset[[\"lat\",\"long\"]].head()"
      ],
      "execution_count": 0,
      "outputs": [
        {
          "output_type": "execute_result",
          "data": {
            "text/html": [
              "<div>\n",
              "<style scoped>\n",
              "    .dataframe tbody tr th:only-of-type {\n",
              "        vertical-align: middle;\n",
              "    }\n",
              "\n",
              "    .dataframe tbody tr th {\n",
              "        vertical-align: top;\n",
              "    }\n",
              "\n",
              "    .dataframe thead th {\n",
              "        text-align: right;\n",
              "    }\n",
              "</style>\n",
              "<table border=\"1\" class=\"dataframe\">\n",
              "  <thead>\n",
              "    <tr style=\"text-align: right;\">\n",
              "      <th></th>\n",
              "      <th>lat</th>\n",
              "      <th>long</th>\n",
              "    </tr>\n",
              "  </thead>\n",
              "  <tbody>\n",
              "    <tr>\n",
              "      <th>0</th>\n",
              "      <td>47.5112</td>\n",
              "      <td>-122.257</td>\n",
              "    </tr>\n",
              "    <tr>\n",
              "      <th>1</th>\n",
              "      <td>47.7210</td>\n",
              "      <td>-122.319</td>\n",
              "    </tr>\n",
              "    <tr>\n",
              "      <th>2</th>\n",
              "      <td>47.7379</td>\n",
              "      <td>-122.233</td>\n",
              "    </tr>\n",
              "    <tr>\n",
              "      <th>3</th>\n",
              "      <td>47.5208</td>\n",
              "      <td>-122.393</td>\n",
              "    </tr>\n",
              "    <tr>\n",
              "      <th>4</th>\n",
              "      <td>47.6168</td>\n",
              "      <td>-122.045</td>\n",
              "    </tr>\n",
              "  </tbody>\n",
              "</table>\n",
              "</div>"
            ],
            "text/plain": [
              "       lat     long\n",
              "0  47.5112 -122.257\n",
              "1  47.7210 -122.319\n",
              "2  47.7379 -122.233\n",
              "3  47.5208 -122.393\n",
              "4  47.6168 -122.045"
            ]
          },
          "metadata": {
            "tags": []
          },
          "execution_count": 136
        }
      ]
    },
    {
      "metadata": {
        "id": "90McgzovDhCW",
        "colab_type": "text"
      },
      "cell_type": "markdown",
      "source": [
        "We will drop these columns for a similar reason as the date. Moreover, the house location is already represented with the one-hot-encoded zipcode.\n",
        "\n",
        "Also drop the useless 'id' column."
      ]
    },
    {
      "metadata": {
        "id": "vzFPeDxZDhCX",
        "colab_type": "code",
        "colab": {},
        "outputId": "df6817ac-b6c1-41bd-f954-e3aa3aaa2827"
      },
      "cell_type": "code",
      "source": [
        "dataset[\"id\"].head()"
      ],
      "execution_count": 0,
      "outputs": [
        {
          "output_type": "execute_result",
          "data": {
            "text/plain": [
              "0    7129300520\n",
              "1    6414100192\n",
              "2    5631500400\n",
              "3    2487200875\n",
              "4    1954400510\n",
              "Name: id, dtype: int64"
            ]
          },
          "metadata": {
            "tags": []
          },
          "execution_count": 137
        }
      ]
    },
    {
      "metadata": {
        "id": "jF_n81AADhCf",
        "colab_type": "code",
        "colab": {},
        "collapsed": true
      },
      "cell_type": "code",
      "source": [
        "#drop lat, long, id\n",
        "\n",
        "dataset = dataset.drop(columns=\"lat\")\n",
        "dataset = dataset.drop(columns=\"long\")\n",
        "dataset = dataset.drop(columns=\"id\")"
      ],
      "execution_count": 0,
      "outputs": []
    },
    {
      "metadata": {
        "id": "Au3GMkzFDhCh",
        "colab_type": "text"
      },
      "cell_type": "markdown",
      "source": [
        "Next, we inspect the following three features:"
      ]
    },
    {
      "metadata": {
        "id": "o9Kv36_jDhCi",
        "colab_type": "code",
        "colab": {},
        "outputId": "cd0f4e41-5fd7-47f0-c6b2-1c18270072c8"
      },
      "cell_type": "code",
      "source": [
        "dataset[[\"sqft_living\",\"sqft_basement\",\"sqft_above\"]].head()"
      ],
      "execution_count": 0,
      "outputs": [
        {
          "output_type": "execute_result",
          "data": {
            "text/html": [
              "<div>\n",
              "<style scoped>\n",
              "    .dataframe tbody tr th:only-of-type {\n",
              "        vertical-align: middle;\n",
              "    }\n",
              "\n",
              "    .dataframe tbody tr th {\n",
              "        vertical-align: top;\n",
              "    }\n",
              "\n",
              "    .dataframe thead th {\n",
              "        text-align: right;\n",
              "    }\n",
              "</style>\n",
              "<table border=\"1\" class=\"dataframe\">\n",
              "  <thead>\n",
              "    <tr style=\"text-align: right;\">\n",
              "      <th></th>\n",
              "      <th>sqft_living</th>\n",
              "      <th>sqft_basement</th>\n",
              "      <th>sqft_above</th>\n",
              "    </tr>\n",
              "  </thead>\n",
              "  <tbody>\n",
              "    <tr>\n",
              "      <th>0</th>\n",
              "      <td>1180</td>\n",
              "      <td>0</td>\n",
              "      <td>1180</td>\n",
              "    </tr>\n",
              "    <tr>\n",
              "      <th>1</th>\n",
              "      <td>2570</td>\n",
              "      <td>400</td>\n",
              "      <td>2170</td>\n",
              "    </tr>\n",
              "    <tr>\n",
              "      <th>2</th>\n",
              "      <td>770</td>\n",
              "      <td>0</td>\n",
              "      <td>770</td>\n",
              "    </tr>\n",
              "    <tr>\n",
              "      <th>3</th>\n",
              "      <td>1960</td>\n",
              "      <td>910</td>\n",
              "      <td>1050</td>\n",
              "    </tr>\n",
              "    <tr>\n",
              "      <th>4</th>\n",
              "      <td>1680</td>\n",
              "      <td>0</td>\n",
              "      <td>1680</td>\n",
              "    </tr>\n",
              "  </tbody>\n",
              "</table>\n",
              "</div>"
            ],
            "text/plain": [
              "   sqft_living  sqft_basement  sqft_above\n",
              "0         1180              0        1180\n",
              "1         2570            400        2170\n",
              "2          770              0         770\n",
              "3         1960            910        1050\n",
              "4         1680              0        1680"
            ]
          },
          "metadata": {
            "tags": []
          },
          "execution_count": 139
        }
      ]
    },
    {
      "metadata": {
        "id": "GAcYGirNDhCk",
        "colab_type": "text"
      },
      "cell_type": "markdown",
      "source": [
        "We notice that sqft_living is always the sum of sqft_basement and sqft_above. We can even prove this is always the case:"
      ]
    },
    {
      "metadata": {
        "id": "ApUZPdjNDhCl",
        "colab_type": "code",
        "colab": {},
        "outputId": "73e8a5ab-19c3-419b-a969-d8c82685df6c"
      },
      "cell_type": "code",
      "source": [
        "dataset[dataset[\"sqft_living\"] != dataset[\"sqft_basement\"] + dataset[\"sqft_above\"]]"
      ],
      "execution_count": 0,
      "outputs": [
        {
          "output_type": "execute_result",
          "data": {
            "text/html": [
              "<div>\n",
              "<style scoped>\n",
              "    .dataframe tbody tr th:only-of-type {\n",
              "        vertical-align: middle;\n",
              "    }\n",
              "\n",
              "    .dataframe tbody tr th {\n",
              "        vertical-align: top;\n",
              "    }\n",
              "\n",
              "    .dataframe thead th {\n",
              "        text-align: right;\n",
              "    }\n",
              "</style>\n",
              "<table border=\"1\" class=\"dataframe\">\n",
              "  <thead>\n",
              "    <tr style=\"text-align: right;\">\n",
              "      <th></th>\n",
              "      <th>price</th>\n",
              "      <th>bedrooms</th>\n",
              "      <th>bathrooms</th>\n",
              "      <th>sqft_living</th>\n",
              "      <th>sqft_lot</th>\n",
              "      <th>floors</th>\n",
              "      <th>waterfront</th>\n",
              "      <th>view</th>\n",
              "      <th>condition</th>\n",
              "      <th>grade</th>\n",
              "      <th>...</th>\n",
              "      <th>zipcode98148</th>\n",
              "      <th>zipcode98155</th>\n",
              "      <th>zipcode98166</th>\n",
              "      <th>zipcode98168</th>\n",
              "      <th>zipcode98177</th>\n",
              "      <th>zipcode98178</th>\n",
              "      <th>zipcode98188</th>\n",
              "      <th>zipcode98198</th>\n",
              "      <th>zipcode98199</th>\n",
              "      <th>age</th>\n",
              "    </tr>\n",
              "  </thead>\n",
              "  <tbody>\n",
              "  </tbody>\n",
              "</table>\n",
              "<p>0 rows × 85 columns</p>\n",
              "</div>"
            ],
            "text/plain": [
              "Empty DataFrame\n",
              "Columns: [price, bedrooms, bathrooms, sqft_living, sqft_lot, floors, waterfront, view, condition, grade, sqft_above, sqft_basement, sqft_living15, sqft_lot15, zipcode98001, zipcode98002, zipcode98003, zipcode98004, zipcode98005, zipcode98006, zipcode98007, zipcode98008, zipcode98010, zipcode98011, zipcode98014, zipcode98019, zipcode98022, zipcode98023, zipcode98024, zipcode98027, zipcode98028, zipcode98029, zipcode98030, zipcode98031, zipcode98032, zipcode98033, zipcode98034, zipcode98038, zipcode98039, zipcode98040, zipcode98042, zipcode98045, zipcode98052, zipcode98053, zipcode98055, zipcode98056, zipcode98058, zipcode98059, zipcode98065, zipcode98070, zipcode98072, zipcode98074, zipcode98075, zipcode98077, zipcode98092, zipcode98102, zipcode98103, zipcode98105, zipcode98106, zipcode98107, zipcode98108, zipcode98109, zipcode98112, zipcode98115, zipcode98116, zipcode98117, zipcode98118, zipcode98119, zipcode98122, zipcode98125, zipcode98126, zipcode98133, zipcode98136, zipcode98144, zipcode98146, zipcode98148, zipcode98155, zipcode98166, zipcode98168, zipcode98177, zipcode98178, zipcode98188, zipcode98198, zipcode98199, age]\n",
              "Index: []\n",
              "\n",
              "[0 rows x 85 columns]"
            ]
          },
          "metadata": {
            "tags": []
          },
          "execution_count": 140
        }
      ]
    },
    {
      "metadata": {
        "id": "EVAmGInhDhCp",
        "colab_type": "text"
      },
      "cell_type": "markdown",
      "source": [
        "Looking at our formula, having a feature that is the sum of two other features, would not make sense. If one feature is a linear combinations of others, then it will never add value to our model. \n",
        "\n",
        "$y = w_0 + w_1h_1 + w_2h_2 + w_3h_3 + ... + w_nh_n$\n",
        "\n",
        "In our specific case, let's say $h_1 = h_2 + h_3$. Then we rewrite our equation as\n",
        "\n",
        "$y = w_0 + w_1(h_2 + h_3) + w_2h_2 + w_3h_3 + ... + w_nh_n$\n",
        "$  = w_0 + (w_1+w_2)h_2 + (w_1+W_3)h_3 + ... + w_nh_n$\n",
        "\n",
        "Thus, an equivalent model without $h_1$ could be trained if we drop sqft_living."
      ]
    },
    {
      "metadata": {
        "id": "Zk-ZCetGDhCp",
        "colab_type": "code",
        "colab": {},
        "collapsed": true
      },
      "cell_type": "code",
      "source": [
        "dataset = dataset.drop(columns=\"sqft_living\")"
      ],
      "execution_count": 0,
      "outputs": []
    },
    {
      "metadata": {
        "id": "0htS62ajDhCs",
        "colab_type": "text"
      },
      "cell_type": "markdown",
      "source": [
        "## 3.6 Resulting dataset"
      ]
    },
    {
      "metadata": {
        "id": "CgZrLC6sDhCt",
        "colab_type": "code",
        "colab": {},
        "outputId": "bc525db4-9c3c-439c-f372-7652385a7842"
      },
      "cell_type": "code",
      "source": [
        "dataset.head()"
      ],
      "execution_count": 0,
      "outputs": [
        {
          "output_type": "execute_result",
          "data": {
            "text/html": [
              "<div>\n",
              "<style scoped>\n",
              "    .dataframe tbody tr th:only-of-type {\n",
              "        vertical-align: middle;\n",
              "    }\n",
              "\n",
              "    .dataframe tbody tr th {\n",
              "        vertical-align: top;\n",
              "    }\n",
              "\n",
              "    .dataframe thead th {\n",
              "        text-align: right;\n",
              "    }\n",
              "</style>\n",
              "<table border=\"1\" class=\"dataframe\">\n",
              "  <thead>\n",
              "    <tr style=\"text-align: right;\">\n",
              "      <th></th>\n",
              "      <th>price</th>\n",
              "      <th>bedrooms</th>\n",
              "      <th>bathrooms</th>\n",
              "      <th>sqft_lot</th>\n",
              "      <th>floors</th>\n",
              "      <th>waterfront</th>\n",
              "      <th>view</th>\n",
              "      <th>condition</th>\n",
              "      <th>grade</th>\n",
              "      <th>sqft_above</th>\n",
              "      <th>...</th>\n",
              "      <th>zipcode98148</th>\n",
              "      <th>zipcode98155</th>\n",
              "      <th>zipcode98166</th>\n",
              "      <th>zipcode98168</th>\n",
              "      <th>zipcode98177</th>\n",
              "      <th>zipcode98178</th>\n",
              "      <th>zipcode98188</th>\n",
              "      <th>zipcode98198</th>\n",
              "      <th>zipcode98199</th>\n",
              "      <th>age</th>\n",
              "    </tr>\n",
              "  </thead>\n",
              "  <tbody>\n",
              "    <tr>\n",
              "      <th>0</th>\n",
              "      <td>221900.0</td>\n",
              "      <td>3</td>\n",
              "      <td>1.00</td>\n",
              "      <td>5650</td>\n",
              "      <td>1.0</td>\n",
              "      <td>0</td>\n",
              "      <td>0</td>\n",
              "      <td>3</td>\n",
              "      <td>7</td>\n",
              "      <td>1180</td>\n",
              "      <td>...</td>\n",
              "      <td>0</td>\n",
              "      <td>0</td>\n",
              "      <td>0</td>\n",
              "      <td>0</td>\n",
              "      <td>0</td>\n",
              "      <td>1</td>\n",
              "      <td>0</td>\n",
              "      <td>0</td>\n",
              "      <td>0</td>\n",
              "      <td>59</td>\n",
              "    </tr>\n",
              "    <tr>\n",
              "      <th>1</th>\n",
              "      <td>538000.0</td>\n",
              "      <td>3</td>\n",
              "      <td>2.25</td>\n",
              "      <td>7242</td>\n",
              "      <td>2.0</td>\n",
              "      <td>0</td>\n",
              "      <td>0</td>\n",
              "      <td>3</td>\n",
              "      <td>7</td>\n",
              "      <td>2170</td>\n",
              "      <td>...</td>\n",
              "      <td>0</td>\n",
              "      <td>0</td>\n",
              "      <td>0</td>\n",
              "      <td>0</td>\n",
              "      <td>0</td>\n",
              "      <td>0</td>\n",
              "      <td>0</td>\n",
              "      <td>0</td>\n",
              "      <td>0</td>\n",
              "      <td>63</td>\n",
              "    </tr>\n",
              "    <tr>\n",
              "      <th>2</th>\n",
              "      <td>180000.0</td>\n",
              "      <td>2</td>\n",
              "      <td>1.00</td>\n",
              "      <td>10000</td>\n",
              "      <td>1.0</td>\n",
              "      <td>0</td>\n",
              "      <td>0</td>\n",
              "      <td>3</td>\n",
              "      <td>6</td>\n",
              "      <td>770</td>\n",
              "      <td>...</td>\n",
              "      <td>0</td>\n",
              "      <td>0</td>\n",
              "      <td>0</td>\n",
              "      <td>0</td>\n",
              "      <td>0</td>\n",
              "      <td>0</td>\n",
              "      <td>0</td>\n",
              "      <td>0</td>\n",
              "      <td>0</td>\n",
              "      <td>82</td>\n",
              "    </tr>\n",
              "    <tr>\n",
              "      <th>3</th>\n",
              "      <td>604000.0</td>\n",
              "      <td>4</td>\n",
              "      <td>3.00</td>\n",
              "      <td>5000</td>\n",
              "      <td>1.0</td>\n",
              "      <td>0</td>\n",
              "      <td>0</td>\n",
              "      <td>5</td>\n",
              "      <td>7</td>\n",
              "      <td>1050</td>\n",
              "      <td>...</td>\n",
              "      <td>0</td>\n",
              "      <td>0</td>\n",
              "      <td>0</td>\n",
              "      <td>0</td>\n",
              "      <td>0</td>\n",
              "      <td>0</td>\n",
              "      <td>0</td>\n",
              "      <td>0</td>\n",
              "      <td>0</td>\n",
              "      <td>49</td>\n",
              "    </tr>\n",
              "    <tr>\n",
              "      <th>4</th>\n",
              "      <td>510000.0</td>\n",
              "      <td>3</td>\n",
              "      <td>2.00</td>\n",
              "      <td>8080</td>\n",
              "      <td>1.0</td>\n",
              "      <td>0</td>\n",
              "      <td>0</td>\n",
              "      <td>3</td>\n",
              "      <td>8</td>\n",
              "      <td>1680</td>\n",
              "      <td>...</td>\n",
              "      <td>0</td>\n",
              "      <td>0</td>\n",
              "      <td>0</td>\n",
              "      <td>0</td>\n",
              "      <td>0</td>\n",
              "      <td>0</td>\n",
              "      <td>0</td>\n",
              "      <td>0</td>\n",
              "      <td>0</td>\n",
              "      <td>28</td>\n",
              "    </tr>\n",
              "  </tbody>\n",
              "</table>\n",
              "<p>5 rows × 84 columns</p>\n",
              "</div>"
            ],
            "text/plain": [
              "      price  bedrooms  bathrooms  sqft_lot  floors  waterfront  view  \\\n",
              "0  221900.0         3       1.00      5650     1.0           0     0   \n",
              "1  538000.0         3       2.25      7242     2.0           0     0   \n",
              "2  180000.0         2       1.00     10000     1.0           0     0   \n",
              "3  604000.0         4       3.00      5000     1.0           0     0   \n",
              "4  510000.0         3       2.00      8080     1.0           0     0   \n",
              "\n",
              "   condition  grade  sqft_above ...   zipcode98148  zipcode98155  \\\n",
              "0          3      7        1180 ...              0             0   \n",
              "1          3      7        2170 ...              0             0   \n",
              "2          3      6         770 ...              0             0   \n",
              "3          5      7        1050 ...              0             0   \n",
              "4          3      8        1680 ...              0             0   \n",
              "\n",
              "   zipcode98166  zipcode98168  zipcode98177  zipcode98178  zipcode98188  \\\n",
              "0             0             0             0             1             0   \n",
              "1             0             0             0             0             0   \n",
              "2             0             0             0             0             0   \n",
              "3             0             0             0             0             0   \n",
              "4             0             0             0             0             0   \n",
              "\n",
              "   zipcode98198  zipcode98199  age  \n",
              "0             0             0   59  \n",
              "1             0             0   63  \n",
              "2             0             0   82  \n",
              "3             0             0   49  \n",
              "4             0             0   28  \n",
              "\n",
              "[5 rows x 84 columns]"
            ]
          },
          "metadata": {
            "tags": []
          },
          "execution_count": 142
        }
      ]
    },
    {
      "metadata": {
        "id": "veg5spTnDhCx",
        "colab_type": "code",
        "colab": {},
        "outputId": "7db8c285-3f35-4ae8-e2f4-050e8c2118cf"
      },
      "cell_type": "code",
      "source": [
        "dataset.columns"
      ],
      "execution_count": 0,
      "outputs": [
        {
          "output_type": "execute_result",
          "data": {
            "text/plain": [
              "Index(['price', 'bedrooms', 'bathrooms', 'sqft_lot', 'floors', 'waterfront',\n",
              "       'view', 'condition', 'grade', 'sqft_above', 'sqft_basement',\n",
              "       'sqft_living15', 'sqft_lot15', 'zipcode98001', 'zipcode98002',\n",
              "       'zipcode98003', 'zipcode98004', 'zipcode98005', 'zipcode98006',\n",
              "       'zipcode98007', 'zipcode98008', 'zipcode98010', 'zipcode98011',\n",
              "       'zipcode98014', 'zipcode98019', 'zipcode98022', 'zipcode98023',\n",
              "       'zipcode98024', 'zipcode98027', 'zipcode98028', 'zipcode98029',\n",
              "       'zipcode98030', 'zipcode98031', 'zipcode98032', 'zipcode98033',\n",
              "       'zipcode98034', 'zipcode98038', 'zipcode98039', 'zipcode98040',\n",
              "       'zipcode98042', 'zipcode98045', 'zipcode98052', 'zipcode98053',\n",
              "       'zipcode98055', 'zipcode98056', 'zipcode98058', 'zipcode98059',\n",
              "       'zipcode98065', 'zipcode98070', 'zipcode98072', 'zipcode98074',\n",
              "       'zipcode98075', 'zipcode98077', 'zipcode98092', 'zipcode98102',\n",
              "       'zipcode98103', 'zipcode98105', 'zipcode98106', 'zipcode98107',\n",
              "       'zipcode98108', 'zipcode98109', 'zipcode98112', 'zipcode98115',\n",
              "       'zipcode98116', 'zipcode98117', 'zipcode98118', 'zipcode98119',\n",
              "       'zipcode98122', 'zipcode98125', 'zipcode98126', 'zipcode98133',\n",
              "       'zipcode98136', 'zipcode98144', 'zipcode98146', 'zipcode98148',\n",
              "       'zipcode98155', 'zipcode98166', 'zipcode98168', 'zipcode98177',\n",
              "       'zipcode98178', 'zipcode98188', 'zipcode98198', 'zipcode98199', 'age'],\n",
              "      dtype='object')"
            ]
          },
          "metadata": {
            "tags": []
          },
          "execution_count": 143
        }
      ]
    },
    {
      "metadata": {
        "id": "j54e_vOIDhC0",
        "colab_type": "text"
      },
      "cell_type": "markdown",
      "source": [
        "# 4 Training the model\n",
        "\n",
        "## 4.1 Training our first model\n",
        "\n",
        "Our data is now finally ready. Let's train the model using the third-party library **sklearn**. \n",
        "\n",
        "[documentation for the sklearn linear regressor](http://scikit-learn.org/dev/modules/generated/sklearn.linear_model.LinearRegression.html)"
      ]
    },
    {
      "metadata": {
        "id": "eJQeKU0CDhC1",
        "colab_type": "code",
        "colab": {},
        "outputId": "0defdbc4-86b7-43c8-aefb-c09b539e0af0"
      },
      "cell_type": "code",
      "source": [
        "! pip install sklearn"
      ],
      "execution_count": 0,
      "outputs": [
        {
          "output_type": "stream",
          "text": [
            "Requirement already satisfied: sklearn in c:\\users\\pisa\\appdata\\local\\programs\\python\\python35\\lib\\site-packages (0.0)\n",
            "Requirement already satisfied: scikit-learn in c:\\users\\pisa\\appdata\\local\\programs\\python\\python35\\lib\\site-packages (from sklearn) (0.19.2)\n"
          ],
          "name": "stdout"
        }
      ]
    },
    {
      "metadata": {
        "id": "hsMkl8sRDhC4",
        "colab_type": "code",
        "colab": {}
      },
      "cell_type": "code",
      "source": [
        "import sklearn\n",
        "from sklearn.linear_model import LinearRegression\n",
        "from sklearn.model_selection import train_test_split"
      ],
      "execution_count": 0,
      "outputs": []
    },
    {
      "metadata": {
        "id": "yP8mdIplDhC6",
        "colab_type": "code",
        "colab": {},
        "outputId": "1396c41b-1a54-4971-a461-32080101bc67"
      },
      "cell_type": "code",
      "source": [
        "#split the dataset in two pandas dataframe: one for all the features, another for just the price (our target)\n",
        "\n",
        "dataset_target = dataset[\"price\"]\n",
        "dataset_features = dataset.drop(columns=\"price\")\n",
        "\n",
        "\n",
        "#The fitting method of our regressor will require a numpy array as input. Convert the data inside the pandas dataframe to a numpy array.\n",
        "\n",
        "H = dataset_features.values\n",
        "Y = dataset_target.values\n",
        "\n",
        "#Check the dimensions of these arrays\n",
        "\n",
        "print(H.shape)\n",
        "print(Y.shape)"
      ],
      "execution_count": 0,
      "outputs": [
        {
          "output_type": "stream",
          "text": [
            "(21613, 83)\n",
            "(21613,)\n"
          ],
          "name": "stdout"
        }
      ]
    },
    {
      "metadata": {
        "id": "PBIpakrXDhC-",
        "colab_type": "text"
      },
      "cell_type": "markdown",
      "source": [
        "We split the data into a training set and a testing set. First we **train the model on the training data**, then we will **evaluate the performance of the model on the test set**. \n",
        "\n",
        "This way, we can determine wether or not the model is able to generalize to new, unseen data. A high performance on the training data does not mean you have a valuable model. Maybe the parameters were optimized to perform very well on the training data during training, but it does not perform well on new data. \n",
        "\n",
        "**note: ** We will later see that the train-test split (or even train-test-dev split) is also used for hyperparameter tuning. This is not relevant here since we have no hyperparameters to tune."
      ]
    },
    {
      "metadata": {
        "id": "jbKwVS9VDhC_",
        "colab_type": "code",
        "colab": {},
        "outputId": "2b3363e2-e73b-4e7f-8907-78ecc8e11534"
      },
      "cell_type": "code",
      "source": [
        "#Train-test split\n",
        "X_train, X_test, Y_train, Y_test = train_test_split(H,Y,test_size = 0.10, random_state=0)\n",
        "\n",
        "#create model\n",
        "regressionModel = LinearRegression()\n",
        "\n",
        "#fit model\n",
        "regressionModel.fit(X_train,Y_train)"
      ],
      "execution_count": 0,
      "outputs": [
        {
          "output_type": "execute_result",
          "data": {
            "text/plain": [
              "LinearRegression(copy_X=True, fit_intercept=True, n_jobs=1, normalize=False)"
            ]
          },
          "metadata": {
            "tags": []
          },
          "execution_count": 147
        }
      ]
    },
    {
      "metadata": {
        "id": "fcssPZ2jDhDD",
        "colab_type": "text"
      },
      "cell_type": "markdown",
      "source": [
        "We **evaluate our model using the $R^2$ metric**. This metric has been discussed in the slides. \n",
        "\n",
        "Sklearn has built-in functionality to determine $R^2$ for a prediction. We will test our model on the test set."
      ]
    },
    {
      "metadata": {
        "id": "t6Z-7j5ZDhDD",
        "colab_type": "code",
        "colab": {},
        "outputId": "508134c9-8b35-436d-b892-c2cd6e26167a"
      },
      "cell_type": "code",
      "source": [
        "regressionModel.score(X_test, Y_test)"
      ],
      "execution_count": 0,
      "outputs": [
        {
          "output_type": "execute_result",
          "data": {
            "text/plain": [
              "0.814807920466211"
            ]
          },
          "metadata": {
            "tags": []
          },
          "execution_count": 148
        }
      ]
    },
    {
      "metadata": {
        "id": "BlCnuECLDhDG",
        "colab_type": "text"
      },
      "cell_type": "markdown",
      "source": [
        "## 4.2 Inspecting the model\n",
        "\n",
        "The weights for our regression model ($y = w_0 + w_1h_1 + w_2h_2 + ... + w_nh_n$) are now trained. We can review them now:  \n",
        "  [documentation for LinearRegression](http://scikit-learn.org/dev/modules/generated/sklearn.linear_model.LinearRegression.html)"
      ]
    },
    {
      "metadata": {
        "id": "csTgmLB6DhDH",
        "colab_type": "code",
        "colab": {},
        "outputId": "a3a0ce92-b0c2-4cc3-b8ab-4abc4e48a70c"
      },
      "cell_type": "code",
      "source": [
        "regressionModel.coef_"
      ],
      "execution_count": 0,
      "outputs": [
        {
          "output_type": "execute_result",
          "data": {
            "text/plain": [
              "array([-2.74607915e+04,  2.52255268e+04,  2.47276684e-01, -4.34001393e+04,\n",
              "        6.79819724e+05,  5.47987598e+04,  2.33223793e+04,  5.69960913e+04,\n",
              "        2.11545390e+02,  1.32082750e+02,  9.32942549e+00, -1.51862860e-01,\n",
              "       -3.94903424e+11, -3.94903396e+11, -3.94903440e+11, -3.94902652e+11,\n",
              "       -3.94903121e+11, -3.94903165e+11, -3.94903186e+11, -3.94903175e+11,\n",
              "       -3.94903352e+11, -3.94903307e+11, -3.94903323e+11, -3.94903338e+11,\n",
              "       -3.94903433e+11, -3.94903457e+11, -3.94903263e+11, -3.94903260e+11,\n",
              "       -3.94903307e+11, -3.94903214e+11, -3.94903418e+11, -3.94903409e+11,\n",
              "       -3.94903417e+11, -3.94903065e+11, -3.94903222e+11, -3.94903391e+11,\n",
              "       -3.94902123e+11, -3.94902917e+11, -3.94903416e+11, -3.94903332e+11,\n",
              "       -3.94903196e+11, -3.94903232e+11, -3.94903376e+11, -3.94903326e+11,\n",
              "       -3.94903393e+11, -3.94903343e+11, -3.94903339e+11, -3.94903453e+11,\n",
              "       -3.94903270e+11, -3.94903254e+11, -3.94903262e+11, -3.94903306e+11,\n",
              "       -3.94903458e+11, -3.94902911e+11, -3.94903082e+11, -3.94902952e+11,\n",
              "       -3.94903271e+11, -3.94903070e+11, -3.94903296e+11, -3.94902932e+11,\n",
              "       -3.94902805e+11, -3.94903090e+11, -3.94903128e+11, -3.94903105e+11,\n",
              "       -3.94903248e+11, -3.94902942e+11, -3.94903082e+11, -3.94903224e+11,\n",
              "       -3.94903226e+11, -3.94903254e+11, -3.94903174e+11, -3.94903141e+11,\n",
              "       -3.94903312e+11, -3.94903354e+11, -3.94903275e+11, -3.94903367e+11,\n",
              "       -3.94903341e+11, -3.94903203e+11, -3.94903381e+11, -3.94903383e+11,\n",
              "       -3.94903426e+11, -3.94903034e+11,  8.58708618e+02])"
            ]
          },
          "metadata": {
            "tags": []
          },
          "execution_count": 149
        }
      ]
    },
    {
      "metadata": {
        "id": "GXDiDemfDhDM",
        "colab_type": "text"
      },
      "cell_type": "markdown",
      "source": [
        "Coefficients are returned as a numpy array. There are 84 in total, one for every feature (remember, the zipcode alone is split up into 70 one-hot-encoded features)."
      ]
    },
    {
      "metadata": {
        "id": "Jfxcf0BRDhDN",
        "colab_type": "code",
        "colab": {},
        "outputId": "801b9bbc-708f-4510-97b1-c9178d3b6a97"
      },
      "cell_type": "code",
      "source": [
        "regressionModel.coef_.shape"
      ],
      "execution_count": 0,
      "outputs": [
        {
          "output_type": "execute_result",
          "data": {
            "text/plain": [
              "(83,)"
            ]
          },
          "metadata": {
            "tags": []
          },
          "execution_count": 150
        }
      ]
    },
    {
      "metadata": {
        "id": "AqauMOFmDhDR",
        "colab_type": "code",
        "colab": {},
        "outputId": "088839dc-8a1a-438b-9df2-a87d056bd899"
      },
      "cell_type": "code",
      "source": [
        "dataset_features.columns"
      ],
      "execution_count": 0,
      "outputs": [
        {
          "output_type": "execute_result",
          "data": {
            "text/plain": [
              "Index(['bedrooms', 'bathrooms', 'sqft_lot', 'floors', 'waterfront', 'view',\n",
              "       'condition', 'grade', 'sqft_above', 'sqft_basement', 'sqft_living15',\n",
              "       'sqft_lot15', 'zipcode98001', 'zipcode98002', 'zipcode98003',\n",
              "       'zipcode98004', 'zipcode98005', 'zipcode98006', 'zipcode98007',\n",
              "       'zipcode98008', 'zipcode98010', 'zipcode98011', 'zipcode98014',\n",
              "       'zipcode98019', 'zipcode98022', 'zipcode98023', 'zipcode98024',\n",
              "       'zipcode98027', 'zipcode98028', 'zipcode98029', 'zipcode98030',\n",
              "       'zipcode98031', 'zipcode98032', 'zipcode98033', 'zipcode98034',\n",
              "       'zipcode98038', 'zipcode98039', 'zipcode98040', 'zipcode98042',\n",
              "       'zipcode98045', 'zipcode98052', 'zipcode98053', 'zipcode98055',\n",
              "       'zipcode98056', 'zipcode98058', 'zipcode98059', 'zipcode98065',\n",
              "       'zipcode98070', 'zipcode98072', 'zipcode98074', 'zipcode98075',\n",
              "       'zipcode98077', 'zipcode98092', 'zipcode98102', 'zipcode98103',\n",
              "       'zipcode98105', 'zipcode98106', 'zipcode98107', 'zipcode98108',\n",
              "       'zipcode98109', 'zipcode98112', 'zipcode98115', 'zipcode98116',\n",
              "       'zipcode98117', 'zipcode98118', 'zipcode98119', 'zipcode98122',\n",
              "       'zipcode98125', 'zipcode98126', 'zipcode98133', 'zipcode98136',\n",
              "       'zipcode98144', 'zipcode98146', 'zipcode98148', 'zipcode98155',\n",
              "       'zipcode98166', 'zipcode98168', 'zipcode98177', 'zipcode98178',\n",
              "       'zipcode98188', 'zipcode98198', 'zipcode98199', 'age'],\n",
              "      dtype='object')"
            ]
          },
          "metadata": {
            "tags": []
          },
          "execution_count": 151
        }
      ]
    },
    {
      "metadata": {
        "id": "4vfpSlsSDhDV",
        "colab_type": "text"
      },
      "cell_type": "markdown",
      "source": [
        "Let's put our features and their coefficients together in a pandas dataframe, so we can easily inspect them:"
      ]
    },
    {
      "metadata": {
        "id": "UQlTKdmZDhDV",
        "colab_type": "code",
        "colab": {}
      },
      "cell_type": "code",
      "source": [
        "regressionModel_coefficients = pd.DataFrame({'feature':dataset_features.columns,'coefficient':regressionModel.coef_})"
      ],
      "execution_count": 0,
      "outputs": []
    },
    {
      "metadata": {
        "id": "dKrfJc7wDhDX",
        "colab_type": "code",
        "colab": {},
        "outputId": "53a5848d-64ee-4347-f764-6c4abd5d07d2"
      },
      "cell_type": "code",
      "source": [
        "regressionModel_coefficients.head(15)"
      ],
      "execution_count": 0,
      "outputs": [
        {
          "output_type": "execute_result",
          "data": {
            "text/html": [
              "<div>\n",
              "<style scoped>\n",
              "    .dataframe tbody tr th:only-of-type {\n",
              "        vertical-align: middle;\n",
              "    }\n",
              "\n",
              "    .dataframe tbody tr th {\n",
              "        vertical-align: top;\n",
              "    }\n",
              "\n",
              "    .dataframe thead th {\n",
              "        text-align: right;\n",
              "    }\n",
              "</style>\n",
              "<table border=\"1\" class=\"dataframe\">\n",
              "  <thead>\n",
              "    <tr style=\"text-align: right;\">\n",
              "      <th></th>\n",
              "      <th>coefficient</th>\n",
              "      <th>feature</th>\n",
              "    </tr>\n",
              "  </thead>\n",
              "  <tbody>\n",
              "    <tr>\n",
              "      <th>0</th>\n",
              "      <td>-2.746079e+04</td>\n",
              "      <td>bedrooms</td>\n",
              "    </tr>\n",
              "    <tr>\n",
              "      <th>1</th>\n",
              "      <td>2.522553e+04</td>\n",
              "      <td>bathrooms</td>\n",
              "    </tr>\n",
              "    <tr>\n",
              "      <th>2</th>\n",
              "      <td>2.472767e-01</td>\n",
              "      <td>sqft_lot</td>\n",
              "    </tr>\n",
              "    <tr>\n",
              "      <th>3</th>\n",
              "      <td>-4.340014e+04</td>\n",
              "      <td>floors</td>\n",
              "    </tr>\n",
              "    <tr>\n",
              "      <th>4</th>\n",
              "      <td>6.798197e+05</td>\n",
              "      <td>waterfront</td>\n",
              "    </tr>\n",
              "    <tr>\n",
              "      <th>5</th>\n",
              "      <td>5.479876e+04</td>\n",
              "      <td>view</td>\n",
              "    </tr>\n",
              "    <tr>\n",
              "      <th>6</th>\n",
              "      <td>2.332238e+04</td>\n",
              "      <td>condition</td>\n",
              "    </tr>\n",
              "    <tr>\n",
              "      <th>7</th>\n",
              "      <td>5.699609e+04</td>\n",
              "      <td>grade</td>\n",
              "    </tr>\n",
              "    <tr>\n",
              "      <th>8</th>\n",
              "      <td>2.115454e+02</td>\n",
              "      <td>sqft_above</td>\n",
              "    </tr>\n",
              "    <tr>\n",
              "      <th>9</th>\n",
              "      <td>1.320827e+02</td>\n",
              "      <td>sqft_basement</td>\n",
              "    </tr>\n",
              "    <tr>\n",
              "      <th>10</th>\n",
              "      <td>9.329425e+00</td>\n",
              "      <td>sqft_living15</td>\n",
              "    </tr>\n",
              "    <tr>\n",
              "      <th>11</th>\n",
              "      <td>-1.518629e-01</td>\n",
              "      <td>sqft_lot15</td>\n",
              "    </tr>\n",
              "    <tr>\n",
              "      <th>12</th>\n",
              "      <td>-3.949034e+11</td>\n",
              "      <td>zipcode98001</td>\n",
              "    </tr>\n",
              "    <tr>\n",
              "      <th>13</th>\n",
              "      <td>-3.949034e+11</td>\n",
              "      <td>zipcode98002</td>\n",
              "    </tr>\n",
              "    <tr>\n",
              "      <th>14</th>\n",
              "      <td>-3.949034e+11</td>\n",
              "      <td>zipcode98003</td>\n",
              "    </tr>\n",
              "  </tbody>\n",
              "</table>\n",
              "</div>"
            ],
            "text/plain": [
              "     coefficient        feature\n",
              "0  -2.746079e+04       bedrooms\n",
              "1   2.522553e+04      bathrooms\n",
              "2   2.472767e-01       sqft_lot\n",
              "3  -4.340014e+04         floors\n",
              "4   6.798197e+05     waterfront\n",
              "5   5.479876e+04           view\n",
              "6   2.332238e+04      condition\n",
              "7   5.699609e+04          grade\n",
              "8   2.115454e+02     sqft_above\n",
              "9   1.320827e+02  sqft_basement\n",
              "10  9.329425e+00  sqft_living15\n",
              "11 -1.518629e-01     sqft_lot15\n",
              "12 -3.949034e+11   zipcode98001\n",
              "13 -3.949034e+11   zipcode98002\n",
              "14 -3.949034e+11   zipcode98003"
            ]
          },
          "metadata": {
            "tags": []
          },
          "execution_count": 153
        }
      ]
    },
    {
      "metadata": {
        "id": "JHKS2jJQDhDg",
        "colab_type": "text"
      },
      "cell_type": "markdown",
      "source": [
        "To better inspect our weights, we take out all zipcode features and sort the features according to weight size. "
      ]
    },
    {
      "metadata": {
        "id": "qST4RqzLDhDg",
        "colab_type": "code",
        "colab": {},
        "outputId": "22134de2-e80a-496a-d2e1-7d41efae7347"
      },
      "cell_type": "code",
      "source": [
        "mask = np.core.defchararray.find(regressionModel_coefficients[\"feature\"].values.astype(str),\"zipcode\")\n",
        "regressionModel_coefficients[mask == -1].sort_values(by=\"coefficient\")"
      ],
      "execution_count": 0,
      "outputs": [
        {
          "output_type": "execute_result",
          "data": {
            "text/html": [
              "<div>\n",
              "<style scoped>\n",
              "    .dataframe tbody tr th:only-of-type {\n",
              "        vertical-align: middle;\n",
              "    }\n",
              "\n",
              "    .dataframe tbody tr th {\n",
              "        vertical-align: top;\n",
              "    }\n",
              "\n",
              "    .dataframe thead th {\n",
              "        text-align: right;\n",
              "    }\n",
              "</style>\n",
              "<table border=\"1\" class=\"dataframe\">\n",
              "  <thead>\n",
              "    <tr style=\"text-align: right;\">\n",
              "      <th></th>\n",
              "      <th>coefficient</th>\n",
              "      <th>feature</th>\n",
              "    </tr>\n",
              "  </thead>\n",
              "  <tbody>\n",
              "    <tr>\n",
              "      <th>3</th>\n",
              "      <td>-43400.139345</td>\n",
              "      <td>floors</td>\n",
              "    </tr>\n",
              "    <tr>\n",
              "      <th>0</th>\n",
              "      <td>-27460.791548</td>\n",
              "      <td>bedrooms</td>\n",
              "    </tr>\n",
              "    <tr>\n",
              "      <th>11</th>\n",
              "      <td>-0.151863</td>\n",
              "      <td>sqft_lot15</td>\n",
              "    </tr>\n",
              "    <tr>\n",
              "      <th>2</th>\n",
              "      <td>0.247277</td>\n",
              "      <td>sqft_lot</td>\n",
              "    </tr>\n",
              "    <tr>\n",
              "      <th>10</th>\n",
              "      <td>9.329425</td>\n",
              "      <td>sqft_living15</td>\n",
              "    </tr>\n",
              "    <tr>\n",
              "      <th>9</th>\n",
              "      <td>132.082750</td>\n",
              "      <td>sqft_basement</td>\n",
              "    </tr>\n",
              "    <tr>\n",
              "      <th>8</th>\n",
              "      <td>211.545390</td>\n",
              "      <td>sqft_above</td>\n",
              "    </tr>\n",
              "    <tr>\n",
              "      <th>82</th>\n",
              "      <td>858.708618</td>\n",
              "      <td>age</td>\n",
              "    </tr>\n",
              "    <tr>\n",
              "      <th>6</th>\n",
              "      <td>23322.379273</td>\n",
              "      <td>condition</td>\n",
              "    </tr>\n",
              "    <tr>\n",
              "      <th>1</th>\n",
              "      <td>25225.526817</td>\n",
              "      <td>bathrooms</td>\n",
              "    </tr>\n",
              "    <tr>\n",
              "      <th>5</th>\n",
              "      <td>54798.759813</td>\n",
              "      <td>view</td>\n",
              "    </tr>\n",
              "    <tr>\n",
              "      <th>7</th>\n",
              "      <td>56996.091341</td>\n",
              "      <td>grade</td>\n",
              "    </tr>\n",
              "    <tr>\n",
              "      <th>4</th>\n",
              "      <td>679819.724011</td>\n",
              "      <td>waterfront</td>\n",
              "    </tr>\n",
              "  </tbody>\n",
              "</table>\n",
              "</div>"
            ],
            "text/plain": [
              "      coefficient        feature\n",
              "3   -43400.139345         floors\n",
              "0   -27460.791548       bedrooms\n",
              "11      -0.151863     sqft_lot15\n",
              "2        0.247277       sqft_lot\n",
              "10       9.329425  sqft_living15\n",
              "9      132.082750  sqft_basement\n",
              "8      211.545390     sqft_above\n",
              "82     858.708618            age\n",
              "6    23322.379273      condition\n",
              "1    25225.526817      bathrooms\n",
              "5    54798.759813           view\n",
              "7    56996.091341          grade\n",
              "4   679819.724011     waterfront"
            ]
          },
          "metadata": {
            "tags": []
          },
          "execution_count": 154
        }
      ]
    },
    {
      "metadata": {
        "id": "c8Gd_tNJDhDi",
        "colab_type": "text"
      },
      "cell_type": "markdown",
      "source": [
        "The features with positive coefficient indicate a positive impact on the price. Negative coefficients point to a negative impact. \n",
        "\n",
        "If one feature has a larger coefficient than another, this does not necessarily mean that its impact is higher. For example, the floors column has a coefficient with a large absolute value, but this coefficient is multiplied by floor values ranging only from 1 to 3.5. On the other hand, sqft_above has a smaller coefficient, but the sqft_above variable typically has larger values.\n",
        "\n",
        "$y = w_0 + w_1h_1 + w_2h_2 + w_3h_3 + ... + w_nh_n$\n"
      ]
    },
    {
      "metadata": {
        "id": "0DvP-KsGDhDj",
        "colab_type": "code",
        "colab": {},
        "outputId": "9a9278b1-1df4-44d6-de4c-78f4f9686cae"
      },
      "cell_type": "code",
      "source": [
        "print(\"floors, min\",dataset_features[\"floors\"].min())\n",
        "print(\"floors, max\",dataset_features[\"floors\"].max())\n",
        "\n",
        "print(\"sqft_above, min\",dataset_features[\"sqft_above\"].min())\n",
        "print(\"sqft_above, max\",dataset_features[\"sqft_above\"].max())"
      ],
      "execution_count": 0,
      "outputs": [
        {
          "output_type": "stream",
          "text": [
            "floors, min 1.0\n",
            "floors, max 3.5\n",
            "sqft_above, min 290\n",
            "sqft_above, max 9410\n"
          ],
          "name": "stdout"
        }
      ]
    },
    {
      "metadata": {
        "id": "WH0gB37aDhDl",
        "colab_type": "text"
      },
      "cell_type": "markdown",
      "source": [
        "The trained model has learned that a higher age has a positive impact on the price, since it has a positive coefficient. Similarly, the number of floors has a negative impact. This is **counter-intuitive** at first sight. \n",
        "\n",
        "**But our features are related**. A house with many floors is typically large with more square feet. And the living area has a positive coefficient. The absolute value of the coefficients related to area is smaller than the floors coefficient, but they are multiplied with a larger value (square feet area instead of number of floors), so they might compensate.\n",
        "\n",
        "A similar but inverse argument could be made for the age: an older building could have a lower score for 'grade' and 'condition'."
      ]
    },
    {
      "metadata": {
        "id": "hIVzafKKDhDm",
        "colab_type": "text"
      },
      "cell_type": "markdown",
      "source": [
        "# 5 Extra feature engineering and training\n",
        "\n",
        "Until now, our feature engineering was relatively basic. We one-hot-encoded the zipcode, dropped some columns and added the age column. Eventually, we trained on these features."
      ]
    },
    {
      "metadata": {
        "id": "plBR7LcxDhDn",
        "colab_type": "code",
        "colab": {},
        "outputId": "21698785-b6cf-4405-fd68-218d917387e4"
      },
      "cell_type": "code",
      "source": [
        "dataset_features.head()"
      ],
      "execution_count": 0,
      "outputs": [
        {
          "output_type": "execute_result",
          "data": {
            "text/html": [
              "<div>\n",
              "<style scoped>\n",
              "    .dataframe tbody tr th:only-of-type {\n",
              "        vertical-align: middle;\n",
              "    }\n",
              "\n",
              "    .dataframe tbody tr th {\n",
              "        vertical-align: top;\n",
              "    }\n",
              "\n",
              "    .dataframe thead th {\n",
              "        text-align: right;\n",
              "    }\n",
              "</style>\n",
              "<table border=\"1\" class=\"dataframe\">\n",
              "  <thead>\n",
              "    <tr style=\"text-align: right;\">\n",
              "      <th></th>\n",
              "      <th>bedrooms</th>\n",
              "      <th>bathrooms</th>\n",
              "      <th>sqft_lot</th>\n",
              "      <th>floors</th>\n",
              "      <th>waterfront</th>\n",
              "      <th>view</th>\n",
              "      <th>condition</th>\n",
              "      <th>grade</th>\n",
              "      <th>sqft_above</th>\n",
              "      <th>sqft_basement</th>\n",
              "      <th>...</th>\n",
              "      <th>zipcode98148</th>\n",
              "      <th>zipcode98155</th>\n",
              "      <th>zipcode98166</th>\n",
              "      <th>zipcode98168</th>\n",
              "      <th>zipcode98177</th>\n",
              "      <th>zipcode98178</th>\n",
              "      <th>zipcode98188</th>\n",
              "      <th>zipcode98198</th>\n",
              "      <th>zipcode98199</th>\n",
              "      <th>age</th>\n",
              "    </tr>\n",
              "  </thead>\n",
              "  <tbody>\n",
              "    <tr>\n",
              "      <th>0</th>\n",
              "      <td>3</td>\n",
              "      <td>1.00</td>\n",
              "      <td>5650</td>\n",
              "      <td>1.0</td>\n",
              "      <td>0</td>\n",
              "      <td>0</td>\n",
              "      <td>3</td>\n",
              "      <td>7</td>\n",
              "      <td>1180</td>\n",
              "      <td>0</td>\n",
              "      <td>...</td>\n",
              "      <td>0</td>\n",
              "      <td>0</td>\n",
              "      <td>0</td>\n",
              "      <td>0</td>\n",
              "      <td>0</td>\n",
              "      <td>1</td>\n",
              "      <td>0</td>\n",
              "      <td>0</td>\n",
              "      <td>0</td>\n",
              "      <td>59</td>\n",
              "    </tr>\n",
              "    <tr>\n",
              "      <th>1</th>\n",
              "      <td>3</td>\n",
              "      <td>2.25</td>\n",
              "      <td>7242</td>\n",
              "      <td>2.0</td>\n",
              "      <td>0</td>\n",
              "      <td>0</td>\n",
              "      <td>3</td>\n",
              "      <td>7</td>\n",
              "      <td>2170</td>\n",
              "      <td>400</td>\n",
              "      <td>...</td>\n",
              "      <td>0</td>\n",
              "      <td>0</td>\n",
              "      <td>0</td>\n",
              "      <td>0</td>\n",
              "      <td>0</td>\n",
              "      <td>0</td>\n",
              "      <td>0</td>\n",
              "      <td>0</td>\n",
              "      <td>0</td>\n",
              "      <td>63</td>\n",
              "    </tr>\n",
              "    <tr>\n",
              "      <th>2</th>\n",
              "      <td>2</td>\n",
              "      <td>1.00</td>\n",
              "      <td>10000</td>\n",
              "      <td>1.0</td>\n",
              "      <td>0</td>\n",
              "      <td>0</td>\n",
              "      <td>3</td>\n",
              "      <td>6</td>\n",
              "      <td>770</td>\n",
              "      <td>0</td>\n",
              "      <td>...</td>\n",
              "      <td>0</td>\n",
              "      <td>0</td>\n",
              "      <td>0</td>\n",
              "      <td>0</td>\n",
              "      <td>0</td>\n",
              "      <td>0</td>\n",
              "      <td>0</td>\n",
              "      <td>0</td>\n",
              "      <td>0</td>\n",
              "      <td>82</td>\n",
              "    </tr>\n",
              "    <tr>\n",
              "      <th>3</th>\n",
              "      <td>4</td>\n",
              "      <td>3.00</td>\n",
              "      <td>5000</td>\n",
              "      <td>1.0</td>\n",
              "      <td>0</td>\n",
              "      <td>0</td>\n",
              "      <td>5</td>\n",
              "      <td>7</td>\n",
              "      <td>1050</td>\n",
              "      <td>910</td>\n",
              "      <td>...</td>\n",
              "      <td>0</td>\n",
              "      <td>0</td>\n",
              "      <td>0</td>\n",
              "      <td>0</td>\n",
              "      <td>0</td>\n",
              "      <td>0</td>\n",
              "      <td>0</td>\n",
              "      <td>0</td>\n",
              "      <td>0</td>\n",
              "      <td>49</td>\n",
              "    </tr>\n",
              "    <tr>\n",
              "      <th>4</th>\n",
              "      <td>3</td>\n",
              "      <td>2.00</td>\n",
              "      <td>8080</td>\n",
              "      <td>1.0</td>\n",
              "      <td>0</td>\n",
              "      <td>0</td>\n",
              "      <td>3</td>\n",
              "      <td>8</td>\n",
              "      <td>1680</td>\n",
              "      <td>0</td>\n",
              "      <td>...</td>\n",
              "      <td>0</td>\n",
              "      <td>0</td>\n",
              "      <td>0</td>\n",
              "      <td>0</td>\n",
              "      <td>0</td>\n",
              "      <td>0</td>\n",
              "      <td>0</td>\n",
              "      <td>0</td>\n",
              "      <td>0</td>\n",
              "      <td>28</td>\n",
              "    </tr>\n",
              "  </tbody>\n",
              "</table>\n",
              "<p>5 rows × 83 columns</p>\n",
              "</div>"
            ],
            "text/plain": [
              "   bedrooms  bathrooms  sqft_lot  floors  waterfront  view  condition  grade  \\\n",
              "0         3       1.00      5650     1.0           0     0          3      7   \n",
              "1         3       2.25      7242     2.0           0     0          3      7   \n",
              "2         2       1.00     10000     1.0           0     0          3      6   \n",
              "3         4       3.00      5000     1.0           0     0          5      7   \n",
              "4         3       2.00      8080     1.0           0     0          3      8   \n",
              "\n",
              "   sqft_above  sqft_basement ...   zipcode98148  zipcode98155  zipcode98166  \\\n",
              "0        1180              0 ...              0             0             0   \n",
              "1        2170            400 ...              0             0             0   \n",
              "2         770              0 ...              0             0             0   \n",
              "3        1050            910 ...              0             0             0   \n",
              "4        1680              0 ...              0             0             0   \n",
              "\n",
              "   zipcode98168  zipcode98177  zipcode98178  zipcode98188  zipcode98198  \\\n",
              "0             0             0             1             0             0   \n",
              "1             0             0             0             0             0   \n",
              "2             0             0             0             0             0   \n",
              "3             0             0             0             0             0   \n",
              "4             0             0             0             0             0   \n",
              "\n",
              "   zipcode98199  age  \n",
              "0             0   59  \n",
              "1             0   63  \n",
              "2             0   82  \n",
              "3             0   49  \n",
              "4             0   28  \n",
              "\n",
              "[5 rows x 83 columns]"
            ]
          },
          "metadata": {
            "tags": []
          },
          "execution_count": 156
        }
      ]
    },
    {
      "metadata": {
        "id": "YnjIY9lyDhDv",
        "colab_type": "code",
        "colab": {},
        "outputId": "113f9e9d-2981-452a-d403-dc966197be0c"
      },
      "cell_type": "code",
      "source": [
        "dataset_features.columns"
      ],
      "execution_count": 0,
      "outputs": [
        {
          "output_type": "execute_result",
          "data": {
            "text/plain": [
              "Index(['bedrooms', 'bathrooms', 'sqft_lot', 'floors', 'waterfront', 'view',\n",
              "       'condition', 'grade', 'sqft_above', 'sqft_basement', 'sqft_living15',\n",
              "       'sqft_lot15', 'zipcode98001', 'zipcode98002', 'zipcode98003',\n",
              "       'zipcode98004', 'zipcode98005', 'zipcode98006', 'zipcode98007',\n",
              "       'zipcode98008', 'zipcode98010', 'zipcode98011', 'zipcode98014',\n",
              "       'zipcode98019', 'zipcode98022', 'zipcode98023', 'zipcode98024',\n",
              "       'zipcode98027', 'zipcode98028', 'zipcode98029', 'zipcode98030',\n",
              "       'zipcode98031', 'zipcode98032', 'zipcode98033', 'zipcode98034',\n",
              "       'zipcode98038', 'zipcode98039', 'zipcode98040', 'zipcode98042',\n",
              "       'zipcode98045', 'zipcode98052', 'zipcode98053', 'zipcode98055',\n",
              "       'zipcode98056', 'zipcode98058', 'zipcode98059', 'zipcode98065',\n",
              "       'zipcode98070', 'zipcode98072', 'zipcode98074', 'zipcode98075',\n",
              "       'zipcode98077', 'zipcode98092', 'zipcode98102', 'zipcode98103',\n",
              "       'zipcode98105', 'zipcode98106', 'zipcode98107', 'zipcode98108',\n",
              "       'zipcode98109', 'zipcode98112', 'zipcode98115', 'zipcode98116',\n",
              "       'zipcode98117', 'zipcode98118', 'zipcode98119', 'zipcode98122',\n",
              "       'zipcode98125', 'zipcode98126', 'zipcode98133', 'zipcode98136',\n",
              "       'zipcode98144', 'zipcode98146', 'zipcode98148', 'zipcode98155',\n",
              "       'zipcode98166', 'zipcode98168', 'zipcode98177', 'zipcode98178',\n",
              "       'zipcode98188', 'zipcode98198', 'zipcode98199', 'age'],\n",
              "      dtype='object')"
            ]
          },
          "metadata": {
            "tags": []
          },
          "execution_count": 157
        }
      ]
    },
    {
      "metadata": {
        "id": "Hb7fn0DDDhDz",
        "colab_type": "text"
      },
      "cell_type": "markdown",
      "source": [
        "We suspect that the sales price does not depend linearly on the area.\n",
        "\n",
        "Starting from a small house, we can quickly increase the house's value by increasing the area. When a small house is doubled in size, the value could also grow proportionally according to some coefficient. But when your house is already very big, adding the same amount of square meters will only slightly improve the value of your house.\n",
        "\n",
        "We will model this principle by assuming the sales price varies linearly with the **square root** of the area. The curve of a square root is displayed below. It is a monotonically rising curve. For small values, the square root rises quickly. When the value grows, the square grows more slowly.\n",
        "\n",
        "Moreover, we will add a feature \"number of bathrooms per bedroom\".\n"
      ]
    },
    {
      "metadata": {
        "id": "H76gfQFlDhD0",
        "colab_type": "code",
        "colab": {},
        "outputId": "f5272fce-d808-464a-af3f-c6756e17274a"
      },
      "cell_type": "code",
      "source": [
        "x = np.arange(0,1000,1)\n",
        "y = np.sqrt(x)\n",
        "plt.subplot(1,1,1)\n",
        "plt.plot(x,y)\n",
        "plt.title(\"square root\",fontsize=16)\n",
        "plt.xlabel(\"sqft_lot\",fontsize=13)\n",
        "plt.ylabel(\"square root\",fontsize=13)"
      ],
      "execution_count": 0,
      "outputs": [
        {
          "output_type": "execute_result",
          "data": {
            "text/plain": [
              "Text(0,0.5,'square root')"
            ]
          },
          "metadata": {
            "tags": []
          },
          "execution_count": 158
        },
        {
          "output_type": "display_data",
          "data": {
            "image/png": "[encoded data removed]",
            "text/plain": [
              "<Figure size 432x288 with 1 Axes>"
            ]
          },
          "metadata": {
            "tags": []
          }
        }
      ]
    },
    {
      "metadata": {
        "id": "WkN7Mxp4DhD2",
        "colab_type": "text"
      },
      "cell_type": "markdown",
      "source": [
        "**do some extra feature engineering: **\n",
        "1. drop the 'floors' column\n",
        "2. for sqft_lot column, create a new column root_sqft_lot with the square root of the original column. Then, drop the original column sqft_lot and retrain the model.\n",
        "3. Add a column \"bath_per_bed\", the number of bathrooms per bedroom, and remove the bathrooms column\n",
        "\n",
        "\n",
        "Store the new set of features in a new dataframe, *dataset_features_engineered*. Retrain the model with these features\n",
        "        \n",
        "        "
      ]
    },
    {
      "metadata": {
        "id": "_om3AoFjDhD2",
        "colab_type": "code",
        "colab": {}
      },
      "cell_type": "code",
      "source": [
        "#make a copy of the current feature set\n",
        "dataset_engineered = dataset.copy()\n",
        "\n",
        "# drop the floors column\n",
        "dataset_engineered = dataset_engineered.drop(columns = \"floors\")\n",
        "\n",
        "#add root_sqft_lot, remove sqft_lot\n",
        "dataset_engineered[\"root_sqft_lot\"] = np.sqrt(dataset[\"sqft_lot\"])\n",
        "dataset_engineered = dataset_engineered.drop(columns=\"sqft_lot\")  \n",
        "\n",
        "#add bath_per_bed, remove bathrooms. First remove all rows where bedrooms = 0, to avoid dividing by zero \n",
        "#(If you want, check that this deletes only a very small number of rows.) \n",
        "dataset_engineered = dataset_engineered[dataset_engineered[\"bedrooms\"] != 0]\n",
        "dataset_engineered[\"bath_per_bed\"] = dataset_engineered[\"bathrooms\"] / dataset_engineered[\"bedrooms\"]\n",
        "dataset_engineered = dataset_engineered.drop(columns=\"bathrooms\")"
      ],
      "execution_count": 0,
      "outputs": []
    },
    {
      "metadata": {
        "id": "aLHlkqA4DhD5",
        "colab_type": "code",
        "colab": {},
        "outputId": "6f7c91f0-cc3a-44ee-b73e-517ae971e02b"
      },
      "cell_type": "code",
      "source": [
        "dataset_engineered.head()"
      ],
      "execution_count": 0,
      "outputs": [
        {
          "output_type": "execute_result",
          "data": {
            "text/html": [
              "<div>\n",
              "<style scoped>\n",
              "    .dataframe tbody tr th:only-of-type {\n",
              "        vertical-align: middle;\n",
              "    }\n",
              "\n",
              "    .dataframe tbody tr th {\n",
              "        vertical-align: top;\n",
              "    }\n",
              "\n",
              "    .dataframe thead th {\n",
              "        text-align: right;\n",
              "    }\n",
              "</style>\n",
              "<table border=\"1\" class=\"dataframe\">\n",
              "  <thead>\n",
              "    <tr style=\"text-align: right;\">\n",
              "      <th></th>\n",
              "      <th>price</th>\n",
              "      <th>bedrooms</th>\n",
              "      <th>waterfront</th>\n",
              "      <th>view</th>\n",
              "      <th>condition</th>\n",
              "      <th>grade</th>\n",
              "      <th>sqft_above</th>\n",
              "      <th>sqft_basement</th>\n",
              "      <th>sqft_living15</th>\n",
              "      <th>sqft_lot15</th>\n",
              "      <th>...</th>\n",
              "      <th>zipcode98166</th>\n",
              "      <th>zipcode98168</th>\n",
              "      <th>zipcode98177</th>\n",
              "      <th>zipcode98178</th>\n",
              "      <th>zipcode98188</th>\n",
              "      <th>zipcode98198</th>\n",
              "      <th>zipcode98199</th>\n",
              "      <th>age</th>\n",
              "      <th>root_sqft_lot</th>\n",
              "      <th>bath_per_bed</th>\n",
              "    </tr>\n",
              "  </thead>\n",
              "  <tbody>\n",
              "    <tr>\n",
              "      <th>0</th>\n",
              "      <td>221900.0</td>\n",
              "      <td>3</td>\n",
              "      <td>0</td>\n",
              "      <td>0</td>\n",
              "      <td>3</td>\n",
              "      <td>7</td>\n",
              "      <td>1180</td>\n",
              "      <td>0</td>\n",
              "      <td>1340</td>\n",
              "      <td>5650</td>\n",
              "      <td>...</td>\n",
              "      <td>0</td>\n",
              "      <td>0</td>\n",
              "      <td>0</td>\n",
              "      <td>1</td>\n",
              "      <td>0</td>\n",
              "      <td>0</td>\n",
              "      <td>0</td>\n",
              "      <td>59</td>\n",
              "      <td>75.166482</td>\n",
              "      <td>0.333333</td>\n",
              "    </tr>\n",
              "    <tr>\n",
              "      <th>1</th>\n",
              "      <td>538000.0</td>\n",
              "      <td>3</td>\n",
              "      <td>0</td>\n",
              "      <td>0</td>\n",
              "      <td>3</td>\n",
              "      <td>7</td>\n",
              "      <td>2170</td>\n",
              "      <td>400</td>\n",
              "      <td>1690</td>\n",
              "      <td>7639</td>\n",
              "      <td>...</td>\n",
              "      <td>0</td>\n",
              "      <td>0</td>\n",
              "      <td>0</td>\n",
              "      <td>0</td>\n",
              "      <td>0</td>\n",
              "      <td>0</td>\n",
              "      <td>0</td>\n",
              "      <td>63</td>\n",
              "      <td>85.099941</td>\n",
              "      <td>0.750000</td>\n",
              "    </tr>\n",
              "    <tr>\n",
              "      <th>2</th>\n",
              "      <td>180000.0</td>\n",
              "      <td>2</td>\n",
              "      <td>0</td>\n",
              "      <td>0</td>\n",
              "      <td>3</td>\n",
              "      <td>6</td>\n",
              "      <td>770</td>\n",
              "      <td>0</td>\n",
              "      <td>2720</td>\n",
              "      <td>8062</td>\n",
              "      <td>...</td>\n",
              "      <td>0</td>\n",
              "      <td>0</td>\n",
              "      <td>0</td>\n",
              "      <td>0</td>\n",
              "      <td>0</td>\n",
              "      <td>0</td>\n",
              "      <td>0</td>\n",
              "      <td>82</td>\n",
              "      <td>100.000000</td>\n",
              "      <td>0.500000</td>\n",
              "    </tr>\n",
              "    <tr>\n",
              "      <th>3</th>\n",
              "      <td>604000.0</td>\n",
              "      <td>4</td>\n",
              "      <td>0</td>\n",
              "      <td>0</td>\n",
              "      <td>5</td>\n",
              "      <td>7</td>\n",
              "      <td>1050</td>\n",
              "      <td>910</td>\n",
              "      <td>1360</td>\n",
              "      <td>5000</td>\n",
              "      <td>...</td>\n",
              "      <td>0</td>\n",
              "      <td>0</td>\n",
              "      <td>0</td>\n",
              "      <td>0</td>\n",
              "      <td>0</td>\n",
              "      <td>0</td>\n",
              "      <td>0</td>\n",
              "      <td>49</td>\n",
              "      <td>70.710678</td>\n",
              "      <td>0.750000</td>\n",
              "    </tr>\n",
              "    <tr>\n",
              "      <th>4</th>\n",
              "      <td>510000.0</td>\n",
              "      <td>3</td>\n",
              "      <td>0</td>\n",
              "      <td>0</td>\n",
              "      <td>3</td>\n",
              "      <td>8</td>\n",
              "      <td>1680</td>\n",
              "      <td>0</td>\n",
              "      <td>1800</td>\n",
              "      <td>7503</td>\n",
              "      <td>...</td>\n",
              "      <td>0</td>\n",
              "      <td>0</td>\n",
              "      <td>0</td>\n",
              "      <td>0</td>\n",
              "      <td>0</td>\n",
              "      <td>0</td>\n",
              "      <td>0</td>\n",
              "      <td>28</td>\n",
              "      <td>89.888820</td>\n",
              "      <td>0.666667</td>\n",
              "    </tr>\n",
              "  </tbody>\n",
              "</table>\n",
              "<p>5 rows × 83 columns</p>\n",
              "</div>"
            ],
            "text/plain": [
              "      price  bedrooms  waterfront  view  condition  grade  sqft_above  \\\n",
              "0  221900.0         3           0     0          3      7        1180   \n",
              "1  538000.0         3           0     0          3      7        2170   \n",
              "2  180000.0         2           0     0          3      6         770   \n",
              "3  604000.0         4           0     0          5      7        1050   \n",
              "4  510000.0         3           0     0          3      8        1680   \n",
              "\n",
              "   sqft_basement  sqft_living15  sqft_lot15      ...       zipcode98166  \\\n",
              "0              0           1340        5650      ...                  0   \n",
              "1            400           1690        7639      ...                  0   \n",
              "2              0           2720        8062      ...                  0   \n",
              "3            910           1360        5000      ...                  0   \n",
              "4              0           1800        7503      ...                  0   \n",
              "\n",
              "   zipcode98168  zipcode98177  zipcode98178  zipcode98188  zipcode98198  \\\n",
              "0             0             0             1             0             0   \n",
              "1             0             0             0             0             0   \n",
              "2             0             0             0             0             0   \n",
              "3             0             0             0             0             0   \n",
              "4             0             0             0             0             0   \n",
              "\n",
              "   zipcode98199  age  root_sqft_lot  bath_per_bed  \n",
              "0             0   59      75.166482      0.333333  \n",
              "1             0   63      85.099941      0.750000  \n",
              "2             0   82     100.000000      0.500000  \n",
              "3             0   49      70.710678      0.750000  \n",
              "4             0   28      89.888820      0.666667  \n",
              "\n",
              "[5 rows x 83 columns]"
            ]
          },
          "metadata": {
            "tags": []
          },
          "execution_count": 160
        }
      ]
    },
    {
      "metadata": {
        "id": "NhDbMOT_DhD-",
        "colab_type": "code",
        "colab": {},
        "outputId": "389bc108-9556-4782-ec78-7a67669ed5c6"
      },
      "cell_type": "code",
      "source": [
        "#RETRAIN\n",
        "\n",
        "dataset_target_engineered = dataset_engineered[\"price\"]\n",
        "dataset_features_engineered = dataset_engineered.drop(columns=\"price\")\n",
        "\n",
        "#get numpy values\n",
        "H = dataset_features_engineered.values\n",
        "Y = dataset_target_engineered.values\n",
        "\n",
        "#Train-test split\n",
        "X_train, X_test, Y_train, Y_test = train_test_split(H,Y,test_size = 0.10,random_state=0)\n",
        "\n",
        "#create model\n",
        "regressionModel = LinearRegression(normalize=True)\n",
        "\n",
        "#fit model\n",
        "regressionModel.fit(X_train,Y_train)"
      ],
      "execution_count": 0,
      "outputs": [
        {
          "output_type": "execute_result",
          "data": {
            "text/plain": [
              "LinearRegression(copy_X=True, fit_intercept=True, n_jobs=1, normalize=True)"
            ]
          },
          "metadata": {
            "tags": []
          },
          "execution_count": 215
        }
      ]
    },
    {
      "metadata": {
        "id": "BpvTswd-DhEB",
        "colab_type": "code",
        "colab": {},
        "outputId": "88cc4b35-6766-4926-e018-44c0dc10971e"
      },
      "cell_type": "code",
      "source": [
        "R2 = regressionModel.score(X_test, Y_test)\n",
        "print(R2)"
      ],
      "execution_count": 0,
      "outputs": [
        {
          "output_type": "stream",
          "text": [
            "0.8176778609991254\n"
          ],
          "name": "stdout"
        }
      ]
    },
    {
      "metadata": {
        "id": "R9AjI-dZDhED",
        "colab_type": "text"
      },
      "cell_type": "markdown",
      "source": [
        "Our **score** is only **slightly higher** than our previous model."
      ]
    },
    {
      "metadata": {
        "id": "2LLmV2d2DhEE",
        "colab_type": "code",
        "colab": {}
      },
      "cell_type": "code",
      "source": [
        "regressionModel_coefficients_engineered = pd.DataFrame({'feature':dataset_features_engineered.columns,'coefficient':regressionModel.coef_})"
      ],
      "execution_count": 0,
      "outputs": []
    },
    {
      "metadata": {
        "id": "09r-GzwTDhEG",
        "colab_type": "code",
        "colab": {},
        "outputId": "6ee5a44b-c19c-42a8-96b3-8da898e11b5c"
      },
      "cell_type": "code",
      "source": [
        "mask = np.core.defchararray.find(regressionModel_coefficients_engineered[\"feature\"].values.astype(str),\"zipcode\")\n",
        "regressionModel_coefficients_engineered[mask == -1].sort_values(by=\"coefficient\")"
      ],
      "execution_count": 0,
      "outputs": [
        {
          "output_type": "execute_result",
          "data": {
            "text/html": [
              "<div>\n",
              "<style scoped>\n",
              "    .dataframe tbody tr th:only-of-type {\n",
              "        vertical-align: middle;\n",
              "    }\n",
              "\n",
              "    .dataframe tbody tr th {\n",
              "        vertical-align: top;\n",
              "    }\n",
              "\n",
              "    .dataframe thead th {\n",
              "        text-align: right;\n",
              "    }\n",
              "</style>\n",
              "<table border=\"1\" class=\"dataframe\">\n",
              "  <thead>\n",
              "    <tr style=\"text-align: right;\">\n",
              "      <th></th>\n",
              "      <th>coefficient</th>\n",
              "      <th>feature</th>\n",
              "    </tr>\n",
              "  </thead>\n",
              "  <tbody>\n",
              "    <tr>\n",
              "      <th>0</th>\n",
              "      <td>-25144.968054</td>\n",
              "      <td>bedrooms</td>\n",
              "    </tr>\n",
              "    <tr>\n",
              "      <th>8</th>\n",
              "      <td>-0.287364</td>\n",
              "      <td>sqft_lot15</td>\n",
              "    </tr>\n",
              "    <tr>\n",
              "      <th>7</th>\n",
              "      <td>8.023719</td>\n",
              "      <td>sqft_living15</td>\n",
              "    </tr>\n",
              "    <tr>\n",
              "      <th>6</th>\n",
              "      <td>157.211216</td>\n",
              "      <td>sqft_basement</td>\n",
              "    </tr>\n",
              "    <tr>\n",
              "      <th>5</th>\n",
              "      <td>208.845128</td>\n",
              "      <td>sqft_above</td>\n",
              "    </tr>\n",
              "    <tr>\n",
              "      <th>80</th>\n",
              "      <td>245.200780</td>\n",
              "      <td>root_sqft_lot</td>\n",
              "    </tr>\n",
              "    <tr>\n",
              "      <th>79</th>\n",
              "      <td>912.436097</td>\n",
              "      <td>age</td>\n",
              "    </tr>\n",
              "    <tr>\n",
              "      <th>81</th>\n",
              "      <td>1434.720001</td>\n",
              "      <td>bath_per_bed</td>\n",
              "    </tr>\n",
              "    <tr>\n",
              "      <th>3</th>\n",
              "      <td>23881.888815</td>\n",
              "      <td>condition</td>\n",
              "    </tr>\n",
              "    <tr>\n",
              "      <th>2</th>\n",
              "      <td>55663.190273</td>\n",
              "      <td>view</td>\n",
              "    </tr>\n",
              "    <tr>\n",
              "      <th>4</th>\n",
              "      <td>57458.159418</td>\n",
              "      <td>grade</td>\n",
              "    </tr>\n",
              "    <tr>\n",
              "      <th>1</th>\n",
              "      <td>637284.219401</td>\n",
              "      <td>waterfront</td>\n",
              "    </tr>\n",
              "  </tbody>\n",
              "</table>\n",
              "</div>"
            ],
            "text/plain": [
              "      coefficient        feature\n",
              "0   -25144.968054       bedrooms\n",
              "8       -0.287364     sqft_lot15\n",
              "7        8.023719  sqft_living15\n",
              "6      157.211216  sqft_basement\n",
              "5      208.845128     sqft_above\n",
              "80     245.200780  root_sqft_lot\n",
              "79     912.436097            age\n",
              "81    1434.720001   bath_per_bed\n",
              "3    23881.888815      condition\n",
              "2    55663.190273           view\n",
              "4    57458.159418          grade\n",
              "1   637284.219401     waterfront"
            ]
          },
          "metadata": {
            "tags": []
          },
          "execution_count": 218
        }
      ]
    },
    {
      "metadata": {
        "id": "ba9ACLiFDhEI",
        "colab_type": "text"
      },
      "cell_type": "markdown",
      "source": [
        "# 6 Regularization\n",
        "\n",
        "In this section, we use ridge regression as a regularization method. In this method, high weights are penalized by the loss function in order to avoid overfitting on the training data. We will use sklearn's built-in ridge regression functionality.\n",
        "\n",
        "Find the [documentatation](http://scikit-learn.org/stable/modules/generated/sklearn.linear_model.Ridge.html) here. Briefly read the documentation. What extra parameter does the function need?\n",
        "\n",
        "Perform the steps lined out in the comments."
      ]
    },
    {
      "metadata": {
        "id": "jFviYj9ADhEJ",
        "colab_type": "code",
        "colab": {},
        "outputId": "a68a9de7-2c15-4fc7-dafa-87a480f5bb91"
      },
      "cell_type": "code",
      "source": [
        "X_train.shape"
      ],
      "execution_count": 0,
      "outputs": [
        {
          "output_type": "execute_result",
          "data": {
            "text/plain": [
              "(19440, 82)"
            ]
          },
          "metadata": {
            "tags": []
          },
          "execution_count": 219
        }
      ]
    },
    {
      "metadata": {
        "id": "IUniGlJ1DhEM",
        "colab_type": "code",
        "colab": {}
      },
      "cell_type": "code",
      "source": [
        "#import the ridge regression functionality (use the format \"from ... import ...\")\n",
        "from sklearn.linear_model import Ridge"
      ],
      "execution_count": 0,
      "outputs": []
    },
    {
      "metadata": {
        "id": "QBIgwN9GDhEP",
        "colab_type": "code",
        "colab": {},
        "outputId": "5cbdf29c-4d29-4c88-ef5f-5ca05eb50f6b"
      },
      "cell_type": "code",
      "source": [
        "print(R2)"
      ],
      "execution_count": 0,
      "outputs": [
        {
          "output_type": "stream",
          "text": [
            "0.8176778609991254\n"
          ],
          "name": "stdout"
        }
      ]
    },
    {
      "metadata": {
        "id": "yfumQ0JRDhER",
        "colab_type": "code",
        "colab": {},
        "outputId": "56071c83-0fd8-4c93-ecf3-b12af5c0b074"
      },
      "cell_type": "code",
      "source": [
        "#initialize a ridge regression model. Use the default for the hyperparameter. Input data should be normalized.\n",
        "regressionModelRidge = Ridge()\n",
        "\n",
        "#fit the model on the train set\n",
        "regressionModelRidge.fit(X_train,Y_train)\n",
        "\n",
        "#evaluate the model on the test set\n",
        "ridgeR2 = regressionModelRidge.score(X_test, Y_test)\n",
        "print(ridgeR2)"
      ],
      "execution_count": 0,
      "outputs": [
        {
          "output_type": "stream",
          "text": [
            "0.8175299328466863\n"
          ],
          "name": "stdout"
        }
      ]
    },
    {
      "metadata": {
        "id": "bKKHr-7RDhET",
        "colab_type": "text"
      },
      "cell_type": "markdown",
      "source": [
        "Ridge regression has not really improved our model. In the cells above, we used sklearns default value for the hyperparameter, lambda = 1. Maybe we need a different choice of lambda?"
      ]
    },
    {
      "metadata": {
        "id": "4CVet6g7DhET",
        "colab_type": "text"
      },
      "cell_type": "markdown",
      "source": [
        "# 7 Cross-validation\n",
        "\n",
        "Use 10-cross-validation to find an optimal regression model. Perform the following steps: "
      ]
    },
    {
      "metadata": {
        "id": "LhRdkBd-DhET",
        "colab_type": "code",
        "colab": {}
      },
      "cell_type": "code",
      "source": [
        "#leave this cell commented for now...\n",
        "# H = H[0:1000]\n",
        "# Y = Y[0:1000]"
      ],
      "execution_count": 0,
      "outputs": []
    },
    {
      "metadata": {
        "id": "DCXm_OLUDhEU",
        "colab_type": "code",
        "colab": {},
        "outputId": "d977f8e7-7637-4d7a-a21b-24f06d552b93"
      },
      "cell_type": "code",
      "source": [
        "#split the dataset in a train/dev set and a test/set\n",
        "X_traindev, X_test, Y_traindev, Y_test = train_test_split(H,Y,test_size = 0.10,random_state=0)\n",
        "\n",
        "m = X_traindev.shape[0]\n",
        "print(\"number of samples in train/dev set: m =\",m)\n"
      ],
      "execution_count": 0,
      "outputs": [
        {
          "output_type": "stream",
          "text": [
            "number of samples in train/dev set: m = 900\n"
          ],
          "name": "stdout"
        }
      ]
    },
    {
      "metadata": {
        "id": "G3iV4ntWDhEW",
        "colab_type": "code",
        "colab": {},
        "outputId": "10fce3ad-70f1-4e0b-81d2-8b2e6a164789"
      },
      "cell_type": "code",
      "source": [
        "#split the train/dev set into 10 \"folds\". Store all folds in a list of numpy arrays\n",
        "k = 10\n",
        "samples_per_fold = int(m/k)\n",
        "X_folds = [X_traindev[k*samples_per_fold:(k+1)*samples_per_fold,:] for k in range(10)]\n",
        "Y_folds = [Y_traindev[k*samples_per_fold:(k+1)*samples_per_fold] for k in range(10)]\n",
        "\n",
        "print(\"number of folds: \",len(X_folds))\n",
        "print(\"size of one fold:\",X_folds[0].shape)"
      ],
      "execution_count": 0,
      "outputs": [
        {
          "output_type": "stream",
          "text": [
            "number of folds:  10\n",
            "size of one fold: (90, 82)\n"
          ],
          "name": "stdout"
        }
      ]
    },
    {
      "metadata": {
        "id": "D1bcyCoHDhEX",
        "colab_type": "code",
        "colab": {},
        "outputId": "8c28e4cb-09d0-433c-a56e-9af7a11e9f9c"
      },
      "cell_type": "code",
      "source": [
        "models = []\n",
        "average_dev_scores = []\n",
        "average_train_scores = []\n",
        "hyperparameters = np.logspace(-2,1,10)\n",
        "for l in hyperparameters: #for all hyperparameters\n",
        "    dev_scores = []\n",
        "    train_scores = []\n",
        "    for i in range(k):\n",
        "        X_folds_copy = X_folds.copy()\n",
        "        Y_folds_copy = Y_folds.copy()\n",
        "        \n",
        "        X_dev = X_folds_copy.pop(i)\n",
        "        X_train = np.concatenate(X_folds_copy)\n",
        "        \n",
        "        Y_dev = Y_folds_copy.pop(i)\n",
        "        Y_train = np.concatenate(Y_folds_copy)\n",
        "        \n",
        "        regressionModelRidge = Ridge(alpha=l)\n",
        "              \n",
        "        regressionModelRidge.fit(X_train, Y_train)\n",
        "        \n",
        "        R2_dev = regressionModelRidge.score(X_dev, Y_dev)\n",
        "        dev_scores.append(R2_dev)\n",
        "        \n",
        "        R2_train = regressionModelRidge.score(X_train, Y_train)\n",
        "        train_scores.append(R2_train)\n",
        "        \n",
        "        \n",
        "    average_dev_score = sum(dev_scores)/float(len(dev_scores))\n",
        "    average_dev_scores.append(average_dev_score)\n",
        "    \n",
        "    average_train_score = sum(train_scores)/float(len(train_scores))\n",
        "    average_train_scores.append(average_train_score)\n",
        "        \n",
        "    models.append(regressionModelRidge)\n",
        "    print(\"l = {0}, avg dev score={1}, avg train score={2}\".format(l, average_dev_score, average_train_score))       "
      ],
      "execution_count": 0,
      "outputs": [
        {
          "output_type": "stream",
          "text": [
            "l = 0.01, avg dev score=0.7699821821694876, avg train score=0.8541752989189891\n",
            "l = 0.021544346900318832, avg dev score=0.7703476455102238, avg train score=0.8541712952604211\n",
            "l = 0.046415888336127774, avg dev score=0.7711054589474109, avg train score=0.8541531797462956\n",
            "l = 0.1, avg dev score=0.7726098753374581, avg train score=0.8540734574515664\n",
            "l = 0.21544346900318834, avg dev score=0.7753331535989079, avg train score=0.8537412925477815\n",
            "l = 0.46415888336127775, avg dev score=0.7793778906174171, avg train score=0.8524883574254734\n",
            "l = 1.0, avg dev score=0.7830484551929457, avg train score=0.848461062603298\n",
            "l = 2.154434690031882, avg dev score=0.781362149415901, avg train score=0.838062075605961\n",
            "l = 4.6415888336127775, avg dev score=0.7676971938463372, avg train score=0.817212454597249\n",
            "l = 10.0, avg dev score=0.7395827409461873, avg train score=0.7850593339626861\n"
          ],
          "name": "stdout"
        }
      ]
    },
    {
      "metadata": {
        "id": "LlSnZYC4DhEZ",
        "colab_type": "code",
        "colab": {},
        "outputId": "c314f46a-d8ad-404d-f957-16b0590c971f"
      },
      "cell_type": "code",
      "source": [
        "#pick the model with highest score\n",
        "index_best = np.argmax(average_dev_scores)\n",
        "model_best = models[index_best]\n",
        "\n",
        "#evluate the chosen model on the test set\n",
        "model_best.score(X_test, Y_test)"
      ],
      "execution_count": 0,
      "outputs": [
        {
          "output_type": "execute_result",
          "data": {
            "text/plain": [
              "0.5125914338746531"
            ]
          },
          "metadata": {
            "tags": []
          },
          "execution_count": 233
        }
      ]
    },
    {
      "metadata": {
        "id": "DTlXbWvkDhEb",
        "colab_type": "text"
      },
      "cell_type": "markdown",
      "source": [
        "Even after hyperparameter tuning, the model has not improved. A remarking result is that the score on the test set is higher than the average score on the dev set. We will attribute this to randomness.\n",
        "\n",
        "Our current dataset has 21613 samples in total. In order to better illustrate the benefit on cross-validation, we will use a smaller sample dataset. Uncomment the first cell of section 7 and run the cells of this section again. The dataset is now artificially reduced to the first 1000 samples. \n",
        "\n",
        "Note that with the smaller dataset, cross validation does have an impact. The score on the test set is suprisingly low."
      ]
    },
    {
      "metadata": {
        "id": "QoKpT939DhEb",
        "colab_type": "code",
        "colab": {},
        "outputId": "7e6695db-6fb4-4a76-c3c3-e7c2854b9b2c"
      },
      "cell_type": "code",
      "source": [
        "from matplotlib import pyplot as plt\n",
        "\n",
        "\n",
        "fig = plt.figure()\n",
        "ax = fig.add_subplot(1, 1, 1)\n",
        "ax.set_xscale('log')\n",
        "\n",
        "plt.plot(hyperparameters,average_train_scores,\"b\",hyperparameters,average_dev_scores,\"r\")\n",
        "plt.legend([\"train score\",\"dev score\"])\n"
      ],
      "execution_count": 0,
      "outputs": [
        {
          "output_type": "execute_result",
          "data": {
            "text/plain": [
              "<matplotlib.legend.Legend at 0x22f4560b400>"
            ]
          },
          "metadata": {
            "tags": []
          },
          "execution_count": 235
        },
        {
          "output_type": "display_data",
          "data": {
            "image/png": "[encoded data removed]",
            "text/plain": [
              "<Figure size 432x288 with 1 Axes>"
            ]
          },
          "metadata": {
            "tags": []
          }
        }
      ]
    },
    {
      "metadata": {
        "id": "Emg1NaplDhEh",
        "colab_type": "text"
      },
      "cell_type": "markdown",
      "source": [
        "Does the plot make sense to you?"
      ]
    },
    {
      "metadata": {
        "id": "_tcAtCynDhEi",
        "colab_type": "text"
      },
      "cell_type": "markdown",
      "source": [
        "# 7 Conclusion and take-aways\n",
        "\n",
        "Linear regression requires manual feature engineering. For this, you need experience, insight in your data, and a lot of experimentation. \n",
        "\n",
        "With some extra and more advanced feature engineering, you might be able to improve the model. Or you could try a different algorithm? [Visit the page on Kaggle](https://www.kaggle.com/harlfoxem/housesalesprediction/home) where people share their code (*kernels*) and discuss their own solution with each other.\n",
        "\n"
      ]
    },
    {
      "metadata": {
        "id": "c_uhrHrSDhEk",
        "colab_type": "code",
        "colab": {}
      },
      "cell_type": "code",
      "source": [
        ""
      ],
      "execution_count": 0,
      "outputs": []
    }
  ]
}